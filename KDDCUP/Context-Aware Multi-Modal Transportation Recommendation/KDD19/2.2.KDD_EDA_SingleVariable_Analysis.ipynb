{
 "cells": [
  {
   "cell_type": "markdown",
   "metadata": {
    "toc": true
   },
   "source": [
    "<h1>Table of Contents<span class=\"tocSkip\"></span></h1>\n",
    "<div class=\"toc\"><ul class=\"toc-item\"><li><span><a href=\"#Import-Libraries-&amp;-Load-Data\" data-toc-modified-id=\"Import-Libraries-&amp;-Load-Data-1\"><span class=\"toc-item-num\">1&nbsp;&nbsp;</span>Import Libraries &amp; Load Data</a></span><ul class=\"toc-item\"><li><span><a href=\"#Import-Libraries\" data-toc-modified-id=\"Import-Libraries-1.1\"><span class=\"toc-item-num\">1.1&nbsp;&nbsp;</span>Import Libraries</a></span></li><li><span><a href=\"#Self-Defined-Tools\" data-toc-modified-id=\"Self-Defined-Tools-1.2\"><span class=\"toc-item-num\">1.2&nbsp;&nbsp;</span>Self-Defined Tools</a></span></li><li><span><a href=\"#Load-Data\" data-toc-modified-id=\"Load-Data-1.3\"><span class=\"toc-item-num\">1.3&nbsp;&nbsp;</span>Load Data</a></span></li></ul></li><li><span><a href=\"#Single-Variable-Data-Analysis\" data-toc-modified-id=\"Single-Variable-Data-Analysis-2\"><span class=\"toc-item-num\">2&nbsp;&nbsp;</span>Single Variable Data Analysis</a></span><ul class=\"toc-item\"><li><span><a href=\"#train_plans-data-set\" data-toc-modified-id=\"train_plans-data-set-2.1\"><span class=\"toc-item-num\">2.1&nbsp;&nbsp;</span>train_plans data set</a></span><ul class=\"toc-item\"><li><span><a href=\"#sid-filed\" data-toc-modified-id=\"sid-filed-2.1.1\"><span class=\"toc-item-num\">2.1.1&nbsp;&nbsp;</span>sid filed</a></span></li><li><span><a href=\"#plan_time-filed\" data-toc-modified-id=\"plan_time-filed-2.1.2\"><span class=\"toc-item-num\">2.1.2&nbsp;&nbsp;</span>plan_time filed</a></span></li><li><span><a href=\"#plans-field\" data-toc-modified-id=\"plans-field-2.1.3\"><span class=\"toc-item-num\">2.1.3&nbsp;&nbsp;</span>plans field</a></span><ul class=\"toc-item\"><li><span><a href=\"#transport_mode\" data-toc-modified-id=\"transport_mode-2.1.3.1\"><span class=\"toc-item-num\">2.1.3.1&nbsp;&nbsp;</span>transport_mode</a></span></li><li><span><a href=\"#distance\" data-toc-modified-id=\"distance-2.1.3.2\"><span class=\"toc-item-num\">2.1.3.2&nbsp;&nbsp;</span>distance</a></span></li><li><span><a href=\"#etas\" data-toc-modified-id=\"etas-2.1.3.3\"><span class=\"toc-item-num\">2.1.3.3&nbsp;&nbsp;</span>etas</a></span></li><li><span><a href=\"#recommended-transport-number\" data-toc-modified-id=\"recommended-transport-number-2.1.3.4\"><span class=\"toc-item-num\">2.1.3.4&nbsp;&nbsp;</span>recommended transport number</a></span></li></ul></li></ul></li><li><span><a href=\"#train_queries-data-set\" data-toc-modified-id=\"train_queries-data-set-2.2\"><span class=\"toc-item-num\">2.2&nbsp;&nbsp;</span>train_queries data set</a></span><ul class=\"toc-item\"><li><span><a href=\"#sid-filed\" data-toc-modified-id=\"sid-filed-2.2.1\"><span class=\"toc-item-num\">2.2.1&nbsp;&nbsp;</span>sid filed</a></span></li><li><span><a href=\"#pid-filed\" data-toc-modified-id=\"pid-filed-2.2.2\"><span class=\"toc-item-num\">2.2.2&nbsp;&nbsp;</span>pid filed</a></span></li><li><span><a href=\"#o-field\" data-toc-modified-id=\"o-field-2.2.3\"><span class=\"toc-item-num\">2.2.3&nbsp;&nbsp;</span>o field</a></span></li><li><span><a href=\"#d-field\" data-toc-modified-id=\"d-field-2.2.4\"><span class=\"toc-item-num\">2.2.4&nbsp;&nbsp;</span>d field</a></span></li><li><span><a href=\"#req_time-filed\" data-toc-modified-id=\"req_time-filed-2.2.5\"><span class=\"toc-item-num\">2.2.5&nbsp;&nbsp;</span>req_time filed</a></span></li></ul></li><li><span><a href=\"#train_clicks-data-set\" data-toc-modified-id=\"train_clicks-data-set-2.3\"><span class=\"toc-item-num\">2.3&nbsp;&nbsp;</span>train_clicks data set</a></span><ul class=\"toc-item\"><li><span><a href=\"#sid-filed\" data-toc-modified-id=\"sid-filed-2.3.1\"><span class=\"toc-item-num\">2.3.1&nbsp;&nbsp;</span>sid filed</a></span></li><li><span><a href=\"#click_mode\" data-toc-modified-id=\"click_mode-2.3.2\"><span class=\"toc-item-num\">2.3.2&nbsp;&nbsp;</span>click_mode</a></span></li></ul></li><li><span><a href=\"#profiles-data-set\" data-toc-modified-id=\"profiles-data-set-2.4\"><span class=\"toc-item-num\">2.4&nbsp;&nbsp;</span>profiles data set</a></span><ul class=\"toc-item\"><li><span><a href=\"#pid-filed\" data-toc-modified-id=\"pid-filed-2.4.1\"><span class=\"toc-item-num\">2.4.1&nbsp;&nbsp;</span>pid filed</a></span></li><li><span><a href=\"#p0-p65-filed\" data-toc-modified-id=\"p0-p65-filed-2.4.2\"><span class=\"toc-item-num\">2.4.2&nbsp;&nbsp;</span>p0-p65 filed</a></span></li></ul></li></ul></li><li><span><a href=\"#Conclusion\" data-toc-modified-id=\"Conclusion-3\"><span class=\"toc-item-num\">3&nbsp;&nbsp;</span>Conclusion</a></span></li></ul></div>"
   ]
  },
  {
   "cell_type": "markdown",
   "metadata": {},
   "source": [
    "# Import Libraries & Load Data\n",
    "##  Import Libraries"
   ]
  },
  {
   "cell_type": "code",
   "execution_count": 1,
   "metadata": {},
   "outputs": [
    {
     "data": {
      "text/html": [
       "<script>requirejs.config({paths: { 'plotly': ['https://cdn.plot.ly/plotly-latest.min']},});if(!window.Plotly) {{require(['plotly'],function(plotly) {window.Plotly=plotly;});}}</script>"
      ],
      "text/vnd.plotly.v1+html": [
       "<script>requirejs.config({paths: { 'plotly': ['https://cdn.plot.ly/plotly-latest.min']},});if(!window.Plotly) {{require(['plotly'],function(plotly) {window.Plotly=plotly;});}}</script>"
      ]
     },
     "metadata": {},
     "output_type": "display_data"
    }
   ],
   "source": [
    "import numpy as np\n",
    "import pandas as pd\n",
    "import os \n",
    "from tqdm import tqdm_notebook\n",
    "from sklearn.preprocessing import StandardScaler\n",
    "from sklearn.svm import NuSVR, SVR\n",
    "from sklearn.metrics import mean_absolute_error\n",
    "import lightgbm as lgb\n",
    "import xgboost as xgb\n",
    "import time\n",
    "import datetime \n",
    "from sklearn.preprocessing import LabelEncoder\n",
    "from sklearn.model_selection import StratifiedKFold, KFold, RepeatedKFold\n",
    "from sklearn.metrics import mean_absolute_error\n",
    "from sklearn.linear_model import LinearRegression\n",
    "import gc\n",
    "\n",
    "from scipy.signal import hilbert\n",
    "from scipy.signal import hann\n",
    "from scipy.signal import convolve\n",
    "from scipy import stats\n",
    "from sklearn.kernel_ridge import KernelRidge\n",
    " \n",
    "from collections import Counter \n",
    "from statistics import mode \n",
    "    \n",
    "import seaborn as sns\n",
    "import matplotlib.pyplot as plt\n",
    "%matplotlib inline\n",
    "\n",
    "import warnings\n",
    "warnings.filterwarnings(\"ignore\")\n",
    "\n",
    "from tqdm import tqdm\n",
    "import json \n",
    "from sklearn.metrics import f1_score\n",
    "from sklearn.model_selection import StratifiedKFold\n",
    "from itertools import product\n",
    "import ast \n",
    "tqdm.pandas()\n",
    "\n",
    "import plotly.plotly as py\n",
    "import plotly\n",
    "import plotly.graph_objs as go\n",
    "from plotly.offline import init_notebook_mode, iplot\n",
    "plotly.offline.init_notebook_mode(connected=True)"
   ]
  },
  {
   "cell_type": "markdown",
   "metadata": {},
   "source": [
    "## Self-Defined Tools "
   ]
  },
  {
   "cell_type": "code",
   "execution_count": 2,
   "metadata": {},
   "outputs": [],
   "source": [
    "def value_counts_plot(df, name, xmin = False):\n",
    "    \n",
    "    plt.figure(figsize=[16,8])\n",
    "    plt.subplot(1, 2, 1)\n",
    "    df[name].value_counts().sort_index().plot()\n",
    "    if xmin == True:\n",
    "        plt.xlim(xmin = -100)\n",
    "    plt.xlabel(name)\n",
    "    plt.ylabel('Number of appeareance')\n",
    "    \n",
    "    plt.subplot(1, 2, 2)\n",
    "    df[name].value_counts().value_counts().sort_index().plot()\n",
    "    if xmin == True:\n",
    "        plt.xlim(xmin = -100)\n",
    "    plt.xlabel('Number of appeareance of {}'.format(name))\n",
    "    plt.ylabel('Number of appeareance of appearance')"
   ]
  },
  {
   "cell_type": "markdown",
   "metadata": {},
   "source": [
    "## Load Data"
   ]
  },
  {
   "cell_type": "code",
   "execution_count": 3,
   "metadata": {},
   "outputs": [],
   "source": [
    "path = '/data/Data_JieZhang/KDD/Phase2/'\n",
    "\n",
    "train_queries1 = pd.read_csv(path + 'train_queries_phase1.csv', parse_dates=['req_time'])\n",
    "train_plans1   = pd.read_csv(path + 'train_plans_phase1.csv', parse_dates=['plan_time'])\n",
    "train_clicks1  = pd.read_csv(path + 'train_clicks_phase1.csv')\n",
    "\n",
    "train_queries2 = pd.read_csv(path + 'train_queries_phase2.csv', parse_dates=['req_time'])\n",
    "train_plans2   = pd.read_csv(path + 'train_plans_phase2.csv', parse_dates=['plan_time'])\n",
    "train_clicks2  = pd.read_csv(path + 'train_clicks_phase2.csv')\n",
    "\n",
    "profiles      = pd.read_csv(path + 'profiles.csv') \n",
    "\n",
    "test_queries  = pd.read_csv(path + 'test_queries.csv', parse_dates=['req_time'])\n",
    "test_plans    = pd.read_csv(path + 'test_plans.csv', parse_dates=['plan_time'])"
   ]
  },
  {
   "cell_type": "code",
   "execution_count": 4,
   "metadata": {},
   "outputs": [],
   "source": [
    "train_plans   = pd.concat([train_plans1, train_plans2],axis=0,ignore_index=True)\n",
    "train_queries = pd.concat([train_queries1, train_queries2],axis=0,ignore_index=True)\n",
    "train_clicks  = pd.concat([train_clicks1, train_clicks2],axis=0,ignore_index=True)"
   ]
  },
  {
   "cell_type": "markdown",
   "metadata": {},
   "source": [
    "# Single Variable Data Analysis\n",
    "## train_plans data set\n"
   ]
  },
  {
   "cell_type": "code",
   "execution_count": 5,
   "metadata": {},
   "outputs": [
    {
     "data": {
      "text/html": [
       "<div>\n",
       "<style>\n",
       "    .dataframe thead tr:only-child th {\n",
       "        text-align: right;\n",
       "    }\n",
       "\n",
       "    .dataframe thead th {\n",
       "        text-align: left;\n",
       "    }\n",
       "\n",
       "    .dataframe tbody tr th {\n",
       "        vertical-align: top;\n",
       "    }\n",
       "</style>\n",
       "<table border=\"1\" class=\"dataframe\">\n",
       "  <thead>\n",
       "    <tr style=\"text-align: right;\">\n",
       "      <th></th>\n",
       "      <th>sid</th>\n",
       "      <th>plan_time</th>\n",
       "      <th>plans</th>\n",
       "    </tr>\n",
       "  </thead>\n",
       "  <tbody>\n",
       "    <tr>\n",
       "      <th>0</th>\n",
       "      <td>149233</td>\n",
       "      <td>2018-10-01 13:02:01</td>\n",
       "      <td>[{\"distance\": 2100, \"price\": 300, \"eta\": 1064,...</td>\n",
       "    </tr>\n",
       "    <tr>\n",
       "      <th>1</th>\n",
       "      <td>337156</td>\n",
       "      <td>2018-11-23 10:48:25</td>\n",
       "      <td>[{\"distance\": 8887, \"price\": 400, \"eta\": 1631,...</td>\n",
       "    </tr>\n",
       "    <tr>\n",
       "      <th>2</th>\n",
       "      <td>398930</td>\n",
       "      <td>2018-11-08 12:23:06</td>\n",
       "      <td>[{\"distance\": 8471, \"price\": 2300, \"eta\": 1284...</td>\n",
       "    </tr>\n",
       "    <tr>\n",
       "      <th>3</th>\n",
       "      <td>196610</td>\n",
       "      <td>2018-11-27 12:11:59</td>\n",
       "      <td>[{\"distance\": 32405, \"price\": 2500, \"eta\": 477...</td>\n",
       "    </tr>\n",
       "    <tr>\n",
       "      <th>4</th>\n",
       "      <td>302267</td>\n",
       "      <td>2018-10-18 17:22:19</td>\n",
       "      <td>[{\"distance\": 38511, \"price\": 700, \"eta\": 4715...</td>\n",
       "    </tr>\n",
       "  </tbody>\n",
       "</table>\n",
       "</div>"
      ],
      "text/plain": [
       "      sid           plan_time  \\\n",
       "0  149233 2018-10-01 13:02:01   \n",
       "1  337156 2018-11-23 10:48:25   \n",
       "2  398930 2018-11-08 12:23:06   \n",
       "3  196610 2018-11-27 12:11:59   \n",
       "4  302267 2018-10-18 17:22:19   \n",
       "\n",
       "                                               plans  \n",
       "0  [{\"distance\": 2100, \"price\": 300, \"eta\": 1064,...  \n",
       "1  [{\"distance\": 8887, \"price\": 400, \"eta\": 1631,...  \n",
       "2  [{\"distance\": 8471, \"price\": 2300, \"eta\": 1284...  \n",
       "3  [{\"distance\": 32405, \"price\": 2500, \"eta\": 477...  \n",
       "4  [{\"distance\": 38511, \"price\": 700, \"eta\": 4715...  "
      ]
     },
     "execution_count": 5,
     "metadata": {},
     "output_type": "execute_result"
    }
   ],
   "source": [
    "train_plans.head()"
   ]
  },
  {
   "cell_type": "markdown",
   "metadata": {},
   "source": [
    "### sid filed\n",
    "1. Sid is unique"
   ]
  },
  {
   "cell_type": "code",
   "execution_count": 6,
   "metadata": {
    "scrolled": true
   },
   "outputs": [
    {
     "data": {
      "text/plain": [
       "2047       1\n",
       "356868     1\n",
       "1741304    1\n",
       "1743353    1\n",
       "1737210    1\n",
       "1739259    1\n",
       "1749500    1\n",
       "1751549    1\n",
       "1745406    1\n",
       "1747455    1\n",
       "348672     1\n",
       "350721     1\n",
       "344578     1\n",
       "346627     1\n",
       "358917     1\n",
       "1761782    1\n",
       "352774     1\n",
       "354823     1\n",
       "332296     1\n",
       "334345     1\n",
       "328202     1\n",
       "330251     1\n",
       "340492     1\n",
       "342541     1\n",
       "336398     1\n",
       "338447     1\n",
       "381456     1\n",
       "383505     1\n",
       "1763831    1\n",
       "1767925    1\n",
       "          ..\n",
       "662550     1\n",
       "656405     1\n",
       "658452     1\n",
       "668691     1\n",
       "1406970    1\n",
       "1409019    1\n",
       "1394684    1\n",
       "1396733    1\n",
       "1398782    1\n",
       "1400831    1\n",
       "699392     1\n",
       "697345     1\n",
       "703490     1\n",
       "701443     1\n",
       "691204     1\n",
       "689157     1\n",
       "695302     1\n",
       "693255     1\n",
       "715784     1\n",
       "713737     1\n",
       "719882     1\n",
       "717835     1\n",
       "707596     1\n",
       "705549     1\n",
       "711694     1\n",
       "709647     1\n",
       "666640     1\n",
       "664593     1\n",
       "670738     1\n",
       "0          1\n",
       "Name: sid, Length: 1938572, dtype: int64"
      ]
     },
     "execution_count": 6,
     "metadata": {},
     "output_type": "execute_result"
    }
   ],
   "source": [
    "train_plans['sid'].value_counts()"
   ]
  },
  {
   "cell_type": "markdown",
   "metadata": {},
   "source": [
    "### plan_time filed\n",
    "1. The request number varies day by day, there are two days 2018-10-09 and 2018-11-05 have less than 6000 request times and other days have at least 20000+ request;\n",
    "2. There are more requests between 2018-10-01 to 2018-10-07, especially at day 2018-10-01 and 2018-10-03 because of National Day.\n",
    "3. The distribution of each weekday is different, it looks like the friday, saturday and sunday have more requests."
   ]
  },
  {
   "cell_type": "code",
   "execution_count": 7,
   "metadata": {},
   "outputs": [],
   "source": [
    "train_plans['plan_time']      = pd.to_datetime(train_plans['plan_time'])\n",
    "train_plans['plan_time_date'] = train_plans['plan_time'].dt.date\n",
    "train_plans['plan_time_dow'] = train_plans['plan_time'].dt.weekday"
   ]
  },
  {
   "cell_type": "code",
   "execution_count": 8,
   "metadata": {
    "scrolled": true
   },
   "outputs": [
    {
     "data": {
      "text/plain": [
       "2018-10-09     5555\n",
       "2018-11-05     5929\n",
       "2018-10-15    20172\n",
       "2018-11-30    24401\n",
       "2018-10-08    26010\n",
       "2018-11-12    26228\n",
       "2018-11-13    26929\n",
       "2018-11-28    27038\n",
       "2018-10-10    27093\n",
       "2018-11-14    27258\n",
       "2018-11-27    27372\n",
       "2018-11-08    27802\n",
       "2018-11-06    27906\n",
       "2018-11-15    27947\n",
       "2018-11-19    28063\n",
       "2018-11-29    28072\n",
       "2018-11-26    28101\n",
       "2018-11-07    28388\n",
       "2018-10-22    28809\n",
       "2018-10-23    28884\n",
       "2018-10-11    28942\n",
       "2018-10-30    29282\n",
       "2018-10-18    29407\n",
       "2018-10-29    29424\n",
       "2018-11-20    29467\n",
       "2018-10-24    29488\n",
       "2018-10-16    29570\n",
       "2018-11-21    29700\n",
       "2018-10-25    29824\n",
       "2018-11-01    29885\n",
       "2018-10-17    29924\n",
       "2018-10-31    29996\n",
       "2018-11-22    31042\n",
       "2018-10-04    31153\n",
       "2018-11-11    32730\n",
       "2018-11-02    33562\n",
       "2018-11-16    33791\n",
       "2018-10-12    33917\n",
       "2018-10-14    34509\n",
       "2018-11-09    34557\n",
       "2018-11-04    34845\n",
       "2018-10-19    35281\n",
       "2018-11-18    35293\n",
       "2018-11-25    35832\n",
       "2018-10-26    35860\n",
       "2018-10-07    35914\n",
       "2018-11-23    36567\n",
       "2018-10-21    36940\n",
       "2018-10-28    37237\n",
       "2018-11-10    38865\n",
       "2018-11-03    39200\n",
       "2018-10-13    39700\n",
       "2018-11-17    40193\n",
       "2018-10-06    41551\n",
       "2018-10-20    41552\n",
       "2018-11-24    42571\n",
       "2018-10-27    44045\n",
       "2018-10-05    46146\n",
       "2018-10-03    60981\n",
       "2018-10-01    61872\n",
       "Name: plan_time_date, dtype: int64"
      ]
     },
     "execution_count": 8,
     "metadata": {},
     "output_type": "execute_result"
    }
   ],
   "source": [
    "train_plans['plan_time_date'].value_counts().sort_values()"
   ]
  },
  {
   "cell_type": "markdown",
   "metadata": {},
   "source": [
    "- The request number varies day by day, there are two days 2018-10-09 and 2018-11-05 have less than 6000 request times and other days have at least 20000+ request;\n",
    "- There are more requests between 2018-10-01 to 2018-10-07, especially at day 2018-10-01 and 2018-10-03 because of National Day."
   ]
  },
  {
   "cell_type": "code",
   "execution_count": 9,
   "metadata": {
    "scrolled": true
   },
   "outputs": [
    {
     "data": {
      "text/plain": [
       "Text(0,0.5,'Number of appeareance')"
      ]
     },
     "execution_count": 9,
     "metadata": {},
     "output_type": "execute_result"
    },
    {
     "data": {
      "image/png": "[encoded data removed]",
      "text/plain": [
       "<matplotlib.figure.Figure at 0x7f2b5c22eac8>"
      ]
     },
     "metadata": {},
     "output_type": "display_data"
    }
   ],
   "source": [
    "plt.figure(figsize=[16,8]) \n",
    "train_plans['plan_time_date'].value_counts().sort_index().plot(kind = 'bar')\n",
    "plt.xlabel('plan_time')\n",
    "plt.ylabel('Number of appeareance') "
   ]
  },
  {
   "cell_type": "markdown",
   "metadata": {},
   "source": [
    "- The distribution of each weekday is different, it looks like the friday, saturday and sunday have more requests."
   ]
  },
  {
   "cell_type": "code",
   "execution_count": 10,
   "metadata": {},
   "outputs": [
    {
     "data": {
      "text/plain": [
       "<matplotlib.axes._subplots.AxesSubplot at 0x7f29a57d07b8>"
      ]
     },
     "execution_count": 10,
     "metadata": {},
     "output_type": "execute_result"
    },
    {
     "data": {
      "image/png": "[encoded data removed]",
      "text/plain": [
       "<matplotlib.figure.Figure at 0x7f29d91a9a20>"
      ]
     },
     "metadata": {},
     "output_type": "display_data"
    }
   ],
   "source": [
    "plt.figure(figsize=[16,8]) \n",
    "plt.subplot(1, 2, 1)\n",
    "train_plans['plan_time_dow'].value_counts().sort_index().plot(kind = 'bar')\n",
    "plt.xlabel('Day of Week')\n",
    "plt.ylabel('Number of appeareance')\n",
    "plt.subplot(1, 2, 2)\n",
    "train_plans['plan_time_dow'].value_counts().sort_index().plot(kind = 'pie') "
   ]
  },
  {
   "cell_type": "code",
   "execution_count": 11,
   "metadata": {},
   "outputs": [
    {
     "data": {
      "text/html": [
       "<div>\n",
       "<style>\n",
       "    .dataframe thead tr:only-child th {\n",
       "        text-align: right;\n",
       "    }\n",
       "\n",
       "    .dataframe thead th {\n",
       "        text-align: left;\n",
       "    }\n",
       "\n",
       "    .dataframe tbody tr th {\n",
       "        vertical-align: top;\n",
       "    }\n",
       "</style>\n",
       "<table border=\"1\" class=\"dataframe\">\n",
       "  <thead>\n",
       "    <tr style=\"text-align: right;\">\n",
       "      <th></th>\n",
       "      <th>sid</th>\n",
       "      <th>plan_time</th>\n",
       "      <th>plans</th>\n",
       "      <th>plan_time_date</th>\n",
       "      <th>plan_time_dow</th>\n",
       "    </tr>\n",
       "  </thead>\n",
       "  <tbody>\n",
       "    <tr>\n",
       "      <th>0</th>\n",
       "      <td>149233</td>\n",
       "      <td>2018-10-01 13:02:01</td>\n",
       "      <td>[{\"distance\": 2100, \"price\": 300, \"eta\": 1064,...</td>\n",
       "      <td>2018-10-01</td>\n",
       "      <td>0</td>\n",
       "    </tr>\n",
       "    <tr>\n",
       "      <th>1</th>\n",
       "      <td>337156</td>\n",
       "      <td>2018-11-23 10:48:25</td>\n",
       "      <td>[{\"distance\": 8887, \"price\": 400, \"eta\": 1631,...</td>\n",
       "      <td>2018-11-23</td>\n",
       "      <td>4</td>\n",
       "    </tr>\n",
       "    <tr>\n",
       "      <th>2</th>\n",
       "      <td>398930</td>\n",
       "      <td>2018-11-08 12:23:06</td>\n",
       "      <td>[{\"distance\": 8471, \"price\": 2300, \"eta\": 1284...</td>\n",
       "      <td>2018-11-08</td>\n",
       "      <td>3</td>\n",
       "    </tr>\n",
       "    <tr>\n",
       "      <th>3</th>\n",
       "      <td>196610</td>\n",
       "      <td>2018-11-27 12:11:59</td>\n",
       "      <td>[{\"distance\": 32405, \"price\": 2500, \"eta\": 477...</td>\n",
       "      <td>2018-11-27</td>\n",
       "      <td>1</td>\n",
       "    </tr>\n",
       "    <tr>\n",
       "      <th>4</th>\n",
       "      <td>302267</td>\n",
       "      <td>2018-10-18 17:22:19</td>\n",
       "      <td>[{\"distance\": 38511, \"price\": 700, \"eta\": 4715...</td>\n",
       "      <td>2018-10-18</td>\n",
       "      <td>3</td>\n",
       "    </tr>\n",
       "  </tbody>\n",
       "</table>\n",
       "</div>"
      ],
      "text/plain": [
       "      sid           plan_time  \\\n",
       "0  149233 2018-10-01 13:02:01   \n",
       "1  337156 2018-11-23 10:48:25   \n",
       "2  398930 2018-11-08 12:23:06   \n",
       "3  196610 2018-11-27 12:11:59   \n",
       "4  302267 2018-10-18 17:22:19   \n",
       "\n",
       "                                               plans plan_time_date  \\\n",
       "0  [{\"distance\": 2100, \"price\": 300, \"eta\": 1064,...     2018-10-01   \n",
       "1  [{\"distance\": 8887, \"price\": 400, \"eta\": 1631,...     2018-11-23   \n",
       "2  [{\"distance\": 8471, \"price\": 2300, \"eta\": 1284...     2018-11-08   \n",
       "3  [{\"distance\": 32405, \"price\": 2500, \"eta\": 477...     2018-11-27   \n",
       "4  [{\"distance\": 38511, \"price\": 700, \"eta\": 4715...     2018-10-18   \n",
       "\n",
       "   plan_time_dow  \n",
       "0              0  \n",
       "1              4  \n",
       "2              3  \n",
       "3              1  \n",
       "4              3  "
      ]
     },
     "execution_count": 11,
     "metadata": {},
     "output_type": "execute_result"
    }
   ],
   "source": [
    "train_plans.head()"
   ]
  },
  {
   "cell_type": "markdown",
   "metadata": {},
   "source": [
    "- The distribution of each weekday is different, it looks like the friday, saturday and sunday have more requests."
   ]
  },
  {
   "cell_type": "code",
   "execution_count": 12,
   "metadata": {},
   "outputs": [],
   "source": [
    "tmp = train_plans.loc[((train_plans['plan_time'] >= pd.datetime(2018,10,7)) & (train_plans['plan_time'] != pd.datetime(2018,10,9)) & (train_plans['plan_time'] != pd.datetime(2018,11,5)))].groupby('plan_time_date')['plan_time'].agg({'plan_time_count':'count'}).reset_index()\n",
    "tmp['plan_time_dow'] = pd.to_datetime(tmp['plan_time_date']).dt.weekday"
   ]
  },
  {
   "cell_type": "code",
   "execution_count": 13,
   "metadata": {
    "scrolled": false
   },
   "outputs": [
    {
     "data": {
      "text/plain": [
       "<matplotlib.axes._subplots.AxesSubplot at 0x7f29e43f3b38>"
      ]
     },
     "execution_count": 13,
     "metadata": {},
     "output_type": "execute_result"
    },
    {
     "data": {
      "image/png": "[encoded data removed]",
      "text/plain": [
       "<matplotlib.figure.Figure at 0x7f29e44b7eb8>"
      ]
     },
     "metadata": {},
     "output_type": "display_data"
    }
   ],
   "source": [
    "plt.figure(figsize=[16,8]) \n",
    "plt.subplot(121)\n",
    "tmp.groupby('plan_time_dow')['plan_time_count'].mean().sort_index().plot(kind = 'bar')\n",
    "# plt.plot(x='index', y=tmp1['plan_time_dow'],data=, rot=0, kind='bar')\n",
    "plt.xlabel('Day of Week')\n",
    "plt.ylabel('Number of appeareance')\n",
    "plt.subplot(122)\n",
    "tmp.groupby('plan_time_dow')['plan_time_count'].mean().sort_index().plot(kind = 'pie')\n"
   ]
  },
  {
   "cell_type": "markdown",
   "metadata": {},
   "source": [
    "### plans field\n",
    "1. 从图中我们发现有些store_nbr的出现交易的次数多一些，有些少一些，但也没有特别突出的；这可能和商店的营业时间和地点等关系密切；"
   ]
  },
  {
   "cell_type": "code",
   "execution_count": 14,
   "metadata": {},
   "outputs": [],
   "source": [
    "train_plans['plans'] = train_plans['plans'].fillna('[]').apply(ast.literal_eval) "
   ]
  },
  {
   "cell_type": "code",
   "execution_count": 15,
   "metadata": {},
   "outputs": [],
   "source": [
    "def _plans_trans(df):\n",
    "    df_plans_pivot   = pd.DataFrame()\n",
    "    sids             = []\n",
    "    prices           = []\n",
    "    distances        = []\n",
    "    etas             = []\n",
    "    transport_modes  = []\n",
    "    ranks            = []   \n",
    "    plan_times       = []   \n",
    "    for sid,plan_time,plans in tqdm(df[['sid','plan_time','plans']].values):\n",
    "         \n",
    "        for i,plan in enumerate(plans):\n",
    "            sids.append(sid)\n",
    "            transport_modes.append(plan['transport_mode'])\n",
    "            distances.append(plan['distance'])\n",
    "            etas.append(plan['eta'])\n",
    "            prices.append(plan['price']) \n",
    "            plan_times.append(plan_time)\n",
    "            ranks.append(i)\n",
    "    df_plans_pivot['sid']             = sids\n",
    "    df_plans_pivot['price']           = prices\n",
    "    df_plans_pivot['distance']        = distances\n",
    "    df_plans_pivot['transport_mode']  = transport_modes\n",
    "    df_plans_pivot['ranks']           = ranks\n",
    "    df_plans_pivot['plan_time']       = plan_times \n",
    "    df_plans_pivot['etas']            = etas \n",
    "    df_plans_pivot['price']           = df_plans_pivot['price'].apply(lambda x: 0 if x == '' else float(x))\n",
    "    return df_plans_pivot"
   ]
  },
  {
   "cell_type": "code",
   "execution_count": 16,
   "metadata": {},
   "outputs": [
    {
     "name": "stderr",
     "output_type": "stream",
     "text": [
      "100%|██████████| 1938572/1938572 [00:08<00:00, 241694.86it/s]\n"
     ]
    },
    {
     "name": "stdout",
     "output_type": "stream",
     "text": [
      "CPU times: user 27 s, sys: 2.58 s, total: 29.6 s\n",
      "Wall time: 29.3 s\n"
     ]
    }
   ],
   "source": [
    "%%time\n",
    "plans_pivot = _plans_trans(train_plans)\n",
    "plans_pivot['speed'] = plans_pivot['distance'] / plans_pivot['etas']"
   ]
  },
  {
   "cell_type": "code",
   "execution_count": 17,
   "metadata": {},
   "outputs": [
    {
     "data": {
      "text/html": [
       "<div>\n",
       "<style>\n",
       "    .dataframe thead tr:only-child th {\n",
       "        text-align: right;\n",
       "    }\n",
       "\n",
       "    .dataframe thead th {\n",
       "        text-align: left;\n",
       "    }\n",
       "\n",
       "    .dataframe tbody tr th {\n",
       "        vertical-align: top;\n",
       "    }\n",
       "</style>\n",
       "<table border=\"1\" class=\"dataframe\">\n",
       "  <thead>\n",
       "    <tr style=\"text-align: right;\">\n",
       "      <th></th>\n",
       "      <th>sid</th>\n",
       "      <th>price</th>\n",
       "      <th>distance</th>\n",
       "      <th>transport_mode</th>\n",
       "      <th>ranks</th>\n",
       "      <th>plan_time</th>\n",
       "      <th>etas</th>\n",
       "      <th>speed</th>\n",
       "    </tr>\n",
       "  </thead>\n",
       "  <tbody>\n",
       "    <tr>\n",
       "      <th>0</th>\n",
       "      <td>149233</td>\n",
       "      <td>300.0</td>\n",
       "      <td>2100</td>\n",
       "      <td>2</td>\n",
       "      <td>0</td>\n",
       "      <td>2018-10-01 13:02:01</td>\n",
       "      <td>1064</td>\n",
       "      <td>1.973684</td>\n",
       "    </tr>\n",
       "    <tr>\n",
       "      <th>1</th>\n",
       "      <td>149233</td>\n",
       "      <td>0.0</td>\n",
       "      <td>2577</td>\n",
       "      <td>3</td>\n",
       "      <td>1</td>\n",
       "      <td>2018-10-01 13:02:01</td>\n",
       "      <td>461</td>\n",
       "      <td>5.590022</td>\n",
       "    </tr>\n",
       "    <tr>\n",
       "      <th>2</th>\n",
       "      <td>149233</td>\n",
       "      <td>1300.0</td>\n",
       "      <td>2577</td>\n",
       "      <td>4</td>\n",
       "      <td>2</td>\n",
       "      <td>2018-10-01 13:02:01</td>\n",
       "      <td>461</td>\n",
       "      <td>5.590022</td>\n",
       "    </tr>\n",
       "    <tr>\n",
       "      <th>3</th>\n",
       "      <td>149233</td>\n",
       "      <td>0.0</td>\n",
       "      <td>1720</td>\n",
       "      <td>6</td>\n",
       "      <td>3</td>\n",
       "      <td>2018-10-01 13:02:01</td>\n",
       "      <td>518</td>\n",
       "      <td>3.320463</td>\n",
       "    </tr>\n",
       "    <tr>\n",
       "      <th>4</th>\n",
       "      <td>149233</td>\n",
       "      <td>0.0</td>\n",
       "      <td>1645</td>\n",
       "      <td>5</td>\n",
       "      <td>4</td>\n",
       "      <td>2018-10-01 13:02:01</td>\n",
       "      <td>1438</td>\n",
       "      <td>1.143950</td>\n",
       "    </tr>\n",
       "    <tr>\n",
       "      <th>5</th>\n",
       "      <td>149233</td>\n",
       "      <td>200.0</td>\n",
       "      <td>1729</td>\n",
       "      <td>1</td>\n",
       "      <td>5</td>\n",
       "      <td>2018-10-01 13:02:01</td>\n",
       "      <td>1482</td>\n",
       "      <td>1.166667</td>\n",
       "    </tr>\n",
       "    <tr>\n",
       "      <th>6</th>\n",
       "      <td>337156</td>\n",
       "      <td>400.0</td>\n",
       "      <td>8887</td>\n",
       "      <td>2</td>\n",
       "      <td>0</td>\n",
       "      <td>2018-11-23 10:48:25</td>\n",
       "      <td>1631</td>\n",
       "      <td>5.448804</td>\n",
       "    </tr>\n",
       "    <tr>\n",
       "      <th>7</th>\n",
       "      <td>337156</td>\n",
       "      <td>2800.0</td>\n",
       "      <td>1</td>\n",
       "      <td>4</td>\n",
       "      <td>1</td>\n",
       "      <td>2018-11-23 10:48:25</td>\n",
       "      <td>180</td>\n",
       "      <td>0.005556</td>\n",
       "    </tr>\n",
       "    <tr>\n",
       "      <th>8</th>\n",
       "      <td>337156</td>\n",
       "      <td>0.0</td>\n",
       "      <td>8603</td>\n",
       "      <td>6</td>\n",
       "      <td>2</td>\n",
       "      <td>2018-11-23 10:48:25</td>\n",
       "      <td>2598</td>\n",
       "      <td>3.311393</td>\n",
       "    </tr>\n",
       "    <tr>\n",
       "      <th>9</th>\n",
       "      <td>398930</td>\n",
       "      <td>2300.0</td>\n",
       "      <td>8471</td>\n",
       "      <td>4</td>\n",
       "      <td>0</td>\n",
       "      <td>2018-11-08 12:23:06</td>\n",
       "      <td>1284</td>\n",
       "      <td>6.597352</td>\n",
       "    </tr>\n",
       "  </tbody>\n",
       "</table>\n",
       "</div>"
      ],
      "text/plain": [
       "      sid   price  distance  transport_mode  ranks           plan_time  etas  \\\n",
       "0  149233   300.0      2100               2      0 2018-10-01 13:02:01  1064   \n",
       "1  149233     0.0      2577               3      1 2018-10-01 13:02:01   461   \n",
       "2  149233  1300.0      2577               4      2 2018-10-01 13:02:01   461   \n",
       "3  149233     0.0      1720               6      3 2018-10-01 13:02:01   518   \n",
       "4  149233     0.0      1645               5      4 2018-10-01 13:02:01  1438   \n",
       "5  149233   200.0      1729               1      5 2018-10-01 13:02:01  1482   \n",
       "6  337156   400.0      8887               2      0 2018-11-23 10:48:25  1631   \n",
       "7  337156  2800.0         1               4      1 2018-11-23 10:48:25   180   \n",
       "8  337156     0.0      8603               6      2 2018-11-23 10:48:25  2598   \n",
       "9  398930  2300.0      8471               4      0 2018-11-08 12:23:06  1284   \n",
       "\n",
       "      speed  \n",
       "0  1.973684  \n",
       "1  5.590022  \n",
       "2  5.590022  \n",
       "3  3.320463  \n",
       "4  1.143950  \n",
       "5  1.166667  \n",
       "6  5.448804  \n",
       "7  0.005556  \n",
       "8  3.311393  \n",
       "9  6.597352  "
      ]
     },
     "execution_count": 17,
     "metadata": {},
     "output_type": "execute_result"
    }
   ],
   "source": [
    "plans_pivot.head(10)"
   ]
  },
  {
   "cell_type": "markdown",
   "metadata": {},
   "source": [
    "#### transport_mode\n",
    "- The transport mode 3 is the most frequent, followed by 4,1,2.\n",
    "- the transport mode 8 and 11 are the least frequent."
   ]
  },
  {
   "cell_type": "code",
   "execution_count": 18,
   "metadata": {},
   "outputs": [
    {
     "data": {
      "text/plain": [
       "<matplotlib.axes._subplots.AxesSubplot at 0x7f2840e3ab38>"
      ]
     },
     "execution_count": 18,
     "metadata": {},
     "output_type": "execute_result"
    },
    {
     "data": {
      "image/png": "[encoded data removed]",
      "text/plain": [
       "<matplotlib.figure.Figure at 0x7f286e95d438>"
      ]
     },
     "metadata": {},
     "output_type": "display_data"
    }
   ],
   "source": [
    "plt.figure(figsize=[16,8]) \n",
    "plt.subplot(1, 2, 1)\n",
    "plans_pivot['transport_mode'].value_counts().sort_index().plot(kind = 'bar')\n",
    "plt.xlabel('transport_mode')\n",
    "plt.ylabel('Number of appeareance')\n",
    "plt.subplot(1, 2, 2)\n",
    "plans_pivot['transport_mode'].value_counts().sort_index().plot(kind = 'pie') "
   ]
  },
  {
   "cell_type": "markdown",
   "metadata": {},
   "source": [
    "#### distance\n",
    "- The distance varies a lot, the minimum of the distance is 1 and maximum of the distance is 225000, which is quite large. \n",
    "- About 95% distances are less than 50000, "
   ]
  },
  {
   "cell_type": "code",
   "execution_count": 19,
   "metadata": {},
   "outputs": [
    {
     "data": {
      "text/plain": [
       "count    8.906188e+06\n",
       "mean     1.618052e+04\n",
       "std      1.580115e+04\n",
       "min      1.000000e+00\n",
       "0%       1.000000e+00\n",
       "5%       8.970000e+02\n",
       "10%      1.708000e+03\n",
       "20%      3.400000e+03\n",
       "30%      5.430000e+03\n",
       "40%      8.134000e+03\n",
       "50%      1.134500e+04\n",
       "60%      1.541500e+04\n",
       "70%      2.023300e+04\n",
       "80%      2.666600e+04\n",
       "90%      3.732500e+04\n",
       "95%      4.739700e+04\n",
       "100%     2.258640e+05\n",
       "max      2.258640e+05\n",
       "Name: distance, dtype: float64"
      ]
     },
     "execution_count": 19,
     "metadata": {},
     "output_type": "execute_result"
    }
   ],
   "source": [
    "plans_pivot['distance'].describe(percentiles = [0,0.05,0.1,0.2,0.3,0.4,0.5,0.6,0.7,0.8,0.9,0.95,1])"
   ]
  },
  {
   "cell_type": "code",
   "execution_count": 20,
   "metadata": {},
   "outputs": [
    {
     "data": {
      "text/plain": [
       "Text(0.5,0,'distance')"
      ]
     },
     "execution_count": 20,
     "metadata": {},
     "output_type": "execute_result"
    },
    {
     "data": {
      "image/png": "[encoded data removed]",
      "text/plain": [
       "<matplotlib.figure.Figure at 0x7f28585db4e0>"
      ]
     },
     "metadata": {},
     "output_type": "display_data"
    }
   ],
   "source": [
    "plt.figure(figsize=[16,8]) \n",
    "sns.boxplot(plans_pivot['distance'])\n",
    "plt.xlabel('distance')"
   ]
  },
  {
   "cell_type": "markdown",
   "metadata": {},
   "source": [
    "#### etas\n",
    "- The etas varies a lot, the minimum of etas is 1 and maximum of the etas is 72992. \n",
    "- About 95% etas are less than 6500, "
   ]
  },
  {
   "cell_type": "code",
   "execution_count": 21,
   "metadata": {},
   "outputs": [
    {
     "data": {
      "text/plain": [
       "count    8.906188e+06\n",
       "mean     2.709388e+03\n",
       "std      1.957669e+03\n",
       "min      1.000000e+00\n",
       "0%       1.000000e+00\n",
       "5%       3.390000e+02\n",
       "10%      6.430000e+02\n",
       "20%      1.140000e+03\n",
       "30%      1.556000e+03\n",
       "40%      1.951000e+03\n",
       "50%      2.348000e+03\n",
       "60%      2.767000e+03\n",
       "70%      3.263000e+03\n",
       "80%      3.950000e+03\n",
       "90%      5.152000e+03\n",
       "95%      6.405000e+03\n",
       "100%     7.299200e+04\n",
       "max      7.299200e+04\n",
       "Name: etas, dtype: float64"
      ]
     },
     "execution_count": 21,
     "metadata": {},
     "output_type": "execute_result"
    }
   ],
   "source": [
    "plans_pivot['etas'].describe(percentiles = [0,0.05,0.1,0.2,0.3,0.4,0.5,0.6,0.7,0.8,0.9,0.95,1])"
   ]
  },
  {
   "cell_type": "code",
   "execution_count": 22,
   "metadata": {},
   "outputs": [
    {
     "data": {
      "text/plain": [
       "Text(0.5,0,'etas')"
      ]
     },
     "execution_count": 22,
     "metadata": {},
     "output_type": "execute_result"
    },
    {
     "data": {
      "image/png": "[encoded data removed]",
      "text/plain": [
       "<matplotlib.figure.Figure at 0x7f2855bebd30>"
      ]
     },
     "metadata": {},
     "output_type": "display_data"
    }
   ],
   "source": [
    "plt.figure(figsize=[16,8]) \n",
    "sns.boxplot(plans_pivot['etas'])\n",
    "plt.xlabel('etas')"
   ]
  },
  {
   "cell_type": "markdown",
   "metadata": {},
   "source": [
    "#### recommended transport number\n",
    "- Most plans recommend 4 or 5 or 6 different plans, and some only recommend 1 plan, which occupies about 1.8%."
   ]
  },
  {
   "cell_type": "code",
   "execution_count": 23,
   "metadata": {},
   "outputs": [],
   "source": [
    "tmp = plans_pivot.groupby('sid')['ranks'].max().to_frame()"
   ]
  },
  {
   "cell_type": "code",
   "execution_count": 25,
   "metadata": {},
   "outputs": [],
   "source": [
    "tmp['ranks'] = tmp['ranks'] + 1"
   ]
  },
  {
   "cell_type": "code",
   "execution_count": 29,
   "metadata": {},
   "outputs": [
    {
     "data": {
      "text/plain": [
       "5    0.330529\n",
       "4    0.268247\n",
       "6    0.201649\n",
       "3    0.165452\n",
       "7    0.019170\n",
       "2    0.013154\n",
       "1    0.001796\n",
       "8    0.000003\n",
       "Name: ranks, dtype: float64"
      ]
     },
     "execution_count": 29,
     "metadata": {},
     "output_type": "execute_result"
    }
   ],
   "source": [
    "tmp['ranks'].value_counts(normalize = True)"
   ]
  },
  {
   "cell_type": "code",
   "execution_count": 28,
   "metadata": {},
   "outputs": [
    {
     "data": {
      "text/plain": [
       "<matplotlib.axes._subplots.AxesSubplot at 0x7f286c371390>"
      ]
     },
     "execution_count": 28,
     "metadata": {},
     "output_type": "execute_result"
    },
    {
     "data": {
      "image/png": "[encoded data removed]",
      "text/plain": [
       "<matplotlib.figure.Figure at 0x7f2855af06d8>"
      ]
     },
     "metadata": {},
     "output_type": "display_data"
    }
   ],
   "source": [
    "plt.figure(figsize=[16,8]) \n",
    "plt.subplot(1, 2, 1)\n",
    "tmp['ranks'].value_counts().sort_index().plot(kind = 'bar')\n",
    "plt.xlabel('Number of recommeneded transport mode')\n",
    "plt.ylabel('Number of appereance')\n",
    "plt.subplot(1, 2, 2)\n",
    "tmp['ranks'].value_counts().sort_index().plot(kind = 'pie') "
   ]
  },
  {
   "cell_type": "markdown",
   "metadata": {},
   "source": [
    "## train_queries data set\n",
    "### sid filed\n",
    "1. Sid is unique"
   ]
  },
  {
   "cell_type": "code",
   "execution_count": 30,
   "metadata": {},
   "outputs": [
    {
     "data": {
      "text/html": [
       "<div>\n",
       "<style>\n",
       "    .dataframe thead tr:only-child th {\n",
       "        text-align: right;\n",
       "    }\n",
       "\n",
       "    .dataframe thead th {\n",
       "        text-align: left;\n",
       "    }\n",
       "\n",
       "    .dataframe tbody tr th {\n",
       "        vertical-align: top;\n",
       "    }\n",
       "</style>\n",
       "<table border=\"1\" class=\"dataframe\">\n",
       "  <thead>\n",
       "    <tr style=\"text-align: right;\">\n",
       "      <th></th>\n",
       "      <th>sid</th>\n",
       "      <th>pid</th>\n",
       "      <th>req_time</th>\n",
       "      <th>o</th>\n",
       "      <th>d</th>\n",
       "    </tr>\n",
       "  </thead>\n",
       "  <tbody>\n",
       "    <tr>\n",
       "      <th>0</th>\n",
       "      <td>419087</td>\n",
       "      <td>22813.0</td>\n",
       "      <td>2018-10-17 10:17:11</td>\n",
       "      <td>116.34,39.99</td>\n",
       "      <td>116.37,39.86</td>\n",
       "    </tr>\n",
       "    <tr>\n",
       "      <th>1</th>\n",
       "      <td>481938</td>\n",
       "      <td>NaN</td>\n",
       "      <td>2018-10-13 15:50:15</td>\n",
       "      <td>116.43,39.94</td>\n",
       "      <td>116.46,39.95</td>\n",
       "    </tr>\n",
       "    <tr>\n",
       "      <th>2</th>\n",
       "      <td>441201</td>\n",
       "      <td>34393.0</td>\n",
       "      <td>2018-10-13 16:15:21</td>\n",
       "      <td>116.28,40.01</td>\n",
       "      <td>116.39,39.99</td>\n",
       "    </tr>\n",
       "    <tr>\n",
       "      <th>3</th>\n",
       "      <td>347266</td>\n",
       "      <td>NaN</td>\n",
       "      <td>2018-10-22 13:26:04</td>\n",
       "      <td>116.31,39.51</td>\n",
       "      <td>116.32,39.72</td>\n",
       "    </tr>\n",
       "    <tr>\n",
       "      <th>4</th>\n",
       "      <td>206269</td>\n",
       "      <td>NaN</td>\n",
       "      <td>2018-11-08 10:27:23</td>\n",
       "      <td>116.33,39.89</td>\n",
       "      <td>116.59,39.76</td>\n",
       "    </tr>\n",
       "  </tbody>\n",
       "</table>\n",
       "</div>"
      ],
      "text/plain": [
       "      sid      pid            req_time             o             d\n",
       "0  419087  22813.0 2018-10-17 10:17:11  116.34,39.99  116.37,39.86\n",
       "1  481938      NaN 2018-10-13 15:50:15  116.43,39.94  116.46,39.95\n",
       "2  441201  34393.0 2018-10-13 16:15:21  116.28,40.01  116.39,39.99\n",
       "3  347266      NaN 2018-10-22 13:26:04  116.31,39.51  116.32,39.72\n",
       "4  206269      NaN 2018-11-08 10:27:23  116.33,39.89  116.59,39.76"
      ]
     },
     "execution_count": 30,
     "metadata": {},
     "output_type": "execute_result"
    }
   ],
   "source": [
    "train_queries.head()"
   ]
  },
  {
   "cell_type": "code",
   "execution_count": 34,
   "metadata": {
    "scrolled": true
   },
   "outputs": [
    {
     "data": {
      "text/plain": [
       "2047       1\n",
       "1669509    1\n",
       "1665415    1\n",
       "1642888    1\n",
       "1644937    1\n",
       "1638794    1\n",
       "1640843    1\n",
       "1651084    1\n",
       "1653133    1\n",
       "1646990    1\n",
       "1649039    1\n",
       "1692048    1\n",
       "1694097    1\n",
       "1687954    1\n",
       "1690003    1\n",
       "1700244    1\n",
       "1702293    1\n",
       "1696150    1\n",
       "1698199    1\n",
       "1675672    1\n",
       "1677721    1\n",
       "1671578    1\n",
       "1673627    1\n",
       "1683868    1\n",
       "1685917    1\n",
       "1679774    1\n",
       "1681823    1\n",
       "1593760    1\n",
       "1595809    1\n",
       "1663366    1\n",
       "          ..\n",
       "578639     1\n",
       "580686     1\n",
       "742463     1\n",
       "734259     1\n",
       "724020     1\n",
       "721973     1\n",
       "728118     1\n",
       "726071     1\n",
       "748600     1\n",
       "746553     1\n",
       "752698     1\n",
       "750651     1\n",
       "740412     1\n",
       "738365     1\n",
       "744510     1\n",
       "568384     1\n",
       "574541     1\n",
       "566337     1\n",
       "572482     1\n",
       "570435     1\n",
       "560196     1\n",
       "558149     1\n",
       "564294     1\n",
       "562247     1\n",
       "584776     1\n",
       "582729     1\n",
       "588874     1\n",
       "586827     1\n",
       "576588     1\n",
       "0          1\n",
       "Name: sid, Length: 2000000, dtype: int64"
      ]
     },
     "execution_count": 34,
     "metadata": {},
     "output_type": "execute_result"
    }
   ],
   "source": [
    "train_queries['sid'].value_counts()"
   ]
  },
  {
   "cell_type": "markdown",
   "metadata": {},
   "source": [
    "### pid filed\n",
    "1. we have 676803 missing pid values, which occupies 33.84%;\n",
    "2. The most frequent pid is 8645  and it occupies about 1.125%.\n",
    "3. There is about 36.4% different pids only search once."
   ]
  },
  {
   "cell_type": "code",
   "execution_count": 35,
   "metadata": {},
   "outputs": [],
   "source": [
    "train_queries['pid'].fillna(-1,inplace = True) "
   ]
  },
  {
   "cell_type": "code",
   "execution_count": 36,
   "metadata": {
    "scrolled": true
   },
   "outputs": [
    {
     "data": {
      "text/plain": [
       "-1.0         676803\n",
       " 8645.0       22503\n",
       " 51133.0      18588\n",
       " 11803.0      13858\n",
       " 29160.0      10314\n",
       " 22813.0       8544\n",
       " 4062.0        7997\n",
       " 16861.0       7313\n",
       " 3556.0        6828\n",
       " 30555.0       6541\n",
       " 9822.0        5809\n",
       " 36520.0       5716\n",
       " 45388.0       5382\n",
       " 26501.0       4704\n",
       " 53300.0       4622\n",
       " 8630.0        4205\n",
       " 57255.0       3814\n",
       " 33041.0       3538\n",
       " 625.0         3516\n",
       " 52177.0       3508\n",
       " 20660.0       3382\n",
       " 33138.0       3379\n",
       " 22967.0       3258\n",
       " 41345.0       3233\n",
       " 19924.0       3195\n",
       " 60872.0       3151\n",
       " 37897.0       3144\n",
       " 9541.0        2916\n",
       " 54200.0       2881\n",
       " 47919.0       2818\n",
       "              ...  \n",
       " 23833.0          1\n",
       " 23831.0          1\n",
       " 23830.0          1\n",
       " 23828.0          1\n",
       " 96247.0          1\n",
       " 182064.0         1\n",
       " 96260.0          1\n",
       " 2995.0           1\n",
       " 23819.0          1\n",
       " 23844.0          1\n",
       " 23847.0          1\n",
       " 96215.0          1\n",
       " 35344.0          1\n",
       " 96145.0          1\n",
       " 23885.0          1\n",
       " 23884.0          1\n",
       " 23880.0          1\n",
       " 96149.0          1\n",
       " 96154.0          1\n",
       " 96164.0          1\n",
       " 96172.0          1\n",
       " 96194.0          1\n",
       " 96175.0          1\n",
       " 23862.0          1\n",
       " 96185.0          1\n",
       " 96188.0          1\n",
       " 23856.0          1\n",
       " 6012.0           1\n",
       " 23852.0          1\n",
       " 131068.0         1\n",
       "Name: pid, Length: 97372, dtype: int64"
      ]
     },
     "execution_count": 36,
     "metadata": {},
     "output_type": "execute_result"
    }
   ],
   "source": [
    "train_queries['pid'].value_counts()"
   ]
  },
  {
   "cell_type": "code",
   "execution_count": 37,
   "metadata": {
    "scrolled": true
   },
   "outputs": [
    {
     "data": {
      "text/plain": [
       "-1.0         3.384015e-01\n",
       " 8645.0      1.125150e-02\n",
       " 51133.0     9.294000e-03\n",
       " 11803.0     6.929000e-03\n",
       " 29160.0     5.157000e-03\n",
       " 22813.0     4.272000e-03\n",
       " 4062.0      3.998500e-03\n",
       " 16861.0     3.656500e-03\n",
       " 3556.0      3.414000e-03\n",
       " 30555.0     3.270500e-03\n",
       " 9822.0      2.904500e-03\n",
       " 36520.0     2.858000e-03\n",
       " 45388.0     2.691000e-03\n",
       " 26501.0     2.352000e-03\n",
       " 53300.0     2.311000e-03\n",
       " 8630.0      2.102500e-03\n",
       " 57255.0     1.907000e-03\n",
       " 33041.0     1.769000e-03\n",
       " 625.0       1.758000e-03\n",
       " 52177.0     1.754000e-03\n",
       " 20660.0     1.691000e-03\n",
       " 33138.0     1.689500e-03\n",
       " 22967.0     1.629000e-03\n",
       " 41345.0     1.616500e-03\n",
       " 19924.0     1.597500e-03\n",
       " 60872.0     1.575500e-03\n",
       " 37897.0     1.572000e-03\n",
       " 9541.0      1.458000e-03\n",
       " 54200.0     1.440500e-03\n",
       " 47919.0     1.409000e-03\n",
       "                 ...     \n",
       " 23833.0     5.000000e-07\n",
       " 23831.0     5.000000e-07\n",
       " 23830.0     5.000000e-07\n",
       " 23828.0     5.000000e-07\n",
       " 96247.0     5.000000e-07\n",
       " 182064.0    5.000000e-07\n",
       " 96260.0     5.000000e-07\n",
       " 2995.0      5.000000e-07\n",
       " 23819.0     5.000000e-07\n",
       " 23844.0     5.000000e-07\n",
       " 23847.0     5.000000e-07\n",
       " 96215.0     5.000000e-07\n",
       " 35344.0     5.000000e-07\n",
       " 96145.0     5.000000e-07\n",
       " 23885.0     5.000000e-07\n",
       " 23884.0     5.000000e-07\n",
       " 23880.0     5.000000e-07\n",
       " 96149.0     5.000000e-07\n",
       " 96154.0     5.000000e-07\n",
       " 96164.0     5.000000e-07\n",
       " 96172.0     5.000000e-07\n",
       " 96194.0     5.000000e-07\n",
       " 96175.0     5.000000e-07\n",
       " 23862.0     5.000000e-07\n",
       " 96185.0     5.000000e-07\n",
       " 96188.0     5.000000e-07\n",
       " 23856.0     5.000000e-07\n",
       " 6012.0      5.000000e-07\n",
       " 23852.0     5.000000e-07\n",
       " 131068.0    5.000000e-07\n",
       "Name: pid, Length: 97372, dtype: float64"
      ]
     },
     "execution_count": 37,
     "metadata": {},
     "output_type": "execute_result"
    }
   ],
   "source": [
    "train_queries['pid'].value_counts(normalize = True)"
   ]
  },
  {
   "cell_type": "code",
   "execution_count": 55,
   "metadata": {},
   "outputs": [
    {
     "data": {
      "text/plain": [
       "Text(0,0.5,'Number of apperance')"
      ]
     },
     "execution_count": 55,
     "metadata": {},
     "output_type": "execute_result"
    },
    {
     "data": {
      "image/png": "[encoded data removed]",
      "text/plain": [
       "<matplotlib.figure.Figure at 0x7f284e061e80>"
      ]
     },
     "metadata": {},
     "output_type": "display_data"
    }
   ],
   "source": [
    "plt.figure(figsize=[16,8])  \n",
    "train_queries['pid'].fillna(-1).value_counts(normalize = True).sort_index().plot()\n",
    "plt.xlim(xmin = -100)\n",
    "plt.xlabel('pid')\n",
    "plt.ylabel('Number of apperance') "
   ]
  },
  {
   "cell_type": "code",
   "execution_count": 39,
   "metadata": {
    "scrolled": true
   },
   "outputs": [
    {
     "data": {
      "text/plain": [
       "1       0.363914\n",
       "2       0.152857\n",
       "3       0.088793\n",
       "4       0.060151\n",
       "5       0.043452\n",
       "6       0.033963\n",
       "7       0.026168\n",
       "8       0.021978\n",
       "9       0.018856\n",
       "10      0.014922\n",
       "11      0.012961\n",
       "12      0.011708\n",
       "13      0.009685\n",
       "14      0.008319\n",
       "15      0.007733\n",
       "16      0.006645\n",
       "17      0.006552\n",
       "18      0.005751\n",
       "19      0.005135\n",
       "20      0.004806\n",
       "21      0.004118\n",
       "22      0.003656\n",
       "23      0.003461\n",
       "24      0.003451\n",
       "25      0.003050\n",
       "26      0.002865\n",
       "27      0.002855\n",
       "28      0.002516\n",
       "30      0.002485\n",
       "29      0.002413\n",
       "          ...   \n",
       "563     0.000010\n",
       "2610    0.000010\n",
       "435     0.000010\n",
       "541     0.000010\n",
       "669     0.000010\n",
       "733     0.000010\n",
       "243     0.000010\n",
       "478     0.000010\n",
       "347     0.000010\n",
       "219     0.000010\n",
       "5809    0.000010\n",
       "308     0.000010\n",
       "821     0.000010\n",
       "343     0.000010\n",
       "663     0.000010\n",
       "1047    0.000010\n",
       "1751    0.000010\n",
       "152     0.000010\n",
       "280     0.000010\n",
       "664     0.000010\n",
       "856     0.000010\n",
       "245     0.000010\n",
       "473     0.000010\n",
       "665     0.000010\n",
       "820     0.000010\n",
       "564     0.000010\n",
       "474     0.000010\n",
       "922     0.000010\n",
       "1370    0.000010\n",
       "1279    0.000010\n",
       "Name: pid, Length: 642, dtype: float64"
      ]
     },
     "execution_count": 39,
     "metadata": {},
     "output_type": "execute_result"
    }
   ],
   "source": [
    "train_queries['pid'].value_counts().value_counts(normalize = True)"
   ]
  },
  {
   "cell_type": "markdown",
   "metadata": {},
   "source": [
    "### o field\n",
    "1. we have 14807 different o values;\n",
    "2. The most frequent o is 113.32,23.13, there is no o that can occupy more than 1%.\n",
    "3. In different provinces, they all have hot and cold places.\n"
   ]
  },
  {
   "cell_type": "code",
   "execution_count": 40,
   "metadata": {},
   "outputs": [],
   "source": [
    "train_queries['o'].fillna(-1,inplace = True)  "
   ]
  },
  {
   "cell_type": "code",
   "execution_count": 56,
   "metadata": {},
   "outputs": [
    {
     "data": {
      "text/plain": [
       "14807"
      ]
     },
     "execution_count": 56,
     "metadata": {},
     "output_type": "execute_result"
    }
   ],
   "source": [
    "train_queries['o'].nunique()"
   ]
  },
  {
   "cell_type": "code",
   "execution_count": 41,
   "metadata": {
    "scrolled": true
   },
   "outputs": [
    {
     "data": {
      "text/plain": [
       "113.32,23.13    10442\n",
       "121.48,31.24     9940\n",
       "121.45,31.25     9142\n",
       "121.47,31.24     8527\n",
       "113.25,23.15     8195\n",
       "113.32,23.12     8137\n",
       "121.32,31.20     8094\n",
       "113.32,23.15     8034\n",
       "113.32,23.14     7928\n",
       "114.03,22.61     7327\n",
       "113.26,23.12     7229\n",
       "113.26,22.99     7108\n",
       "114.11,22.55     6828\n",
       "114.06,22.54     6718\n",
       "113.26,23.13     6676\n",
       "114.05,22.54     6420\n",
       "121.50,31.24     6212\n",
       "116.37,39.86     5993\n",
       "116.32,39.89     5930\n",
       "116.42,39.90     5819\n",
       "113.24,23.12     5816\n",
       "114.11,22.54     5684\n",
       "116.41,39.91     5616\n",
       "113.33,23.14     5585\n",
       "116.37,39.91     5246\n",
       "116.40,39.91     5156\n",
       "113.34,23.17     4968\n",
       "114.08,22.55     4757\n",
       "121.48,31.23     4746\n",
       "121.43,31.20     4539\n",
       "                ...  \n",
       "120.92,31.06        1\n",
       "116.66,40.27        1\n",
       "121.07,31.25        1\n",
       "115.89,39.66        1\n",
       "113.10,23.49        1\n",
       "116.69,39.66        1\n",
       "116.41,40.23        1\n",
       "121.81,31.07        1\n",
       "116.79,40.31        1\n",
       "115.93,39.64        1\n",
       "113.80,23.41        1\n",
       "117.16,40.17        1\n",
       "113.67,23.67        1\n",
       "116.25,40.27        1\n",
       "116.98,40.18        1\n",
       "121.60,31.52        1\n",
       "113.53,22.91        1\n",
       "113.73,23.69        1\n",
       "121.62,30.98        1\n",
       "116.39,39.46        1\n",
       "113.96,22.65        1\n",
       "116.23,40.39        1\n",
       "113.44,23.21        1\n",
       "113.44,23.47        1\n",
       "113.57,22.72        1\n",
       "113.20,23.46        1\n",
       "114.07,22.75        1\n",
       "121.11,31.10        1\n",
       "113.84,23.77        1\n",
       "113.73,23.58        1\n",
       "Name: o, Length: 14807, dtype: int64"
      ]
     },
     "execution_count": 41,
     "metadata": {},
     "output_type": "execute_result"
    }
   ],
   "source": [
    "train_queries['o'].value_counts()"
   ]
  },
  {
   "cell_type": "code",
   "execution_count": 42,
   "metadata": {
    "scrolled": true
   },
   "outputs": [
    {
     "data": {
      "text/plain": [
       "113.32,23.13    5.221000e-03\n",
       "121.48,31.24    4.970000e-03\n",
       "121.45,31.25    4.571000e-03\n",
       "121.47,31.24    4.263500e-03\n",
       "113.25,23.15    4.097500e-03\n",
       "113.32,23.12    4.068500e-03\n",
       "121.32,31.20    4.047000e-03\n",
       "113.32,23.15    4.017000e-03\n",
       "113.32,23.14    3.964000e-03\n",
       "114.03,22.61    3.663500e-03\n",
       "113.26,23.12    3.614500e-03\n",
       "113.26,22.99    3.554000e-03\n",
       "114.11,22.55    3.414000e-03\n",
       "114.06,22.54    3.359000e-03\n",
       "113.26,23.13    3.338000e-03\n",
       "114.05,22.54    3.210000e-03\n",
       "121.50,31.24    3.106000e-03\n",
       "116.37,39.86    2.996500e-03\n",
       "116.32,39.89    2.965000e-03\n",
       "116.42,39.90    2.909500e-03\n",
       "113.24,23.12    2.908000e-03\n",
       "114.11,22.54    2.842000e-03\n",
       "116.41,39.91    2.808000e-03\n",
       "113.33,23.14    2.792500e-03\n",
       "116.37,39.91    2.623000e-03\n",
       "116.40,39.91    2.578000e-03\n",
       "113.34,23.17    2.484000e-03\n",
       "114.08,22.55    2.378500e-03\n",
       "121.48,31.23    2.373000e-03\n",
       "121.43,31.20    2.269500e-03\n",
       "                    ...     \n",
       "120.92,31.06    5.000000e-07\n",
       "116.66,40.27    5.000000e-07\n",
       "121.07,31.25    5.000000e-07\n",
       "115.89,39.66    5.000000e-07\n",
       "113.10,23.49    5.000000e-07\n",
       "116.69,39.66    5.000000e-07\n",
       "116.41,40.23    5.000000e-07\n",
       "121.81,31.07    5.000000e-07\n",
       "116.79,40.31    5.000000e-07\n",
       "115.93,39.64    5.000000e-07\n",
       "113.80,23.41    5.000000e-07\n",
       "117.16,40.17    5.000000e-07\n",
       "113.67,23.67    5.000000e-07\n",
       "116.25,40.27    5.000000e-07\n",
       "116.98,40.18    5.000000e-07\n",
       "121.60,31.52    5.000000e-07\n",
       "113.53,22.91    5.000000e-07\n",
       "113.73,23.69    5.000000e-07\n",
       "121.62,30.98    5.000000e-07\n",
       "116.39,39.46    5.000000e-07\n",
       "113.96,22.65    5.000000e-07\n",
       "116.23,40.39    5.000000e-07\n",
       "113.44,23.21    5.000000e-07\n",
       "113.44,23.47    5.000000e-07\n",
       "113.57,22.72    5.000000e-07\n",
       "113.20,23.46    5.000000e-07\n",
       "114.07,22.75    5.000000e-07\n",
       "121.11,31.10    5.000000e-07\n",
       "113.84,23.77    5.000000e-07\n",
       "113.73,23.58    5.000000e-07\n",
       "Name: o, Length: 14807, dtype: float64"
      ]
     },
     "execution_count": 42,
     "metadata": {},
     "output_type": "execute_result"
    }
   ],
   "source": [
    "train_queries['o'].value_counts(normalize = True)"
   ]
  },
  {
   "cell_type": "code",
   "execution_count": 47,
   "metadata": {},
   "outputs": [
    {
     "data": {
      "text/plain": [
       "Text(0,0.5,'Percentage of apperance')"
      ]
     },
     "execution_count": 47,
     "metadata": {},
     "output_type": "execute_result"
    },
    {
     "data": {
      "image/png": "[encoded data removed]",
      "text/plain": [
       "<matplotlib.figure.Figure at 0x7f284eb2bd68>"
      ]
     },
     "metadata": {},
     "output_type": "display_data"
    }
   ],
   "source": [
    "plt.figure(figsize=[16,8]) \n",
    "plt.subplot(1, 2, 1)\n",
    "train_queries['o'].value_counts().sort_index().plot()\n",
    "plt.xlabel('o')\n",
    "plt.ylabel('Number of apperance')\n",
    "plt.subplot(1, 2, 2)\n",
    "train_queries['o'].value_counts(normalize = True).sort_index().plot()  \n",
    "plt.xlabel('o')\n",
    "plt.ylabel('Percentage of apperance')"
   ]
  },
  {
   "cell_type": "markdown",
   "metadata": {},
   "source": [
    "### d field\n",
    "1. we have 13445 different o values;\n",
    "2. The most frequent d is 121.32,31.20, there is no d that can occupy more than 1% except 121.32,31.20.\n",
    "3. In different provinces, they all have hot and cold places.\n"
   ]
  },
  {
   "cell_type": "code",
   "execution_count": 57,
   "metadata": {},
   "outputs": [
    {
     "data": {
      "text/plain": [
       "13445"
      ]
     },
     "execution_count": 57,
     "metadata": {},
     "output_type": "execute_result"
    }
   ],
   "source": [
    "train_queries['d'].fillna(-1,inplace = True)  \n",
    "train_queries['d'].nunique()"
   ]
  },
  {
   "cell_type": "code",
   "execution_count": 58,
   "metadata": {
    "scrolled": true
   },
   "outputs": [
    {
     "data": {
      "text/plain": [
       "121.32,31.20    23088\n",
       "116.32,39.89    16503\n",
       "113.26,22.99    14951\n",
       "121.45,31.25    14384\n",
       "116.37,39.86    13124\n",
       "114.02,22.61    12832\n",
       "113.32,23.13    12141\n",
       "113.25,23.15    11748\n",
       "113.32,23.15    11571\n",
       "113.24,23.12    11334\n",
       "116.42,39.90    11256\n",
       "121.49,31.24    11174\n",
       "113.32,23.12    10667\n",
       "121.48,31.24     9937\n",
       "113.26,23.12     9693\n",
       "121.50,31.24     9263\n",
       "121.80,31.15     8892\n",
       "121.49,31.23     8876\n",
       "113.32,23.11     8378\n",
       "113.32,23.14     8152\n",
       "114.11,22.53     8123\n",
       "116.39,39.90     7575\n",
       "116.39,39.91     7571\n",
       "114.05,22.54     7526\n",
       "113.30,23.39     7353\n",
       "121.47,31.23     7186\n",
       "114.11,22.55     7017\n",
       "113.33,23.14     6667\n",
       "116.41,39.91     6348\n",
       "121.46,31.21     6225\n",
       "                ...  \n",
       "113.73,22.66        1\n",
       "115.96,39.66        1\n",
       "116.91,40.27        1\n",
       "116.88,40.10        1\n",
       "116.78,39.80        1\n",
       "116.48,39.65        1\n",
       "116.78,40.15        1\n",
       "116.53,40.16        1\n",
       "116.34,40.22        1\n",
       "115.98,40.50        1\n",
       "121.17,30.94        1\n",
       "113.85,23.21        1\n",
       "116.58,39.63        1\n",
       "113.39,23.33        1\n",
       "113.57,23.44        1\n",
       "116.41,39.57        1\n",
       "113.39,22.77        1\n",
       "121.14,31.00        1\n",
       "121.30,31.84        1\n",
       "113.56,23.55        1\n",
       "113.38,22.86        1\n",
       "117.17,40.15        1\n",
       "113.37,23.46        1\n",
       "113.54,22.68        1\n",
       "116.17,39.61        1\n",
       "121.82,31.54        1\n",
       "116.17,39.65        1\n",
       "121.64,31.33        1\n",
       "113.51,23.37        1\n",
       "116.36,40.48        1\n",
       "Name: d, Length: 13445, dtype: int64"
      ]
     },
     "execution_count": 58,
     "metadata": {},
     "output_type": "execute_result"
    }
   ],
   "source": [
    "train_queries['d'].value_counts()"
   ]
  },
  {
   "cell_type": "code",
   "execution_count": 59,
   "metadata": {
    "scrolled": true
   },
   "outputs": [
    {
     "data": {
      "text/plain": [
       "121.32,31.20    1.154400e-02\n",
       "116.32,39.89    8.251500e-03\n",
       "113.26,22.99    7.475500e-03\n",
       "121.45,31.25    7.192000e-03\n",
       "116.37,39.86    6.562000e-03\n",
       "114.02,22.61    6.416000e-03\n",
       "113.32,23.13    6.070500e-03\n",
       "113.25,23.15    5.874000e-03\n",
       "113.32,23.15    5.785500e-03\n",
       "113.24,23.12    5.667000e-03\n",
       "116.42,39.90    5.628000e-03\n",
       "121.49,31.24    5.587000e-03\n",
       "113.32,23.12    5.333500e-03\n",
       "121.48,31.24    4.968500e-03\n",
       "113.26,23.12    4.846500e-03\n",
       "121.50,31.24    4.631500e-03\n",
       "121.80,31.15    4.446000e-03\n",
       "121.49,31.23    4.438000e-03\n",
       "113.32,23.11    4.189000e-03\n",
       "113.32,23.14    4.076000e-03\n",
       "114.11,22.53    4.061500e-03\n",
       "116.39,39.90    3.787500e-03\n",
       "116.39,39.91    3.785500e-03\n",
       "114.05,22.54    3.763000e-03\n",
       "113.30,23.39    3.676500e-03\n",
       "121.47,31.23    3.593000e-03\n",
       "114.11,22.55    3.508500e-03\n",
       "113.33,23.14    3.333500e-03\n",
       "116.41,39.91    3.174000e-03\n",
       "121.46,31.21    3.112500e-03\n",
       "                    ...     \n",
       "113.73,22.66    5.000000e-07\n",
       "115.96,39.66    5.000000e-07\n",
       "116.91,40.27    5.000000e-07\n",
       "116.88,40.10    5.000000e-07\n",
       "116.78,39.80    5.000000e-07\n",
       "116.48,39.65    5.000000e-07\n",
       "116.78,40.15    5.000000e-07\n",
       "116.53,40.16    5.000000e-07\n",
       "116.34,40.22    5.000000e-07\n",
       "115.98,40.50    5.000000e-07\n",
       "121.17,30.94    5.000000e-07\n",
       "113.85,23.21    5.000000e-07\n",
       "116.58,39.63    5.000000e-07\n",
       "113.39,23.33    5.000000e-07\n",
       "113.57,23.44    5.000000e-07\n",
       "116.41,39.57    5.000000e-07\n",
       "113.39,22.77    5.000000e-07\n",
       "121.14,31.00    5.000000e-07\n",
       "121.30,31.84    5.000000e-07\n",
       "113.56,23.55    5.000000e-07\n",
       "113.38,22.86    5.000000e-07\n",
       "117.17,40.15    5.000000e-07\n",
       "113.37,23.46    5.000000e-07\n",
       "113.54,22.68    5.000000e-07\n",
       "116.17,39.61    5.000000e-07\n",
       "121.82,31.54    5.000000e-07\n",
       "116.17,39.65    5.000000e-07\n",
       "121.64,31.33    5.000000e-07\n",
       "113.51,23.37    5.000000e-07\n",
       "116.36,40.48    5.000000e-07\n",
       "Name: d, Length: 13445, dtype: float64"
      ]
     },
     "execution_count": 59,
     "metadata": {},
     "output_type": "execute_result"
    }
   ],
   "source": [
    "train_queries['d'].value_counts(normalize = True)"
   ]
  },
  {
   "cell_type": "code",
   "execution_count": 60,
   "metadata": {},
   "outputs": [
    {
     "data": {
      "text/plain": [
       "Text(0,0.5,'Percentage of apperance')"
      ]
     },
     "execution_count": 60,
     "metadata": {},
     "output_type": "execute_result"
    },
    {
     "data": {
      "image/png": "[encoded data removed]",
      "text/plain": [
       "<matplotlib.figure.Figure at 0x7f284e20d630>"
      ]
     },
     "metadata": {},
     "output_type": "display_data"
    }
   ],
   "source": [
    "plt.figure(figsize=[16,8]) \n",
    "plt.subplot(1, 2, 1)\n",
    "train_queries['d'].value_counts().sort_index().plot()\n",
    "plt.xlabel('d')\n",
    "plt.ylabel('Number of apperance')\n",
    "plt.subplot(1, 2, 2)\n",
    "train_queries['d'].value_counts(normalize = True).sort_index().plot()  \n",
    "plt.xlabel('d')\n",
    "plt.ylabel('Percentage of apperance')"
   ]
  },
  {
   "cell_type": "code",
   "execution_count": null,
   "metadata": {},
   "outputs": [],
   "source": []
  },
  {
   "cell_type": "markdown",
   "metadata": {},
   "source": [
    "### req_time filed\n",
    "1. The request number varies day by day, there are two days 2018-10-09 and 2018-11-05 have less than 7000 request times and other days have at least 20000+ request;\n",
    "2. There are more requests between 2018-10-01 to 2018-10-07, especially at day 2018-10-01 and 2018-10-03 because of National Day.\n",
    "3. The distribution of each weekday is different, it looks like the friday, saturday and sunday have more requests."
   ]
  },
  {
   "cell_type": "code",
   "execution_count": 61,
   "metadata": {},
   "outputs": [],
   "source": [
    "train_queries['req_time']      = pd.to_datetime(train_queries['req_time'])\n",
    "train_queries['req_time_date'] = train_queries['req_time'].dt.date\n",
    "train_queries['req_time_dow'] = train_queries['req_time'].dt.weekday"
   ]
  },
  {
   "cell_type": "markdown",
   "metadata": {},
   "source": [
    "- The request number varies day by day, there are two days 2018-10-09 and 2018-11-05 have less than 6000 request times and other days have at least 20000+ request;\n",
    "- There are more requests between 2018-10-01 to 2018-10-07, especially at day 2018-10-01 and 2018-10-03 because of National Day."
   ]
  },
  {
   "cell_type": "code",
   "execution_count": 62,
   "metadata": {
    "scrolled": true
   },
   "outputs": [
    {
     "data": {
      "text/plain": [
       "2018-10-09     6596\n",
       "2018-11-05     6897\n",
       "2018-10-15    21165\n",
       "2018-11-30    25381\n",
       "2018-10-08    27068\n",
       "2018-11-12    27108\n",
       "2018-11-28    27870\n",
       "2018-11-13    27887\n",
       "2018-10-10    28102\n",
       "2018-11-14    28217\n",
       "2018-11-27    28232\n",
       "2018-11-08    28789\n",
       "2018-11-06    28861\n",
       "2018-11-15    28901\n",
       "2018-11-29    28927\n",
       "2018-11-19    28992\n",
       "2018-11-26    29047\n",
       "2018-11-07    29299\n",
       "2018-10-22    29808\n",
       "2018-10-23    29890\n",
       "2018-10-11    29976\n",
       "2018-10-30    30258\n",
       "2018-10-18    30346\n",
       "2018-10-29    30398\n",
       "2018-11-20    30407\n",
       "2018-10-24    30535\n",
       "2018-10-16    30553\n",
       "2018-11-21    30763\n",
       "2018-10-25    30828\n",
       "2018-11-01    30947\n",
       "2018-10-17    30964\n",
       "2018-10-31    30992\n",
       "2018-11-22    32000\n",
       "2018-10-04    32302\n",
       "2018-11-11    33548\n",
       "2018-11-02    34665\n",
       "2018-11-16    34875\n",
       "2018-10-12    35089\n",
       "2018-10-14    35569\n",
       "2018-11-09    35586\n",
       "2018-11-04    35843\n",
       "2018-11-18    36209\n",
       "2018-10-19    36467\n",
       "2018-11-25    36765\n",
       "2018-10-26    37046\n",
       "2018-10-07    37048\n",
       "2018-11-23    37570\n",
       "2018-10-21    38039\n",
       "2018-10-28    38332\n",
       "2018-11-10    39808\n",
       "2018-11-03    40233\n",
       "2018-10-13    40797\n",
       "2018-11-17    41182\n",
       "2018-10-20    42639\n",
       "2018-10-06    42676\n",
       "2018-11-24    43651\n",
       "2018-10-27    45208\n",
       "2018-10-05    47236\n",
       "2018-10-03    62222\n",
       "2018-10-01    63391\n",
       "Name: req_time_date, dtype: int64"
      ]
     },
     "execution_count": 62,
     "metadata": {},
     "output_type": "execute_result"
    }
   ],
   "source": [
    "train_queries['req_time_date'].value_counts().sort_values()"
   ]
  },
  {
   "cell_type": "code",
   "execution_count": 63,
   "metadata": {},
   "outputs": [
    {
     "data": {
      "text/plain": [
       "Text(0,0.5,'Number of appeareance')"
      ]
     },
     "execution_count": 63,
     "metadata": {},
     "output_type": "execute_result"
    },
    {
     "data": {
      "image/png": "[encoded data removed]",
      "text/plain": [
       "<matplotlib.figure.Figure at 0x7f284e0187f0>"
      ]
     },
     "metadata": {},
     "output_type": "display_data"
    }
   ],
   "source": [
    "plt.figure(figsize=[16,8]) \n",
    "train_queries['req_time_date'].value_counts().sort_index().plot(kind = 'bar')\n",
    "plt.xlabel('req_time')\n",
    "plt.ylabel('Number of appeareance') "
   ]
  },
  {
   "cell_type": "code",
   "execution_count": 64,
   "metadata": {},
   "outputs": [
    {
     "data": {
      "text/plain": [
       "<matplotlib.axes._subplots.AxesSubplot at 0x7f28559414e0>"
      ]
     },
     "execution_count": 64,
     "metadata": {},
     "output_type": "execute_result"
    },
    {
     "data": {
      "image/png": "[encoded data removed]",
      "text/plain": [
       "<matplotlib.figure.Figure at 0x7f28505dca58>"
      ]
     },
     "metadata": {},
     "output_type": "display_data"
    }
   ],
   "source": [
    "plt.figure(figsize=[16,8]) \n",
    "plt.subplot(1, 2, 1)\n",
    "train_queries['req_time_dow'].value_counts().sort_index().plot(kind = 'bar')\n",
    "plt.xlabel('Day of Week')\n",
    "plt.ylabel('Number of appeareance')\n",
    "plt.subplot(1, 2, 2)\n",
    "train_queries['req_time_dow'].value_counts().sort_index().plot(kind = 'pie') "
   ]
  },
  {
   "cell_type": "markdown",
   "metadata": {},
   "source": [
    "- The distribution of each weekday is different, it looks like the friday, saturday and sunday have more requests."
   ]
  },
  {
   "cell_type": "code",
   "execution_count": 67,
   "metadata": {},
   "outputs": [
    {
     "data": {
      "text/plain": [
       "<matplotlib.axes._subplots.AxesSubplot at 0x7f284e7c0e48>"
      ]
     },
     "execution_count": 67,
     "metadata": {},
     "output_type": "execute_result"
    },
    {
     "data": {
      "image/png": "[encoded data removed]",
      "text/plain": [
       "<matplotlib.figure.Figure at 0x7f2851081c50>"
      ]
     },
     "metadata": {},
     "output_type": "display_data"
    }
   ],
   "source": [
    "tmp = train_queries.loc[((train_queries['req_time'] >= pd.datetime(2018,10,7)) & (train_queries['req_time'] != pd.datetime(2018,10,9)) & (train_queries['req_time'] != pd.datetime(2018,11,5)))].groupby('req_time_date')['req_time'].agg({'req_time_count':'count'}).reset_index()\n",
    "tmp['req_time_dow'] = pd.to_datetime(tmp['req_time_date']).dt.weekday\n",
    "\n",
    "plt.figure(figsize=[16,8]) \n",
    "plt.subplot(121)\n",
    "tmp.groupby('req_time_dow')['req_time_count'].mean().sort_index().plot(kind = 'bar')\n",
    "# plt.plot(x='index', y=tmp1['plan_time_dow'],data=, rot=0, kind='bar')\n",
    "plt.xlabel('Day of Week')\n",
    "plt.ylabel('Number of appeareance')\n",
    "plt.subplot(122)\n",
    "tmp.groupby('req_time_dow')['req_time_count'].mean().sort_index().plot(kind = 'pie')"
   ]
  },
  {
   "cell_type": "markdown",
   "metadata": {},
   "source": [
    "## train_clicks data set\n",
    "### sid filed\n",
    "1. Sid is unique"
   ]
  },
  {
   "cell_type": "code",
   "execution_count": 70,
   "metadata": {},
   "outputs": [
    {
     "data": {
      "text/html": [
       "<div>\n",
       "<style>\n",
       "    .dataframe thead tr:only-child th {\n",
       "        text-align: right;\n",
       "    }\n",
       "\n",
       "    .dataframe thead th {\n",
       "        text-align: left;\n",
       "    }\n",
       "\n",
       "    .dataframe tbody tr th {\n",
       "        vertical-align: top;\n",
       "    }\n",
       "</style>\n",
       "<table border=\"1\" class=\"dataframe\">\n",
       "  <thead>\n",
       "    <tr style=\"text-align: right;\">\n",
       "      <th></th>\n",
       "      <th>sid</th>\n",
       "      <th>click_time</th>\n",
       "      <th>click_mode</th>\n",
       "    </tr>\n",
       "  </thead>\n",
       "  <tbody>\n",
       "    <tr>\n",
       "      <th>0</th>\n",
       "      <td>175043</td>\n",
       "      <td>2018-10-14 10:35:07</td>\n",
       "      <td>7</td>\n",
       "    </tr>\n",
       "    <tr>\n",
       "      <th>1</th>\n",
       "      <td>414568</td>\n",
       "      <td>2018-10-20 04:18:48</td>\n",
       "      <td>2</td>\n",
       "    </tr>\n",
       "    <tr>\n",
       "      <th>2</th>\n",
       "      <td>314669</td>\n",
       "      <td>2018-10-26 16:53:04</td>\n",
       "      <td>2</td>\n",
       "    </tr>\n",
       "    <tr>\n",
       "      <th>3</th>\n",
       "      <td>117837</td>\n",
       "      <td>2018-10-03 18:48:02</td>\n",
       "      <td>7</td>\n",
       "    </tr>\n",
       "    <tr>\n",
       "      <th>4</th>\n",
       "      <td>474691</td>\n",
       "      <td>2018-11-01 15:59:01</td>\n",
       "      <td>2</td>\n",
       "    </tr>\n",
       "  </tbody>\n",
       "</table>\n",
       "</div>"
      ],
      "text/plain": [
       "      sid           click_time  click_mode\n",
       "0  175043  2018-10-14 10:35:07           7\n",
       "1  414568  2018-10-20 04:18:48           2\n",
       "2  314669  2018-10-26 16:53:04           2\n",
       "3  117837  2018-10-03 18:48:02           7\n",
       "4  474691  2018-11-01 15:59:01           2"
      ]
     },
     "execution_count": 70,
     "metadata": {},
     "output_type": "execute_result"
    }
   ],
   "source": [
    "train_clicks.head()"
   ]
  },
  {
   "cell_type": "code",
   "execution_count": 72,
   "metadata": {
    "scrolled": true
   },
   "outputs": [
    {
     "data": {
      "text/plain": [
       "2047      1\n",
       "41662     1\n",
       "62132     1\n",
       "64181     1\n",
       "58038     1\n",
       "60087     1\n",
       "37560     1\n",
       "39609     1\n",
       "33466     1\n",
       "35515     1\n",
       "45756     1\n",
       "47805     1\n",
       "43711     1\n",
       "49842     1\n",
       "217792    1\n",
       "219841    1\n",
       "213698    1\n",
       "215747    1\n",
       "225988    1\n",
       "228037    1\n",
       "221894    1\n",
       "223943    1\n",
       "201416    1\n",
       "203465    1\n",
       "51891     1\n",
       "55985     1\n",
       "283168    1\n",
       "17058     1\n",
       "103064    1\n",
       "105113    1\n",
       "         ..\n",
       "173313    1\n",
       "179458    1\n",
       "177411    1\n",
       "167172    1\n",
       "914667    1\n",
       "910569    1\n",
       "912616    1\n",
       "890087    1\n",
       "842958    1\n",
       "840911    1\n",
       "797904    1\n",
       "802002    1\n",
       "799955    1\n",
       "789716    1\n",
       "793814    1\n",
       "791767    1\n",
       "814296    1\n",
       "812249    1\n",
       "818394    1\n",
       "816347    1\n",
       "806108    1\n",
       "804061    1\n",
       "810206    1\n",
       "894177    1\n",
       "900322    1\n",
       "898275    1\n",
       "888036    1\n",
       "885989    1\n",
       "892134    1\n",
       "0         1\n",
       "Name: sid, Length: 1675183, dtype: int64"
      ]
     },
     "execution_count": 72,
     "metadata": {},
     "output_type": "execute_result"
    }
   ],
   "source": [
    "train_clicks['sid'].value_counts()"
   ]
  },
  {
   "cell_type": "markdown",
   "metadata": {},
   "source": [
    "### click_mode\n",
    "- The click_mode 2 is the most frequent, which occupies 27.83%, followed by 1,7,9.\n",
    "- the click_mode 8 and 11 are the least frequent."
   ]
  },
  {
   "cell_type": "code",
   "execution_count": 73,
   "metadata": {},
   "outputs": [
    {
     "data": {
      "text/plain": [
       "2     0.278284\n",
       "7     0.171121\n",
       "1     0.163761\n",
       "9     0.122579\n",
       "5     0.111828\n",
       "3     0.049663\n",
       "10    0.030849\n",
       "4     0.024825\n",
       "6     0.023975\n",
       "11    0.019001\n",
       "8     0.004115\n",
       "Name: click_mode, dtype: float64"
      ]
     },
     "execution_count": 73,
     "metadata": {},
     "output_type": "execute_result"
    }
   ],
   "source": [
    "train_clicks['click_mode'].value_counts(normalize = True)"
   ]
  },
  {
   "cell_type": "code",
   "execution_count": 71,
   "metadata": {
    "scrolled": false
   },
   "outputs": [
    {
     "data": {
      "text/plain": [
       "<matplotlib.axes._subplots.AxesSubplot at 0x7f284ea299e8>"
      ]
     },
     "execution_count": 71,
     "metadata": {},
     "output_type": "execute_result"
    },
    {
     "data": {
      "image/png": "[encoded data removed]",
      "text/plain": [
       "<matplotlib.figure.Figure at 0x7f284e9f39b0>"
      ]
     },
     "metadata": {},
     "output_type": "display_data"
    }
   ],
   "source": [
    "plt.figure(figsize=[16,8]) \n",
    "plt.subplot(1, 2, 1)\n",
    "train_clicks['click_mode'].value_counts().sort_index().plot(kind = 'bar')\n",
    "plt.xlabel('click_mode')\n",
    "plt.ylabel('Number of appereance')\n",
    "plt.subplot(1, 2, 2)\n",
    "train_clicks['click_mode'].value_counts().sort_index().plot(kind = 'pie') "
   ]
  },
  {
   "cell_type": "code",
   "execution_count": 40,
   "metadata": {},
   "outputs": [
    {
     "data": {
      "text/plain": [
       "54"
      ]
     },
     "execution_count": 40,
     "metadata": {},
     "output_type": "execute_result"
    }
   ],
   "source": [
    "stores['click_mode'].nunique()"
   ]
  },
  {
   "cell_type": "markdown",
   "metadata": {},
   "source": [
    "\n",
    "## profiles data set\n",
    "### pid filed\n",
    "1. pid is unique"
   ]
  },
  {
   "cell_type": "code",
   "execution_count": 74,
   "metadata": {},
   "outputs": [
    {
     "data": {
      "text/html": [
       "<div>\n",
       "<style>\n",
       "    .dataframe thead tr:only-child th {\n",
       "        text-align: right;\n",
       "    }\n",
       "\n",
       "    .dataframe thead th {\n",
       "        text-align: left;\n",
       "    }\n",
       "\n",
       "    .dataframe tbody tr th {\n",
       "        vertical-align: top;\n",
       "    }\n",
       "</style>\n",
       "<table border=\"1\" class=\"dataframe\">\n",
       "  <thead>\n",
       "    <tr style=\"text-align: right;\">\n",
       "      <th></th>\n",
       "      <th>pid</th>\n",
       "      <th>p0</th>\n",
       "      <th>p1</th>\n",
       "      <th>p2</th>\n",
       "      <th>p3</th>\n",
       "      <th>p4</th>\n",
       "      <th>p5</th>\n",
       "      <th>p6</th>\n",
       "      <th>p7</th>\n",
       "      <th>p8</th>\n",
       "      <th>...</th>\n",
       "      <th>p56</th>\n",
       "      <th>p57</th>\n",
       "      <th>p58</th>\n",
       "      <th>p59</th>\n",
       "      <th>p60</th>\n",
       "      <th>p61</th>\n",
       "      <th>p62</th>\n",
       "      <th>p63</th>\n",
       "      <th>p64</th>\n",
       "      <th>p65</th>\n",
       "    </tr>\n",
       "  </thead>\n",
       "  <tbody>\n",
       "    <tr>\n",
       "      <th>0</th>\n",
       "      <td>20555</td>\n",
       "      <td>1.0</td>\n",
       "      <td>0.0</td>\n",
       "      <td>0.0</td>\n",
       "      <td>0.0</td>\n",
       "      <td>0.0</td>\n",
       "      <td>0.0</td>\n",
       "      <td>0.0</td>\n",
       "      <td>0.0</td>\n",
       "      <td>1.0</td>\n",
       "      <td>...</td>\n",
       "      <td>0.0</td>\n",
       "      <td>0.0</td>\n",
       "      <td>0.0</td>\n",
       "      <td>0.0</td>\n",
       "      <td>1.0</td>\n",
       "      <td>0.0</td>\n",
       "      <td>0.0</td>\n",
       "      <td>0.0</td>\n",
       "      <td>0.0</td>\n",
       "      <td>0.0</td>\n",
       "    </tr>\n",
       "    <tr>\n",
       "      <th>1</th>\n",
       "      <td>42213</td>\n",
       "      <td>1.0</td>\n",
       "      <td>0.0</td>\n",
       "      <td>0.0</td>\n",
       "      <td>0.0</td>\n",
       "      <td>0.0</td>\n",
       "      <td>0.0</td>\n",
       "      <td>0.0</td>\n",
       "      <td>1.0</td>\n",
       "      <td>0.0</td>\n",
       "      <td>...</td>\n",
       "      <td>0.0</td>\n",
       "      <td>0.0</td>\n",
       "      <td>0.0</td>\n",
       "      <td>0.0</td>\n",
       "      <td>0.0</td>\n",
       "      <td>0.0</td>\n",
       "      <td>0.0</td>\n",
       "      <td>1.0</td>\n",
       "      <td>0.0</td>\n",
       "      <td>0.0</td>\n",
       "    </tr>\n",
       "    <tr>\n",
       "      <th>2</th>\n",
       "      <td>29526</td>\n",
       "      <td>0.0</td>\n",
       "      <td>0.0</td>\n",
       "      <td>1.0</td>\n",
       "      <td>0.0</td>\n",
       "      <td>0.0</td>\n",
       "      <td>0.0</td>\n",
       "      <td>0.0</td>\n",
       "      <td>1.0</td>\n",
       "      <td>0.0</td>\n",
       "      <td>...</td>\n",
       "      <td>0.0</td>\n",
       "      <td>0.0</td>\n",
       "      <td>0.0</td>\n",
       "      <td>0.0</td>\n",
       "      <td>1.0</td>\n",
       "      <td>0.0</td>\n",
       "      <td>0.0</td>\n",
       "      <td>0.0</td>\n",
       "      <td>0.0</td>\n",
       "      <td>0.0</td>\n",
       "    </tr>\n",
       "    <tr>\n",
       "      <th>3</th>\n",
       "      <td>117756</td>\n",
       "      <td>0.0</td>\n",
       "      <td>0.0</td>\n",
       "      <td>0.0</td>\n",
       "      <td>0.0</td>\n",
       "      <td>1.0</td>\n",
       "      <td>0.0</td>\n",
       "      <td>0.0</td>\n",
       "      <td>0.0</td>\n",
       "      <td>1.0</td>\n",
       "      <td>...</td>\n",
       "      <td>0.0</td>\n",
       "      <td>1.0</td>\n",
       "      <td>0.0</td>\n",
       "      <td>0.0</td>\n",
       "      <td>0.0</td>\n",
       "      <td>0.0</td>\n",
       "      <td>1.0</td>\n",
       "      <td>0.0</td>\n",
       "      <td>0.0</td>\n",
       "      <td>0.0</td>\n",
       "    </tr>\n",
       "    <tr>\n",
       "      <th>4</th>\n",
       "      <td>185606</td>\n",
       "      <td>0.0</td>\n",
       "      <td>0.0</td>\n",
       "      <td>0.0</td>\n",
       "      <td>1.0</td>\n",
       "      <td>0.0</td>\n",
       "      <td>0.0</td>\n",
       "      <td>0.0</td>\n",
       "      <td>0.0</td>\n",
       "      <td>1.0</td>\n",
       "      <td>...</td>\n",
       "      <td>0.0</td>\n",
       "      <td>0.0</td>\n",
       "      <td>0.0</td>\n",
       "      <td>1.0</td>\n",
       "      <td>0.0</td>\n",
       "      <td>1.0</td>\n",
       "      <td>0.0</td>\n",
       "      <td>0.0</td>\n",
       "      <td>0.0</td>\n",
       "      <td>0.0</td>\n",
       "    </tr>\n",
       "  </tbody>\n",
       "</table>\n",
       "<p>5 rows × 67 columns</p>\n",
       "</div>"
      ],
      "text/plain": [
       "      pid   p0   p1   p2   p3   p4   p5   p6   p7   p8 ...   p56  p57  p58  \\\n",
       "0   20555  1.0  0.0  0.0  0.0  0.0  0.0  0.0  0.0  1.0 ...   0.0  0.0  0.0   \n",
       "1   42213  1.0  0.0  0.0  0.0  0.0  0.0  0.0  1.0  0.0 ...   0.0  0.0  0.0   \n",
       "2   29526  0.0  0.0  1.0  0.0  0.0  0.0  0.0  1.0  0.0 ...   0.0  0.0  0.0   \n",
       "3  117756  0.0  0.0  0.0  0.0  1.0  0.0  0.0  0.0  1.0 ...   0.0  1.0  0.0   \n",
       "4  185606  0.0  0.0  0.0  1.0  0.0  0.0  0.0  0.0  1.0 ...   0.0  0.0  0.0   \n",
       "\n",
       "   p59  p60  p61  p62  p63  p64  p65  \n",
       "0  0.0  1.0  0.0  0.0  0.0  0.0  0.0  \n",
       "1  0.0  0.0  0.0  0.0  1.0  0.0  0.0  \n",
       "2  0.0  1.0  0.0  0.0  0.0  0.0  0.0  \n",
       "3  0.0  0.0  0.0  1.0  0.0  0.0  0.0  \n",
       "4  1.0  0.0  1.0  0.0  0.0  0.0  0.0  \n",
       "\n",
       "[5 rows x 67 columns]"
      ]
     },
     "execution_count": 74,
     "metadata": {},
     "output_type": "execute_result"
    }
   ],
   "source": [
    "profiles.head()"
   ]
  },
  {
   "cell_type": "code",
   "execution_count": 75,
   "metadata": {
    "scrolled": true
   },
   "outputs": [
    {
     "data": {
      "text/plain": [
       "2047      1\n",
       "109727    1\n",
       "91270     1\n",
       "70792     1\n",
       "72841     1\n",
       "68747     1\n",
       "81037     1\n",
       "76943     1\n",
       "122001    1\n",
       "117907    1\n",
       "105625    1\n",
       "99482     1\n",
       "101531    1\n",
       "111772    1\n",
       "21664     1\n",
       "9390      1\n",
       "23713     1\n",
       "17570     1\n",
       "19619     1\n",
       "29860     1\n",
       "31909     1\n",
       "25766     1\n",
       "27815     1\n",
       "5288      1\n",
       "7337      1\n",
       "1194      1\n",
       "3243      1\n",
       "13484     1\n",
       "83074     1\n",
       "179325    1\n",
       "         ..\n",
       "139665    1\n",
       "184719    1\n",
       "26968     1\n",
       "180621    1\n",
       "24921     1\n",
       "31066     1\n",
       "29019     1\n",
       "18780     1\n",
       "16733     1\n",
       "22878     1\n",
       "20831     1\n",
       "106849    1\n",
       "112994    1\n",
       "110947    1\n",
       "98661     1\n",
       "104806    1\n",
       "123241    1\n",
       "129386    1\n",
       "121198    1\n",
       "119151    1\n",
       "76144     1\n",
       "78195     1\n",
       "65909     1\n",
       "92536     1\n",
       "84348     1\n",
       "82301     1\n",
       "86399     1\n",
       "174464    1\n",
       "192907    1\n",
       "0         1\n",
       "Name: pid, Length: 119856, dtype: int64"
      ]
     },
     "execution_count": 75,
     "metadata": {},
     "output_type": "execute_result"
    }
   ],
   "source": [
    "profiles['pid'].value_counts()"
   ]
  },
  {
   "cell_type": "markdown",
   "metadata": {},
   "source": [
    "### p0-p65 filed\n",
    "1. p0-p65 have different distributions;\n",
    "2. 1 in p12,p1,p11,p25 is less than 0.1%, nevertheless, p30,p8 and p9 are more than 50%;"
   ]
  },
  {
   "cell_type": "code",
   "execution_count": 84,
   "metadata": {
    "scrolled": true
   },
   "outputs": [
    {
     "data": {
      "text/plain": [
       "p12    0.000058\n",
       "p1     0.000309\n",
       "p11    0.000734\n",
       "p25    0.000876\n",
       "p23    0.001418\n",
       "p13    0.001660\n",
       "p24    0.002386\n",
       "p6     0.006091\n",
       "p20    0.011147\n",
       "p41    0.014559\n",
       "p14    0.014851\n",
       "p58    0.015961\n",
       "p52    0.017755\n",
       "p65    0.020775\n",
       "p44    0.023303\n",
       "p5     0.025030\n",
       "p22    0.025981\n",
       "p48    0.028392\n",
       "p19    0.030687\n",
       "p53    0.031046\n",
       "p15    0.031780\n",
       "p59    0.032965\n",
       "p43    0.033674\n",
       "p51    0.034174\n",
       "p55    0.036969\n",
       "p45    0.039322\n",
       "p50    0.040832\n",
       "p64    0.041058\n",
       "p16    0.042276\n",
       "p18    0.046823\n",
       "         ...   \n",
       "p39    0.065595\n",
       "p38    0.065946\n",
       "p57    0.067932\n",
       "p54    0.073146\n",
       "p21    0.086562\n",
       "p47    0.086729\n",
       "p61    0.114346\n",
       "p4     0.115388\n",
       "p10    0.147001\n",
       "p33    0.182194\n",
       "p63    0.196794\n",
       "p26    0.200908\n",
       "p36    0.222684\n",
       "p0     0.229592\n",
       "p62    0.233822\n",
       "p27    0.238920\n",
       "p28    0.240922\n",
       "p29    0.244427\n",
       "p3     0.255924\n",
       "p31    0.295021\n",
       "p60    0.317264\n",
       "p35    0.355418\n",
       "p2     0.366498\n",
       "p32    0.379130\n",
       "p37    0.411828\n",
       "p34    0.429365\n",
       "p7     0.435656\n",
       "p9     0.514376\n",
       "p8     0.563209\n",
       "p30    0.694625\n",
       "Length: 66, dtype: float64"
      ]
     },
     "execution_count": 84,
     "metadata": {},
     "output_type": "execute_result"
    }
   ],
   "source": [
    "profiles[cols].mean(axis=0).sort_values()"
   ]
  },
  {
   "cell_type": "code",
   "execution_count": 77,
   "metadata": {
    "scrolled": true
   },
   "outputs": [],
   "source": [
    "cols = ['p{}'.format(i) for i in range(66)] \n",
    "df_p = profiles[cols].sum(axis=0)"
   ]
  },
  {
   "cell_type": "code",
   "execution_count": 81,
   "metadata": {},
   "outputs": [
    {
     "data": {
      "text/plain": [
       "Text(0,0.5,'Number of appereance')"
      ]
     },
     "execution_count": 81,
     "metadata": {},
     "output_type": "execute_result"
    },
    {
     "data": {
      "image/png": "[encoded data removed]",
      "text/plain": [
       "<matplotlib.figure.Figure at 0x7f284e0c18d0>"
      ]
     },
     "metadata": {},
     "output_type": "display_data"
    }
   ],
   "source": [
    "plt.figure(figsize=[16,8])  \n",
    "df_p.sort_index().plot(kind = 'bar')\n",
    "plt.xlabel('p0 - p65')\n",
    "plt.ylabel('Number of appereance') "
   ]
  },
  {
   "cell_type": "markdown",
   "metadata": {},
   "source": [
    "# Conclusion\n",
    "\n",
    "In this part, we do analysis with each variable in each data set. By analyzing the distribution of each variable and its frequency we find that the click mode is biased, the 2,1,7 have more click rate while 8 and 11 only have less click rate. National Day has more records, except for National Day's recoreds, we find that Friday, Saturday and Sunday have more request, which is in line with our understanding. The properties is also unbiased etc."
   ]
  }
 ],
 "metadata": {
  "kernelspec": {
   "display_name": "Python 3",
   "language": "python",
   "name": "python3"
  },
  "language_info": {
   "codemirror_mode": {
    "name": "ipython",
    "version": 3
   },
   "file_extension": ".py",
   "mimetype": "text/x-python",
   "name": "python",
   "nbconvert_exporter": "python",
   "pygments_lexer": "ipython3",
   "version": "3.6.4"
  },
  "toc": {
   "nav_menu": {},
   "number_sections": true,
   "sideBar": true,
   "skip_h1_title": false,
   "title_cell": "Table of Contents",
   "title_sidebar": "Contents",
   "toc_cell": true,
   "toc_position": {
    "height": "calc(100% - 180px)",
    "left": "10px",
    "top": "150px",
    "width": "384px"
   },
   "toc_section_display": true,
   "toc_window_display": true
  }
 },
 "nbformat": 4,
 "nbformat_minor": 2
}
