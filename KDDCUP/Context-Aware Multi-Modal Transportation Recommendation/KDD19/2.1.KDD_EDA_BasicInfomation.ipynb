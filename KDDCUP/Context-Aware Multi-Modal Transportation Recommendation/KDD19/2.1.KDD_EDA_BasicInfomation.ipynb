{
 "cells": [
  {
   "cell_type": "markdown",
   "metadata": {
    "toc": true
   },
   "source": [
    "<h1>Table of Contents<span class=\"tocSkip\"></span></h1>\n",
    "<div class=\"toc\"><ul class=\"toc-item\"><li><span><a href=\"#Import-Libraries-&amp;-Load-Data\" data-toc-modified-id=\"Import-Libraries-&amp;-Load-Data-1\"><span class=\"toc-item-num\">1&nbsp;&nbsp;</span>Import Libraries &amp; Load Data</a></span><ul class=\"toc-item\"><li><span><a href=\"#Import-Libraries\" data-toc-modified-id=\"Import-Libraries-1.1\"><span class=\"toc-item-num\">1.1&nbsp;&nbsp;</span>Import Libraries</a></span></li><li><span><a href=\"#Load-Data\" data-toc-modified-id=\"Load-Data-1.2\"><span class=\"toc-item-num\">1.2&nbsp;&nbsp;</span>Load Data</a></span></li></ul></li><li><span><a href=\"#Basic-data-set-information-analysis\" data-toc-modified-id=\"Basic-data-set-information-analysis-2\"><span class=\"toc-item-num\">2&nbsp;&nbsp;</span>Basic data set information analysis</a></span><ul class=\"toc-item\"><li><span><a href=\"#train_plans-data-set\" data-toc-modified-id=\"train_plans-data-set-2.1\"><span class=\"toc-item-num\">2.1&nbsp;&nbsp;</span>train_plans data set</a></span><ul class=\"toc-item\"><li><span><a href=\"#Basic-information\" data-toc-modified-id=\"Basic-information-2.1.1\"><span class=\"toc-item-num\">2.1.1&nbsp;&nbsp;</span>Basic information</a></span></li><li><span><a href=\"#Missing-data-analysis\" data-toc-modified-id=\"Missing-data-analysis-2.1.2\"><span class=\"toc-item-num\">2.1.2&nbsp;&nbsp;</span>Missing data analysis</a></span></li><li><span><a href=\"#Nunique-of-each-feature\" data-toc-modified-id=\"Nunique-of-each-feature-2.1.3\"><span class=\"toc-item-num\">2.1.3&nbsp;&nbsp;</span>Nunique of each feature</a></span></li></ul></li><li><span><a href=\"#train_queries-data-set\" data-toc-modified-id=\"train_queries-data-set-2.2\"><span class=\"toc-item-num\">2.2&nbsp;&nbsp;</span>train_queries data set</a></span><ul class=\"toc-item\"><li><span><a href=\"#Basic-information\" data-toc-modified-id=\"Basic-information-2.2.1\"><span class=\"toc-item-num\">2.2.1&nbsp;&nbsp;</span>Basic information</a></span></li><li><span><a href=\"#Missing-data-analysis\" data-toc-modified-id=\"Missing-data-analysis-2.2.2\"><span class=\"toc-item-num\">2.2.2&nbsp;&nbsp;</span>Missing data analysis</a></span></li><li><span><a href=\"#Nunique-of-each-feature\" data-toc-modified-id=\"Nunique-of-each-feature-2.2.3\"><span class=\"toc-item-num\">2.2.3&nbsp;&nbsp;</span>Nunique of each feature</a></span></li></ul></li><li><span><a href=\"#train_clicks-data-set\" data-toc-modified-id=\"train_clicks-data-set-2.3\"><span class=\"toc-item-num\">2.3&nbsp;&nbsp;</span>train_clicks data set</a></span><ul class=\"toc-item\"><li><span><a href=\"#Basic-information\" data-toc-modified-id=\"Basic-information-2.3.1\"><span class=\"toc-item-num\">2.3.1&nbsp;&nbsp;</span>Basic information</a></span></li><li><span><a href=\"#Missing-data-analysis\" data-toc-modified-id=\"Missing-data-analysis-2.3.2\"><span class=\"toc-item-num\">2.3.2&nbsp;&nbsp;</span>Missing data analysis</a></span></li><li><span><a href=\"#Nunique-of-each-feature\" data-toc-modified-id=\"Nunique-of-each-feature-2.3.3\"><span class=\"toc-item-num\">2.3.3&nbsp;&nbsp;</span>Nunique of each feature</a></span></li></ul></li><li><span><a href=\"#profiles-data-set\" data-toc-modified-id=\"profiles-data-set-2.4\"><span class=\"toc-item-num\">2.4&nbsp;&nbsp;</span>profiles data set</a></span><ul class=\"toc-item\"><li><span><a href=\"#Basic-information\" data-toc-modified-id=\"Basic-information-2.4.1\"><span class=\"toc-item-num\">2.4.1&nbsp;&nbsp;</span>Basic information</a></span></li><li><span><a href=\"#Missing-data-analysis\" data-toc-modified-id=\"Missing-data-analysis-2.4.2\"><span class=\"toc-item-num\">2.4.2&nbsp;&nbsp;</span>Missing data analysis</a></span></li><li><span><a href=\"#Nunique-of-each-feature\" data-toc-modified-id=\"Nunique-of-each-feature-2.4.3\"><span class=\"toc-item-num\">2.4.3&nbsp;&nbsp;</span>Nunique of each feature</a></span></li></ul></li></ul></li><li><span><a href=\"#Conclusion\" data-toc-modified-id=\"Conclusion-3\"><span class=\"toc-item-num\">3&nbsp;&nbsp;</span>Conclusion</a></span></li></ul></div>"
   ]
  },
  {
   "cell_type": "markdown",
   "metadata": {},
   "source": [
    "# Import Libraries & Load Data\n",
    "##  Import Libraries"
   ]
  },
  {
   "cell_type": "code",
   "execution_count": 1,
   "metadata": {},
   "outputs": [],
   "source": [
    "import numpy as np\n",
    "import pandas as pd\n",
    "import os \n",
    "from tqdm import tqdm_notebook\n",
    "from sklearn.preprocessing import StandardScaler\n",
    "from sklearn.svm import NuSVR, SVR\n",
    "from sklearn.metrics import mean_absolute_error\n",
    "import lightgbm as lgb\n",
    "import xgboost as xgb\n",
    "import time\n",
    "import datetime \n",
    "from sklearn.preprocessing import LabelEncoder\n",
    "from sklearn.model_selection import StratifiedKFold, KFold, RepeatedKFold\n",
    "from sklearn.metrics import mean_absolute_error\n",
    "from sklearn.linear_model import LinearRegression\n",
    "import gc\n",
    "\n",
    "from scipy.signal import hilbert\n",
    "from scipy.signal import hann\n",
    "from scipy.signal import convolve\n",
    "from scipy import stats\n",
    "from sklearn.kernel_ridge import KernelRidge\n",
    " \n",
    "from collections import Counter \n",
    "from statistics import mode \n",
    "    \n",
    "import seaborn as sns\n",
    "import matplotlib.pyplot as plt\n",
    "%matplotlib inline\n",
    "\n",
    "import warnings\n",
    "warnings.filterwarnings(\"ignore\")\n",
    "\n",
    "from tqdm import tqdm\n",
    "import json \n",
    "from sklearn.metrics import f1_score\n",
    "from sklearn.model_selection import StratifiedKFold\n",
    "from itertools import product\n",
    "import ast \n",
    "tqdm.pandas()"
   ]
  },
  {
   "cell_type": "markdown",
   "metadata": {},
   "source": [
    "## Load Data"
   ]
  },
  {
   "cell_type": "code",
   "execution_count": 2,
   "metadata": {},
   "outputs": [],
   "source": [
    "path = '/data/Data_JieZhang/KDD/Phase2/'\n",
    "\n",
    "train_queries1 = pd.read_csv(path + 'train_queries_phase1.csv', parse_dates=['req_time'])\n",
    "train_plans1   = pd.read_csv(path + 'train_plans_phase1.csv', parse_dates=['plan_time'])\n",
    "train_clicks1  = pd.read_csv(path + 'train_clicks_phase1.csv')\n",
    "\n",
    "train_queries2 = pd.read_csv(path + 'train_queries_phase2.csv', parse_dates=['req_time'])\n",
    "train_plans2   = pd.read_csv(path + 'train_plans_phase2.csv', parse_dates=['plan_time'])\n",
    "train_clicks2  = pd.read_csv(path + 'train_clicks_phase2.csv')\n",
    "\n",
    "profiles      = pd.read_csv(path + 'profiles.csv') \n",
    "\n",
    "test_queries  = pd.read_csv(path + 'test_queries.csv', parse_dates=['req_time'])\n",
    "test_plans    = pd.read_csv(path + 'test_plans.csv', parse_dates=['plan_time'])"
   ]
  },
  {
   "cell_type": "code",
   "execution_count": 3,
   "metadata": {},
   "outputs": [],
   "source": [
    "train_plans   = pd.concat([train_plans1, train_plans2],axis=0,ignore_index=True)\n",
    "train_queries = pd.concat([train_queries1, train_queries2],axis=0,ignore_index=True)\n",
    "train_clicks  = pd.concat([train_clicks1, train_clicks2],axis=0,ignore_index=True)"
   ]
  },
  {
   "cell_type": "markdown",
   "metadata": {},
   "source": [
    "# Basic data set information analysis\n",
    "## train_plans data set\n",
    "### Basic information\n",
    "1. train_plans data set has 44.4M+ data;\n",
    "2. Including 1 datetime64 feature(plan_time), 1 object feature(plans) and 1 int64 feature(sid);\n",
    "3. train_plans data set has 1938572 records；"
   ]
  },
  {
   "cell_type": "code",
   "execution_count": 4,
   "metadata": {},
   "outputs": [
    {
     "data": {
      "text/html": [
       "<div>\n",
       "<style>\n",
       "    .dataframe thead tr:only-child th {\n",
       "        text-align: right;\n",
       "    }\n",
       "\n",
       "    .dataframe thead th {\n",
       "        text-align: left;\n",
       "    }\n",
       "\n",
       "    .dataframe tbody tr th {\n",
       "        vertical-align: top;\n",
       "    }\n",
       "</style>\n",
       "<table border=\"1\" class=\"dataframe\">\n",
       "  <thead>\n",
       "    <tr style=\"text-align: right;\">\n",
       "      <th></th>\n",
       "      <th>sid</th>\n",
       "      <th>plan_time</th>\n",
       "      <th>plans</th>\n",
       "    </tr>\n",
       "  </thead>\n",
       "  <tbody>\n",
       "    <tr>\n",
       "      <th>0</th>\n",
       "      <td>149233</td>\n",
       "      <td>2018-10-01 13:02:01</td>\n",
       "      <td>[{\"distance\": 2100, \"price\": 300, \"eta\": 1064,...</td>\n",
       "    </tr>\n",
       "    <tr>\n",
       "      <th>1</th>\n",
       "      <td>337156</td>\n",
       "      <td>2018-11-23 10:48:25</td>\n",
       "      <td>[{\"distance\": 8887, \"price\": 400, \"eta\": 1631,...</td>\n",
       "    </tr>\n",
       "    <tr>\n",
       "      <th>2</th>\n",
       "      <td>398930</td>\n",
       "      <td>2018-11-08 12:23:06</td>\n",
       "      <td>[{\"distance\": 8471, \"price\": 2300, \"eta\": 1284...</td>\n",
       "    </tr>\n",
       "    <tr>\n",
       "      <th>3</th>\n",
       "      <td>196610</td>\n",
       "      <td>2018-11-27 12:11:59</td>\n",
       "      <td>[{\"distance\": 32405, \"price\": 2500, \"eta\": 477...</td>\n",
       "    </tr>\n",
       "    <tr>\n",
       "      <th>4</th>\n",
       "      <td>302267</td>\n",
       "      <td>2018-10-18 17:22:19</td>\n",
       "      <td>[{\"distance\": 38511, \"price\": 700, \"eta\": 4715...</td>\n",
       "    </tr>\n",
       "  </tbody>\n",
       "</table>\n",
       "</div>"
      ],
      "text/plain": [
       "      sid           plan_time  \\\n",
       "0  149233 2018-10-01 13:02:01   \n",
       "1  337156 2018-11-23 10:48:25   \n",
       "2  398930 2018-11-08 12:23:06   \n",
       "3  196610 2018-11-27 12:11:59   \n",
       "4  302267 2018-10-18 17:22:19   \n",
       "\n",
       "                                               plans  \n",
       "0  [{\"distance\": 2100, \"price\": 300, \"eta\": 1064,...  \n",
       "1  [{\"distance\": 8887, \"price\": 400, \"eta\": 1631,...  \n",
       "2  [{\"distance\": 8471, \"price\": 2300, \"eta\": 1284...  \n",
       "3  [{\"distance\": 32405, \"price\": 2500, \"eta\": 477...  \n",
       "4  [{\"distance\": 38511, \"price\": 700, \"eta\": 4715...  "
      ]
     },
     "execution_count": 4,
     "metadata": {},
     "output_type": "execute_result"
    }
   ],
   "source": [
    "train_plans.head()"
   ]
  },
  {
   "cell_type": "code",
   "execution_count": 5,
   "metadata": {
    "scrolled": true
   },
   "outputs": [
    {
     "name": "stdout",
     "output_type": "stream",
     "text": [
      "<class 'pandas.core.frame.DataFrame'>\n",
      "RangeIndex: 1938572 entries, 0 to 1938571\n",
      "Data columns (total 3 columns):\n",
      "sid          int64\n",
      "plan_time    datetime64[ns]\n",
      "plans        object\n",
      "dtypes: datetime64[ns](1), int64(1), object(1)\n",
      "memory usage: 44.4+ MB\n"
     ]
    }
   ],
   "source": [
    "train_plans.info()"
   ]
  },
  {
   "cell_type": "code",
   "execution_count": 6,
   "metadata": {},
   "outputs": [
    {
     "data": {
      "text/plain": [
       "(1938572, 3)"
      ]
     },
     "execution_count": 6,
     "metadata": {},
     "output_type": "execute_result"
    }
   ],
   "source": [
    "train_plans.shape"
   ]
  },
  {
   "cell_type": "markdown",
   "metadata": {},
   "source": [
    "### Missing data analysis\n",
    "- There is no missing data in train_plans data set."
   ]
  },
  {
   "cell_type": "code",
   "execution_count": 7,
   "metadata": {},
   "outputs": [
    {
     "data": {
      "text/plain": [
       "sid          0\n",
       "plan_time    0\n",
       "plans        0\n",
       "dtype: int64"
      ]
     },
     "execution_count": 7,
     "metadata": {},
     "output_type": "execute_result"
    }
   ],
   "source": [
    "train_plans.isnull().sum()"
   ]
  },
  {
   "cell_type": "markdown",
   "metadata": {},
   "source": [
    "### Nunique of each feature\n",
    "1. sid:1938572 different values\n",
    "2. plan_time: 1483606 different values\n",
    "3. plans:1929875 different values "
   ]
  },
  {
   "cell_type": "code",
   "execution_count": 8,
   "metadata": {},
   "outputs": [
    {
     "data": {
      "text/plain": [
       "sid          1938572\n",
       "plan_time    1483606\n",
       "plans        1929875\n",
       "dtype: int64"
      ]
     },
     "execution_count": 8,
     "metadata": {},
     "output_type": "execute_result"
    }
   ],
   "source": [
    "train_plans.nunique()"
   ]
  },
  {
   "cell_type": "markdown",
   "metadata": {},
   "source": [
    "## train_queries data set\n",
    "### Basic information\n",
    "\n",
    "1. train_queries data set has 76.3+M data;\n",
    "2. train_queries data set has 1 datetime64 feature(req_time), 2 object features(o,d), 1 int64 feature(sid) and 1 float64 feature(pid);\n",
    "3. train_queries data set has 2000000 records；"
   ]
  },
  {
   "cell_type": "code",
   "execution_count": 9,
   "metadata": {},
   "outputs": [
    {
     "data": {
      "text/html": [
       "<div>\n",
       "<style>\n",
       "    .dataframe thead tr:only-child th {\n",
       "        text-align: right;\n",
       "    }\n",
       "\n",
       "    .dataframe thead th {\n",
       "        text-align: left;\n",
       "    }\n",
       "\n",
       "    .dataframe tbody tr th {\n",
       "        vertical-align: top;\n",
       "    }\n",
       "</style>\n",
       "<table border=\"1\" class=\"dataframe\">\n",
       "  <thead>\n",
       "    <tr style=\"text-align: right;\">\n",
       "      <th></th>\n",
       "      <th>sid</th>\n",
       "      <th>pid</th>\n",
       "      <th>req_time</th>\n",
       "      <th>o</th>\n",
       "      <th>d</th>\n",
       "    </tr>\n",
       "  </thead>\n",
       "  <tbody>\n",
       "    <tr>\n",
       "      <th>0</th>\n",
       "      <td>419087</td>\n",
       "      <td>22813.0</td>\n",
       "      <td>2018-10-17 10:17:11</td>\n",
       "      <td>116.34,39.99</td>\n",
       "      <td>116.37,39.86</td>\n",
       "    </tr>\n",
       "    <tr>\n",
       "      <th>1</th>\n",
       "      <td>481938</td>\n",
       "      <td>NaN</td>\n",
       "      <td>2018-10-13 15:50:15</td>\n",
       "      <td>116.43,39.94</td>\n",
       "      <td>116.46,39.95</td>\n",
       "    </tr>\n",
       "    <tr>\n",
       "      <th>2</th>\n",
       "      <td>441201</td>\n",
       "      <td>34393.0</td>\n",
       "      <td>2018-10-13 16:15:21</td>\n",
       "      <td>116.28,40.01</td>\n",
       "      <td>116.39,39.99</td>\n",
       "    </tr>\n",
       "    <tr>\n",
       "      <th>3</th>\n",
       "      <td>347266</td>\n",
       "      <td>NaN</td>\n",
       "      <td>2018-10-22 13:26:04</td>\n",
       "      <td>116.31,39.51</td>\n",
       "      <td>116.32,39.72</td>\n",
       "    </tr>\n",
       "    <tr>\n",
       "      <th>4</th>\n",
       "      <td>206269</td>\n",
       "      <td>NaN</td>\n",
       "      <td>2018-11-08 10:27:23</td>\n",
       "      <td>116.33,39.89</td>\n",
       "      <td>116.59,39.76</td>\n",
       "    </tr>\n",
       "  </tbody>\n",
       "</table>\n",
       "</div>"
      ],
      "text/plain": [
       "      sid      pid            req_time             o             d\n",
       "0  419087  22813.0 2018-10-17 10:17:11  116.34,39.99  116.37,39.86\n",
       "1  481938      NaN 2018-10-13 15:50:15  116.43,39.94  116.46,39.95\n",
       "2  441201  34393.0 2018-10-13 16:15:21  116.28,40.01  116.39,39.99\n",
       "3  347266      NaN 2018-10-22 13:26:04  116.31,39.51  116.32,39.72\n",
       "4  206269      NaN 2018-11-08 10:27:23  116.33,39.89  116.59,39.76"
      ]
     },
     "execution_count": 9,
     "metadata": {},
     "output_type": "execute_result"
    }
   ],
   "source": [
    "train_queries.head()"
   ]
  },
  {
   "cell_type": "code",
   "execution_count": 10,
   "metadata": {},
   "outputs": [
    {
     "name": "stdout",
     "output_type": "stream",
     "text": [
      "<class 'pandas.core.frame.DataFrame'>\n",
      "RangeIndex: 2000000 entries, 0 to 1999999\n",
      "Data columns (total 5 columns):\n",
      "sid         int64\n",
      "pid         float64\n",
      "req_time    datetime64[ns]\n",
      "o           object\n",
      "d           object\n",
      "dtypes: datetime64[ns](1), float64(1), int64(1), object(2)\n",
      "memory usage: 76.3+ MB\n"
     ]
    }
   ],
   "source": [
    "train_queries.info()"
   ]
  },
  {
   "cell_type": "code",
   "execution_count": 11,
   "metadata": {},
   "outputs": [
    {
     "data": {
      "text/plain": [
       "(2000000, 5)"
      ]
     },
     "execution_count": 11,
     "metadata": {},
     "output_type": "execute_result"
    }
   ],
   "source": [
    "train_queries.shape"
   ]
  },
  {
   "cell_type": "markdown",
   "metadata": {},
   "source": [
    "### Missing data analysis\n",
    "- pid has 676803 missing values, occupies 33.84%."
   ]
  },
  {
   "cell_type": "code",
   "execution_count": 13,
   "metadata": {},
   "outputs": [
    {
     "data": {
      "text/plain": [
       "sid              0\n",
       "pid         676803\n",
       "req_time         0\n",
       "o                0\n",
       "d                0\n",
       "dtype: int64"
      ]
     },
     "execution_count": 13,
     "metadata": {},
     "output_type": "execute_result"
    }
   ],
   "source": [
    "train_queries.isnull().sum()"
   ]
  },
  {
   "cell_type": "code",
   "execution_count": 14,
   "metadata": {},
   "outputs": [
    {
     "data": {
      "text/plain": [
       "0.3384015"
      ]
     },
     "execution_count": 14,
     "metadata": {},
     "output_type": "execute_result"
    }
   ],
   "source": [
    "train_queries['pid'].isnull().sum() / train_queries.shape[0]"
   ]
  },
  {
   "cell_type": "markdown",
   "metadata": {},
   "source": [
    "### Nunique of each feature\n",
    "1. sid:2000000 different values\n",
    "2. pid: 97371 different values\n",
    "3. req_time:1524599 different values \n",
    "4. o:14807 different values \n",
    "5. d:13445 different values "
   ]
  },
  {
   "cell_type": "code",
   "execution_count": 15,
   "metadata": {},
   "outputs": [
    {
     "data": {
      "text/plain": [
       "sid         2000000\n",
       "pid           97371\n",
       "req_time    1524599\n",
       "o             14807\n",
       "d             13445\n",
       "dtype: int64"
      ]
     },
     "execution_count": 15,
     "metadata": {},
     "output_type": "execute_result"
    }
   ],
   "source": [
    "train_queries.nunique()"
   ]
  },
  {
   "cell_type": "markdown",
   "metadata": {},
   "source": [
    "## train_clicks data set\n",
    "### Basic information\n",
    "\n",
    "1. train_clicks data set has 38.3+M data;\n",
    "2. train_clicks data set has  1 object features(click_time) and 1 int64 feature(sid,click_mode);\n",
    "3. train_clicks data set has 1675183 records；"
   ]
  },
  {
   "cell_type": "code",
   "execution_count": 16,
   "metadata": {},
   "outputs": [
    {
     "data": {
      "text/html": [
       "<div>\n",
       "<style>\n",
       "    .dataframe thead tr:only-child th {\n",
       "        text-align: right;\n",
       "    }\n",
       "\n",
       "    .dataframe thead th {\n",
       "        text-align: left;\n",
       "    }\n",
       "\n",
       "    .dataframe tbody tr th {\n",
       "        vertical-align: top;\n",
       "    }\n",
       "</style>\n",
       "<table border=\"1\" class=\"dataframe\">\n",
       "  <thead>\n",
       "    <tr style=\"text-align: right;\">\n",
       "      <th></th>\n",
       "      <th>sid</th>\n",
       "      <th>click_time</th>\n",
       "      <th>click_mode</th>\n",
       "    </tr>\n",
       "  </thead>\n",
       "  <tbody>\n",
       "    <tr>\n",
       "      <th>0</th>\n",
       "      <td>175043</td>\n",
       "      <td>2018-10-14 10:35:07</td>\n",
       "      <td>7</td>\n",
       "    </tr>\n",
       "    <tr>\n",
       "      <th>1</th>\n",
       "      <td>414568</td>\n",
       "      <td>2018-10-20 04:18:48</td>\n",
       "      <td>2</td>\n",
       "    </tr>\n",
       "    <tr>\n",
       "      <th>2</th>\n",
       "      <td>314669</td>\n",
       "      <td>2018-10-26 16:53:04</td>\n",
       "      <td>2</td>\n",
       "    </tr>\n",
       "    <tr>\n",
       "      <th>3</th>\n",
       "      <td>117837</td>\n",
       "      <td>2018-10-03 18:48:02</td>\n",
       "      <td>7</td>\n",
       "    </tr>\n",
       "    <tr>\n",
       "      <th>4</th>\n",
       "      <td>474691</td>\n",
       "      <td>2018-11-01 15:59:01</td>\n",
       "      <td>2</td>\n",
       "    </tr>\n",
       "  </tbody>\n",
       "</table>\n",
       "</div>"
      ],
      "text/plain": [
       "      sid           click_time  click_mode\n",
       "0  175043  2018-10-14 10:35:07           7\n",
       "1  414568  2018-10-20 04:18:48           2\n",
       "2  314669  2018-10-26 16:53:04           2\n",
       "3  117837  2018-10-03 18:48:02           7\n",
       "4  474691  2018-11-01 15:59:01           2"
      ]
     },
     "execution_count": 16,
     "metadata": {},
     "output_type": "execute_result"
    }
   ],
   "source": [
    "train_clicks.head()"
   ]
  },
  {
   "cell_type": "code",
   "execution_count": 17,
   "metadata": {},
   "outputs": [
    {
     "name": "stdout",
     "output_type": "stream",
     "text": [
      "<class 'pandas.core.frame.DataFrame'>\n",
      "RangeIndex: 1675183 entries, 0 to 1675182\n",
      "Data columns (total 3 columns):\n",
      "sid           1675183 non-null int64\n",
      "click_time    1675183 non-null object\n",
      "click_mode    1675183 non-null int64\n",
      "dtypes: int64(2), object(1)\n",
      "memory usage: 38.3+ MB\n"
     ]
    }
   ],
   "source": [
    "train_clicks.info()"
   ]
  },
  {
   "cell_type": "code",
   "execution_count": 18,
   "metadata": {},
   "outputs": [
    {
     "data": {
      "text/plain": [
       "(1675183, 3)"
      ]
     },
     "execution_count": 18,
     "metadata": {},
     "output_type": "execute_result"
    }
   ],
   "source": [
    "train_clicks.shape"
   ]
  },
  {
   "cell_type": "markdown",
   "metadata": {},
   "source": [
    "### Missing data analysis\n",
    "- There is no missing data in train_plans data set."
   ]
  },
  {
   "cell_type": "code",
   "execution_count": 19,
   "metadata": {},
   "outputs": [
    {
     "data": {
      "text/plain": [
       "sid           0\n",
       "click_time    0\n",
       "click_mode    0\n",
       "dtype: int64"
      ]
     },
     "execution_count": 19,
     "metadata": {},
     "output_type": "execute_result"
    }
   ],
   "source": [
    "train_clicks.isnull().sum()"
   ]
  },
  {
   "cell_type": "markdown",
   "metadata": {},
   "source": [
    "### Nunique of each feature\n",
    "1. sid:1675183 different values\n",
    "2. click_time: 1316204 different values\n",
    "3. click_mode:11 different values  "
   ]
  },
  {
   "cell_type": "code",
   "execution_count": 20,
   "metadata": {},
   "outputs": [
    {
     "data": {
      "text/plain": [
       "sid           1675183\n",
       "click_time    1316204\n",
       "click_mode         11\n",
       "dtype: int64"
      ]
     },
     "execution_count": 20,
     "metadata": {},
     "output_type": "execute_result"
    }
   ],
   "source": [
    "train_clicks.nunique()"
   ]
  },
  {
   "cell_type": "markdown",
   "metadata": {},
   "source": [
    "## profiles data set\n",
    "### Basic information\n",
    "\n",
    "1. profiles data set has 61.3MB data;\n",
    "2. profiles data set has  1 int features(pid) and 66 int64 feature(p0 - p65);\n",
    "3. profiles data set has 119856 records；"
   ]
  },
  {
   "cell_type": "code",
   "execution_count": 21,
   "metadata": {},
   "outputs": [
    {
     "data": {
      "text/html": [
       "<div>\n",
       "<style>\n",
       "    .dataframe thead tr:only-child th {\n",
       "        text-align: right;\n",
       "    }\n",
       "\n",
       "    .dataframe thead th {\n",
       "        text-align: left;\n",
       "    }\n",
       "\n",
       "    .dataframe tbody tr th {\n",
       "        vertical-align: top;\n",
       "    }\n",
       "</style>\n",
       "<table border=\"1\" class=\"dataframe\">\n",
       "  <thead>\n",
       "    <tr style=\"text-align: right;\">\n",
       "      <th></th>\n",
       "      <th>pid</th>\n",
       "      <th>p0</th>\n",
       "      <th>p1</th>\n",
       "      <th>p2</th>\n",
       "      <th>p3</th>\n",
       "      <th>p4</th>\n",
       "      <th>p5</th>\n",
       "      <th>p6</th>\n",
       "      <th>p7</th>\n",
       "      <th>p8</th>\n",
       "      <th>...</th>\n",
       "      <th>p56</th>\n",
       "      <th>p57</th>\n",
       "      <th>p58</th>\n",
       "      <th>p59</th>\n",
       "      <th>p60</th>\n",
       "      <th>p61</th>\n",
       "      <th>p62</th>\n",
       "      <th>p63</th>\n",
       "      <th>p64</th>\n",
       "      <th>p65</th>\n",
       "    </tr>\n",
       "  </thead>\n",
       "  <tbody>\n",
       "    <tr>\n",
       "      <th>0</th>\n",
       "      <td>20555</td>\n",
       "      <td>1.0</td>\n",
       "      <td>0.0</td>\n",
       "      <td>0.0</td>\n",
       "      <td>0.0</td>\n",
       "      <td>0.0</td>\n",
       "      <td>0.0</td>\n",
       "      <td>0.0</td>\n",
       "      <td>0.0</td>\n",
       "      <td>1.0</td>\n",
       "      <td>...</td>\n",
       "      <td>0.0</td>\n",
       "      <td>0.0</td>\n",
       "      <td>0.0</td>\n",
       "      <td>0.0</td>\n",
       "      <td>1.0</td>\n",
       "      <td>0.0</td>\n",
       "      <td>0.0</td>\n",
       "      <td>0.0</td>\n",
       "      <td>0.0</td>\n",
       "      <td>0.0</td>\n",
       "    </tr>\n",
       "    <tr>\n",
       "      <th>1</th>\n",
       "      <td>42213</td>\n",
       "      <td>1.0</td>\n",
       "      <td>0.0</td>\n",
       "      <td>0.0</td>\n",
       "      <td>0.0</td>\n",
       "      <td>0.0</td>\n",
       "      <td>0.0</td>\n",
       "      <td>0.0</td>\n",
       "      <td>1.0</td>\n",
       "      <td>0.0</td>\n",
       "      <td>...</td>\n",
       "      <td>0.0</td>\n",
       "      <td>0.0</td>\n",
       "      <td>0.0</td>\n",
       "      <td>0.0</td>\n",
       "      <td>0.0</td>\n",
       "      <td>0.0</td>\n",
       "      <td>0.0</td>\n",
       "      <td>1.0</td>\n",
       "      <td>0.0</td>\n",
       "      <td>0.0</td>\n",
       "    </tr>\n",
       "    <tr>\n",
       "      <th>2</th>\n",
       "      <td>29526</td>\n",
       "      <td>0.0</td>\n",
       "      <td>0.0</td>\n",
       "      <td>1.0</td>\n",
       "      <td>0.0</td>\n",
       "      <td>0.0</td>\n",
       "      <td>0.0</td>\n",
       "      <td>0.0</td>\n",
       "      <td>1.0</td>\n",
       "      <td>0.0</td>\n",
       "      <td>...</td>\n",
       "      <td>0.0</td>\n",
       "      <td>0.0</td>\n",
       "      <td>0.0</td>\n",
       "      <td>0.0</td>\n",
       "      <td>1.0</td>\n",
       "      <td>0.0</td>\n",
       "      <td>0.0</td>\n",
       "      <td>0.0</td>\n",
       "      <td>0.0</td>\n",
       "      <td>0.0</td>\n",
       "    </tr>\n",
       "    <tr>\n",
       "      <th>3</th>\n",
       "      <td>117756</td>\n",
       "      <td>0.0</td>\n",
       "      <td>0.0</td>\n",
       "      <td>0.0</td>\n",
       "      <td>0.0</td>\n",
       "      <td>1.0</td>\n",
       "      <td>0.0</td>\n",
       "      <td>0.0</td>\n",
       "      <td>0.0</td>\n",
       "      <td>1.0</td>\n",
       "      <td>...</td>\n",
       "      <td>0.0</td>\n",
       "      <td>1.0</td>\n",
       "      <td>0.0</td>\n",
       "      <td>0.0</td>\n",
       "      <td>0.0</td>\n",
       "      <td>0.0</td>\n",
       "      <td>1.0</td>\n",
       "      <td>0.0</td>\n",
       "      <td>0.0</td>\n",
       "      <td>0.0</td>\n",
       "    </tr>\n",
       "    <tr>\n",
       "      <th>4</th>\n",
       "      <td>185606</td>\n",
       "      <td>0.0</td>\n",
       "      <td>0.0</td>\n",
       "      <td>0.0</td>\n",
       "      <td>1.0</td>\n",
       "      <td>0.0</td>\n",
       "      <td>0.0</td>\n",
       "      <td>0.0</td>\n",
       "      <td>0.0</td>\n",
       "      <td>1.0</td>\n",
       "      <td>...</td>\n",
       "      <td>0.0</td>\n",
       "      <td>0.0</td>\n",
       "      <td>0.0</td>\n",
       "      <td>1.0</td>\n",
       "      <td>0.0</td>\n",
       "      <td>1.0</td>\n",
       "      <td>0.0</td>\n",
       "      <td>0.0</td>\n",
       "      <td>0.0</td>\n",
       "      <td>0.0</td>\n",
       "    </tr>\n",
       "  </tbody>\n",
       "</table>\n",
       "<p>5 rows × 67 columns</p>\n",
       "</div>"
      ],
      "text/plain": [
       "      pid   p0   p1   p2   p3   p4   p5   p6   p7   p8 ...   p56  p57  p58  \\\n",
       "0   20555  1.0  0.0  0.0  0.0  0.0  0.0  0.0  0.0  1.0 ...   0.0  0.0  0.0   \n",
       "1   42213  1.0  0.0  0.0  0.0  0.0  0.0  0.0  1.0  0.0 ...   0.0  0.0  0.0   \n",
       "2   29526  0.0  0.0  1.0  0.0  0.0  0.0  0.0  1.0  0.0 ...   0.0  0.0  0.0   \n",
       "3  117756  0.0  0.0  0.0  0.0  1.0  0.0  0.0  0.0  1.0 ...   0.0  1.0  0.0   \n",
       "4  185606  0.0  0.0  0.0  1.0  0.0  0.0  0.0  0.0  1.0 ...   0.0  0.0  0.0   \n",
       "\n",
       "   p59  p60  p61  p62  p63  p64  p65  \n",
       "0  0.0  1.0  0.0  0.0  0.0  0.0  0.0  \n",
       "1  0.0  0.0  0.0  0.0  1.0  0.0  0.0  \n",
       "2  0.0  1.0  0.0  0.0  0.0  0.0  0.0  \n",
       "3  0.0  0.0  0.0  1.0  0.0  0.0  0.0  \n",
       "4  1.0  0.0  1.0  0.0  0.0  0.0  0.0  \n",
       "\n",
       "[5 rows x 67 columns]"
      ]
     },
     "execution_count": 21,
     "metadata": {},
     "output_type": "execute_result"
    }
   ],
   "source": [
    "profiles.head()"
   ]
  },
  {
   "cell_type": "code",
   "execution_count": 22,
   "metadata": {
    "scrolled": true
   },
   "outputs": [
    {
     "name": "stdout",
     "output_type": "stream",
     "text": [
      "<class 'pandas.core.frame.DataFrame'>\n",
      "RangeIndex: 119856 entries, 0 to 119855\n",
      "Data columns (total 67 columns):\n",
      "pid    119856 non-null int64\n",
      "p0     119856 non-null float64\n",
      "p1     119856 non-null float64\n",
      "p2     119856 non-null float64\n",
      "p3     119856 non-null float64\n",
      "p4     119856 non-null float64\n",
      "p5     119856 non-null float64\n",
      "p6     119856 non-null float64\n",
      "p7     119856 non-null float64\n",
      "p8     119856 non-null float64\n",
      "p9     119856 non-null float64\n",
      "p10    119856 non-null float64\n",
      "p11    119856 non-null float64\n",
      "p12    119856 non-null float64\n",
      "p13    119856 non-null float64\n",
      "p14    119856 non-null float64\n",
      "p15    119856 non-null float64\n",
      "p16    119856 non-null float64\n",
      "p17    119856 non-null float64\n",
      "p18    119856 non-null float64\n",
      "p19    119856 non-null float64\n",
      "p20    119856 non-null float64\n",
      "p21    119856 non-null float64\n",
      "p22    119856 non-null float64\n",
      "p23    119856 non-null float64\n",
      "p24    119856 non-null float64\n",
      "p25    119856 non-null float64\n",
      "p26    119856 non-null float64\n",
      "p27    119856 non-null float64\n",
      "p28    119856 non-null float64\n",
      "p29    119856 non-null float64\n",
      "p30    119856 non-null float64\n",
      "p31    119856 non-null float64\n",
      "p32    119856 non-null float64\n",
      "p33    119856 non-null float64\n",
      "p34    119856 non-null float64\n",
      "p35    119856 non-null float64\n",
      "p36    119856 non-null float64\n",
      "p37    119856 non-null float64\n",
      "p38    119856 non-null float64\n",
      "p39    119856 non-null float64\n",
      "p40    119856 non-null float64\n",
      "p41    119856 non-null float64\n",
      "p42    119856 non-null float64\n",
      "p43    119856 non-null float64\n",
      "p44    119856 non-null float64\n",
      "p45    119856 non-null float64\n",
      "p46    119856 non-null float64\n",
      "p47    119856 non-null float64\n",
      "p48    119856 non-null float64\n",
      "p49    119856 non-null float64\n",
      "p50    119856 non-null float64\n",
      "p51    119856 non-null float64\n",
      "p52    119856 non-null float64\n",
      "p53    119856 non-null float64\n",
      "p54    119856 non-null float64\n",
      "p55    119856 non-null float64\n",
      "p56    119856 non-null float64\n",
      "p57    119856 non-null float64\n",
      "p58    119856 non-null float64\n",
      "p59    119856 non-null float64\n",
      "p60    119856 non-null float64\n",
      "p61    119856 non-null float64\n",
      "p62    119856 non-null float64\n",
      "p63    119856 non-null float64\n",
      "p64    119856 non-null float64\n",
      "p65    119856 non-null float64\n",
      "dtypes: float64(66), int64(1)\n",
      "memory usage: 61.3 MB\n"
     ]
    }
   ],
   "source": [
    "profiles.info()"
   ]
  },
  {
   "cell_type": "code",
   "execution_count": 23,
   "metadata": {},
   "outputs": [
    {
     "data": {
      "text/plain": [
       "(119856, 67)"
      ]
     },
     "execution_count": 23,
     "metadata": {},
     "output_type": "execute_result"
    }
   ],
   "source": [
    "profiles.shape"
   ]
  },
  {
   "cell_type": "markdown",
   "metadata": {},
   "source": [
    "### Missing data analysis\n",
    "- There is no missing data in profiles data set."
   ]
  },
  {
   "cell_type": "code",
   "execution_count": 24,
   "metadata": {
    "scrolled": true
   },
   "outputs": [
    {
     "data": {
      "text/plain": [
       "pid    0\n",
       "p0     0\n",
       "p1     0\n",
       "p2     0\n",
       "p3     0\n",
       "p4     0\n",
       "p5     0\n",
       "p6     0\n",
       "p7     0\n",
       "p8     0\n",
       "p9     0\n",
       "p10    0\n",
       "p11    0\n",
       "p12    0\n",
       "p13    0\n",
       "p14    0\n",
       "p15    0\n",
       "p16    0\n",
       "p17    0\n",
       "p18    0\n",
       "p19    0\n",
       "p20    0\n",
       "p21    0\n",
       "p22    0\n",
       "p23    0\n",
       "p24    0\n",
       "p25    0\n",
       "p26    0\n",
       "p27    0\n",
       "p28    0\n",
       "      ..\n",
       "p36    0\n",
       "p37    0\n",
       "p38    0\n",
       "p39    0\n",
       "p40    0\n",
       "p41    0\n",
       "p42    0\n",
       "p43    0\n",
       "p44    0\n",
       "p45    0\n",
       "p46    0\n",
       "p47    0\n",
       "p48    0\n",
       "p49    0\n",
       "p50    0\n",
       "p51    0\n",
       "p52    0\n",
       "p53    0\n",
       "p54    0\n",
       "p55    0\n",
       "p56    0\n",
       "p57    0\n",
       "p58    0\n",
       "p59    0\n",
       "p60    0\n",
       "p61    0\n",
       "p62    0\n",
       "p63    0\n",
       "p64    0\n",
       "p65    0\n",
       "Length: 67, dtype: int64"
      ]
     },
     "execution_count": 24,
     "metadata": {},
     "output_type": "execute_result"
    }
   ],
   "source": [
    "profiles.isnull().sum()"
   ]
  },
  {
   "cell_type": "markdown",
   "metadata": {},
   "source": [
    "### Nunique of each feature\n",
    "1. pid:119856 different values\n",
    "2. p0-p65: 2 different values "
   ]
  },
  {
   "cell_type": "code",
   "execution_count": 25,
   "metadata": {
    "scrolled": true
   },
   "outputs": [
    {
     "data": {
      "text/plain": [
       "pid    119856\n",
       "p0          2\n",
       "p1          2\n",
       "p2          2\n",
       "p3          2\n",
       "p4          2\n",
       "p5          2\n",
       "p6          2\n",
       "p7          2\n",
       "p8          2\n",
       "p9          2\n",
       "p10         2\n",
       "p11         2\n",
       "p12         2\n",
       "p13         2\n",
       "p14         2\n",
       "p15         2\n",
       "p16         2\n",
       "p17         2\n",
       "p18         2\n",
       "p19         2\n",
       "p20         2\n",
       "p21         2\n",
       "p22         2\n",
       "p23         2\n",
       "p24         2\n",
       "p25         2\n",
       "p26         2\n",
       "p27         2\n",
       "p28         2\n",
       "        ...  \n",
       "p36         2\n",
       "p37         2\n",
       "p38         2\n",
       "p39         2\n",
       "p40         2\n",
       "p41         2\n",
       "p42         2\n",
       "p43         2\n",
       "p44         2\n",
       "p45         2\n",
       "p46         2\n",
       "p47         2\n",
       "p48         2\n",
       "p49         2\n",
       "p50         2\n",
       "p51         2\n",
       "p52         2\n",
       "p53         2\n",
       "p54         2\n",
       "p55         2\n",
       "p56         2\n",
       "p57         2\n",
       "p58         2\n",
       "p59         2\n",
       "p60         2\n",
       "p61         2\n",
       "p62         2\n",
       "p63         2\n",
       "p64         2\n",
       "p65         2\n",
       "Length: 67, dtype: int64"
      ]
     },
     "execution_count": 25,
     "metadata": {},
     "output_type": "execute_result"
    }
   ],
   "source": [
    "profiles.nunique()"
   ]
  },
  {
   "cell_type": "markdown",
   "metadata": {},
   "source": [
    "# Conclusion\n",
    "- In this notebook, we provide basic data  infomation analysis of four dataset."
   ]
  }
 ],
 "metadata": {
  "kernelspec": {
   "display_name": "Python 3",
   "language": "python",
   "name": "python3"
  },
  "language_info": {
   "codemirror_mode": {
    "name": "ipython",
    "version": 3
   },
   "file_extension": ".py",
   "mimetype": "text/x-python",
   "name": "python",
   "nbconvert_exporter": "python",
   "pygments_lexer": "ipython3",
   "version": "3.6.4"
  },
  "toc": {
   "nav_menu": {},
   "number_sections": true,
   "sideBar": true,
   "skip_h1_title": false,
   "title_cell": "Table of Contents",
   "title_sidebar": "Contents",
   "toc_cell": true,
   "toc_position": {
    "height": "calc(100% - 180px)",
    "left": "10px",
    "top": "150px",
    "width": "384px"
   },
   "toc_section_display": true,
   "toc_window_display": true
  }
 },
 "nbformat": 4,
 "nbformat_minor": 2
}
