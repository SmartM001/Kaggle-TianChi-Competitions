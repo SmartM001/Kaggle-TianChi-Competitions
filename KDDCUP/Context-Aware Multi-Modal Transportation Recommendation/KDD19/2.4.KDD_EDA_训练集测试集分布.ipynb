{
 "cells": [
  {
   "cell_type": "markdown",
   "metadata": {
    "toc": true
   },
   "source": [
    "<h1>Table of Contents<span class=\"tocSkip\"></span></h1>\n",
    "<div class=\"toc\"><ul class=\"toc-item\"><li><span><a href=\"#Import-Libraries-&amp;-Load-Data\" data-toc-modified-id=\"Import-Libraries-&amp;-Load-Data-1\"><span class=\"toc-item-num\">1&nbsp;&nbsp;</span>Import Libraries &amp; Load Data</a></span><ul class=\"toc-item\"><li><span><a href=\"#Import-Libraries\" data-toc-modified-id=\"Import-Libraries-1.1\"><span class=\"toc-item-num\">1.1&nbsp;&nbsp;</span>Import Libraries</a></span></li><li><span><a href=\"#Self-Defined-Tools\" data-toc-modified-id=\"Self-Defined-Tools-1.2\"><span class=\"toc-item-num\">1.2&nbsp;&nbsp;</span>Self-Defined Tools</a></span></li><li><span><a href=\"#Load-Data\" data-toc-modified-id=\"Load-Data-1.3\"><span class=\"toc-item-num\">1.3&nbsp;&nbsp;</span>Load Data</a></span></li><li><span><a href=\"#Data-Merge\" data-toc-modified-id=\"Data-Merge-1.4\"><span class=\"toc-item-num\">1.4&nbsp;&nbsp;</span>Data Merge</a></span></li></ul></li><li><span><a href=\"#Analysis-of-variable-and-label\" data-toc-modified-id=\"Analysis-of-variable-and-label-2\"><span class=\"toc-item-num\">2&nbsp;&nbsp;</span>Analysis of variable and label</a></span><ul class=\"toc-item\"><li><span><a href=\"#train-and-test-distributions\" data-toc-modified-id=\"train-and-test-distributions-2.1\"><span class=\"toc-item-num\">2.1&nbsp;&nbsp;</span>train and test distributions</a></span></li></ul></li><li><span><a href=\"#Conclusion\" data-toc-modified-id=\"Conclusion-3\"><span class=\"toc-item-num\">3&nbsp;&nbsp;</span>Conclusion</a></span></li></ul></div>"
   ]
  },
  {
   "cell_type": "markdown",
   "metadata": {},
   "source": [
    "# Import Libraries & Load Data\n",
    "##  Import Libraries"
   ]
  },
  {
   "cell_type": "code",
   "execution_count": 1,
   "metadata": {},
   "outputs": [
    {
     "data": {
      "text/html": [
       "<script>requirejs.config({paths: { 'plotly': ['https://cdn.plot.ly/plotly-latest.min']},});if(!window.Plotly) {{require(['plotly'],function(plotly) {window.Plotly=plotly;});}}</script>"
      ],
      "text/vnd.plotly.v1+html": [
       "<script>requirejs.config({paths: { 'plotly': ['https://cdn.plot.ly/plotly-latest.min']},});if(!window.Plotly) {{require(['plotly'],function(plotly) {window.Plotly=plotly;});}}</script>"
      ]
     },
     "metadata": {},
     "output_type": "display_data"
    }
   ],
   "source": [
    "import numpy as np\n",
    "import pandas as pd\n",
    "import os \n",
    "from tqdm import tqdm_notebook\n",
    "from sklearn.preprocessing import StandardScaler\n",
    "from sklearn.svm import NuSVR, SVR\n",
    "from sklearn.metrics import mean_absolute_error\n",
    "import lightgbm as lgb\n",
    "import xgboost as xgb\n",
    "import time\n",
    "import datetime \n",
    "from sklearn.preprocessing import LabelEncoder\n",
    "from sklearn.model_selection import StratifiedKFold, KFold, RepeatedKFold\n",
    "from sklearn.metrics import mean_absolute_error\n",
    "from sklearn.linear_model import LinearRegression\n",
    "import gc\n",
    "\n",
    "from scipy.signal import hilbert\n",
    "from scipy.signal import hann\n",
    "from scipy.signal import convolve\n",
    "from scipy import stats\n",
    "from sklearn.kernel_ridge import KernelRidge\n",
    " \n",
    "from collections import Counter \n",
    "from statistics import mode \n",
    "    \n",
    "import seaborn as sns\n",
    "import matplotlib.pyplot as plt\n",
    "%matplotlib inline\n",
    "\n",
    "import warnings\n",
    "warnings.filterwarnings(\"ignore\")\n",
    "\n",
    "from tqdm import tqdm\n",
    "import json \n",
    "from sklearn.metrics import f1_score\n",
    "from sklearn.model_selection import StratifiedKFold\n",
    "from itertools import product\n",
    "import ast \n",
    "tqdm.pandas()\n",
    "\n",
    "import plotly.plotly as py\n",
    "import plotly\n",
    "import plotly.graph_objs as go\n",
    "from plotly.offline import init_notebook_mode, iplot\n",
    "plotly.offline.init_notebook_mode(connected=True)"
   ]
  },
  {
   "cell_type": "markdown",
   "metadata": {},
   "source": [
    "## Self-Defined Tools "
   ]
  },
  {
   "cell_type": "code",
   "execution_count": 2,
   "metadata": {},
   "outputs": [],
   "source": [
    "def value_counts_plot(df, name, xmin = False):\n",
    "    \n",
    "    plt.figure(figsize=[16,8])\n",
    "    plt.subplot(1, 2, 1)\n",
    "    df[name].value_counts().sort_index().plot()\n",
    "    if xmin == True:\n",
    "        plt.xlim(xmin = -100)\n",
    "    plt.xlabel(name)\n",
    "    plt.ylabel('Number of appeareance')\n",
    "    \n",
    "    plt.subplot(1, 2, 2)\n",
    "    df[name].value_counts().value_counts().sort_index().plot()\n",
    "    if xmin == True:\n",
    "        plt.xlim(xmin = -100)\n",
    "    plt.xlabel('Number of appeareance of {}'.format(name))\n",
    "    plt.ylabel('Number of appeareance of appearance')"
   ]
  },
  {
   "cell_type": "markdown",
   "metadata": {},
   "source": [
    "## Load Data"
   ]
  },
  {
   "cell_type": "code",
   "execution_count": 3,
   "metadata": {},
   "outputs": [],
   "source": [
    "path = '/data/Data_JieZhang/KDD/Phase2/'\n",
    "\n",
    "train_queries1 = pd.read_csv(path + 'train_queries_phase1.csv', parse_dates=['req_time'])\n",
    "train_plans1   = pd.read_csv(path + 'train_plans_phase1.csv', parse_dates=['plan_time'])\n",
    "train_clicks1  = pd.read_csv(path + 'train_clicks_phase1.csv')\n",
    "\n",
    "train_queries2 = pd.read_csv(path + 'train_queries_phase2.csv', parse_dates=['req_time'])\n",
    "train_plans2   = pd.read_csv(path + 'train_plans_phase2.csv', parse_dates=['plan_time'])\n",
    "train_clicks2  = pd.read_csv(path + 'train_clicks_phase2.csv')\n",
    "\n",
    "profiles      = pd.read_csv(path + 'profiles.csv') \n",
    "\n",
    "test_queries  = pd.read_csv(path + 'test_queries.csv', parse_dates=['req_time'])\n",
    "test_plans    = pd.read_csv(path + 'test_plans.csv', parse_dates=['plan_time'])"
   ]
  },
  {
   "cell_type": "code",
   "execution_count": 4,
   "metadata": {},
   "outputs": [],
   "source": [
    "train_plans   = pd.concat([train_plans1, train_plans2],axis=0,ignore_index=True)\n",
    "train_queries = pd.concat([train_queries1, train_queries2],axis=0,ignore_index=True)\n",
    "train_clicks  = pd.concat([train_clicks1, train_clicks2],axis=0,ignore_index=True)"
   ]
  },
  {
   "cell_type": "markdown",
   "metadata": {},
   "source": [
    "## Data Merge"
   ]
  },
  {
   "cell_type": "code",
   "execution_count": 5,
   "metadata": {},
   "outputs": [],
   "source": [
    "train = train_queries.merge(train_plans, 'left', ['sid'])\n",
    "test  = test_queries.merge(test_plans, 'left', ['sid']) \n",
    "train = train.merge(train_clicks, 'left', ['sid'])\n",
    "train['click_mode'] = train['click_mode'].fillna(0).astype(int) "
   ]
  },
  {
   "cell_type": "markdown",
   "metadata": {},
   "source": [
    "# Analysis of variable and label"
   ]
  },
  {
   "cell_type": "code",
   "execution_count": 6,
   "metadata": {
    "scrolled": true
   },
   "outputs": [
    {
     "data": {
      "text/html": [
       "<div>\n",
       "<style>\n",
       "    .dataframe thead tr:only-child th {\n",
       "        text-align: right;\n",
       "    }\n",
       "\n",
       "    .dataframe thead th {\n",
       "        text-align: left;\n",
       "    }\n",
       "\n",
       "    .dataframe tbody tr th {\n",
       "        vertical-align: top;\n",
       "    }\n",
       "</style>\n",
       "<table border=\"1\" class=\"dataframe\">\n",
       "  <thead>\n",
       "    <tr style=\"text-align: right;\">\n",
       "      <th></th>\n",
       "      <th>sid</th>\n",
       "      <th>pid</th>\n",
       "      <th>req_time</th>\n",
       "      <th>o</th>\n",
       "      <th>d</th>\n",
       "      <th>plan_time</th>\n",
       "      <th>plans</th>\n",
       "      <th>click_time</th>\n",
       "      <th>click_mode</th>\n",
       "    </tr>\n",
       "  </thead>\n",
       "  <tbody>\n",
       "    <tr>\n",
       "      <th>0</th>\n",
       "      <td>419087</td>\n",
       "      <td>22813.0</td>\n",
       "      <td>2018-10-17 10:17:11</td>\n",
       "      <td>116.34,39.99</td>\n",
       "      <td>116.37,39.86</td>\n",
       "      <td>2018-10-17 10:17:11</td>\n",
       "      <td>[{\"distance\": 17883, \"price\": 700, \"eta\": 3561...</td>\n",
       "      <td>2018-10-17 10:17:27</td>\n",
       "      <td>7</td>\n",
       "    </tr>\n",
       "    <tr>\n",
       "      <th>1</th>\n",
       "      <td>481938</td>\n",
       "      <td>NaN</td>\n",
       "      <td>2018-10-13 15:50:15</td>\n",
       "      <td>116.43,39.94</td>\n",
       "      <td>116.46,39.95</td>\n",
       "      <td>2018-10-13 15:50:15</td>\n",
       "      <td>[{\"distance\": 3358, \"price\": 200, \"eta\": 1742,...</td>\n",
       "      <td>2018-10-13 15:50:21</td>\n",
       "      <td>1</td>\n",
       "    </tr>\n",
       "    <tr>\n",
       "      <th>2</th>\n",
       "      <td>441201</td>\n",
       "      <td>34393.0</td>\n",
       "      <td>2018-10-13 16:15:21</td>\n",
       "      <td>116.28,40.01</td>\n",
       "      <td>116.39,39.99</td>\n",
       "      <td>2018-10-13 16:15:21</td>\n",
       "      <td>[{\"distance\": 14638, \"price\": 700, \"eta\": 3452...</td>\n",
       "      <td>2018-10-13 16:15:40</td>\n",
       "      <td>7</td>\n",
       "    </tr>\n",
       "    <tr>\n",
       "      <th>3</th>\n",
       "      <td>347266</td>\n",
       "      <td>NaN</td>\n",
       "      <td>2018-10-22 13:26:04</td>\n",
       "      <td>116.31,39.51</td>\n",
       "      <td>116.32,39.72</td>\n",
       "      <td>2018-10-22 13:26:04</td>\n",
       "      <td>[{\"distance\": 26407, \"price\": 900, \"eta\": 3992...</td>\n",
       "      <td>2018-10-22 13:26:10</td>\n",
       "      <td>7</td>\n",
       "    </tr>\n",
       "    <tr>\n",
       "      <th>4</th>\n",
       "      <td>206269</td>\n",
       "      <td>NaN</td>\n",
       "      <td>2018-11-08 10:27:23</td>\n",
       "      <td>116.33,39.89</td>\n",
       "      <td>116.59,39.76</td>\n",
       "      <td>2018-11-08 10:27:23</td>\n",
       "      <td>[{\"distance\": 42000, \"price\": 800, \"eta\": 6941...</td>\n",
       "      <td>2018-11-08 10:27:30</td>\n",
       "      <td>7</td>\n",
       "    </tr>\n",
       "  </tbody>\n",
       "</table>\n",
       "</div>"
      ],
      "text/plain": [
       "      sid      pid            req_time             o             d  \\\n",
       "0  419087  22813.0 2018-10-17 10:17:11  116.34,39.99  116.37,39.86   \n",
       "1  481938      NaN 2018-10-13 15:50:15  116.43,39.94  116.46,39.95   \n",
       "2  441201  34393.0 2018-10-13 16:15:21  116.28,40.01  116.39,39.99   \n",
       "3  347266      NaN 2018-10-22 13:26:04  116.31,39.51  116.32,39.72   \n",
       "4  206269      NaN 2018-11-08 10:27:23  116.33,39.89  116.59,39.76   \n",
       "\n",
       "            plan_time                                              plans  \\\n",
       "0 2018-10-17 10:17:11  [{\"distance\": 17883, \"price\": 700, \"eta\": 3561...   \n",
       "1 2018-10-13 15:50:15  [{\"distance\": 3358, \"price\": 200, \"eta\": 1742,...   \n",
       "2 2018-10-13 16:15:21  [{\"distance\": 14638, \"price\": 700, \"eta\": 3452...   \n",
       "3 2018-10-22 13:26:04  [{\"distance\": 26407, \"price\": 900, \"eta\": 3992...   \n",
       "4 2018-11-08 10:27:23  [{\"distance\": 42000, \"price\": 800, \"eta\": 6941...   \n",
       "\n",
       "            click_time  click_mode  \n",
       "0  2018-10-17 10:17:27           7  \n",
       "1  2018-10-13 15:50:21           1  \n",
       "2  2018-10-13 16:15:40           7  \n",
       "3  2018-10-22 13:26:10           7  \n",
       "4  2018-11-08 10:27:30           7  "
      ]
     },
     "execution_count": 6,
     "metadata": {},
     "output_type": "execute_result"
    }
   ],
   "source": [
    "train.head()"
   ]
  },
  {
   "cell_type": "markdown",
   "metadata": {},
   "source": [
    "## train and test distributions\n",
    "1. the train and test samples are different"
   ]
  },
  {
   "cell_type": "code",
   "execution_count": 14,
   "metadata": {},
   "outputs": [],
   "source": [
    "train['dt']   = pd.to_datetime(train['req_time']).dt.date\n",
    "test['dt']    = pd.to_datetime(test['req_time']).dt.date  \n",
    "data = pd.concat([train, test], ignore_index=True)"
   ]
  },
  {
   "cell_type": "code",
   "execution_count": 11,
   "metadata": {},
   "outputs": [
    {
     "data": {
      "text/plain": [
       "Text(0.5,0,'date')"
      ]
     },
     "execution_count": 11,
     "metadata": {},
     "output_type": "execute_result"
    },
    {
     "data": {
      "image/png": "[encoded data removed]",
      "text/plain": [
       "<matplotlib.figure.Figure at 0x7ff1ba58c710>"
      ]
     },
     "metadata": {},
     "output_type": "display_data"
    }
   ],
   "source": [
    "plt.figure(figsize=[16,8])  \n",
    "data['dt'].value_counts().sort_index().plot(kind = 'bar')\n",
    "plt.ylabel('Number of samples')\n",
    "plt.xlabel('date')    "
   ]
  },
  {
   "cell_type": "code",
   "execution_count": 40,
   "metadata": {},
   "outputs": [],
   "source": [
    "from datetime import timedelta \n",
    "rk = pd.DataFrame()\n",
    "times = []\n",
    "rank_mean = []\n",
    "data['pct'] = 0\n",
    "for i in range(5):\n",
    "    st = pd.datetime(2018,12,8)- timedelta(7 * (i+1))\n",
    "    en = pd.datetime(2018,12,8)  - timedelta(7 * i)\n",
    "     \n",
    "    index = (data['req_time'] > st ) & (data['req_time'] <= en) # \n",
    "    \n",
    "    sum_  = np.sum(index)\n",
    "    data.loc[index, 'pct'] = 1 / sum_"
   ]
  },
  {
   "cell_type": "code",
   "execution_count": 38,
   "metadata": {},
   "outputs": [
    {
     "data": {
      "text/plain": [
       "datetime.datetime(2018, 11, 2, 0, 0)"
      ]
     },
     "execution_count": 38,
     "metadata": {},
     "output_type": "execute_result"
    }
   ],
   "source": [
    "st"
   ]
  },
  {
   "cell_type": "code",
   "execution_count": 43,
   "metadata": {
    "scrolled": false
   },
   "outputs": [
    {
     "data": {
      "text/plain": [
       "<matplotlib.lines.Line2D at 0x7ff1b5b15c18>"
      ]
     },
     "execution_count": 43,
     "metadata": {},
     "output_type": "execute_result"
    },
    {
     "data": {
      "image/png": "[encoded data removed]",
      "text/plain": [
       "<matplotlib.figure.Figure at 0x7ff1b6138588>"
      ]
     },
     "metadata": {},
     "output_type": "display_data"
    }
   ],
   "source": [
    "plt.figure(figsize=[16,8])  \n",
    "data.loc[data['req_time'] >= st].groupby('dt')['pct'].sum().plot()\n",
    "data.loc[data['req_time'] >= pd.datetime(2018,11,24)].groupby('dt')['pct'].sum().plot(color='green')\n",
    "data.loc[data['req_time'] >= pd.datetime(2018,12,1)].groupby('dt')['pct'].sum().plot(color='red')\n",
    "plt.axvline(x=pd.datetime(2018,12,1))\n",
    "plt.axvline(x=pd.datetime(2018,11,24))\n",
    "plt.axvline(x=pd.datetime(2018,11,17))\n",
    "plt.axvline(x=pd.datetime(2018,11,10))\n",
    "# plt.xticks()\n",
    "# (x=0.22058956) #plt.axvline(st,hold=None,label=\"1\",color='black',linestyle=\"--\")\n",
    "plt.ylabel('Number of samples')\n",
    "plt.xlabel('date')    \n",
    "plt.axvline(x=0.33088437)\n",
    "plt.axvline(x=2.20589566) "
   ]
  },
  {
   "cell_type": "markdown",
   "metadata": {},
   "source": [
    "# Conclusion\n",
    "This notebook mainly do analysis on the distribution of training and test data."
   ]
  },
  {
   "cell_type": "code",
   "execution_count": null,
   "metadata": {},
   "outputs": [],
   "source": []
  }
 ],
 "metadata": {
  "kernelspec": {
   "display_name": "Python 3",
   "language": "python",
   "name": "python3"
  },
  "language_info": {
   "codemirror_mode": {
    "name": "ipython",
    "version": 3
   },
   "file_extension": ".py",
   "mimetype": "text/x-python",
   "name": "python",
   "nbconvert_exporter": "python",
   "pygments_lexer": "ipython3",
   "version": "3.6.4"
  },
  "toc": {
   "nav_menu": {},
   "number_sections": true,
   "sideBar": true,
   "skip_h1_title": false,
   "title_cell": "Table of Contents",
   "title_sidebar": "Contents",
   "toc_cell": true,
   "toc_position": {
    "height": "calc(100% - 180px)",
    "left": "10px",
    "top": "150px",
    "width": "384px"
   },
   "toc_section_display": true,
   "toc_window_display": true
  }
 },
 "nbformat": 4,
 "nbformat_minor": 2
}
