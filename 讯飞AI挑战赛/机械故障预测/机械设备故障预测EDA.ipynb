{
 "cells": [
  {
   "cell_type": "markdown",
   "metadata": {},
   "source": [
    "## 导入工具包"
   ]
  },
  {
   "cell_type": "code",
   "execution_count": 1,
   "metadata": {},
   "outputs": [],
   "source": [
    "import pandas as pd\n",
    "import seaborn as sns\n",
    "import missingno as msno\n",
    "import matplotlib.pyplot as plt"
   ]
  },
  {
   "cell_type": "markdown",
   "metadata": {},
   "source": [
    "## 读取数据"
   ]
  },
  {
   "cell_type": "code",
   "execution_count": 2,
   "metadata": {},
   "outputs": [
    {
     "name": "stderr",
     "output_type": "stream",
     "text": [
      "E:\\Program Files\\Anaconda\\lib\\site-packages\\IPython\\core\\interactiveshell.py:2728: DtypeWarning: Columns (40) have mixed types. Specify dtype option on import or set low_memory=False.\n",
      "  interactivity=interactivity, compiler=compiler, result=result)\n"
     ]
    }
   ],
   "source": [
    "train = pd.read_csv(\"input\\\\train\\\\dataset.csv\")\n",
    "test = pd.read_csv(\"input\\\\test\\\\testing_set_for_users.csv\")\n",
    "dbd_faultcode = pd.read_csv(\"input\\\\train\\\\dbd_faultcode.csv\", encoding='gbk')"
   ]
  },
  {
   "cell_type": "markdown",
   "metadata": {},
   "source": [
    "## 训练集EDA"
   ]
  },
  {
   "cell_type": "markdown",
   "metadata": {},
   "source": [
    "### 1、数据集分析"
   ]
  },
  {
   "cell_type": "code",
   "execution_count": 3,
   "metadata": {},
   "outputs": [
    {
     "data": {
      "text/html": [
       "<div>\n",
       "<style scoped>\n",
       "    .dataframe tbody tr th:only-of-type {\n",
       "        vertical-align: middle;\n",
       "    }\n",
       "\n",
       "    .dataframe tbody tr th {\n",
       "        vertical-align: top;\n",
       "    }\n",
       "\n",
       "    .dataframe thead th {\n",
       "        text-align: right;\n",
       "    }\n",
       "</style>\n",
       "<table border=\"1\" class=\"dataframe\">\n",
       "  <thead>\n",
       "    <tr style=\"text-align: right;\">\n",
       "      <th></th>\n",
       "      <th>Unnamed: 0</th>\n",
       "      <th>ACCEXCCOUNT</th>\n",
       "      <th>ACCRUNTIMES</th>\n",
       "      <th>ACCSTATE</th>\n",
       "      <th>ACCWORKTIMES</th>\n",
       "      <th>ALARM_0001</th>\n",
       "      <th>ALARM_0002</th>\n",
       "      <th>ALARM_0003</th>\n",
       "      <th>ALARM_0004</th>\n",
       "      <th>ALARM_0005</th>\n",
       "      <th>...</th>\n",
       "      <th>VEHICLENO</th>\n",
       "      <th>VEHICLESTATUS</th>\n",
       "      <th>VERSIONNUM</th>\n",
       "      <th>WATERTEMPERATURE</th>\n",
       "      <th>WIRELESSTEMP1</th>\n",
       "      <th>WIRELESSTEMP2</th>\n",
       "      <th>WIRELESSTEMP3</th>\n",
       "      <th>WIRELESSTEMP4</th>\n",
       "      <th>WORKDETAILID</th>\n",
       "      <th>WORKHOURS</th>\n",
       "    </tr>\n",
       "  </thead>\n",
       "  <tbody>\n",
       "    <tr>\n",
       "      <th>0</th>\n",
       "      <td>535252</td>\n",
       "      <td>NaN</td>\n",
       "      <td>NaN</td>\n",
       "      <td>1.0</td>\n",
       "      <td>1095.83</td>\n",
       "      <td>0.0</td>\n",
       "      <td>0.0</td>\n",
       "      <td>0.0</td>\n",
       "      <td>0.0</td>\n",
       "      <td>0.0</td>\n",
       "      <td>...</td>\n",
       "      <td>XUG02631THJE00230</td>\n",
       "      <td>1.0</td>\n",
       "      <td>NaN</td>\n",
       "      <td>NaN</td>\n",
       "      <td>NaN</td>\n",
       "      <td>NaN</td>\n",
       "      <td>NaN</td>\n",
       "      <td>NaN</td>\n",
       "      <td>7285148.0</td>\n",
       "      <td>NaN</td>\n",
       "    </tr>\n",
       "    <tr>\n",
       "      <th>1</th>\n",
       "      <td>611637</td>\n",
       "      <td>NaN</td>\n",
       "      <td>NaN</td>\n",
       "      <td>1.0</td>\n",
       "      <td>1377.16</td>\n",
       "      <td>0.0</td>\n",
       "      <td>0.0</td>\n",
       "      <td>0.0</td>\n",
       "      <td>0.0</td>\n",
       "      <td>0.0</td>\n",
       "      <td>...</td>\n",
       "      <td>XUG02633TGJE00499</td>\n",
       "      <td>1.0</td>\n",
       "      <td>NaN</td>\n",
       "      <td>NaN</td>\n",
       "      <td>NaN</td>\n",
       "      <td>NaN</td>\n",
       "      <td>NaN</td>\n",
       "      <td>NaN</td>\n",
       "      <td>8396881.0</td>\n",
       "      <td>NaN</td>\n",
       "    </tr>\n",
       "    <tr>\n",
       "      <th>2</th>\n",
       "      <td>176787</td>\n",
       "      <td>NaN</td>\n",
       "      <td>NaN</td>\n",
       "      <td>0.0</td>\n",
       "      <td>261.22</td>\n",
       "      <td>0.0</td>\n",
       "      <td>0.0</td>\n",
       "      <td>0.0</td>\n",
       "      <td>0.0</td>\n",
       "      <td>0.0</td>\n",
       "      <td>...</td>\n",
       "      <td>XUG02233HHJE00797</td>\n",
       "      <td>0.0</td>\n",
       "      <td>NaN</td>\n",
       "      <td>NaN</td>\n",
       "      <td>NaN</td>\n",
       "      <td>NaN</td>\n",
       "      <td>NaN</td>\n",
       "      <td>NaN</td>\n",
       "      <td>2172359.0</td>\n",
       "      <td>NaN</td>\n",
       "    </tr>\n",
       "    <tr>\n",
       "      <th>3</th>\n",
       "      <td>208670</td>\n",
       "      <td>NaN</td>\n",
       "      <td>NaN</td>\n",
       "      <td>1.0</td>\n",
       "      <td>1730.52</td>\n",
       "      <td>0.0</td>\n",
       "      <td>0.0</td>\n",
       "      <td>0.0</td>\n",
       "      <td>0.0</td>\n",
       "      <td>0.0</td>\n",
       "      <td>...</td>\n",
       "      <td>XUG02233VHJE01038</td>\n",
       "      <td>1.0</td>\n",
       "      <td>NaN</td>\n",
       "      <td>NaN</td>\n",
       "      <td>NaN</td>\n",
       "      <td>NaN</td>\n",
       "      <td>NaN</td>\n",
       "      <td>NaN</td>\n",
       "      <td>2576101.0</td>\n",
       "      <td>NaN</td>\n",
       "    </tr>\n",
       "    <tr>\n",
       "      <th>4</th>\n",
       "      <td>450358</td>\n",
       "      <td>NaN</td>\n",
       "      <td>NaN</td>\n",
       "      <td>1.0</td>\n",
       "      <td>0.05</td>\n",
       "      <td>0.0</td>\n",
       "      <td>0.0</td>\n",
       "      <td>0.0</td>\n",
       "      <td>0.0</td>\n",
       "      <td>0.0</td>\n",
       "      <td>...</td>\n",
       "      <td>XUG02233CHJE00883</td>\n",
       "      <td>1.0</td>\n",
       "      <td>NaN</td>\n",
       "      <td>NaN</td>\n",
       "      <td>NaN</td>\n",
       "      <td>NaN</td>\n",
       "      <td>NaN</td>\n",
       "      <td>NaN</td>\n",
       "      <td>5953890.0</td>\n",
       "      <td>NaN</td>\n",
       "    </tr>\n",
       "  </tbody>\n",
       "</table>\n",
       "<p>5 rows × 125 columns</p>\n",
       "</div>"
      ],
      "text/plain": [
       "   Unnamed: 0  ACCEXCCOUNT  ACCRUNTIMES  ACCSTATE  ACCWORKTIMES  ALARM_0001  \\\n",
       "0      535252          NaN          NaN       1.0       1095.83         0.0   \n",
       "1      611637          NaN          NaN       1.0       1377.16         0.0   \n",
       "2      176787          NaN          NaN       0.0        261.22         0.0   \n",
       "3      208670          NaN          NaN       1.0       1730.52         0.0   \n",
       "4      450358          NaN          NaN       1.0          0.05         0.0   \n",
       "\n",
       "   ALARM_0002  ALARM_0003  ALARM_0004  ALARM_0005    ...      \\\n",
       "0         0.0         0.0         0.0         0.0    ...       \n",
       "1         0.0         0.0         0.0         0.0    ...       \n",
       "2         0.0         0.0         0.0         0.0    ...       \n",
       "3         0.0         0.0         0.0         0.0    ...       \n",
       "4         0.0         0.0         0.0         0.0    ...       \n",
       "\n",
       "           VEHICLENO  VEHICLESTATUS  VERSIONNUM  WATERTEMPERATURE  \\\n",
       "0  XUG02631THJE00230            1.0         NaN               NaN   \n",
       "1  XUG02633TGJE00499            1.0         NaN               NaN   \n",
       "2  XUG02233HHJE00797            0.0         NaN               NaN   \n",
       "3  XUG02233VHJE01038            1.0         NaN               NaN   \n",
       "4  XUG02233CHJE00883            1.0         NaN               NaN   \n",
       "\n",
       "   WIRELESSTEMP1  WIRELESSTEMP2  WIRELESSTEMP3  WIRELESSTEMP4  WORKDETAILID  \\\n",
       "0            NaN            NaN            NaN            NaN     7285148.0   \n",
       "1            NaN            NaN            NaN            NaN     8396881.0   \n",
       "2            NaN            NaN            NaN            NaN     2172359.0   \n",
       "3            NaN            NaN            NaN            NaN     2576101.0   \n",
       "4            NaN            NaN            NaN            NaN     5953890.0   \n",
       "\n",
       "   WORKHOURS  \n",
       "0        NaN  \n",
       "1        NaN  \n",
       "2        NaN  \n",
       "3        NaN  \n",
       "4        NaN  \n",
       "\n",
       "[5 rows x 125 columns]"
      ]
     },
     "execution_count": 3,
     "metadata": {},
     "output_type": "execute_result"
    }
   ],
   "source": [
    "train.head()"
   ]
  },
  {
   "cell_type": "code",
   "execution_count": 4,
   "metadata": {},
   "outputs": [
    {
     "name": "stdout",
     "output_type": "stream",
     "text": [
      "<class 'pandas.core.frame.DataFrame'>\n",
      "RangeIndex: 1875088 entries, 0 to 1875087\n",
      "Columns: 125 entries, Unnamed: 0 to WORKHOURS\n",
      "dtypes: float64(118), int64(2), object(5)\n",
      "memory usage: 1.7+ GB\n"
     ]
    }
   ],
   "source": [
    "train.info()"
   ]
  },
  {
   "cell_type": "markdown",
   "metadata": {},
   "source": [
    "- 训练集包含1875088条样本，125列。\n",
    "- 有三种数据类型，分别是：浮点型（118），整型（2），字符串（5）"
   ]
  },
  {
   "cell_type": "markdown",
   "metadata": {},
   "source": [
    "### 2、缺失值分析"
   ]
  },
  {
   "cell_type": "markdown",
   "metadata": {},
   "source": [
    "对数据的缺失情况进行分析，分为严重缺失，较严重缺失，部分缺失和不确实情况\n",
    "- 严重缺失（缺失率达到99%以上）的数据统计意义不大，往往直接删除\n",
    "- 较严重缺失（缺失率达到95%以上），我们先分析不缺失数据，因为此类数据可能隐藏着某些重要信息，我们对其进行与标签的相关性分析，再决定是否将其删除\n",
    "- 部分缺失和不缺失数据往往蕴含着重要信息，我们暂时将其保留"
   ]
  },
  {
   "cell_type": "code",
   "execution_count": 5,
   "metadata": {},
   "outputs": [
    {
     "name": "stdout",
     "output_type": "stream",
     "text": [
      "共有32列数据完全缺失\n"
     ]
    },
    {
     "data": {
      "text/plain": [
       "Index(['ACCEXCCOUNT', 'ENGINELOADSTATE', 'ENVHUMIDITY', 'ENVTEMPERATURE',\n",
       "       'INSIDE_HUMIDITY', 'INSIDE_TEMPERATURE', 'ISANALYSED', 'MILENUMBER',\n",
       "       'MIXSTATE', 'OC', 'OILLOCATION', 'OILPERCENT1', 'OILPRESSURE',\n",
       "       'OILTEMPERATURE', 'OILVALUE1', 'OILVALUE2', 'OPTOILLEVEL',\n",
       "       'POWERDOWNSTATE', 'PULSESIGNS', 'QUSHOILTIMES', 'ROAD', 'ROUNDSPEED',\n",
       "       'TERMINALEL_INSIDE', 'TERMINALEL_OUTSIDE', 'TERMINALSTATUS',\n",
       "       'VERSIONNUM', 'WATERTEMPERATURE', 'WIRELESSTEMP1', 'WIRELESSTEMP2',\n",
       "       'WIRELESSTEMP3', 'WIRELESSTEMP4', 'WORKHOURS'],\n",
       "      dtype='object')"
      ]
     },
     "execution_count": 5,
     "metadata": {},
     "output_type": "execute_result"
    }
   ],
   "source": [
    "all_missing_columns = train.columns[train.isnull().sum()==train.shape[0]]\n",
    "print(\"共有%d列数据完全缺失\" % all_missing_columns.shape[0])\n",
    "all_missing_columns"
   ]
  },
  {
   "cell_type": "markdown",
   "metadata": {},
   "source": [
    "- 在125列数据中，有32列数据完全缺失，这些数据对于模型的训练没有任何增益，所以我们选择将其删除\n",
    "- 训练集中的第一列无任何意义（训练集中没有该列），所以我们选择将其删除"
   ]
  },
  {
   "cell_type": "code",
   "execution_count": 6,
   "metadata": {},
   "outputs": [],
   "source": [
    "train.drop(all_missing_columns, axis=1, inplace=True)\n",
    "train.drop(\"Unnamed: 0\", axis=1, inplace=True)\n",
    "test.drop(all_missing_columns, axis=1, inplace=True)"
   ]
  },
  {
   "cell_type": "code",
   "execution_count": 7,
   "metadata": {},
   "outputs": [
    {
     "data": {
      "text/plain": [
       "ACCRUNTIMES                   1633687\n",
       "ACCSTATE                       241401\n",
       "ACCWORKTIMES                   241401\n",
       "ALARM_0001                     241401\n",
       "ALARM_0002                     241401\n",
       "ALARM_0003                     241401\n",
       "ALARM_0004                     241401\n",
       "ALARM_0005                     241401\n",
       "ALARM_0006                     241401\n",
       "ALARM_0007                     241401\n",
       "ALARM_0008                     241401\n",
       "ALARM_0009                     241401\n",
       "ALARM_0010                     241401\n",
       "ALTITUDE                       241401\n",
       "AREA                             1036\n",
       "CD_VP_UNIQUENO                 241401\n",
       "CITY                             1036\n",
       "CMDTYPE                        241401\n",
       "COLLECTTIME                         0\n",
       "COOLANTLEVEL                   604698\n",
       "COOLANTTEMPERATURE             605322\n",
       "CURRENTFAULTCOUNT1            1553673\n",
       "CURRENTFAULTCOUNT2            1553673\n",
       "CURRENTFAULTCOUNT3            1873600\n",
       "CURRENTFAULTCOUNT4            1873600\n",
       "CURRENTFAULTCOUNT5            1875081\n",
       "CURRENTFAULTCOUNT6            1875081\n",
       "CURRENTSPEEDLOADPERCENTAGE     605647\n",
       "DIRECTION                      241401\n",
       "ELCANDVOL                      241401\n",
       "                               ...   \n",
       "ROTATIONALSPEED                603562\n",
       "SATELLITE                      241405\n",
       "SIMNO                          241401\n",
       "SPEED                          241401\n",
       "SPN                           1633687\n",
       "SPN1                          1553673\n",
       "SPN2                          1553673\n",
       "SPN3                          1873600\n",
       "SPN4                          1873600\n",
       "SPN5                          1875081\n",
       "SPN6                          1875081\n",
       "SPNCONVERSIONMODE1            1660206\n",
       "SPNCONVERSIONMODE2            1873375\n",
       "SPNCONVERSIONMODE3            1873641\n",
       "SPNCONVERSIONMODE4            1875053\n",
       "SPNCONVERSIONMODE5            1875083\n",
       "SPNCONVERSIONMODE6            1875086\n",
       "SPNMSB1                       1553673\n",
       "SPNMSB2                       1553673\n",
       "SPNMSB3                       1873600\n",
       "SPNMSB4                       1873600\n",
       "SPNMSB5                       1875081\n",
       "SPNMSB6                       1875081\n",
       "SYSTEMDATE                     241401\n",
       "TEMPERATURE                   1415749\n",
       "THROTTLECURRENT                605647\n",
       "UNIQUENO                            0\n",
       "VEHICLENO                      241401\n",
       "VEHICLESTATUS                  241401\n",
       "WORKDETAILID                   241401\n",
       "Length: 92, dtype: int64"
      ]
     },
     "execution_count": 7,
     "metadata": {},
     "output_type": "execute_result"
    }
   ],
   "source": [
    "train.isnull().sum()"
   ]
  },
  {
   "cell_type": "code",
   "execution_count": 8,
   "metadata": {},
   "outputs": [
    {
     "data": {
      "text/plain": [
       "<matplotlib.axes._subplots.AxesSubplot at 0x2087a228358>"
      ]
     },
     "execution_count": 8,
     "metadata": {},
     "output_type": "execute_result"
    },
    {
     "data": {
      "image/png": "[encoded data removed]",
      "text/plain": [
       "<matplotlib.figure.Figure at 0x2082bbf5b38>"
      ]
     },
     "metadata": {},
     "output_type": "display_data"
    }
   ],
   "source": [
    "msno.matrix(train[['ACCSTATE','ACCWORKTIMES','ALARM_0001','ALARM_0002','ALARM_0005','ALARM_0006','ALARM_0007','ALARM_0008','ALARM_0009','ALARM_0010','AREA','VEHICLENO','VEHICLESTATUS','WORKDETAILID']])"
   ]
  },
  {
   "cell_type": "markdown",
   "metadata": {},
   "source": [
    "通过可视化分析，发现很多样本是同事缺失了多个数据，而不是随机缺失"
   ]
  },
  {
   "cell_type": "markdown",
   "metadata": {},
   "source": [
    "### 3、单值分析"
   ]
  },
  {
   "cell_type": "markdown",
   "metadata": {},
   "source": [
    "有些特征的数据都是一个值，这种特征对模型无法带来增益，只能给模型带来噪音，所以我们选择将这种数据删除\n",
    "- 共有8列特征仅仅只包含一个元素值，这些特征列的名称为：\n",
    "> 'ALARM_0001', 'ALARM_0006', 'CMDTYPE', 'COOLANTLEVEL', 'LOCK_ALL', 'LOWVOLTAGESTATUS', 'SPNCONVERSIONMODE6', 'SPNMSB5'"
   ]
  },
  {
   "cell_type": "code",
   "execution_count": null,
   "metadata": {},
   "outputs": [],
   "source": [
    "onlyone_val_columns = train.columns[train.nunique(axis=0) == 1]"
   ]
  },
  {
   "cell_type": "code",
   "execution_count": 9,
   "metadata": {},
   "outputs": [],
   "source": [
    "train.drop(['ALARM_0001', 'ALARM_0006', 'CMDTYPE', 'COOLANTLEVEL', 'LOCK_ALL', 'LOWVOLTAGESTATUS', 'SPNCONVERSIONMODE6', 'SPNMSB5'], axis=1, inplace=True)"
   ]
  },
  {
   "cell_type": "code",
   "execution_count": 10,
   "metadata": {},
   "outputs": [],
   "source": [
    "test.drop(['ALARM_0001', 'ALARM_0006', 'CMDTYPE', 'COOLANTLEVEL', 'LOCK_ALL', 'LOWVOLTAGESTATUS', 'SPNCONVERSIONMODE6', 'SPNMSB5'], axis=1, inplace=True)"
   ]
  },
  {
   "cell_type": "markdown",
   "metadata": {},
   "source": [
    "### 4、label转换&分析\n",
    "前面我们删除了部分对模型训练无用的特征，此处我们对剩余特征进行重点相关性分析。首先将类别标签进行拼接。"
   ]
  },
  {
   "cell_type": "code",
   "execution_count": 11,
   "metadata": {},
   "outputs": [
    {
     "data": {
      "text/html": [
       "<div>\n",
       "<style scoped>\n",
       "    .dataframe tbody tr th:only-of-type {\n",
       "        vertical-align: middle;\n",
       "    }\n",
       "\n",
       "    .dataframe tbody tr th {\n",
       "        vertical-align: top;\n",
       "    }\n",
       "\n",
       "    .dataframe thead th {\n",
       "        text-align: right;\n",
       "    }\n",
       "</style>\n",
       "<table border=\"1\" class=\"dataframe\">\n",
       "  <thead>\n",
       "    <tr style=\"text-align: right;\">\n",
       "      <th></th>\n",
       "      <th>CODE</th>\n",
       "      <th>SPN</th>\n",
       "      <th>FMI</th>\n",
       "      <th>DESCRIPTION</th>\n",
       "      <th>ENGINETYPEID</th>\n",
       "      <th>FAULTSOURCE</th>\n",
       "      <th>FAULTNAME</th>\n",
       "    </tr>\n",
       "  </thead>\n",
       "  <tbody>\n",
       "    <tr>\n",
       "      <th>0</th>\n",
       "      <td>1175</td>\n",
       "      <td>1576</td>\n",
       "      <td>5</td>\n",
       "      <td>油泵电磁阀1开路或对地短路</td>\n",
       "      <td>1958</td>\n",
       "      <td>上柴国三</td>\n",
       "      <td>油泵电磁阀1开路或对地短路</td>\n",
       "    </tr>\n",
       "    <tr>\n",
       "      <th>1</th>\n",
       "      <td>1176</td>\n",
       "      <td>9781</td>\n",
       "      <td>12</td>\n",
       "      <td>供油泵过载</td>\n",
       "      <td>1958</td>\n",
       "      <td>上柴国三</td>\n",
       "      <td>供油泵过载</td>\n",
       "    </tr>\n",
       "    <tr>\n",
       "      <th>2</th>\n",
       "      <td>1177</td>\n",
       "      <td>4232</td>\n",
       "      <td>12</td>\n",
       "      <td>供油泵过压</td>\n",
       "      <td>1958</td>\n",
       "      <td>上柴国三</td>\n",
       "      <td>供油泵过压</td>\n",
       "    </tr>\n",
       "    <tr>\n",
       "      <th>3</th>\n",
       "      <td>1178</td>\n",
       "      <td>4710</td>\n",
       "      <td>12</td>\n",
       "      <td>供油泵无负荷</td>\n",
       "      <td>1958</td>\n",
       "      <td>上柴国三</td>\n",
       "      <td>供油泵无负荷</td>\n",
       "    </tr>\n",
       "    <tr>\n",
       "      <th>4</th>\n",
       "      <td>1179</td>\n",
       "      <td>147</td>\n",
       "      <td>12</td>\n",
       "      <td>供油泵由于油泵泄漏失去负荷</td>\n",
       "      <td>1958</td>\n",
       "      <td>上柴国三</td>\n",
       "      <td>供油泵由于油泵泄漏失去负荷</td>\n",
       "    </tr>\n",
       "    <tr>\n",
       "      <th>5</th>\n",
       "      <td>1180</td>\n",
       "      <td>4233</td>\n",
       "      <td>2</td>\n",
       "      <td>共轨压力超过上限</td>\n",
       "      <td>1958</td>\n",
       "      <td>上柴国三</td>\n",
       "      <td>共轨压力超过上限</td>\n",
       "    </tr>\n",
       "    <tr>\n",
       "      <th>6</th>\n",
       "      <td>1181</td>\n",
       "      <td>136</td>\n",
       "      <td>2</td>\n",
       "      <td>共轨压力超过最高限制</td>\n",
       "      <td>1958</td>\n",
       "      <td>上柴国三</td>\n",
       "      <td>共轨压力超过最高限制</td>\n",
       "    </tr>\n",
       "    <tr>\n",
       "      <th>7</th>\n",
       "      <td>1182</td>\n",
       "      <td>4641</td>\n",
       "      <td>2</td>\n",
       "      <td>实际共轨压力低于目标值的控制下限</td>\n",
       "      <td>1958</td>\n",
       "      <td>上柴国三</td>\n",
       "      <td>实际共轨压力低于目标值的控制下限</td>\n",
       "    </tr>\n",
       "    <tr>\n",
       "      <th>8</th>\n",
       "      <td>1183</td>\n",
       "      <td>1543</td>\n",
       "      <td>2</td>\n",
       "      <td>CPU出错</td>\n",
       "      <td>1958</td>\n",
       "      <td>上柴国三</td>\n",
       "      <td>CPU出错</td>\n",
       "    </tr>\n",
       "    <tr>\n",
       "      <th>9</th>\n",
       "      <td>1184</td>\n",
       "      <td>1542</td>\n",
       "      <td>2</td>\n",
       "      <td>主CPU出错</td>\n",
       "      <td>1958</td>\n",
       "      <td>上柴国三</td>\n",
       "      <td>主CPU出错</td>\n",
       "    </tr>\n",
       "  </tbody>\n",
       "</table>\n",
       "</div>"
      ],
      "text/plain": [
       "   CODE   SPN  FMI       DESCRIPTION  ENGINETYPEID FAULTSOURCE  \\\n",
       "0  1175  1576    5     油泵电磁阀1开路或对地短路          1958        上柴国三   \n",
       "1  1176  9781   12             供油泵过载          1958        上柴国三   \n",
       "2  1177  4232   12             供油泵过压          1958        上柴国三   \n",
       "3  1178  4710   12            供油泵无负荷          1958        上柴国三   \n",
       "4  1179   147   12     供油泵由于油泵泄漏失去负荷          1958        上柴国三   \n",
       "5  1180  4233    2          共轨压力超过上限          1958        上柴国三   \n",
       "6  1181   136    2        共轨压力超过最高限制          1958        上柴国三   \n",
       "7  1182  4641    2  实际共轨压力低于目标值的控制下限          1958        上柴国三   \n",
       "8  1183  1543    2             CPU出错          1958        上柴国三   \n",
       "9  1184  1542    2            主CPU出错          1958        上柴国三   \n",
       "\n",
       "          FAULTNAME  \n",
       "0     油泵电磁阀1开路或对地短路  \n",
       "1             供油泵过载  \n",
       "2             供油泵过压  \n",
       "3            供油泵无负荷  \n",
       "4     供油泵由于油泵泄漏失去负荷  \n",
       "5          共轨压力超过上限  \n",
       "6        共轨压力超过最高限制  \n",
       "7  实际共轨压力低于目标值的控制下限  \n",
       "8             CPU出错  \n",
       "9            主CPU出错  "
      ]
     },
     "execution_count": 11,
     "metadata": {},
     "output_type": "execute_result"
    }
   ],
   "source": [
    "dbd_faultcode.head(10)"
   ]
  },
  {
   "cell_type": "code",
   "execution_count": 12,
   "metadata": {},
   "outputs": [],
   "source": [
    "def spn_fmi_2_code(Spn_Fmi, Code):\n",
    "    spn_fmi_dict = {}\n",
    "    for i in range(len(Spn_Fmi)):\n",
    "        spn_fmi_dict[Spn_Fmi[i]] = Code[i]\n",
    "    return spn_fmi_dict"
   ]
  },
  {
   "cell_type": "code",
   "execution_count": 13,
   "metadata": {},
   "outputs": [],
   "source": [
    "dbd_faultcode['SPN_FMI'] = dbd_faultcode['SPN'].fillna(-1).astype(int).astype(str) + '_' + dbd_faultcode['FMI'].fillna(-1).astype(int).astype(str)\n",
    "train['SPN_FMI'] = train['SPN'].fillna(-1).astype(int).astype(str) + '_' + train['FMI'].fillna(-1).astype(int).astype(str)\n",
    "\n",
    "spn_fmi_dict = spn_fmi_2_code(dbd_faultcode['SPN_FMI'].values, dbd_faultcode['CODE'].values)\n",
    "spn_fmi_dict['-1_-1'] = -1\n",
    "\n",
    "def transfer_2_code(x):\n",
    "    if x in spn_fmi_dict.keys():\n",
    "        return spn_fmi_dict[x]\n",
    "    return -1\n",
    "\n",
    "train['SPN_FMI_Code'] = train['SPN_FMI'].apply(transfer_2_code)"
   ]
  },
  {
   "cell_type": "code",
   "execution_count": 14,
   "metadata": {},
   "outputs": [
    {
     "data": {
      "text/html": [
       "<div>\n",
       "<style scoped>\n",
       "    .dataframe tbody tr th:only-of-type {\n",
       "        vertical-align: middle;\n",
       "    }\n",
       "\n",
       "    .dataframe tbody tr th {\n",
       "        vertical-align: top;\n",
       "    }\n",
       "\n",
       "    .dataframe thead th {\n",
       "        text-align: right;\n",
       "    }\n",
       "</style>\n",
       "<table border=\"1\" class=\"dataframe\">\n",
       "  <thead>\n",
       "    <tr style=\"text-align: right;\">\n",
       "      <th></th>\n",
       "      <th>Code</th>\n",
       "      <th>CodeNum</th>\n",
       "    </tr>\n",
       "  </thead>\n",
       "  <tbody>\n",
       "    <tr>\n",
       "      <th>0</th>\n",
       "      <td>-1</td>\n",
       "      <td>1649858</td>\n",
       "    </tr>\n",
       "    <tr>\n",
       "      <th>1</th>\n",
       "      <td>1206</td>\n",
       "      <td>215738</td>\n",
       "    </tr>\n",
       "    <tr>\n",
       "      <th>2</th>\n",
       "      <td>1239</td>\n",
       "      <td>8194</td>\n",
       "    </tr>\n",
       "    <tr>\n",
       "      <th>3</th>\n",
       "      <td>1141</td>\n",
       "      <td>1075</td>\n",
       "    </tr>\n",
       "    <tr>\n",
       "      <th>4</th>\n",
       "      <td>1182</td>\n",
       "      <td>144</td>\n",
       "    </tr>\n",
       "    <tr>\n",
       "      <th>5</th>\n",
       "      <td>1168</td>\n",
       "      <td>41</td>\n",
       "    </tr>\n",
       "    <tr>\n",
       "      <th>6</th>\n",
       "      <td>1211</td>\n",
       "      <td>24</td>\n",
       "    </tr>\n",
       "    <tr>\n",
       "      <th>7</th>\n",
       "      <td>1216</td>\n",
       "      <td>4</td>\n",
       "    </tr>\n",
       "    <tr>\n",
       "      <th>8</th>\n",
       "      <td>1209</td>\n",
       "      <td>4</td>\n",
       "    </tr>\n",
       "    <tr>\n",
       "      <th>9</th>\n",
       "      <td>1145</td>\n",
       "      <td>2</td>\n",
       "    </tr>\n",
       "    <tr>\n",
       "      <th>10</th>\n",
       "      <td>1341</td>\n",
       "      <td>1</td>\n",
       "    </tr>\n",
       "    <tr>\n",
       "      <th>11</th>\n",
       "      <td>1246</td>\n",
       "      <td>1</td>\n",
       "    </tr>\n",
       "    <tr>\n",
       "      <th>12</th>\n",
       "      <td>1215</td>\n",
       "      <td>1</td>\n",
       "    </tr>\n",
       "    <tr>\n",
       "      <th>13</th>\n",
       "      <td>1122</td>\n",
       "      <td>1</td>\n",
       "    </tr>\n",
       "  </tbody>\n",
       "</table>\n",
       "</div>"
      ],
      "text/plain": [
       "    Code  CodeNum\n",
       "0     -1  1649858\n",
       "1   1206   215738\n",
       "2   1239     8194\n",
       "3   1141     1075\n",
       "4   1182      144\n",
       "5   1168       41\n",
       "6   1211       24\n",
       "7   1216        4\n",
       "8   1209        4\n",
       "9   1145        2\n",
       "10  1341        1\n",
       "11  1246        1\n",
       "12  1215        1\n",
       "13  1122        1"
      ]
     },
     "execution_count": 14,
     "metadata": {},
     "output_type": "execute_result"
    }
   ],
   "source": [
    "code_distribution = pd.DataFrame(train['SPN_FMI_Code'].value_counts().reset_index())\n",
    "code_distribution.columns = ['Code','CodeNum']\n",
    "code_distribution"
   ]
  },
  {
   "cell_type": "code",
   "execution_count": 15,
   "metadata": {},
   "outputs": [
    {
     "data": {
      "text/plain": [
       "<matplotlib.axes._subplots.AxesSubplot at 0x208af2dfba8>"
      ]
     },
     "execution_count": 15,
     "metadata": {},
     "output_type": "execute_result"
    },
    {
     "data": {
      "image/png": "[encoded data removed]",
      "text/plain": [
       "<matplotlib.figure.Figure at 0x208af2b9c88>"
      ]
     },
     "metadata": {},
     "output_type": "display_data"
    }
   ],
   "source": [
    "sns.barplot(x ='Code', y = 'CodeNum', data = code_distribution)"
   ]
  },
  {
   "cell_type": "code",
   "execution_count": 16,
   "metadata": {},
   "outputs": [],
   "source": [
    "train_target  = train[train.SPN_FMI_Code.isin([1206,1239,1141,1174,1182])]"
   ]
  },
  {
   "cell_type": "code",
   "execution_count": 17,
   "metadata": {},
   "outputs": [
    {
     "data": {
      "text/html": [
       "<div>\n",
       "<style scoped>\n",
       "    .dataframe tbody tr th:only-of-type {\n",
       "        vertical-align: middle;\n",
       "    }\n",
       "\n",
       "    .dataframe tbody tr th {\n",
       "        vertical-align: top;\n",
       "    }\n",
       "\n",
       "    .dataframe thead th {\n",
       "        text-align: right;\n",
       "    }\n",
       "</style>\n",
       "<table border=\"1\" class=\"dataframe\">\n",
       "  <thead>\n",
       "    <tr style=\"text-align: right;\">\n",
       "      <th></th>\n",
       "      <th>CODE</th>\n",
       "      <th>SPN</th>\n",
       "      <th>FMI</th>\n",
       "      <th>DESCRIPTION</th>\n",
       "      <th>ENGINETYPEID</th>\n",
       "      <th>FAULTSOURCE</th>\n",
       "      <th>FAULTNAME</th>\n",
       "      <th>SPN_FMI</th>\n",
       "    </tr>\n",
       "  </thead>\n",
       "  <tbody>\n",
       "    <tr>\n",
       "      <th>7</th>\n",
       "      <td>1182</td>\n",
       "      <td>4641</td>\n",
       "      <td>2</td>\n",
       "      <td>实际共轨压力低于目标值的控制下限</td>\n",
       "      <td>1958</td>\n",
       "      <td>上柴国三</td>\n",
       "      <td>实际共轨压力低于目标值的控制下限</td>\n",
       "      <td>4641_2</td>\n",
       "    </tr>\n",
       "    <tr>\n",
       "      <th>31</th>\n",
       "      <td>1206</td>\n",
       "      <td>8809</td>\n",
       "      <td>15</td>\n",
       "      <td>油水分离器中液位过高</td>\n",
       "      <td>1958</td>\n",
       "      <td>上柴国三</td>\n",
       "      <td>油水分离器中液位过高</td>\n",
       "      <td>8809_15</td>\n",
       "    </tr>\n",
       "    <tr>\n",
       "      <th>63</th>\n",
       "      <td>1239</td>\n",
       "      <td>108</td>\n",
       "      <td>4</td>\n",
       "      <td>大气压力传感器电压低于下限门槛值</td>\n",
       "      <td>1958</td>\n",
       "      <td>潍柴国三</td>\n",
       "      <td>大气压力传感器电压低于下限门槛值</td>\n",
       "      <td>108_4</td>\n",
       "    </tr>\n",
       "    <tr>\n",
       "      <th>220</th>\n",
       "      <td>1141</td>\n",
       "      <td>8480</td>\n",
       "      <td>2</td>\n",
       "      <td>油门踏板传感器#1和#2信号无效</td>\n",
       "      <td>1958</td>\n",
       "      <td>上柴国三</td>\n",
       "      <td>油门踏板传感器#1和#2信号无效</td>\n",
       "      <td>8480_2</td>\n",
       "    </tr>\n",
       "    <tr>\n",
       "      <th>251</th>\n",
       "      <td>1174</td>\n",
       "      <td>9779</td>\n",
       "      <td>5</td>\n",
       "      <td>油泵电磁阀#2开路或对地短路</td>\n",
       "      <td>1958</td>\n",
       "      <td>上柴国三</td>\n",
       "      <td>油泵电磁阀#2开路或对地短路</td>\n",
       "      <td>9779_5</td>\n",
       "    </tr>\n",
       "  </tbody>\n",
       "</table>\n",
       "</div>"
      ],
      "text/plain": [
       "     CODE   SPN  FMI       DESCRIPTION  ENGINETYPEID FAULTSOURCE  \\\n",
       "7    1182  4641    2  实际共轨压力低于目标值的控制下限          1958        上柴国三   \n",
       "31   1206  8809   15        油水分离器中液位过高          1958        上柴国三   \n",
       "63   1239   108    4  大气压力传感器电压低于下限门槛值          1958        潍柴国三   \n",
       "220  1141  8480    2  油门踏板传感器#1和#2信号无效          1958        上柴国三   \n",
       "251  1174  9779    5    油泵电磁阀#2开路或对地短路          1958        上柴国三   \n",
       "\n",
       "            FAULTNAME  SPN_FMI  \n",
       "7    实际共轨压力低于目标值的控制下限   4641_2  \n",
       "31         油水分离器中液位过高  8809_15  \n",
       "63   大气压力传感器电压低于下限门槛值    108_4  \n",
       "220  油门踏板传感器#1和#2信号无效   8480_2  \n",
       "251    油泵电磁阀#2开路或对地短路   9779_5  "
      ]
     },
     "execution_count": 17,
     "metadata": {},
     "output_type": "execute_result"
    }
   ],
   "source": [
    "target_code = [1206,1239,1141,1174,1182]\n",
    "dbd_faultcode[dbd_faultcode.CODE.isin(target_code)]"
   ]
  },
  {
   "cell_type": "code",
   "execution_count": 18,
   "metadata": {},
   "outputs": [],
   "source": [
    "all_missing_columns_2 = train_target.columns[train_target.isnull().sum() == train_target.shape[0]]\n",
    "onlyone_val_columns_2 = train_target.columns[train_target.nunique(axis=0) == 1]"
   ]
  },
  {
   "cell_type": "code",
   "execution_count": 19,
   "metadata": {},
   "outputs": [
    {
     "name": "stderr",
     "output_type": "stream",
     "text": [
      "E:\\Program Files\\Anaconda\\lib\\site-packages\\ipykernel_launcher.py:1: SettingWithCopyWarning: \n",
      "A value is trying to be set on a copy of a slice from a DataFrame\n",
      "\n",
      "See the caveats in the documentation: http://pandas.pydata.org/pandas-docs/stable/indexing.html#indexing-view-versus-copy\n",
      "  \"\"\"Entry point for launching an IPython kernel.\n",
      "E:\\Program Files\\Anaconda\\lib\\site-packages\\ipykernel_launcher.py:2: SettingWithCopyWarning: \n",
      "A value is trying to be set on a copy of a slice from a DataFrame\n",
      "\n",
      "See the caveats in the documentation: http://pandas.pydata.org/pandas-docs/stable/indexing.html#indexing-view-versus-copy\n",
      "  \n"
     ]
    }
   ],
   "source": [
    "train_target.drop(all_missing_columns_2, axis=1, inplace=True)\n",
    "train_target.drop(onlyone_val_columns_2, axis=1, inplace=True)"
   ]
  },
  {
   "cell_type": "code",
   "execution_count": 20,
   "metadata": {},
   "outputs": [
    {
     "data": {
      "text/plain": [
       "1206    215738\n",
       "1239      8194\n",
       "1141      1075\n",
       "1182       144\n",
       "Name: SPN_FMI_Code, dtype: int64"
      ]
     },
     "execution_count": 20,
     "metadata": {},
     "output_type": "execute_result"
    }
   ],
   "source": [
    "train_target['SPN_FMI_Code'].value_counts()"
   ]
  },
  {
   "cell_type": "code",
   "execution_count": 21,
   "metadata": {},
   "outputs": [
    {
     "data": {
      "text/html": [
       "<div>\n",
       "<style scoped>\n",
       "    .dataframe tbody tr th:only-of-type {\n",
       "        vertical-align: middle;\n",
       "    }\n",
       "\n",
       "    .dataframe tbody tr th {\n",
       "        vertical-align: top;\n",
       "    }\n",
       "\n",
       "    .dataframe thead th {\n",
       "        text-align: right;\n",
       "    }\n",
       "</style>\n",
       "<table border=\"1\" class=\"dataframe\">\n",
       "  <thead>\n",
       "    <tr style=\"text-align: right;\">\n",
       "      <th></th>\n",
       "      <th>ACCRUNTIMES</th>\n",
       "      <th>AREA</th>\n",
       "      <th>CITY</th>\n",
       "      <th>COLLECTTIME</th>\n",
       "      <th>FAULTTIME</th>\n",
       "      <th>FMI</th>\n",
       "      <th>FRID</th>\n",
       "      <th>LAT</th>\n",
       "      <th>LNG</th>\n",
       "      <th>PROVINCE</th>\n",
       "      <th>READFLAG</th>\n",
       "      <th>SPN</th>\n",
       "      <th>UNIQUENO</th>\n",
       "      <th>SPN_FMI</th>\n",
       "      <th>SPN_FMI_Code</th>\n",
       "    </tr>\n",
       "  </thead>\n",
       "  <tbody>\n",
       "    <tr>\n",
       "      <th>23150</th>\n",
       "      <td>979.0</td>\n",
       "      <td>341322.0</td>\n",
       "      <td>341300.0</td>\n",
       "      <td>2018-04-01 06:23:45</td>\n",
       "      <td>2018-04-01 06:23:45</td>\n",
       "      <td>15.0</td>\n",
       "      <td>2357817.0</td>\n",
       "      <td>34.108867</td>\n",
       "      <td>34.108867</td>\n",
       "      <td>340000.0</td>\n",
       "      <td>1.0</td>\n",
       "      <td>8809.0</td>\n",
       "      <td>201704140835245913</td>\n",
       "      <td>8809_15</td>\n",
       "      <td>1206</td>\n",
       "    </tr>\n",
       "    <tr>\n",
       "      <th>23178</th>\n",
       "      <td>979.0</td>\n",
       "      <td>341322.0</td>\n",
       "      <td>341300.0</td>\n",
       "      <td>2018-04-01 06:25:45</td>\n",
       "      <td>2018-04-01 06:25:45</td>\n",
       "      <td>15.0</td>\n",
       "      <td>2357818.0</td>\n",
       "      <td>34.108877</td>\n",
       "      <td>34.108877</td>\n",
       "      <td>340000.0</td>\n",
       "      <td>1.0</td>\n",
       "      <td>8809.0</td>\n",
       "      <td>201704140835245913</td>\n",
       "      <td>8809_15</td>\n",
       "      <td>1206</td>\n",
       "    </tr>\n",
       "    <tr>\n",
       "      <th>23208</th>\n",
       "      <td>979.0</td>\n",
       "      <td>341322.0</td>\n",
       "      <td>341300.0</td>\n",
       "      <td>2018-04-01 06:27:45</td>\n",
       "      <td>2018-04-01 06:27:45</td>\n",
       "      <td>15.0</td>\n",
       "      <td>2357819.0</td>\n",
       "      <td>34.108891</td>\n",
       "      <td>34.108891</td>\n",
       "      <td>340000.0</td>\n",
       "      <td>1.0</td>\n",
       "      <td>8809.0</td>\n",
       "      <td>201704140835245913</td>\n",
       "      <td>8809_15</td>\n",
       "      <td>1206</td>\n",
       "    </tr>\n",
       "    <tr>\n",
       "      <th>23240</th>\n",
       "      <td>979.0</td>\n",
       "      <td>341322.0</td>\n",
       "      <td>341300.0</td>\n",
       "      <td>2018-04-01 06:29:45</td>\n",
       "      <td>2018-04-01 06:29:45</td>\n",
       "      <td>15.0</td>\n",
       "      <td>2357821.0</td>\n",
       "      <td>34.109057</td>\n",
       "      <td>34.109057</td>\n",
       "      <td>340000.0</td>\n",
       "      <td>1.0</td>\n",
       "      <td>8809.0</td>\n",
       "      <td>201704140835245913</td>\n",
       "      <td>8809_15</td>\n",
       "      <td>1206</td>\n",
       "    </tr>\n",
       "    <tr>\n",
       "      <th>23274</th>\n",
       "      <td>979.0</td>\n",
       "      <td>341322.0</td>\n",
       "      <td>341300.0</td>\n",
       "      <td>2018-04-01 06:31:45</td>\n",
       "      <td>2018-04-01 06:31:45</td>\n",
       "      <td>15.0</td>\n",
       "      <td>2357822.0</td>\n",
       "      <td>34.109043</td>\n",
       "      <td>34.109043</td>\n",
       "      <td>340000.0</td>\n",
       "      <td>1.0</td>\n",
       "      <td>8809.0</td>\n",
       "      <td>201704140835245913</td>\n",
       "      <td>8809_15</td>\n",
       "      <td>1206</td>\n",
       "    </tr>\n",
       "  </tbody>\n",
       "</table>\n",
       "</div>"
      ],
      "text/plain": [
       "       ACCRUNTIMES      AREA      CITY          COLLECTTIME  \\\n",
       "23150        979.0  341322.0  341300.0  2018-04-01 06:23:45   \n",
       "23178        979.0  341322.0  341300.0  2018-04-01 06:25:45   \n",
       "23208        979.0  341322.0  341300.0  2018-04-01 06:27:45   \n",
       "23240        979.0  341322.0  341300.0  2018-04-01 06:29:45   \n",
       "23274        979.0  341322.0  341300.0  2018-04-01 06:31:45   \n",
       "\n",
       "                 FAULTTIME   FMI       FRID        LAT        LNG  PROVINCE  \\\n",
       "23150  2018-04-01 06:23:45  15.0  2357817.0  34.108867  34.108867  340000.0   \n",
       "23178  2018-04-01 06:25:45  15.0  2357818.0  34.108877  34.108877  340000.0   \n",
       "23208  2018-04-01 06:27:45  15.0  2357819.0  34.108891  34.108891  340000.0   \n",
       "23240  2018-04-01 06:29:45  15.0  2357821.0  34.109057  34.109057  340000.0   \n",
       "23274  2018-04-01 06:31:45  15.0  2357822.0  34.109043  34.109043  340000.0   \n",
       "\n",
       "       READFLAG     SPN            UNIQUENO  SPN_FMI  SPN_FMI_Code  \n",
       "23150       1.0  8809.0  201704140835245913  8809_15          1206  \n",
       "23178       1.0  8809.0  201704140835245913  8809_15          1206  \n",
       "23208       1.0  8809.0  201704140835245913  8809_15          1206  \n",
       "23240       1.0  8809.0  201704140835245913  8809_15          1206  \n",
       "23274       1.0  8809.0  201704140835245913  8809_15          1206  "
      ]
     },
     "execution_count": 21,
     "metadata": {},
     "output_type": "execute_result"
    }
   ],
   "source": [
    "train_target.head()"
   ]
  },
  {
   "cell_type": "markdown",
   "metadata": {},
   "source": [
    "### 5、单变量分析\n",
    "#### ACCRUNTIMES\n",
    "- Code1239的ACCRUNTIMES的最小值为4021，比其他三个的最大值都大，可以根据该特征进行区分\n",
    "- Code1182的最大值小于800"
   ]
  },
  {
   "cell_type": "code",
   "execution_count": 22,
   "metadata": {},
   "outputs": [
    {
     "data": {
      "text/plain": [
       "<matplotlib.axes._subplots.AxesSubplot at 0x2087a0c7278>"
      ]
     },
     "execution_count": 22,
     "metadata": {},
     "output_type": "execute_result"
    },
    {
     "data": {
      "image/png": "[encoded data removed]",
      "text/plain": [
       "<matplotlib.figure.Figure at 0x208112121d0>"
      ]
     },
     "metadata": {},
     "output_type": "display_data"
    }
   ],
   "source": [
    "sns.stripplot(x='SPN_FMI_Code', y='ACCRUNTIMES', data=train_target)"
   ]
  },
  {
   "cell_type": "code",
   "execution_count": 23,
   "metadata": {},
   "outputs": [
    {
     "data": {
      "text/plain": [
       "count    71559.000000\n",
       "mean      1054.037354\n",
       "std        926.316787\n",
       "min          0.000000\n",
       "25%        488.000000\n",
       "50%        897.000000\n",
       "75%       1211.000000\n",
       "max       4498.000000\n",
       "Name: ACCRUNTIMES, dtype: float64"
      ]
     },
     "execution_count": 23,
     "metadata": {},
     "output_type": "execute_result"
    }
   ],
   "source": [
    "test['ACCRUNTIMES'].describe()"
   ]
  },
  {
   "cell_type": "code",
   "execution_count": 24,
   "metadata": {},
   "outputs": [
    {
     "data": {
      "text/plain": [
       "count    1075.000000\n",
       "mean      572.342326\n",
       "std       413.494064\n",
       "min         0.000000\n",
       "25%       167.000000\n",
       "50%       718.000000\n",
       "75%       973.000000\n",
       "max      1627.000000\n",
       "Name: ACCRUNTIMES, dtype: float64"
      ]
     },
     "execution_count": 24,
     "metadata": {},
     "output_type": "execute_result"
    }
   ],
   "source": [
    "train_target[train_target.SPN_FMI_Code==1141]['ACCRUNTIMES'].describe()"
   ]
  },
  {
   "cell_type": "code",
   "execution_count": 25,
   "metadata": {},
   "outputs": [
    {
     "data": {
      "text/plain": [
       "count    144.000000\n",
       "mean     550.500000\n",
       "std      185.069256\n",
       "min        6.000000\n",
       "25%      419.000000\n",
       "50%      620.000000\n",
       "75%      621.000000\n",
       "max      771.000000\n",
       "Name: ACCRUNTIMES, dtype: float64"
      ]
     },
     "execution_count": 25,
     "metadata": {},
     "output_type": "execute_result"
    }
   ],
   "source": [
    "train_target[train_target.SPN_FMI_Code==1182]['ACCRUNTIMES'].describe()"
   ]
  },
  {
   "cell_type": "code",
   "execution_count": 26,
   "metadata": {},
   "outputs": [
    {
     "data": {
      "text/plain": [
       "count    215738.000000\n",
       "mean        878.156690\n",
       "std         379.871741\n",
       "min           0.000000\n",
       "25%         652.000000\n",
       "50%         877.000000\n",
       "75%        1139.000000\n",
       "max        3527.000000\n",
       "Name: ACCRUNTIMES, dtype: float64"
      ]
     },
     "execution_count": 26,
     "metadata": {},
     "output_type": "execute_result"
    }
   ],
   "source": [
    "train_target[train_target.SPN_FMI_Code==1206]['ACCRUNTIMES'].describe()"
   ]
  },
  {
   "cell_type": "code",
   "execution_count": 27,
   "metadata": {},
   "outputs": [
    {
     "data": {
      "text/plain": [
       "count    8194.000000\n",
       "mean     4199.182695\n",
       "std        93.519804\n",
       "min      4021.000000\n",
       "25%      4119.000000\n",
       "50%      4191.000000\n",
       "75%      4281.000000\n",
       "max      4355.000000\n",
       "Name: ACCRUNTIMES, dtype: float64"
      ]
     },
     "execution_count": 27,
     "metadata": {},
     "output_type": "execute_result"
    }
   ],
   "source": [
    "train_target[train_target.SPN_FMI_Code==1239]['ACCRUNTIMES'].describe()"
   ]
  },
  {
   "cell_type": "markdown",
   "metadata": {},
   "source": [
    "#### READFLAG\n",
    "- READFLAG为0时，只有Code1206出现了\n",
    "- READFLAG为1时，出现了其他所有标签"
   ]
  },
  {
   "cell_type": "code",
   "execution_count": 37,
   "metadata": {},
   "outputs": [
    {
     "data": {
      "text/html": [
       "<div>\n",
       "<style scoped>\n",
       "    .dataframe tbody tr th:only-of-type {\n",
       "        vertical-align: middle;\n",
       "    }\n",
       "\n",
       "    .dataframe tbody tr th {\n",
       "        vertical-align: top;\n",
       "    }\n",
       "\n",
       "    .dataframe thead th {\n",
       "        text-align: right;\n",
       "    }\n",
       "</style>\n",
       "<table border=\"1\" class=\"dataframe\">\n",
       "  <thead>\n",
       "    <tr style=\"text-align: right;\">\n",
       "      <th></th>\n",
       "      <th>READFLAG</th>\n",
       "      <th>SPN_FMI_Code</th>\n",
       "      <th>showtimes</th>\n",
       "    </tr>\n",
       "  </thead>\n",
       "  <tbody>\n",
       "    <tr>\n",
       "      <th>0</th>\n",
       "      <td>0.0</td>\n",
       "      <td>1206</td>\n",
       "      <td>4581</td>\n",
       "    </tr>\n",
       "    <tr>\n",
       "      <th>1</th>\n",
       "      <td>1.0</td>\n",
       "      <td>1206</td>\n",
       "      <td>211157</td>\n",
       "    </tr>\n",
       "    <tr>\n",
       "      <th>2</th>\n",
       "      <td>1.0</td>\n",
       "      <td>1239</td>\n",
       "      <td>8194</td>\n",
       "    </tr>\n",
       "    <tr>\n",
       "      <th>3</th>\n",
       "      <td>1.0</td>\n",
       "      <td>1141</td>\n",
       "      <td>1075</td>\n",
       "    </tr>\n",
       "    <tr>\n",
       "      <th>4</th>\n",
       "      <td>1.0</td>\n",
       "      <td>1182</td>\n",
       "      <td>144</td>\n",
       "    </tr>\n",
       "  </tbody>\n",
       "</table>\n",
       "</div>"
      ],
      "text/plain": [
       "   READFLAG  SPN_FMI_Code  showtimes\n",
       "0       0.0          1206       4581\n",
       "1       1.0          1206     211157\n",
       "2       1.0          1239       8194\n",
       "3       1.0          1141       1075\n",
       "4       1.0          1182        144"
      ]
     },
     "execution_count": 37,
     "metadata": {},
     "output_type": "execute_result"
    }
   ],
   "source": [
    "readflag = pd.DataFrame(train_target.groupby('READFLAG')['SPN_FMI_Code'].value_counts())\n",
    "readflag.columns = ['showtimes']\n",
    "readflag.reset_index(inplace=True)\n",
    "readflag.head()"
   ]
  },
  {
   "cell_type": "code",
   "execution_count": 42,
   "metadata": {},
   "outputs": [
    {
     "data": {
      "text/plain": [
       "<matplotlib.axes._subplots.AxesSubplot at 0x208963e12b0>"
      ]
     },
     "execution_count": 42,
     "metadata": {},
     "output_type": "execute_result"
    },
    {
     "data": {
      "image/png": "[encoded data removed]",
      "text/plain": [
       "<matplotlib.figure.Figure at 0x208950f7470>"
      ]
     },
     "metadata": {},
     "output_type": "display_data"
    }
   ],
   "source": [
    "sns.stripplot(x='SPN_FMI_Code', y='showtimes', hue='READFLAG', data=readflag, size=10)"
   ]
  },
  {
   "cell_type": "markdown",
   "metadata": {},
   "source": [
    "#### PROVINCE\n",
    "- 训练集中的Province在测试集中都有"
   ]
  },
  {
   "cell_type": "code",
   "execution_count": 56,
   "metadata": {},
   "outputs": [
    {
     "data": {
      "text/html": [
       "<div>\n",
       "<style scoped>\n",
       "    .dataframe tbody tr th:only-of-type {\n",
       "        vertical-align: middle;\n",
       "    }\n",
       "\n",
       "    .dataframe tbody tr th {\n",
       "        vertical-align: top;\n",
       "    }\n",
       "\n",
       "    .dataframe thead th {\n",
       "        text-align: right;\n",
       "    }\n",
       "</style>\n",
       "<table border=\"1\" class=\"dataframe\">\n",
       "  <thead>\n",
       "    <tr style=\"text-align: right;\">\n",
       "      <th></th>\n",
       "      <th>ACCRUNTIMES</th>\n",
       "      <th>AREA</th>\n",
       "      <th>CITY</th>\n",
       "      <th>COLLECTTIME</th>\n",
       "      <th>FAULTTIME</th>\n",
       "      <th>FMI</th>\n",
       "      <th>FRID</th>\n",
       "      <th>LAT</th>\n",
       "      <th>LNG</th>\n",
       "      <th>PROVINCE</th>\n",
       "      <th>READFLAG</th>\n",
       "      <th>SPN</th>\n",
       "      <th>UNIQUENO</th>\n",
       "      <th>SPN_FMI</th>\n",
       "      <th>SPN_FMI_Code</th>\n",
       "    </tr>\n",
       "  </thead>\n",
       "  <tbody>\n",
       "    <tr>\n",
       "      <th>23150</th>\n",
       "      <td>979.0</td>\n",
       "      <td>341322.0</td>\n",
       "      <td>341300.0</td>\n",
       "      <td>2018-04-01 06:23:45</td>\n",
       "      <td>2018-04-01 06:23:45</td>\n",
       "      <td>15.0</td>\n",
       "      <td>2357817.0</td>\n",
       "      <td>34.108867</td>\n",
       "      <td>34.108867</td>\n",
       "      <td>340000.0</td>\n",
       "      <td>1.0</td>\n",
       "      <td>8809.0</td>\n",
       "      <td>201704140835245913</td>\n",
       "      <td>8809_15</td>\n",
       "      <td>1206</td>\n",
       "    </tr>\n",
       "    <tr>\n",
       "      <th>23178</th>\n",
       "      <td>979.0</td>\n",
       "      <td>341322.0</td>\n",
       "      <td>341300.0</td>\n",
       "      <td>2018-04-01 06:25:45</td>\n",
       "      <td>2018-04-01 06:25:45</td>\n",
       "      <td>15.0</td>\n",
       "      <td>2357818.0</td>\n",
       "      <td>34.108877</td>\n",
       "      <td>34.108877</td>\n",
       "      <td>340000.0</td>\n",
       "      <td>1.0</td>\n",
       "      <td>8809.0</td>\n",
       "      <td>201704140835245913</td>\n",
       "      <td>8809_15</td>\n",
       "      <td>1206</td>\n",
       "    </tr>\n",
       "    <tr>\n",
       "      <th>23208</th>\n",
       "      <td>979.0</td>\n",
       "      <td>341322.0</td>\n",
       "      <td>341300.0</td>\n",
       "      <td>2018-04-01 06:27:45</td>\n",
       "      <td>2018-04-01 06:27:45</td>\n",
       "      <td>15.0</td>\n",
       "      <td>2357819.0</td>\n",
       "      <td>34.108891</td>\n",
       "      <td>34.108891</td>\n",
       "      <td>340000.0</td>\n",
       "      <td>1.0</td>\n",
       "      <td>8809.0</td>\n",
       "      <td>201704140835245913</td>\n",
       "      <td>8809_15</td>\n",
       "      <td>1206</td>\n",
       "    </tr>\n",
       "    <tr>\n",
       "      <th>23240</th>\n",
       "      <td>979.0</td>\n",
       "      <td>341322.0</td>\n",
       "      <td>341300.0</td>\n",
       "      <td>2018-04-01 06:29:45</td>\n",
       "      <td>2018-04-01 06:29:45</td>\n",
       "      <td>15.0</td>\n",
       "      <td>2357821.0</td>\n",
       "      <td>34.109057</td>\n",
       "      <td>34.109057</td>\n",
       "      <td>340000.0</td>\n",
       "      <td>1.0</td>\n",
       "      <td>8809.0</td>\n",
       "      <td>201704140835245913</td>\n",
       "      <td>8809_15</td>\n",
       "      <td>1206</td>\n",
       "    </tr>\n",
       "    <tr>\n",
       "      <th>23274</th>\n",
       "      <td>979.0</td>\n",
       "      <td>341322.0</td>\n",
       "      <td>341300.0</td>\n",
       "      <td>2018-04-01 06:31:45</td>\n",
       "      <td>2018-04-01 06:31:45</td>\n",
       "      <td>15.0</td>\n",
       "      <td>2357822.0</td>\n",
       "      <td>34.109043</td>\n",
       "      <td>34.109043</td>\n",
       "      <td>340000.0</td>\n",
       "      <td>1.0</td>\n",
       "      <td>8809.0</td>\n",
       "      <td>201704140835245913</td>\n",
       "      <td>8809_15</td>\n",
       "      <td>1206</td>\n",
       "    </tr>\n",
       "  </tbody>\n",
       "</table>\n",
       "</div>"
      ],
      "text/plain": [
       "       ACCRUNTIMES      AREA      CITY          COLLECTTIME  \\\n",
       "23150        979.0  341322.0  341300.0  2018-04-01 06:23:45   \n",
       "23178        979.0  341322.0  341300.0  2018-04-01 06:25:45   \n",
       "23208        979.0  341322.0  341300.0  2018-04-01 06:27:45   \n",
       "23240        979.0  341322.0  341300.0  2018-04-01 06:29:45   \n",
       "23274        979.0  341322.0  341300.0  2018-04-01 06:31:45   \n",
       "\n",
       "                 FAULTTIME   FMI       FRID        LAT        LNG  PROVINCE  \\\n",
       "23150  2018-04-01 06:23:45  15.0  2357817.0  34.108867  34.108867  340000.0   \n",
       "23178  2018-04-01 06:25:45  15.0  2357818.0  34.108877  34.108877  340000.0   \n",
       "23208  2018-04-01 06:27:45  15.0  2357819.0  34.108891  34.108891  340000.0   \n",
       "23240  2018-04-01 06:29:45  15.0  2357821.0  34.109057  34.109057  340000.0   \n",
       "23274  2018-04-01 06:31:45  15.0  2357822.0  34.109043  34.109043  340000.0   \n",
       "\n",
       "       READFLAG     SPN            UNIQUENO  SPN_FMI  SPN_FMI_Code  \n",
       "23150       1.0  8809.0  201704140835245913  8809_15          1206  \n",
       "23178       1.0  8809.0  201704140835245913  8809_15          1206  \n",
       "23208       1.0  8809.0  201704140835245913  8809_15          1206  \n",
       "23240       1.0  8809.0  201704140835245913  8809_15          1206  \n",
       "23274       1.0  8809.0  201704140835245913  8809_15          1206  "
      ]
     },
     "execution_count": 56,
     "metadata": {},
     "output_type": "execute_result"
    }
   ],
   "source": [
    "train_target.head()"
   ]
  },
  {
   "cell_type": "code",
   "execution_count": 61,
   "metadata": {},
   "outputs": [
    {
     "data": {
      "text/plain": [
       "set()"
      ]
     },
     "execution_count": 61,
     "metadata": {},
     "output_type": "execute_result"
    }
   ],
   "source": [
    "set(train_target['PROVINCE'].value_counts().index) - set(test['PROVINCE'].unique())"
   ]
  },
  {
   "cell_type": "code",
   "execution_count": 69,
   "metadata": {},
   "outputs": [],
   "source": [
    "province_code_distribution = pd.DataFrame({'PROVINCE': train_target['PROVINCE'].unique()})\n",
    "codes = [1206,1141,1182,1239 ]\n",
    "for code in codes:\n",
    "    province_code_distribution[code] = 0\n",
    "    province = train_target[train_target.SPN_FMI_Code==code][\"PROVINCE\"].unique()\n",
    "    province_code_distribution.loc[province_code_distribution.PROVINCE.isin(province), code] = 1 \n",
    "    \n",
    "province_code_distribution.set_index('PROVINCE',inplace= True)"
   ]
  },
  {
   "cell_type": "code",
   "execution_count": 70,
   "metadata": {},
   "outputs": [
    {
     "data": {
      "text/plain": [
       "<matplotlib.axes._subplots.AxesSubplot at 0x208a05e0390>"
      ]
     },
     "execution_count": 70,
     "metadata": {},
     "output_type": "execute_result"
    },
    {
     "data": {
      "image/png": "[encoded data removed]",
      "text/plain": [
       "<matplotlib.figure.Figure at 0x208a05d89e8>"
      ]
     },
     "metadata": {},
     "output_type": "display_data"
    }
   ],
   "source": [
    "province_code_distribution.plot(kind='bar', stacked=True)"
   ]
  },
  {
   "cell_type": "code",
   "execution_count": null,
   "metadata": {},
   "outputs": [],
   "source": []
  }
 ],
 "metadata": {
  "kernelspec": {
   "display_name": "Python 3",
   "language": "python",
   "name": "python3"
  },
  "language_info": {
   "codemirror_mode": {
    "name": "ipython",
    "version": 3
   },
   "file_extension": ".py",
   "mimetype": "text/x-python",
   "name": "python",
   "nbconvert_exporter": "python",
   "pygments_lexer": "ipython3",
   "version": "3.6.4"
  }
 },
 "nbformat": 4,
 "nbformat_minor": 2
}
