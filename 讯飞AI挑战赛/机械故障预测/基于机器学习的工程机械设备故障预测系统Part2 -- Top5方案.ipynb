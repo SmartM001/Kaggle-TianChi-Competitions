{
 "cells": [
  {
   "cell_type": "markdown",
   "metadata": {},
   "source": [
    "<div align=\"center\">\n",
    " <font size=\"5\" > **基于机器学习的工程机械设备故障预测系统 - 算法建模**</font>\n",
    "</div>\n",
    "\n",
    "\n",
    "\n"
   ]
  },
  {
   "cell_type": "markdown",
   "metadata": {},
   "source": [
    "\n",
    "在上一章部分，我们给出了针对此类多分类问题常见的分析于可视化的方法，本篇文章我们就结合上一篇notebook中的分析来进行特征的筛选于构建,所有的内容和eda都是环环相扣的。大家可以细细阅读本篇文章，自己体会。\n",
    "\n",
    "- 数据探索分析：EDA(Exploratory data analysis)\n",
    "- 算法建模：Model(Modeling) \n",
    "\n",
    "\n",
    "\n",
    "在本文中，我们重点介绍算法建模部分，我们会给出我们算法的建模过程，包括特征工程，模型的训练，对预测结果的纠正等方法。\n"
   ]
  },
  {
   "cell_type": "markdown",
   "metadata": {
    "toc": true
   },
   "source": [
    "<h1>Table of Contents<span class=\"tocSkip\"></span></h1>\n",
    "<div class=\"toc\"><ul class=\"toc-item\"><li><span><a href=\"#工具包导入-&amp;-数据读取\" data-toc-modified-id=\"工具包导入-&amp;-数据读取-1\"><span class=\"toc-item-num\">1&nbsp;&nbsp;</span>工具包导入 &amp; 数据读取</a></span><ul class=\"toc-item\"><li><span><a href=\"#工具包导入\" data-toc-modified-id=\"工具包导入-1.1\"><span class=\"toc-item-num\">1.1&nbsp;&nbsp;</span>工具包导入</a></span></li><li><span><a href=\"#读取数据\" data-toc-modified-id=\"读取数据-1.2\"><span class=\"toc-item-num\">1.2&nbsp;&nbsp;</span>读取数据</a></span></li></ul></li><li><span><a href=\"#数据预处理\" data-toc-modified-id=\"数据预处理-2\"><span class=\"toc-item-num\">2&nbsp;&nbsp;</span>数据预处理</a></span><ul class=\"toc-item\"><li><span><a href=\"#Label构建-&amp;-数据集删选\" data-toc-modified-id=\"Label构建-&amp;-数据集删选-2.1\"><span class=\"toc-item-num\">2.1&nbsp;&nbsp;</span>Label构建 &amp; 数据集删选</a></span><ul class=\"toc-item\"><li><span><a href=\"#Label构建\" data-toc-modified-id=\"Label构建-2.1.1\"><span class=\"toc-item-num\">2.1.1&nbsp;&nbsp;</span>Label构建</a></span><ul class=\"toc-item\"><li><span><a href=\"#构建映射字典\" data-toc-modified-id=\"构建映射字典-2.1.1.1\"><span class=\"toc-item-num\">2.1.1.1&nbsp;&nbsp;</span>构建映射字典</a></span></li><li><span><a href=\"#故障码的转换\" data-toc-modified-id=\"故障码的转换-2.1.1.2\"><span class=\"toc-item-num\">2.1.1.2&nbsp;&nbsp;</span>故障码的转换</a></span></li></ul></li><li><span><a href=\"#数据集删选\" data-toc-modified-id=\"数据集删选-2.1.2\"><span class=\"toc-item-num\">2.1.2&nbsp;&nbsp;</span>数据集删选</a></span></li></ul></li><li><span><a href=\"#数据预处理\" data-toc-modified-id=\"数据预处理-2.2\"><span class=\"toc-item-num\">2.2&nbsp;&nbsp;</span>数据预处理</a></span><ul class=\"toc-item\"><li><span><a href=\"#删除全为空的特征列\" data-toc-modified-id=\"删除全为空的特征列-2.2.1\"><span class=\"toc-item-num\">2.2.1&nbsp;&nbsp;</span>删除全为空的特征列</a></span></li><li><span><a href=\"#删除只有一个值的特征列\" data-toc-modified-id=\"删除只有一个值的特征列-2.2.2\"><span class=\"toc-item-num\">2.2.2&nbsp;&nbsp;</span>删除只有一个值的特征列</a></span></li><li><span><a href=\"#删除一些暂且无用的特征\" data-toc-modified-id=\"删除一些暂且无用的特征-2.2.3\"><span class=\"toc-item-num\">2.2.3&nbsp;&nbsp;</span>删除一些暂且无用的特征</a></span></li><li><span><a href=\"#训练集-&amp;-测试集划分\" data-toc-modified-id=\"训练集-&amp;-测试集划分-2.2.4\"><span class=\"toc-item-num\">2.2.4&nbsp;&nbsp;</span>训练集 &amp; 测试集划分</a></span></li></ul></li></ul></li><li><span><a href=\"#特征工程(一共11个特征）\" data-toc-modified-id=\"特征工程(一共11个特征）-3\"><span class=\"toc-item-num\">3&nbsp;&nbsp;</span>特征工程(一共11个特征）</a></span><ul class=\"toc-item\"><li><span><a href=\"#COLLECTTIME(因为训练集和测试集中的COLLECTTIME没有交叉，我们直接删除）\" data-toc-modified-id=\"COLLECTTIME(因为训练集和测试集中的COLLECTTIME没有交叉，我们直接删除）-3.1\"><span class=\"toc-item-num\">3.1&nbsp;&nbsp;</span>COLLECTTIME(因为训练集和测试集中的COLLECTTIME没有交叉，我们直接删除）</a></span></li><li><span><a href=\"#PROVINCE-&amp;-CITY-&amp;-AREA\" data-toc-modified-id=\"PROVINCE-&amp;-CITY-&amp;-AREA-3.2\"><span class=\"toc-item-num\">3.2&nbsp;&nbsp;</span>PROVINCE &amp; CITY &amp; AREA</a></span></li><li><span><a href=\"#READFLAG\" data-toc-modified-id=\"READFLAG-3.3\"><span class=\"toc-item-num\">3.3&nbsp;&nbsp;</span>READFLAG</a></span></li><li><span><a href=\"#UNIQUENO\" data-toc-modified-id=\"UNIQUENO-3.4\"><span class=\"toc-item-num\">3.4&nbsp;&nbsp;</span>UNIQUENO</a></span></li></ul></li><li><span><a href=\"#模型训练-&amp;-验证-&amp;-测试\" data-toc-modified-id=\"模型训练-&amp;-验证-&amp;-测试-4\"><span class=\"toc-item-num\">4&nbsp;&nbsp;</span>模型训练 &amp; 验证 &amp; 测试</a></span><ul class=\"toc-item\"><li><span><a href=\"#训练特征选取-&amp;-评价指标-&amp;-Label转换¶\" data-toc-modified-id=\"训练特征选取-&amp;-评价指标-&amp;-Label转换¶-4.1\"><span class=\"toc-item-num\">4.1&nbsp;&nbsp;</span>训练特征选取 &amp; 评价指标 &amp; Label转换¶</a></span><ul class=\"toc-item\"><li><span><a href=\"#训练特征选取解释\" data-toc-modified-id=\"训练特征选取解释-4.1.1\"><span class=\"toc-item-num\">4.1.1&nbsp;&nbsp;</span>训练特征选取解释</a></span></li><li><span><a href=\"#评价指标设计\" data-toc-modified-id=\"评价指标设计-4.1.2\"><span class=\"toc-item-num\">4.1.2&nbsp;&nbsp;</span>评价指标设计</a></span></li><li><span><a href=\"#Label转换\" data-toc-modified-id=\"Label转换-4.1.3\"><span class=\"toc-item-num\">4.1.3&nbsp;&nbsp;</span>Label转换</a></span></li></ul></li><li><span><a href=\"#模型训练-&amp;-验证\" data-toc-modified-id=\"模型训练-&amp;-验证-4.2\"><span class=\"toc-item-num\">4.2&nbsp;&nbsp;</span>模型训练 &amp; 验证</a></span></li><li><span><a href=\"#模型训练-&amp;-预测-(0.57578042)\" data-toc-modified-id=\"模型训练-&amp;-预测-(0.57578042)-4.3\"><span class=\"toc-item-num\">4.3&nbsp;&nbsp;</span>模型训练 &amp; 预测 (0.57578042)</a></span><ul class=\"toc-item\"><li><span><a href=\"#模型训练（参数按照验证集的来）,线上----（0.57578042）,和我们线下验证的效果类似\" data-toc-modified-id=\"模型训练（参数按照验证集的来）,线上----（0.57578042）,和我们线下验证的效果类似-4.3.1\"><span class=\"toc-item-num\">4.3.1&nbsp;&nbsp;</span>模型训练（参数按照验证集的来）,线上    （0.57578042）,和我们线下验证的效果类似</a></span></li><li><span><a href=\"#模型预测-&amp;-提交\" data-toc-modified-id=\"模型预测-&amp;-提交-4.3.2\"><span class=\"toc-item-num\">4.3.2&nbsp;&nbsp;</span>模型预测 &amp; 提交</a></span></li></ul></li><li><span><a href=\"#规则修正-(线上0.77572044)\" data-toc-modified-id=\"规则修正-(线上0.77572044)-4.4\"><span class=\"toc-item-num\">4.4&nbsp;&nbsp;</span>规则修正 (线上0.77572044)</a></span><ul class=\"toc-item\"><li><span><a href=\"#找到测试集合中出现但是在训练集中未出现的\" data-toc-modified-id=\"找到测试集合中出现但是在训练集中未出现的-4.4.1\"><span class=\"toc-item-num\">4.4.1&nbsp;&nbsp;</span>找到测试集合中出现但是在训练集中未出现的</a></span></li><li><span><a href=\"#根据EDA结果设计规则\" data-toc-modified-id=\"根据EDA结果设计规则-4.4.2\"><span class=\"toc-item-num\">4.4.2&nbsp;&nbsp;</span>根据EDA结果设计规则</a></span></li></ul></li></ul></li><li><span><a href=\"#小结\" data-toc-modified-id=\"小结-5\"><span class=\"toc-item-num\">5&nbsp;&nbsp;</span>小结</a></span></li></ul></div>"
   ]
  },
  {
   "cell_type": "markdown",
   "metadata": {},
   "source": [
    "\n",
    "#  工具包导入 & 数据读取\n",
    "##  工具包导入"
   ]
  },
  {
   "cell_type": "code",
   "execution_count": 1,
   "metadata": {},
   "outputs": [
    {
     "name": "stderr",
     "output_type": "stream",
     "text": [
      "/opt/conda/envs/zjpy36/lib/python3.6/site-packages/sklearn/cross_validation.py:41: DeprecationWarning: This module was deprecated in version 0.18 in favor of the model_selection module into which all the refactored classes and functions are moved. Also note that the interface of the new CV iterators are different from that of this module. This module will be removed in 0.20.\n",
      "  \"This module will be removed in 0.20.\", DeprecationWarning)\n"
     ]
    }
   ],
   "source": [
    "import pandas as pd\n",
    "import numpy as np\n",
    "import matplotlib.pyplot as plt\n",
    "import lightgbm as lgb \n",
    "import xgboost as xgb\n",
    "from sklearn.metrics import f1_score\n",
    "import warnings\n",
    "import missingno as msno\n",
    "import seaborn as sns\n",
    "warnings.filterwarnings(\"ignore\")\n",
    "%matplotlib inline"
   ]
  },
  {
   "cell_type": "markdown",
   "metadata": {},
   "source": [
    "## 读取数据"
   ]
  },
  {
   "cell_type": "code",
   "execution_count": 2,
   "metadata": {},
   "outputs": [],
   "source": [
    "train = pd.read_csv('/data/NJGY/train/dataset.csv')\n",
    "test = pd.read_csv('/data/NJGY/test/testing_set_for_users.csv')\n",
    "train.drop('Unnamed: 0',axis=1,inplace=True)\n",
    "dbd_faultcode = pd.read_csv('/data/NJGY/train/dbd_faultcode.csv',encoding='gbk')"
   ]
  },
  {
   "cell_type": "markdown",
   "metadata": {},
   "source": [
    "# 数据预处理\n",
    "## Label构建 & 数据集删选\n",
    "\n",
    "因为官方说明测试集中的数据仅仅只有故障码为1206,1239,1141,1174以及1182五个，此处我们选择从所有的数据集中选取此5种故障码对应的数据集，并以此作为数据集训练得到我们的第一个模型。\n",
    "\n",
    "### Label构建\n",
    "#### 构建映射字典 "
   ]
  },
  {
   "cell_type": "code",
   "execution_count": 3,
   "metadata": {},
   "outputs": [],
   "source": [
    "def SPN_FMI_2_Code(Spn_fmis,Codes):\n",
    "    spn_fmi_dict = {}\n",
    "    for i in range(len(Spn_fmis)):\n",
    "        spn_fmi_dict[Spn_fmis[i]] = Codes[i]\n",
    "    return spn_fmi_dict "
   ]
  },
  {
   "cell_type": "markdown",
   "metadata": {},
   "source": [
    "#### 故障码的转换"
   ]
  },
  {
   "cell_type": "code",
   "execution_count": 4,
   "metadata": {},
   "outputs": [],
   "source": [
    "dbd_faultcode['SPN_FMI'] = dbd_faultcode['SPN'].fillna(-1).astype(int).astype(str) + '_' + dbd_faultcode['FMI'].fillna(-1).astype(int).astype(str)\n",
    "train['SPN_FMI'] = train['SPN'].fillna(-1).astype(int).astype(str) + '_' + train['FMI'].fillna(-1).astype(int).astype(str)\n",
    "\n",
    "spn_fmi_dict = SPN_FMI_2_Code(dbd_faultcode['SPN_FMI'].values,dbd_faultcode['CODE'].values)\n",
    "spn_fmi_dict['-1_-1'] = -1"
   ]
  },
  {
   "cell_type": "code",
   "execution_count": 5,
   "metadata": {},
   "outputs": [],
   "source": [
    "def transfer_2_code(x):\n",
    "    if x in spn_fmi_dict.keys():\n",
    "        return spn_fmi_dict[x]\n",
    "    return -1\n",
    "\n",
    "train['SPN_FMI_Code']  = train['SPN_FMI'].apply(transfer_2_code)"
   ]
  },
  {
   "cell_type": "code",
   "execution_count": 17,
   "metadata": {},
   "outputs": [
    {
     "data": {
      "text/plain": [
       "-1       1649858\n",
       " 1206     215738\n",
       " 1239       8194\n",
       " 1141       1075\n",
       " 1182        144\n",
       " 1168         41\n",
       " 1211         24\n",
       " 1216          4\n",
       " 1209          4\n",
       " 1145          2\n",
       " 1341          1\n",
       " 1246          1\n",
       " 1215          1\n",
       " 1122          1\n",
       "Name: SPN_FMI_Code, dtype: int64"
      ]
     },
     "execution_count": 17,
     "metadata": {},
     "output_type": "execute_result"
    }
   ],
   "source": [
    "train['SPN_FMI_Code'].value_counts()"
   ]
  },
  {
   "cell_type": "markdown",
   "metadata": {},
   "source": [
    "### 数据集删选"
   ]
  },
  {
   "cell_type": "code",
   "execution_count": 7,
   "metadata": {},
   "outputs": [],
   "source": [
    "sel_code = [1206,1239,1141,1174,1182]\n",
    "train_selected = train[train.SPN_FMI_Code.isin(sel_code)].copy()"
   ]
  },
  {
   "cell_type": "markdown",
   "metadata": {},
   "source": [
    "## 数据预处理\n",
    "我们将训练集&测试集以此方便我们的操作。"
   ]
  },
  {
   "cell_type": "code",
   "execution_count": 8,
   "metadata": {},
   "outputs": [],
   "source": [
    "data = pd.concat([train_selected,test],axis=0,ignore_index=True)"
   ]
  },
  {
   "cell_type": "markdown",
   "metadata": {},
   "source": [
    "\n",
    "### 删除全为空的特征列"
   ]
  },
  {
   "cell_type": "code",
   "execution_count": 9,
   "metadata": {},
   "outputs": [],
   "source": [
    "cols_2_del = data.columns[data.isnull().sum(axis=0) == data.shape[0]]"
   ]
  },
  {
   "cell_type": "code",
   "execution_count": 10,
   "metadata": {
    "scrolled": true
   },
   "outputs": [],
   "source": [
    "data.drop(cols_2_del,axis=1,inplace = True)"
   ]
  },
  {
   "cell_type": "markdown",
   "metadata": {},
   "source": [
    "### 删除只有一个值的特征列"
   ]
  },
  {
   "cell_type": "code",
   "execution_count": 11,
   "metadata": {},
   "outputs": [
    {
     "data": {
      "text/plain": [
       "Index([], dtype='object')"
      ]
     },
     "execution_count": 11,
     "metadata": {},
     "output_type": "execute_result"
    }
   ],
   "source": [
    "cols_with_oneval = data.columns[data.nunique(axis=0) == 1]\n",
    "cols_with_oneval"
   ]
  },
  {
   "cell_type": "code",
   "execution_count": 12,
   "metadata": {},
   "outputs": [],
   "source": [
    "data.drop(cols_with_oneval,axis=1,inplace =True) "
   ]
  },
  {
   "cell_type": "markdown",
   "metadata": {},
   "source": [
    "### 删除一些暂且无用的特征"
   ]
  },
  {
   "cell_type": "code",
   "execution_count": 13,
   "metadata": {},
   "outputs": [],
   "source": [
    "meaningless_cols = ['FAULTTIME','FMI','SPN','SPN_FMI']\n",
    "data.drop(meaningless_cols,axis=1,inplace = True)"
   ]
  },
  {
   "cell_type": "markdown",
   "metadata": {
    "scrolled": true
   },
   "source": [
    "### 训练集 & 测试集划分"
   ]
  },
  {
   "cell_type": "code",
   "execution_count": 14,
   "metadata": {},
   "outputs": [],
   "source": [
    "train_data = data.iloc[:train_selected.shape[0],:]\n",
    "test_data =  data.iloc[train_selected.shape[0]:,:]"
   ]
  },
  {
   "cell_type": "code",
   "execution_count": 15,
   "metadata": {},
   "outputs": [
    {
     "data": {
      "text/html": [
       "<div>\n",
       "<style scoped>\n",
       "    .dataframe tbody tr th:only-of-type {\n",
       "        vertical-align: middle;\n",
       "    }\n",
       "\n",
       "    .dataframe tbody tr th {\n",
       "        vertical-align: top;\n",
       "    }\n",
       "\n",
       "    .dataframe thead th {\n",
       "        text-align: right;\n",
       "    }\n",
       "</style>\n",
       "<table border=\"1\" class=\"dataframe\">\n",
       "  <thead>\n",
       "    <tr style=\"text-align: right;\">\n",
       "      <th></th>\n",
       "      <th>ACCRUNTIMES</th>\n",
       "      <th>AREA</th>\n",
       "      <th>CITY</th>\n",
       "      <th>COLLECTTIME</th>\n",
       "      <th>FRID</th>\n",
       "      <th>LAT</th>\n",
       "      <th>LNG</th>\n",
       "      <th>PROVINCE</th>\n",
       "      <th>READFLAG</th>\n",
       "      <th>SPN_FMI_Code</th>\n",
       "      <th>UNIQUENO</th>\n",
       "      <th>idx</th>\n",
       "    </tr>\n",
       "  </thead>\n",
       "  <tbody>\n",
       "    <tr>\n",
       "      <th>0</th>\n",
       "      <td>979.0</td>\n",
       "      <td>341322.0</td>\n",
       "      <td>341300.0</td>\n",
       "      <td>2018-04-01 06:23:45</td>\n",
       "      <td>2357817.0</td>\n",
       "      <td>34.108867</td>\n",
       "      <td>34.108867</td>\n",
       "      <td>340000.0</td>\n",
       "      <td>1.0</td>\n",
       "      <td>1206.0</td>\n",
       "      <td>201704140835245913</td>\n",
       "      <td>NaN</td>\n",
       "    </tr>\n",
       "    <tr>\n",
       "      <th>1</th>\n",
       "      <td>979.0</td>\n",
       "      <td>341322.0</td>\n",
       "      <td>341300.0</td>\n",
       "      <td>2018-04-01 06:25:45</td>\n",
       "      <td>2357818.0</td>\n",
       "      <td>34.108877</td>\n",
       "      <td>34.108877</td>\n",
       "      <td>340000.0</td>\n",
       "      <td>1.0</td>\n",
       "      <td>1206.0</td>\n",
       "      <td>201704140835245913</td>\n",
       "      <td>NaN</td>\n",
       "    </tr>\n",
       "    <tr>\n",
       "      <th>2</th>\n",
       "      <td>979.0</td>\n",
       "      <td>341322.0</td>\n",
       "      <td>341300.0</td>\n",
       "      <td>2018-04-01 06:27:45</td>\n",
       "      <td>2357819.0</td>\n",
       "      <td>34.108891</td>\n",
       "      <td>34.108891</td>\n",
       "      <td>340000.0</td>\n",
       "      <td>1.0</td>\n",
       "      <td>1206.0</td>\n",
       "      <td>201704140835245913</td>\n",
       "      <td>NaN</td>\n",
       "    </tr>\n",
       "    <tr>\n",
       "      <th>3</th>\n",
       "      <td>979.0</td>\n",
       "      <td>341322.0</td>\n",
       "      <td>341300.0</td>\n",
       "      <td>2018-04-01 06:29:45</td>\n",
       "      <td>2357821.0</td>\n",
       "      <td>34.109057</td>\n",
       "      <td>34.109057</td>\n",
       "      <td>340000.0</td>\n",
       "      <td>1.0</td>\n",
       "      <td>1206.0</td>\n",
       "      <td>201704140835245913</td>\n",
       "      <td>NaN</td>\n",
       "    </tr>\n",
       "    <tr>\n",
       "      <th>4</th>\n",
       "      <td>979.0</td>\n",
       "      <td>341322.0</td>\n",
       "      <td>341300.0</td>\n",
       "      <td>2018-04-01 06:31:45</td>\n",
       "      <td>2357822.0</td>\n",
       "      <td>34.109043</td>\n",
       "      <td>34.109043</td>\n",
       "      <td>340000.0</td>\n",
       "      <td>1.0</td>\n",
       "      <td>1206.0</td>\n",
       "      <td>201704140835245913</td>\n",
       "      <td>NaN</td>\n",
       "    </tr>\n",
       "  </tbody>\n",
       "</table>\n",
       "</div>"
      ],
      "text/plain": [
       "   ACCRUNTIMES      AREA      CITY          COLLECTTIME       FRID        LAT  \\\n",
       "0        979.0  341322.0  341300.0  2018-04-01 06:23:45  2357817.0  34.108867   \n",
       "1        979.0  341322.0  341300.0  2018-04-01 06:25:45  2357818.0  34.108877   \n",
       "2        979.0  341322.0  341300.0  2018-04-01 06:27:45  2357819.0  34.108891   \n",
       "3        979.0  341322.0  341300.0  2018-04-01 06:29:45  2357821.0  34.109057   \n",
       "4        979.0  341322.0  341300.0  2018-04-01 06:31:45  2357822.0  34.109043   \n",
       "\n",
       "         LNG  PROVINCE  READFLAG  SPN_FMI_Code            UNIQUENO  idx  \n",
       "0  34.108867  340000.0       1.0        1206.0  201704140835245913  NaN  \n",
       "1  34.108877  340000.0       1.0        1206.0  201704140835245913  NaN  \n",
       "2  34.108891  340000.0       1.0        1206.0  201704140835245913  NaN  \n",
       "3  34.109057  340000.0       1.0        1206.0  201704140835245913  NaN  \n",
       "4  34.109043  340000.0       1.0        1206.0  201704140835245913  NaN  "
      ]
     },
     "execution_count": 15,
     "metadata": {},
     "output_type": "execute_result"
    }
   ],
   "source": [
    "train_data.head()"
   ]
  },
  {
   "cell_type": "markdown",
   "metadata": {},
   "source": [
    "# 特征工程(一共11个特征）"
   ]
  },
  {
   "cell_type": "markdown",
   "metadata": {},
   "source": [
    "## COLLECTTIME(因为训练集和测试集中的COLLECTTIME没有交叉，我们直接删除）"
   ]
  },
  {
   "cell_type": "code",
   "execution_count": 18,
   "metadata": {},
   "outputs": [],
   "source": [
    "train_data.drop('COLLECTTIME',axis=1,inplace=True)\n",
    "test_data.drop('COLLECTTIME',axis=1,inplace=True)"
   ]
  },
  {
   "cell_type": "markdown",
   "metadata": {},
   "source": [
    "## PROVINCE & CITY & AREA\n",
    "- 因为这些特征存在属于关系，即 $AREA \\in CITY \\in PROVINCE$, 所以在建模的时候我们可以选择AREA而暂时忽略PROVINCE和CITY。"
   ]
  },
  {
   "cell_type": "markdown",
   "metadata": {},
   "source": [
    "## READFLAG \n",
    "因为READFLAG只有0和1两个，所以此处我们无需做过多处理。"
   ]
  },
  {
   "cell_type": "markdown",
   "metadata": {},
   "source": [
    "## UNIQUENO\n",
    "在EDA模块我们发现该特征具有非常强的局部聚类属性，而且训练集和测试集中的交叉达到了90%以上，所以该特征我们直接作为特征进行加入"
   ]
  },
  {
   "cell_type": "code",
   "execution_count": 19,
   "metadata": {},
   "outputs": [],
   "source": [
    "# codes = [1206, 1141, 1182, 1239]\n",
    "# codes_2_area = {}\n",
    "# tmp = train_selected.groupby('SPN_FMI_Code')['AREA'].unique()\n",
    "# for code in codes: \n",
    "#     codes_2_area[code] = tmp.loc[code]\n",
    "# for code in codes: \n",
    "#     train_data['AREAcode_' + str(code)] = train_data['AREA'].apply(lambda x: 1 if x in codes_2_area[code] else 0)\n",
    "#     test_data['AREAcode_' + str(code)] = test_data['AREA'].apply(lambda x: 1 if x in codes_2_area[code] else 0)\n",
    "\n",
    "\n",
    "# codes = [1206, 1141, 1182, 1239]\n",
    "# codes_2_area = {}\n",
    "# tmp = train_selected.groupby('SPN_FMI_Code')['UNIQUENO'].unique()\n",
    "# for code in codes: \n",
    "#     codes_2_area[code] = tmp.loc[code] \n",
    "\n",
    "# for code in codes: \n",
    "#     train_data['UNIQUENOcode_' + str(code)] = train_data['UNIQUENO'].apply(lambda x: 1 if x in codes_2_area[code] else 0)\n",
    "#     test_data['UNIQUENOcode_' + str(code)] = test_data['UNIQUENO'].apply(lambda x: 1 if x in codes_2_area[code] else 0)"
   ]
  },
  {
   "cell_type": "markdown",
   "metadata": {},
   "source": [
    "# 模型训练 & 验证 & 测试\n",
    "## 训练特征选取 & 评价指标 & Label转换¶\n",
    "### 训练特征选取解释\n",
    " 此处我们选择下面四个特征作为我们的训练特征，理由如下：\n",
    " - 我们认为经纬度过细，更加容易造成过拟合，同时AREA特征已经相对较细，等价于(LAT,LNG)的聚类特征，所以我们此处直接使用AREA取代(LAT,LNG)特征;\n",
    " - UNIQUENO拥有较强的聚类属性，所以此处我们选择保留；\n",
    " - ACCRUNTIMES拥有非常好的分类属性(3902的特征普遍大于4000,1802则普遍较低)\n",
    " - READFLAG也有很强的分类属性,所以此处我们直接使用\n",
    " - PROVINCE,CITY属于粗粒度特征,因为我们已经使用了AREA，所以这些特征可以不适用;\n",
    " - FRID特征在做EDA的时候我们发现有较大的波动性，所以可能会带来过拟合，我们此处还是选择不适用。\n",
    " - COLLECTTIME & FAULTTIME和测试集没有交叉,所以为模型预测带来较大的帮助，所以在使用模型的时候我们选择暂时不适用。\n"
   ]
  },
  {
   "cell_type": "code",
   "execution_count": 20,
   "metadata": {},
   "outputs": [],
   "source": [
    "train_features = ['ACCRUNTIMES','READFLAG','AREA','UNIQUENO']\n",
    "train_label = 'SPN_FMI_Code'"
   ]
  },
  {
   "cell_type": "markdown",
   "metadata": {},
   "source": [
    "### 评价指标设计"
   ]
  },
  {
   "cell_type": "code",
   "execution_count": 21,
   "metadata": {},
   "outputs": [],
   "source": [
    "def lgb_f1_score(preds,data):\n",
    "    labels_ = data.get_label()\n",
    "    classes_ = np.unique(labels_) \n",
    "    preds_prob = []\n",
    "    for i in range(len(classes_)):\n",
    "        preds_prob.append(preds[i*len(labels_):(i+1) * len(labels_)] )\n",
    "    preds_prob_ = np.vstack(preds_prob)\n",
    "    preds_ = np.argmax(preds_prob_,axis=0) \n",
    "    f_score = []\n",
    "    for class_ in classes_:\n",
    "        pred_label = (preds_ == class_)\n",
    "        true_label = (labels_ == class_) \n",
    "        tmp_fscore = f1_score(y_pred = pred_label, y_true = true_label) \n",
    "        f_score.append(tmp_fscore)\n",
    "    return 'class ' + str(classes_[3]) + '_' + str(f_score[3])+', class ' + str(classes_[2])+ '_' + str(f_score[2])+ ', class ' + str(classes_[1])+'_' + str(f_score[1])+', class' + str(classes_[0])+'_' +str(f_score[0]),(np.sum(f_score) / 5),True"
   ]
  },
  {
   "cell_type": "markdown",
   "metadata": {},
   "source": [
    "### Label转换"
   ]
  },
  {
   "cell_type": "code",
   "execution_count": 22,
   "metadata": {},
   "outputs": [],
   "source": [
    "Code_2_Label = {}\n",
    "Code_2_Label[1206] = 0\n",
    "Code_2_Label[1239] = 1\n",
    "Code_2_Label[1141] = 2\n",
    "Code_2_Label[1182] = 3  \n",
    "Code_2_Label[1174] = 4  \n",
    "train_data['SPN_FMI_Code'] = train_data['SPN_FMI_Code'].apply(lambda x: Code_2_Label[x])"
   ]
  },
  {
   "cell_type": "markdown",
   "metadata": {},
   "source": [
    "## 模型训练 & 验证\n",
    "- 因为本次比赛我们通过EDA发现数据集是存在时间关系的，所以我们在做验证的时候需要按照时间排序，这样才可以获取较为精准的验证结果。\n",
    "\n",
    "通过下面的验证结果我们得到如下的结论(下面的参数是多次线下得到的最优的参数)：\n",
    "1. 故障为1182（即3）是预测不准确的；（F1的值为0）\n",
    "2. 按照线下的结果来看，线上大概可以获得0.58左右的分数.\n"
   ]
  },
  {
   "cell_type": "code",
   "execution_count": 23,
   "metadata": {},
   "outputs": [],
   "source": [
    "train_data = train_data.sort_values('COLLECTTIME')\n",
    "train_data_1 = train_data.iloc[:int(train_data.shape[0] * 0.8),:]\n",
    "val_data_1 = train_data.iloc[int(train_data.shape[0] * 0.8):,:]"
   ]
  },
  {
   "cell_type": "code",
   "execution_count": 24,
   "metadata": {
    "scrolled": true
   },
   "outputs": [
    {
     "name": "stdout",
     "output_type": "stream",
     "text": [
      "[1]\ttraining's multi_logloss: 1.27163\ttraining's class 3_0.848, class 2_0.9417535254445126, class 1_1.0, class0_0.9996342071079031: 0.757878\tvalid_1's multi_logloss: 1.27262\tvalid_1's class 3_0.0, class 2_0.6025236593059937, class 1_1.0, class0_0.9963757352504307: 0.51978\n",
      "Training until validation scores don't improve for 300 rounds.\n",
      "[2]\ttraining's multi_logloss: 1.18546\ttraining's class 3_0.848, class 2_0.9417535254445126, class 1_1.0, class0_0.9996342071079031: 0.757878\tvalid_1's multi_logloss: 1.18724\tvalid_1's class 3_0.0, class 2_0.6025236593059937, class 1_1.0, class0_0.9963757352504307: 0.51978\n",
      "[3]\ttraining's multi_logloss: 1.10762\ttraining's class 3_0.848, class 2_0.9417535254445126, class 1_1.0, class0_0.9996342071079031: 0.757878\tvalid_1's multi_logloss: 1.11011\tvalid_1's class 3_0.0, class 2_0.6025236593059937, class 1_1.0, class0_0.9963757352504307: 0.51978\n",
      "[4]\ttraining's multi_logloss: 1.03682\ttraining's class 3_0.848, class 2_0.9417535254445126, class 1_1.0, class0_0.9996342071079031: 0.757878\tvalid_1's multi_logloss: 1.04001\tvalid_1's class 3_0.0, class 2_0.6025236593059937, class 1_1.0, class0_0.9963757352504307: 0.51978\n",
      "[5]\ttraining's multi_logloss: 0.972104\ttraining's class 3_0.848, class 2_0.9417535254445126, class 1_1.0, class0_0.9996342071079031: 0.757878\tvalid_1's multi_logloss: 0.975935\tvalid_1's class 3_0.0, class 2_0.6025236593059937, class 1_1.0, class0_0.9963757352504307: 0.51978\n",
      "[6]\ttraining's multi_logloss: 0.91267\ttraining's class 3_0.848, class 2_0.9417535254445126, class 1_1.0, class0_0.9996342071079031: 0.757878\tvalid_1's multi_logloss: 0.917125\tvalid_1's class 3_0.0, class 2_0.6025236593059937, class 1_1.0, class0_0.9963757352504307: 0.51978\n",
      "[7]\ttraining's multi_logloss: 0.857887\ttraining's class 3_0.848, class 2_0.9417535254445126, class 1_1.0, class0_0.9996342071079031: 0.757878\tvalid_1's multi_logloss: 0.862938\tvalid_1's class 3_0.0, class 2_0.6025236593059937, class 1_1.0, class0_0.9963757352504307: 0.51978\n",
      "[8]\ttraining's multi_logloss: 0.807229\ttraining's class 3_0.848, class 2_0.9417535254445126, class 1_1.0, class0_0.9996342071079031: 0.757878\tvalid_1's multi_logloss: 0.812861\tvalid_1's class 3_0.0, class 2_0.6025236593059937, class 1_1.0, class0_0.9963757352504307: 0.51978\n",
      "[9]\ttraining's multi_logloss: 0.760257\ttraining's class 3_0.848, class 2_0.9417535254445126, class 1_1.0, class0_0.9996342071079031: 0.757878\tvalid_1's multi_logloss: 0.766487\tvalid_1's class 3_0.0, class 2_0.6025236593059937, class 1_1.0, class0_0.9963757352504307: 0.51978\n",
      "[10]\ttraining's multi_logloss: 0.716602\ttraining's class 3_0.848, class 2_0.9417535254445126, class 1_1.0, class0_0.9996342071079031: 0.757878\tvalid_1's multi_logloss: 0.72336\tvalid_1's class 3_0.0, class 2_0.6025236593059937, class 1_1.0, class0_0.9963757352504307: 0.51978\n",
      "[11]\ttraining's multi_logloss: 0.675944\ttraining's class 3_0.848, class 2_0.9417535254445126, class 1_1.0, class0_0.9996342071079031: 0.757878\tvalid_1's multi_logloss: 0.68322\tvalid_1's class 3_0.0, class 2_0.6025236593059937, class 1_1.0, class0_0.9963757352504307: 0.51978\n",
      "[12]\ttraining's multi_logloss: 0.638008\ttraining's class 3_0.848, class 2_0.9417535254445126, class 1_1.0, class0_0.9996342071079031: 0.757878\tvalid_1's multi_logloss: 0.645777\tvalid_1's class 3_0.0, class 2_0.6025236593059937, class 1_1.0, class0_0.9963757352504307: 0.51978\n",
      "[13]\ttraining's multi_logloss: 0.602554\ttraining's class 3_0.848, class 2_0.9417535254445126, class 1_1.0, class0_0.9996342071079031: 0.757878\tvalid_1's multi_logloss: 0.610844\tvalid_1's class 3_0.0, class 2_0.6025236593059937, class 1_1.0, class0_0.9963757352504307: 0.51978\n",
      "[14]\ttraining's multi_logloss: 0.569371\ttraining's class 3_0.848, class 2_0.9436964504283966, class 1_1.0, class0_0.9996428447987834: 0.758268\tvalid_1's multi_logloss: 0.578146\tvalid_1's class 3_0.0, class 2_0.6025236593059937, class 1_1.0, class0_0.9963757352504307: 0.51978\n",
      "[15]\ttraining's multi_logloss: 0.538275\ttraining's class 3_0.848, class 2_0.9436964504283966, class 1_1.0, class0_0.9996428447987834: 0.758268\tvalid_1's multi_logloss: 0.547512\tvalid_1's class 3_0.0, class 2_0.6025236593059937, class 1_1.0, class0_0.9963757352504307: 0.51978\n",
      "[16]\ttraining's multi_logloss: 0.509107\ttraining's class 3_0.848, class 2_0.9436964504283966, class 1_1.0, class0_0.9996428447987834: 0.758268\tvalid_1's multi_logloss: 0.51882\tvalid_1's class 3_0.0, class 2_0.6025236593059937, class 1_1.0, class0_0.9963757352504307: 0.51978\n",
      "[17]\ttraining's multi_logloss: 0.481711\ttraining's class 3_0.848, class 2_0.9436964504283966, class 1_1.0, class0_0.9996428447987834: 0.758268\tvalid_1's multi_logloss: 0.492009\tvalid_1's class 3_0.0, class 2_0.6025236593059937, class 1_1.0, class0_0.9963757352504307: 0.51978\n",
      "[18]\ttraining's multi_logloss: 0.455963\ttraining's class 3_0.848, class 2_0.9436964504283966, class 1_1.0, class0_0.9996428447987834: 0.758268\tvalid_1's multi_logloss: 0.466852\tvalid_1's class 3_0.0, class 2_0.6025236593059937, class 1_1.0, class0_0.9963757352504307: 0.51978\n",
      "[19]\ttraining's multi_logloss: 0.431738\ttraining's class 3_0.848, class 2_0.9436964504283966, class 1_1.0, class0_0.9996428447987834: 0.758268\tvalid_1's multi_logloss: 0.443213\tvalid_1's class 3_0.0, class 2_0.6025236593059937, class 1_1.0, class0_0.9963757352504307: 0.51978\n",
      "[20]\ttraining's multi_logloss: 0.408928\ttraining's class 3_0.848, class 2_0.9436964504283966, class 1_1.0, class0_0.9996428447987834: 0.758268\tvalid_1's multi_logloss: 0.420938\tvalid_1's class 3_0.0, class 2_0.6025236593059937, class 1_1.0, class0_0.9963757352504307: 0.51978\n",
      "[21]\ttraining's multi_logloss: 0.387441\ttraining's class 3_0.848, class 2_0.9436964504283966, class 1_1.0, class0_0.9996428447987834: 0.758268\tvalid_1's multi_logloss: 0.399985\tvalid_1's class 3_0.0, class 2_0.6025236593059937, class 1_1.0, class0_0.9963757352504307: 0.51978\n",
      "[22]\ttraining's multi_logloss: 0.367183\ttraining's class 3_0.848, class 2_0.9436964504283966, class 1_1.0, class0_0.9996428447987834: 0.758268\tvalid_1's multi_logloss: 0.380245\tvalid_1's class 3_0.0, class 2_0.6025236593059937, class 1_1.0, class0_0.9963757352504307: 0.51978\n",
      "[23]\ttraining's multi_logloss: 0.348071\ttraining's class 3_0.848, class 2_0.9436964504283966, class 1_1.0, class0_0.9996428447987834: 0.758268\tvalid_1's multi_logloss: 0.36163\tvalid_1's class 3_0.0, class 2_0.6025236593059937, class 1_1.0, class0_0.9963757352504307: 0.51978\n",
      "[24]\ttraining's multi_logloss: 0.330037\ttraining's class 3_0.848, class 2_0.9436964504283966, class 1_1.0, class0_0.9996428447987834: 0.758268\tvalid_1's multi_logloss: 0.344089\tvalid_1's class 3_0.0, class 2_0.6025236593059937, class 1_1.0, class0_0.9963757352504307: 0.51978\n",
      "[25]\ttraining's multi_logloss: 0.313001\ttraining's class 3_0.848, class 2_0.9436964504283966, class 1_1.0, class0_0.9996428447987834: 0.758268\tvalid_1's multi_logloss: 0.327371\tvalid_1's class 3_0.0, class 2_0.6025236593059937, class 1_1.0, class0_0.9963757352504307: 0.51978\n",
      "[26]\ttraining's multi_logloss: 0.296906\ttraining's class 3_0.848, class 2_0.9469188529591215, class 1_1.0, class0_0.9996572412819752: 0.758915\tvalid_1's multi_logloss: 0.3116\tvalid_1's class 3_0.0, class 2_0.6025236593059937, class 1_1.0, class0_0.9963757352504307: 0.51978\n",
      "[27]\ttraining's multi_logloss: 0.281692\ttraining's class 3_0.848, class 2_0.9469188529591215, class 1_1.0, class0_0.9996572412819752: 0.758915\tvalid_1's multi_logloss: 0.296717\tvalid_1's class 3_0.0, class 2_0.6025236593059937, class 1_1.0, class0_0.9963757352504307: 0.51978\n",
      "[28]\ttraining's multi_logloss: 0.267307\ttraining's class 3_0.848, class 2_0.9469188529591215, class 1_1.0, class0_0.9996572412819752: 0.758915\tvalid_1's multi_logloss: 0.282657\tvalid_1's class 3_0.0, class 2_0.6025236593059937, class 1_1.0, class0_0.9963757352504307: 0.51978\n",
      "[29]\ttraining's multi_logloss: 0.253702\ttraining's class 3_0.848, class 2_0.9469188529591215, class 1_1.0, class0_0.9996572412819752: 0.758915\tvalid_1's multi_logloss: 0.269375\tvalid_1's class 3_0.0, class 2_0.6025236593059937, class 1_1.0, class0_0.9963757352504307: 0.51978\n",
      "[30]\ttraining's multi_logloss: 0.240829\ttraining's class 3_0.848, class 2_0.9469188529591215, class 1_1.0, class0_0.9996572412819752: 0.758915\tvalid_1's multi_logloss: 0.256828\tvalid_1's class 3_0.0, class 2_0.6025236593059937, class 1_1.0, class0_0.9963757352504307: 0.51978\n"
     ]
    },
    {
     "name": "stdout",
     "output_type": "stream",
     "text": [
      "[31]\ttraining's multi_logloss: 0.228646\ttraining's class 3_0.848, class 2_0.9469188529591215, class 1_1.0, class0_0.9996572412819752: 0.758915\tvalid_1's multi_logloss: 0.244969\tvalid_1's class 3_0.0, class 2_0.6025236593059937, class 1_1.0, class0_0.9963757352504307: 0.51978\n",
      "[32]\ttraining's multi_logloss: 0.217113\ttraining's class 3_0.848, class 2_0.9469188529591215, class 1_1.0, class0_0.9996572412819752: 0.758915\tvalid_1's multi_logloss: 0.233751\tvalid_1's class 3_0.0, class 2_0.6025236593059937, class 1_1.0, class0_0.9963757352504307: 0.51978\n",
      "[33]\ttraining's multi_logloss: 0.206193\ttraining's class 3_0.848, class 2_0.9469188529591215, class 1_1.0, class0_0.9996572412819752: 0.758915\tvalid_1's multi_logloss: 0.223117\tvalid_1's class 3_0.0, class 2_0.6025236593059937, class 1_1.0, class0_0.9963757352504307: 0.51978\n",
      "[34]\ttraining's multi_logloss: 0.19585\ttraining's class 3_0.848, class 2_0.9469188529591215, class 1_1.0, class0_0.9996572412819752: 0.758915\tvalid_1's multi_logloss: 0.213065\tvalid_1's class 3_0.0, class 2_0.6025236593059937, class 1_1.0, class0_0.9963757352504307: 0.51978\n",
      "[35]\ttraining's multi_logloss: 0.18605\ttraining's class 3_0.848, class 2_0.9469188529591215, class 1_1.0, class0_0.9996572412819752: 0.758915\tvalid_1's multi_logloss: 0.203555\tvalid_1's class 3_0.0, class 2_0.6025236593059937, class 1_1.0, class0_0.9963757352504307: 0.51978\n",
      "[36]\ttraining's multi_logloss: 0.176763\ttraining's class 3_0.848, class 2_0.9469188529591215, class 1_1.0, class0_0.9996572412819752: 0.758915\tvalid_1's multi_logloss: 0.194599\tvalid_1's class 3_0.0, class 2_0.6025236593059937, class 1_1.0, class0_0.9963757352504307: 0.51978\n",
      "[37]\ttraining's multi_logloss: 0.167962\ttraining's class 3_0.848, class 2_0.9469188529591215, class 1_1.0, class0_0.9996572412819752: 0.758915\tvalid_1's multi_logloss: 0.186125\tvalid_1's class 3_0.0, class 2_0.6025236593059937, class 1_1.0, class0_0.9963757352504307: 0.51978\n",
      "[38]\ttraining's multi_logloss: 0.159618\ttraining's class 3_0.848, class 2_0.9469188529591215, class 1_1.0, class0_0.9996572412819752: 0.758915\tvalid_1's multi_logloss: 0.178088\tvalid_1's class 3_0.0, class 2_0.6025236593059937, class 1_1.0, class0_0.9963757352504307: 0.51978\n",
      "[39]\ttraining's multi_logloss: 0.151706\ttraining's class 3_0.848, class 2_0.9469188529591215, class 1_1.0, class0_0.9996572412819752: 0.758915\tvalid_1's multi_logloss: 0.170491\tvalid_1's class 3_0.0, class 2_0.6025236593059937, class 1_1.0, class0_0.9963757352504307: 0.51978\n",
      "[40]\ttraining's multi_logloss: 0.144203\ttraining's class 3_0.848, class 2_0.9469188529591215, class 1_1.0, class0_0.9996572412819752: 0.758915\tvalid_1's multi_logloss: 0.163303\tvalid_1's class 3_0.0, class 2_0.6025236593059937, class 1_1.0, class0_0.9963757352504307: 0.51978\n",
      "[41]\ttraining's multi_logloss: 0.13707\ttraining's class 3_0.848, class 2_0.9469188529591215, class 1_1.0, class0_0.9996572412819752: 0.758915\tvalid_1's multi_logloss: 0.15612\tvalid_1's class 3_0.0, class 2_0.6025236593059937, class 1_1.0, class0_0.9963757352504307: 0.51978\n",
      "[42]\ttraining's multi_logloss: 0.1303\ttraining's class 3_0.848, class 2_0.9469188529591215, class 1_1.0, class0_0.9996572412819752: 0.758915\tvalid_1's multi_logloss: 0.149284\tvalid_1's class 3_0.0, class 2_0.6025236593059937, class 1_1.0, class0_0.9963757352504307: 0.51978\n",
      "[43]\ttraining's multi_logloss: 0.123878\ttraining's class 3_0.848, class 2_0.9469188529591215, class 1_1.0, class0_0.9996572412819752: 0.758915\tvalid_1's multi_logloss: 0.142789\tvalid_1's class 3_0.0, class 2_0.6025236593059937, class 1_1.0, class0_0.9963757352504307: 0.51978\n",
      "[44]\ttraining's multi_logloss: 0.117785\ttraining's class 3_0.848, class 2_0.9469188529591215, class 1_1.0, class0_0.9996572412819752: 0.758915\tvalid_1's multi_logloss: 0.136605\tvalid_1's class 3_0.0, class 2_0.6025236593059937, class 1_1.0, class0_0.9963757352504307: 0.51978\n",
      "[45]\ttraining's multi_logloss: 0.112002\ttraining's class 3_0.848, class 2_0.9469188529591215, class 1_1.0, class0_0.9996572412819752: 0.758915\tvalid_1's multi_logloss: 0.130728\tvalid_1's class 3_0.0, class 2_0.6025236593059937, class 1_1.0, class0_0.9963757352504307: 0.51978\n",
      "[46]\ttraining's multi_logloss: 0.106513\ttraining's class 3_0.848, class 2_0.9469188529591215, class 1_1.0, class0_0.9996572412819752: 0.758915\tvalid_1's multi_logloss: 0.125143\tvalid_1's class 3_0.0, class 2_0.6025236593059937, class 1_1.0, class0_0.9963757352504307: 0.51978\n",
      "[47]\ttraining's multi_logloss: 0.101299\ttraining's class 3_0.848, class 2_0.9469188529591215, class 1_1.0, class0_0.9996572412819752: 0.758915\tvalid_1's multi_logloss: 0.119751\tvalid_1's class 3_0.0, class 2_0.6025236593059937, class 1_1.0, class0_0.9963757352504307: 0.51978\n",
      "[48]\ttraining's multi_logloss: 0.0963495\ttraining's class 3_0.848, class 2_0.9469188529591215, class 1_1.0, class0_0.9996572412819752: 0.758915\tvalid_1's multi_logloss: 0.114625\tvalid_1's class 3_0.0, class 2_0.6025236593059937, class 1_1.0, class0_0.9963757352504307: 0.51978\n",
      "[49]\ttraining's multi_logloss: 0.0916506\ttraining's class 3_0.848, class 2_0.9469188529591215, class 1_1.0, class0_0.9996572412819752: 0.758915\tvalid_1's multi_logloss: 0.109751\tvalid_1's class 3_0.0, class 2_0.6025236593059937, class 1_1.0, class0_0.9963757352504307: 0.51978\n",
      "[50]\ttraining's multi_logloss: 0.0871888\ttraining's class 3_0.848, class 2_0.9526699029126214, class 1_1.0, class0_0.9996831559967049: 0.760071\tvalid_1's multi_logloss: 0.105113\tvalid_1's class 3_0.0, class 2_0.6025236593059937, class 1_1.0, class0_0.9963757352504307: 0.51978\n",
      "[51]\ttraining's multi_logloss: 0.082951\ttraining's class 3_0.848, class 2_0.9526699029126214, class 1_1.0, class0_0.9996831559967049: 0.760071\tvalid_1's multi_logloss: 0.1007\tvalid_1's class 3_0.0, class 2_0.6025236593059937, class 1_1.0, class0_0.9963757352504307: 0.51978\n",
      "[52]\ttraining's multi_logloss: 0.0789273\ttraining's class 3_0.848, class 2_0.9526699029126214, class 1_1.0, class0_0.9996831559967049: 0.760071\tvalid_1's multi_logloss: 0.096505\tvalid_1's class 3_0.0, class 2_0.6025236593059937, class 1_1.0, class0_0.9963757352504307: 0.51978\n",
      "[53]\ttraining's multi_logloss: 0.0751049\ttraining's class 3_0.848, class 2_0.9526699029126214, class 1_1.0, class0_0.9996831559967049: 0.760071\tvalid_1's multi_logloss: 0.0925123\tvalid_1's class 3_0.0, class 2_0.6025236593059937, class 1_1.0, class0_0.9963757352504307: 0.51978\n",
      "[54]\ttraining's multi_logloss: 0.0714755\ttraining's class 3_0.848, class 2_0.9526699029126214, class 1_1.0, class0_0.9996831559967049: 0.760071\tvalid_1's multi_logloss: 0.0887056\tvalid_1's class 3_0.0, class 2_0.6025236593059937, class 1_1.0, class0_0.9963757352504307: 0.51978\n",
      "[55]\ttraining's multi_logloss: 0.0680277\ttraining's class 3_0.848, class 2_0.9526699029126214, class 1_1.0, class0_0.9996831559967049: 0.760071\tvalid_1's multi_logloss: 0.0850823\tvalid_1's class 3_0.0, class 2_0.6025236593059937, class 1_1.0, class0_0.9963757352504307: 0.51978\n",
      "[56]\ttraining's multi_logloss: 0.0647509\ttraining's class 3_0.848, class 2_0.9526699029126214, class 1_1.0, class0_0.9996831559967049: 0.760071\tvalid_1's multi_logloss: 0.0816328\tvalid_1's class 3_0.0, class 2_0.6025236593059937, class 1_1.0, class0_0.9963757352504307: 0.51978\n",
      "[57]\ttraining's multi_logloss: 0.0616356\ttraining's class 3_0.848, class 2_0.9526699029126214, class 1_1.0, class0_0.9996831559967049: 0.760071\tvalid_1's multi_logloss: 0.078349\tvalid_1's class 3_0.0, class 2_0.6025236593059937, class 1_1.0, class0_0.9963757352504307: 0.51978\n",
      "[58]\ttraining's multi_logloss: 0.058675\ttraining's class 3_0.848, class 2_0.9545729860690492, class 1_1.0, class0_0.9996917945335296: 0.760453\tvalid_1's multi_logloss: 0.0752199\tvalid_1's class 3_0.0, class 2_0.6025236593059937, class 1_1.0, class0_0.9963757352504307: 0.51978\n",
      "[59]\ttraining's multi_logloss: 0.0558617\ttraining's class 3_0.848, class 2_0.9545729860690492, class 1_1.0, class0_0.9996917945335296: 0.760453\tvalid_1's multi_logloss: 0.0722405\tvalid_1's class 3_0.0, class 2_0.6025236593059937, class 1_1.0, class0_0.9963757352504307: 0.51978\n",
      "[60]\ttraining's multi_logloss: 0.0531895\ttraining's class 3_0.848, class 2_0.9545729860690492, class 1_1.0, class0_0.9996917945335296: 0.760453\tvalid_1's multi_logloss: 0.0694169\tvalid_1's class 3_0.0, class 2_0.6025236593059937, class 1_1.0, class0_0.9963757352504307: 0.51978\n"
     ]
    },
    {
     "name": "stdout",
     "output_type": "stream",
     "text": [
      "[61]\ttraining's multi_logloss: 0.0506503\ttraining's class 3_0.848, class 2_0.9545729860690492, class 1_1.0, class0_0.9996917945335296: 0.760453\tvalid_1's multi_logloss: 0.0667265\tvalid_1's class 3_0.0, class 2_0.6025236593059937, class 1_1.0, class0_0.9963757352504307: 0.51978\n",
      "[62]\ttraining's multi_logloss: 0.0482383\ttraining's class 3_0.848, class 2_0.9545729860690492, class 1_1.0, class0_0.9996917945335296: 0.760453\tvalid_1's multi_logloss: 0.0641672\tvalid_1's class 3_0.0, class 2_0.6015748031496063, class 1_1.0, class0_0.9963638092069301: 0.519588\n",
      "[63]\ttraining's multi_logloss: 0.0459457\ttraining's class 3_0.848, class 2_0.955837870538415, class 1_1.0, class0_0.9996975536410221: 0.760707\tvalid_1's multi_logloss: 0.0617187\tvalid_1's class 3_0.0, class 2_0.6015748031496063, class 1_1.0, class0_0.9963638092069301: 0.519588\n",
      "[64]\ttraining's multi_logloss: 0.043767\ttraining's class 3_0.848, class 2_0.955837870538415, class 1_1.0, class0_0.9996975536410221: 0.760707\tvalid_1's multi_logloss: 0.0593851\tvalid_1's class 3_0.0, class 2_0.6015748031496063, class 1_1.0, class0_0.9963638092069301: 0.519588\n",
      "[65]\ttraining's multi_logloss: 0.0416947\ttraining's class 3_0.848, class 2_0.955837870538415, class 1_1.0, class0_0.9996975536410221: 0.760707\tvalid_1's multi_logloss: 0.0571569\tvalid_1's class 3_0.0, class 2_0.6015748031496063, class 1_1.0, class0_0.9963638092069301: 0.519588\n",
      "[66]\ttraining's multi_logloss: 0.0397242\ttraining's class 3_0.848, class 2_0.955837870538415, class 1_1.0, class0_0.9996975536410221: 0.760707\tvalid_1's multi_logloss: 0.0551983\tvalid_1's class 3_0.0, class 2_0.6015748031496063, class 1_1.0, class0_0.9963638092069301: 0.519588\n",
      "[67]\ttraining's multi_logloss: 0.0378515\ttraining's class 3_0.848, class 2_0.955837870538415, class 1_1.0, class0_0.9996975536410221: 0.760707\tvalid_1's multi_logloss: 0.0533393\tvalid_1's class 3_0.0, class 2_0.6015748031496063, class 1_1.0, class0_0.9963638092069301: 0.519588\n",
      "[68]\ttraining's multi_logloss: 0.0360696\ttraining's class 3_0.848, class 2_0.955837870538415, class 1_1.0, class0_0.9996975536410221: 0.760707\tvalid_1's multi_logloss: 0.0514361\tvalid_1's class 3_0.0, class 2_0.6015748031496063, class 1_1.0, class0_0.9963638092069301: 0.519588\n",
      "[69]\ttraining's multi_logloss: 0.0343759\ttraining's class 3_0.848, class 2_0.9577294685990337, class 1_1.0, class0_0.9997061924266778: 0.761087\tvalid_1's multi_logloss: 0.0496237\tvalid_1's class 3_0.0, class 2_0.6015748031496063, class 1_1.0, class0_0.9963638092069301: 0.519588\n",
      "[70]\ttraining's multi_logloss: 0.0327654\ttraining's class 3_0.848, class 2_0.9577294685990337, class 1_1.0, class0_0.9997061924266778: 0.761087\tvalid_1's multi_logloss: 0.0479151\tvalid_1's class 3_0.0, class 2_0.6015748031496063, class 1_1.0, class0_0.9963638092069301: 0.519588\n",
      "[71]\ttraining's multi_logloss: 0.0312346\ttraining's class 3_0.848, class 2_0.963985594237695, class 1_1.0, class0_0.9997349894571893: 0.762344\tvalid_1's multi_logloss: 0.046289\tvalid_1's class 3_0.0, class 2_0.6015748031496063, class 1_1.0, class0_0.9963638092069301: 0.519588\n",
      "[72]\ttraining's multi_logloss: 0.0297775\ttraining's class 3_0.848, class 2_0.963985594237695, class 1_1.0, class0_0.9997349894571893: 0.762344\tvalid_1's multi_logloss: 0.0447503\tvalid_1's class 3_0.0, class 2_0.6015748031496063, class 1_1.0, class0_0.9963638092069301: 0.519588\n",
      "[73]\ttraining's multi_logloss: 0.0283929\ttraining's class 3_0.848, class 2_0.963985594237695, class 1_1.0, class0_0.9997349894571893: 0.762344\tvalid_1's multi_logloss: 0.0432675\tvalid_1's class 3_0.0, class 2_0.6015748031496063, class 1_1.0, class0_0.9963638092069301: 0.519588\n",
      "[74]\ttraining's multi_logloss: 0.0270753\ttraining's class 3_0.848, class 2_0.9645645645645646, class 1_1.0, class0_0.9997378707616439: 0.76246\tvalid_1's multi_logloss: 0.0418667\tvalid_1's class 3_0.0, class 2_0.6015748031496063, class 1_1.0, class0_0.9963638092069301: 0.519588\n",
      "[75]\ttraining's multi_logloss: 0.0258218\ttraining's class 3_0.848, class 2_0.9645645645645646, class 1_1.0, class0_0.9997378707616439: 0.76246\tvalid_1's multi_logloss: 0.0405192\tvalid_1's class 3_0.0, class 2_0.6015748031496063, class 1_1.0, class0_0.9963638092069301: 0.519588\n",
      "[76]\ttraining's multi_logloss: 0.0246294\ttraining's class 3_0.848, class 2_0.9645645645645646, class 1_1.0, class0_0.9997378707616439: 0.76246\tvalid_1's multi_logloss: 0.0392457\tvalid_1's class 3_0.0, class 2_0.6015748031496063, class 1_1.0, class0_0.9963638092069301: 0.519588\n",
      "[77]\ttraining's multi_logloss: 0.0234956\ttraining's class 3_0.848, class 2_0.9645645645645646, class 1_1.0, class0_0.9997378707616439: 0.76246\tvalid_1's multi_logloss: 0.0380206\tvalid_1's class 3_0.0, class 2_0.6015748031496063, class 1_1.0, class0_0.9963638092069301: 0.519588\n",
      "[78]\ttraining's multi_logloss: 0.022417\ttraining's class 3_0.848, class 2_0.9645645645645646, class 1_1.0, class0_0.9997378707616439: 0.76246\tvalid_1's multi_logloss: 0.0368521\tvalid_1's class 3_0.0, class 2_0.6015748031496063, class 1_1.0, class0_0.9963638092069301: 0.519588\n",
      "[79]\ttraining's multi_logloss: 0.0213891\ttraining's class 3_0.848, class 2_0.9645645645645646, class 1_1.0, class0_0.9997378707616439: 0.76246\tvalid_1's multi_logloss: 0.0357057\tvalid_1's class 3_0.0, class 2_0.6015748031496063, class 1_1.0, class0_0.9963638092069301: 0.519588\n",
      "[80]\ttraining's multi_logloss: 0.0204105\ttraining's class 3_0.848, class 2_0.9645645645645646, class 1_1.0, class0_0.9997378707616439: 0.76246\tvalid_1's multi_logloss: 0.0346071\tvalid_1's class 3_0.0, class 2_0.6015748031496063, class 1_1.0, class0_0.9963638092069301: 0.519588\n",
      "[81]\ttraining's multi_logloss: 0.0194804\ttraining's class 3_0.848, class 2_0.9651860744297718, class 1_1.0, class0_0.9997407505559459: 0.762585\tvalid_1's multi_logloss: 0.0335582\tvalid_1's class 3_0.0, class 2_0.6015748031496063, class 1_1.0, class0_0.9963638092069301: 0.519588\n",
      "[82]\ttraining's multi_logloss: 0.0185954\ttraining's class 3_0.848, class 2_0.9651860744297718, class 1_1.0, class0_0.9997407505559459: 0.762585\tvalid_1's multi_logloss: 0.0325558\tvalid_1's class 3_0.0, class 2_0.6015748031496063, class 1_1.0, class0_0.9963638092069301: 0.519588\n",
      "[83]\ttraining's multi_logloss: 0.0177542\ttraining's class 3_0.848, class 2_0.9651860744297718, class 1_1.0, class0_0.9997407505559459: 0.762585\tvalid_1's multi_logloss: 0.0315992\tvalid_1's class 3_0.0, class 2_0.6015748031496063, class 1_1.0, class0_0.9963638092069301: 0.519588\n",
      "[84]\ttraining's multi_logloss: 0.0169534\ttraining's class 3_0.848, class 2_0.9670461354104255, class 1_1.0, class0_0.999749390038398: 0.762959\tvalid_1's multi_logloss: 0.0306848\tvalid_1's class 3_0.0, class 2_0.6059654631083202, class 1_1.0, class0_0.996387489305067: 0.520471\n",
      "[85]\ttraining's multi_logloss: 0.0161924\ttraining's class 3_0.848, class 2_0.9670461354104255, class 1_1.0, class0_0.999749390038398: 0.762959\tvalid_1's multi_logloss: 0.0298122\tvalid_1's class 3_0.0, class 2_0.6059654631083202, class 1_1.0, class0_0.996387489305067: 0.520471\n",
      "[86]\ttraining's multi_logloss: 0.0154663\ttraining's class 3_0.848, class 2_0.9670461354104255, class 1_1.0, class0_0.999749390038398: 0.762959\tvalid_1's multi_logloss: 0.0289769\tvalid_1's class 3_0.0, class 2_0.6059654631083202, class 1_1.0, class0_0.996387489305067: 0.520471\n",
      "[87]\ttraining's multi_logloss: 0.0147771\ttraining's class 3_0.848, class 2_0.9670461354104255, class 1_1.0, class0_0.999749390038398: 0.762959\tvalid_1's multi_logloss: 0.0281856\tvalid_1's class 3_0.0, class 2_0.6059654631083202, class 1_1.0, class0_0.996387489305067: 0.520471\n",
      "[88]\ttraining's multi_logloss: 0.0141208\ttraining's class 3_0.848, class 2_0.9670461354104255, class 1_1.0, class0_0.999749390038398: 0.762959\tvalid_1's multi_logloss: 0.0274303\tvalid_1's class 3_0.0, class 2_0.6059654631083202, class 1_1.0, class0_0.996387489305067: 0.520471\n",
      "[89]\ttraining's multi_logloss: 0.0134969\ttraining's class 3_0.848, class 2_0.9670461354104255, class 1_1.0, class0_0.999749390038398: 0.762959\tvalid_1's multi_logloss: 0.0267095\tvalid_1's class 3_0.0, class 2_0.6059654631083202, class 1_1.0, class0_0.996387489305067: 0.520471\n",
      "[90]\ttraining's multi_logloss: 0.012903\ttraining's class 3_0.848, class 2_0.9670461354104255, class 1_1.0, class0_0.999749390038398: 0.762959\tvalid_1's multi_logloss: 0.0260216\tvalid_1's class 3_0.0, class 2_0.6059654631083202, class 1_1.0, class0_0.996387489305067: 0.520471\n"
     ]
    },
    {
     "name": "stdout",
     "output_type": "stream",
     "text": [
      "[91]\ttraining's multi_logloss: 0.0123384\ttraining's class 3_0.848, class 2_0.9670461354104255, class 1_1.0, class0_0.999749390038398: 0.762959\tvalid_1's multi_logloss: 0.0253655\tvalid_1's class 3_0.0, class 2_0.6059654631083202, class 1_1.0, class0_0.996387489305067: 0.520471\n",
      "[92]\ttraining's multi_logloss: 0.0118011\ttraining's class 3_0.848, class 2_0.9670461354104255, class 1_1.0, class0_0.999749390038398: 0.762959\tvalid_1's multi_logloss: 0.0247397\tvalid_1's class 3_0.0, class 2_0.6059654631083202, class 1_1.0, class0_0.996387489305067: 0.520471\n",
      "[93]\ttraining's multi_logloss: 0.0112895\ttraining's class 3_0.848, class 2_0.9670461354104255, class 1_1.0, class0_0.999749390038398: 0.762959\tvalid_1's multi_logloss: 0.0241396\tvalid_1's class 3_0.0, class 2_0.6059654631083202, class 1_1.0, class0_0.996387489305067: 0.520471\n",
      "[94]\ttraining's multi_logloss: 0.0108024\ttraining's class 3_0.848, class 2_0.9682824655894674, class 1_1.0, class0_0.9997551497763222: 0.763208\tvalid_1's multi_logloss: 0.0235508\tvalid_1's class 3_0.0, class 2_0.6059654631083202, class 1_1.0, class0_0.996387489305067: 0.520471\n",
      "[95]\ttraining's multi_logloss: 0.0103387\ttraining's class 3_0.848, class 2_0.9682824655894674, class 1_1.0, class0_0.9997551497763222: 0.763208\tvalid_1's multi_logloss: 0.0229833\tvalid_1's class 3_0.0, class 2_0.6059654631083202, class 1_1.0, class0_0.996387489305067: 0.520471\n",
      "[96]\ttraining's multi_logloss: 0.00989745\ttraining's class 3_0.848, class 2_0.9701314217443251, class 1_1.0, class0_0.9997637895076452: 0.763579\tvalid_1's multi_logloss: 0.022433\tvalid_1's class 3_0.0, class 2_0.6081504702194357, class 1_1.0, class0_0.9963993297762357: 0.52091\n",
      "[97]\ttraining's multi_logloss: 0.00947716\ttraining's class 3_0.848, class 2_0.9701314217443251, class 1_1.0, class0_0.9997637895076452: 0.763579\tvalid_1's multi_logloss: 0.0219277\tvalid_1's class 3_0.0, class 2_0.6081504702194357, class 1_1.0, class0_0.9963993297762357: 0.52091\n",
      "[98]\ttraining's multi_logloss: 0.00907706\ttraining's class 3_0.848, class 2_0.9701314217443251, class 1_1.0, class0_0.9997637895076452: 0.763579\tvalid_1's multi_logloss: 0.0214623\tvalid_1's class 3_0.0, class 2_0.6081504702194357, class 1_1.0, class0_0.9963993297762357: 0.52091\n",
      "[99]\ttraining's multi_logloss: 0.00869667\ttraining's class 3_0.848, class 2_0.9701314217443251, class 1_1.0, class0_0.9997637895076452: 0.763579\tvalid_1's multi_logloss: 0.0210269\tvalid_1's class 3_0.0, class 2_0.6081504702194357, class 1_1.0, class0_0.9963993297762357: 0.52091\n",
      "[100]\ttraining's multi_logloss: 0.00833439\ttraining's class 3_0.848, class 2_0.9707462686567164, class 1_1.0, class0_0.9997666694512699: 0.763703\tvalid_1's multi_logloss: 0.0206133\tvalid_1's class 3_0.0, class 2_0.6499162479061977, class 1_1.0, class0_0.9968880653743825: 0.529361\n",
      "[101]\ttraining's multi_logloss: 0.0079903\ttraining's class 3_0.848, class 2_0.9707462686567164, class 1_1.0, class0_0.9997666694512699: 0.763703\tvalid_1's multi_logloss: 0.020222\tvalid_1's class 3_0.0, class 2_0.6499162479061977, class 1_1.0, class0_0.9968880653743825: 0.529361\n",
      "[102]\ttraining's multi_logloss: 0.00766289\ttraining's class 3_0.848, class 2_0.9707462686567164, class 1_1.0, class0_0.9997666694512699: 0.763703\tvalid_1's multi_logloss: 0.0198514\tvalid_1's class 3_0.0, class 2_0.6499162479061977, class 1_1.0, class0_0.9968880653743825: 0.529361\n",
      "[103]\ttraining's multi_logloss: 0.00735055\ttraining's class 3_0.848, class 2_0.9707462686567164, class 1_1.0, class0_0.9997666694512699: 0.763703\tvalid_1's multi_logloss: 0.0194968\tvalid_1's class 3_0.0, class 2_0.9065420560747663, class 1_1.0, class0_0.9988975948601843: 0.581088\n",
      "[104]\ttraining's multi_logloss: 0.0070537\ttraining's class 3_0.848, class 2_0.9726190476190475, class 1_1.0, class0_0.9997753080871805: 0.764079\tvalid_1's multi_logloss: 0.0191592\tvalid_1's class 3_0.0, class 2_0.9065420560747663, class 1_1.0, class0_0.9988975948601843: 0.581088\n",
      "[105]\ttraining's multi_logloss: 0.00677145\ttraining's class 3_0.852589641434263, class 2_0.9726190476190475, class 1_1.0, class0_0.9997781881137634: 0.764997\tvalid_1's multi_logloss: 0.0188381\tvalid_1's class 3_0.0, class 2_0.9065420560747663, class 1_1.0, class0_0.9988975948601843: 0.581088\n",
      "[106]\ttraining's multi_logloss: 0.00650264\ttraining's class 3_0.852589641434263, class 2_0.9726190476190475, class 1_1.0, class0_0.9997781881137634: 0.764997\tvalid_1's multi_logloss: 0.0185362\tvalid_1's class 3_0.0, class 2_0.9065420560747663, class 1_1.0, class0_0.9988975948601843: 0.581088\n",
      "[107]\ttraining's multi_logloss: 0.00624643\ttraining's class 3_0.852589641434263, class 2_0.9726190476190475, class 1_1.0, class0_0.9997781881137634: 0.764997\tvalid_1's multi_logloss: 0.0183436\tvalid_1's class 3_0.0, class 2_0.9065420560747663, class 1_1.0, class0_0.9988975948601843: 0.581088\n",
      "[108]\ttraining's multi_logloss: 0.00600287\ttraining's class 3_0.852589641434263, class 2_0.9726190476190475, class 1_1.0, class0_0.9997781881137634: 0.764997\tvalid_1's multi_logloss: 0.0181621\tvalid_1's class 3_0.0, class 2_0.9065420560747663, class 1_1.0, class0_0.9988975948601843: 0.581088\n",
      "[109]\ttraining's multi_logloss: 0.00577031\ttraining's class 3_0.852589641434263, class 2_0.9726190476190475, class 1_1.0, class0_0.9997781881137634: 0.764997\tvalid_1's multi_logloss: 0.0179953\tvalid_1's class 3_0.0, class 2_0.9065420560747663, class 1_1.0, class0_0.9988975948601843: 0.581088\n",
      "[110]\ttraining's multi_logloss: 0.00554946\ttraining's class 3_0.852589641434263, class 2_0.9732302201070792, class 1_1.0, class0_0.9997810681569395: 0.76512\tvalid_1's multi_logloss: 0.0178311\tvalid_1's class 3_0.0, class 2_0.9065420560747663, class 1_1.0, class0_0.9988975948601843: 0.581088\n",
      "[111]\ttraining's multi_logloss: 0.00533903\ttraining's class 3_0.852589641434263, class 2_0.9732302201070792, class 1_1.0, class0_0.9997810681569395: 0.76512\tvalid_1's multi_logloss: 0.0176948\tvalid_1's class 3_0.0, class 2_0.9065420560747663, class 1_1.0, class0_0.9988975948601843: 0.581088\n",
      "[112]\ttraining's multi_logloss: 0.00513841\ttraining's class 3_0.852589641434263, class 2_0.9732302201070792, class 1_1.0, class0_0.9997810681569395: 0.76512\tvalid_1's multi_logloss: 0.0175781\tvalid_1's class 3_0.0, class 2_0.9065420560747663, class 1_1.0, class0_0.9988975948601843: 0.581088\n",
      "[113]\ttraining's multi_logloss: 0.00494677\ttraining's class 3_0.852589641434263, class 2_0.9732302201070792, class 1_1.0, class0_0.9997810681569395: 0.76512\tvalid_1's multi_logloss: 0.0174622\tvalid_1's class 3_0.0, class 2_0.9065420560747663, class 1_1.0, class0_0.9988975948601843: 0.581088\n",
      "[114]\ttraining's multi_logloss: 0.00476431\ttraining's class 3_0.852589641434263, class 2_0.9732302201070792, class 1_1.0, class0_0.9997810681569395: 0.76512\tvalid_1's multi_logloss: 0.0173595\tvalid_1's class 3_0.0, class 2_0.9065420560747663, class 1_1.0, class0_0.9988975948601843: 0.581088\n",
      "[115]\ttraining's multi_logloss: 0.00459079\ttraining's class 3_0.852589641434263, class 2_0.9732302201070792, class 1_1.0, class0_0.9997810681569395: 0.76512\tvalid_1's multi_logloss: 0.0172629\tvalid_1's class 3_0.0, class 2_0.9065420560747663, class 1_1.0, class0_0.9988975948601843: 0.581088\n",
      "[116]\ttraining's multi_logloss: 0.00442557\ttraining's class 3_0.852589641434263, class 2_0.9732302201070792, class 1_1.0, class0_0.9997810681569395: 0.76512\tvalid_1's multi_logloss: 0.0171743\tvalid_1's class 3_0.0, class 2_0.9065420560747663, class 1_1.0, class0_0.9988975948601843: 0.581088\n",
      "[117]\ttraining's multi_logloss: 0.00426841\ttraining's class 3_0.852589641434263, class 2_0.9732302201070792, class 1_1.0, class0_0.9997810681569395: 0.76512\tvalid_1's multi_logloss: 0.0171024\tvalid_1's class 3_0.0, class 2_0.9065420560747663, class 1_1.0, class0_0.9988975948601843: 0.581088\n",
      "[118]\ttraining's multi_logloss: 0.00411855\ttraining's class 3_0.852589641434263, class 2_0.9732302201070792, class 1_1.0, class0_0.9997810681569395: 0.76512\tvalid_1's multi_logloss: 0.0170403\tvalid_1's class 3_0.0, class 2_0.9065420560747663, class 1_1.0, class0_0.9988975948601843: 0.581088\n",
      "[119]\ttraining's multi_logloss: 0.00397425\ttraining's class 3_0.852589641434263, class 2_0.9732302201070792, class 1_1.0, class0_0.9997810681569395: 0.76512\tvalid_1's multi_logloss: 0.0171903\tvalid_1's class 3_0.0, class 2_0.9065420560747663, class 1_1.0, class0_0.9988975948601843: 0.581088\n"
     ]
    },
    {
     "name": "stdout",
     "output_type": "stream",
     "text": [
      "[120]\ttraining's multi_logloss: 0.00383755\ttraining's class 3_0.852589641434263, class 2_0.9738095238095238, class 1_1.0, class0_0.9997781881137634: 0.765235\tvalid_1's multi_logloss: 0.0173703\tvalid_1's class 3_0.0, class 2_0.6499162479061977, class 1_1.0, class0_0.9968880653743825: 0.529361\n",
      "[121]\ttraining's multi_logloss: 0.00370797\ttraining's class 3_0.852589641434263, class 2_0.9738095238095238, class 1_1.0, class0_0.9997781881137634: 0.765235\tvalid_1's multi_logloss: 0.0172918\tvalid_1's class 3_0.0, class 2_0.6499162479061977, class 1_1.0, class0_0.9968880653743825: 0.529361\n",
      "[122]\ttraining's multi_logloss: 0.00358459\ttraining's class 3_0.852589641434263, class 2_0.9738095238095238, class 1_1.0, class0_0.9997781881137634: 0.765235\tvalid_1's multi_logloss: 0.0172207\tvalid_1's class 3_0.0, class 2_0.6499162479061977, class 1_1.0, class0_0.9968880653743825: 0.529361\n",
      "[123]\ttraining's multi_logloss: 0.00346686\ttraining's class 3_0.852589641434263, class 2_0.9738095238095238, class 1_1.0, class0_0.9997781881137634: 0.765235\tvalid_1's multi_logloss: 0.0171584\tvalid_1's class 3_0.0, class 2_0.6499162479061977, class 1_1.0, class0_0.9968880653743825: 0.529361\n",
      "[124]\ttraining's multi_logloss: 0.00335504\ttraining's class 3_0.852589641434263, class 2_0.9738095238095238, class 1_1.0, class0_0.9997781881137634: 0.765235\tvalid_1's multi_logloss: 0.0169812\tvalid_1's class 3_0.0, class 2_0.6476510067114094, class 1_1.0, class0_0.9968762248642999: 0.528905\n",
      "[125]\ttraining's multi_logloss: 0.00324844\ttraining's class 3_0.852589641434263, class 2_0.9738095238095238, class 1_1.0, class0_0.9997781881137634: 0.765235\tvalid_1's multi_logloss: 0.0168152\tvalid_1's class 3_0.0, class 2_0.9039812646370023, class 1_1.0, class0_0.9988857542495436: 0.580573\n",
      "[126]\ttraining's multi_logloss: 0.00314647\ttraining's class 3_0.852589641434263, class 2_0.9738095238095238, class 1_1.0, class0_0.9997781881137634: 0.765235\tvalid_1's multi_logloss: 0.016779\tvalid_1's class 3_0.0, class 2_0.9039812646370023, class 1_1.0, class0_0.9988857542495436: 0.580573\n",
      "[127]\ttraining's multi_logloss: 0.00304958\ttraining's class 3_0.852589641434263, class 2_0.9756387403446226, class 1_1.0, class0_0.9997868282930706: 0.765603\tvalid_1's multi_logloss: 0.0167443\tvalid_1's class 3_0.0, class 2_0.9039812646370023, class 1_1.0, class0_0.9988857542495436: 0.580573\n",
      "[128]\ttraining's multi_logloss: 0.00295662\ttraining's class 3_0.852589641434263, class 2_0.9756387403446226, class 1_1.0, class0_0.9997868282930706: 0.765603\tvalid_1's multi_logloss: 0.0167135\tvalid_1's class 3_0.0, class 2_0.9039812646370023, class 1_1.0, class0_0.9988857542495436: 0.580573\n",
      "[129]\ttraining's multi_logloss: 0.00286816\ttraining's class 3_0.852589641434263, class 2_0.9756387403446226, class 1_1.0, class0_0.9997868282930706: 0.765603\tvalid_1's multi_logloss: 0.0168129\tvalid_1's class 3_0.0, class 2_0.6476510067114094, class 1_1.0, class0_0.9968762248642999: 0.528905\n",
      "[130]\ttraining's multi_logloss: 0.00278386\ttraining's class 3_0.852589641434263, class 2_0.9756387403446226, class 1_1.0, class0_0.9997868282930706: 0.765603\tvalid_1's multi_logloss: 0.0167898\tvalid_1's class 3_0.0, class 2_0.6476510067114094, class 1_1.0, class0_0.9968762248642999: 0.528905\n",
      "[131]\ttraining's multi_logloss: 0.00270374\ttraining's class 3_0.852589641434263, class 2_0.9756387403446226, class 1_1.0, class0_0.9997868282930706: 0.765603\tvalid_1's multi_logloss: 0.0167711\tvalid_1's class 3_0.0, class 2_0.6476510067114094, class 1_1.0, class0_0.9968762248642999: 0.528905\n",
      "[132]\ttraining's multi_logloss: 0.00262535\ttraining's class 3_0.852589641434263, class 2_0.9756387403446226, class 1_1.0, class0_0.9997868282930706: 0.765603\tvalid_1's multi_logloss: 0.0168595\tvalid_1's class 3_0.0, class 2_0.6476510067114094, class 1_1.0, class0_0.9968762248642999: 0.528905\n",
      "[133]\ttraining's multi_logloss: 0.00255152\ttraining's class 3_0.852589641434263, class 2_0.9762470308788599, class 1_1.0, class0_0.9997897083860263: 0.765725\tvalid_1's multi_logloss: 0.0168422\tvalid_1's class 3_0.0, class 2_0.6476510067114094, class 1_1.0, class0_0.9968762248642999: 0.528905\n",
      "[134]\ttraining's multi_logloss: 0.00248146\ttraining's class 3_0.852589641434263, class 2_0.9768545994065281, class 1_1.0, class0_0.9997925884955752: 0.765847\tvalid_1's multi_logloss: 0.0168298\tvalid_1's class 3_0.0, class 2_0.6476510067114094, class 1_1.0, class0_0.9968762248642999: 0.528905\n",
      "[135]\ttraining's multi_logloss: 0.00241499\ttraining's class 3_0.852589641434263, class 2_0.9768545994065281, class 1_1.0, class0_0.9997925884955752: 0.765847\tvalid_1's multi_logloss: 0.0168117\tvalid_1's class 3_0.0, class 2_0.6476510067114094, class 1_1.0, class0_0.9968762248642999: 0.528905\n",
      "[136]\ttraining's multi_logloss: 0.00235175\ttraining's class 3_0.852589641434263, class 2_0.9768545994065281, class 1_1.0, class0_0.9997925884955752: 0.765847\tvalid_1's multi_logloss: 0.0168047\tvalid_1's class 3_0.0, class 2_0.6476510067114094, class 1_1.0, class0_0.9968762248642999: 0.528905\n",
      "[137]\ttraining's multi_logloss: 0.00229153\ttraining's class 3_0.8616600790513833, class 2_0.9780154486036838, class 1_1.0, class0_0.9997925884955752: 0.767894\tvalid_1's multi_logloss: 0.0167972\tvalid_1's class 3_0.0, class 2_0.6476510067114094, class 1_1.0, class0_0.9968762248642999: 0.528905\n",
      "[138]\ttraining's multi_logloss: 0.00223384\ttraining's class 3_0.8616600790513833, class 2_0.9780154486036838, class 1_1.0, class0_0.9997925884955752: 0.767894\tvalid_1's multi_logloss: 0.0167964\tvalid_1's class 3_0.0, class 2_0.6476510067114094, class 1_1.0, class0_0.9968762248642999: 0.528905\n",
      "[139]\ttraining's multi_logloss: 0.00217922\ttraining's class 3_0.8616600790513833, class 2_0.9780154486036838, class 1_1.0, class0_0.9997925884955752: 0.767894\tvalid_1's multi_logloss: 0.0167947\tvalid_1's class 3_0.0, class 2_0.6476510067114094, class 1_1.0, class0_0.9968762248642999: 0.528905\n",
      "[140]\ttraining's multi_logloss: 0.00212677\ttraining's class 3_0.8616600790513833, class 2_0.9786223277909739, class 1_1.0, class0_0.9997954686217178: 0.768016\tvalid_1's multi_logloss: 0.0167926\tvalid_1's class 3_0.0, class 2_0.6476510067114094, class 1_1.0, class0_0.9968762248642999: 0.528905\n",
      "[141]\ttraining's multi_logloss: 0.00207682\ttraining's class 3_0.8616600790513833, class 2_0.9786223277909739, class 1_1.0, class0_0.9997954686217178: 0.768016\tvalid_1's multi_logloss: 0.0167965\tvalid_1's class 3_0.0, class 2_0.6453781512605042, class 1_1.0, class0_0.9968762248642999: 0.528451\n",
      "[142]\ttraining's multi_logloss: 0.00202915\ttraining's class 3_0.8616600790513833, class 2_0.9786223277909739, class 1_1.0, class0_0.9997954686217178: 0.768016\tvalid_1's multi_logloss: 0.0167995\tvalid_1's class 3_0.0, class 2_0.6453781512605042, class 1_1.0, class0_0.9968762248642999: 0.528451\n",
      "[143]\ttraining's multi_logloss: 0.00198392\ttraining's class 3_0.8616600790513833, class 2_0.9786223277909739, class 1_1.0, class0_0.9997954686217178: 0.768016\tvalid_1's multi_logloss: 0.0168081\tvalid_1's class 3_0.0, class 2_0.6453781512605042, class 1_1.0, class0_0.9968762248642999: 0.528451\n",
      "[144]\ttraining's multi_logloss: 0.00194067\ttraining's class 3_0.8616600790513833, class 2_0.9786223277909739, class 1_1.0, class0_0.9997954686217178: 0.768016\tvalid_1's multi_logloss: 0.0168191\tvalid_1's class 3_0.0, class 2_0.6453781512605042, class 1_1.0, class0_0.9968762248642999: 0.528451\n",
      "[145]\ttraining's multi_logloss: 0.00189935\ttraining's class 3_0.8616600790513833, class 2_0.9786223277909739, class 1_1.0, class0_0.9997954686217178: 0.768016\tvalid_1's multi_logloss: 0.0168249\tvalid_1's class 3_0.0, class 2_0.6453781512605042, class 1_1.0, class0_0.9968762248642999: 0.528451\n",
      "[146]\ttraining's multi_logloss: 0.00186023\ttraining's class 3_0.8616600790513833, class 2_0.9786223277909739, class 1_1.0, class0_0.9997954686217178: 0.768016\tvalid_1's multi_logloss: 0.0168469\tvalid_1's class 3_0.0, class 2_0.6453781512605042, class 1_1.0, class0_0.9968762248642999: 0.528451\n",
      "[147]\ttraining's multi_logloss: 0.00182272\ttraining's class 3_0.8616600790513833, class 2_0.9786223277909739, class 1_1.0, class0_0.9997954686217178: 0.768016\tvalid_1's multi_logloss: 0.0168577\tvalid_1's class 3_0.0, class 2_0.6453781512605042, class 1_1.0, class0_0.9968762248642999: 0.528451\n"
     ]
    },
    {
     "name": "stdout",
     "output_type": "stream",
     "text": [
      "[148]\ttraining's multi_logloss: 0.00178705\ttraining's class 3_0.8616600790513833, class 2_0.9786223277909739, class 1_1.0, class0_0.9997954686217178: 0.768016\tvalid_1's multi_logloss: 0.0168816\tvalid_1's class 3_0.0, class 2_0.6453781512605042, class 1_1.0, class0_0.9968762248642999: 0.528451\n",
      "[149]\ttraining's multi_logloss: 0.00175312\ttraining's class 3_0.8616600790513833, class 2_0.9786223277909739, class 1_1.0, class0_0.9997954686217178: 0.768016\tvalid_1's multi_logloss: 0.0169059\tvalid_1's class 3_0.0, class 2_0.6453781512605042, class 1_1.0, class0_0.9968762248642999: 0.528451\n",
      "[150]\ttraining's multi_logloss: 0.00172067\ttraining's class 3_0.8616600790513833, class 2_0.9786223277909739, class 1_1.0, class0_0.9997954686217178: 0.768016\tvalid_1's multi_logloss: 0.0169411\tvalid_1's class 3_0.0, class 2_0.6453781512605042, class 1_1.0, class0_0.9968762248642999: 0.528451\n",
      "[151]\ttraining's multi_logloss: 0.00168978\ttraining's class 3_0.8616600790513833, class 2_0.9786223277909739, class 1_1.0, class0_0.9997954686217178: 0.768016\tvalid_1's multi_logloss: 0.0169655\tvalid_1's class 3_0.0, class 2_0.6453781512605042, class 1_1.0, class0_0.9968762248642999: 0.528451\n",
      "[152]\ttraining's multi_logloss: 0.00166037\ttraining's class 3_0.8616600790513833, class 2_0.9786223277909739, class 1_1.0, class0_0.9997954686217178: 0.768016\tvalid_1's multi_logloss: 0.0170008\tvalid_1's class 3_0.0, class 2_0.6453781512605042, class 1_1.0, class0_0.9968762248642999: 0.528451\n",
      "[153]\ttraining's multi_logloss: 0.00163209\ttraining's class 3_0.8616600790513833, class 2_0.9786223277909739, class 1_1.0, class0_0.9997954686217178: 0.768016\tvalid_1's multi_logloss: 0.0170394\tvalid_1's class 3_0.0, class 2_0.6453781512605042, class 1_1.0, class0_0.9968762248642999: 0.528451\n",
      "[154]\ttraining's multi_logloss: 0.00160518\ttraining's class 3_0.8616600790513833, class 2_0.9786223277909739, class 1_1.0, class0_0.9997954686217178: 0.768016\tvalid_1's multi_logloss: 0.0170764\tvalid_1's class 3_0.0, class 2_0.6453781512605042, class 1_1.0, class0_0.9968762248642999: 0.528451\n",
      "[155]\ttraining's multi_logloss: 0.00157931\ttraining's class 3_0.8616600790513833, class 2_0.9786223277909739, class 1_1.0, class0_0.9997954686217178: 0.768016\tvalid_1's multi_logloss: 0.0171169\tvalid_1's class 3_0.0, class 2_0.6453781512605042, class 1_1.0, class0_0.9968762248642999: 0.528451\n",
      "[156]\ttraining's multi_logloss: 0.00155485\ttraining's class 3_0.8616600790513833, class 2_0.9786223277909739, class 1_1.0, class0_0.9997954686217178: 0.768016\tvalid_1's multi_logloss: 0.0171576\tvalid_1's class 3_0.0, class 2_0.6453781512605042, class 1_1.0, class0_0.9968762248642999: 0.528451\n",
      "[157]\ttraining's multi_logloss: 0.0015315\ttraining's class 3_0.8661417322834646, class 2_0.9786223277909739, class 1_1.0, class0_0.9997983487644541: 0.768912\tvalid_1's multi_logloss: 0.0172029\tvalid_1's class 3_0.0, class 2_0.6453781512605042, class 1_1.0, class0_0.9968762248642999: 0.528451\n",
      "[158]\ttraining's multi_logloss: 0.0015093\ttraining's class 3_0.8661417322834646, class 2_0.9792284866468842, class 1_1.0, class0_0.9998012289237843: 0.769034\tvalid_1's multi_logloss: 0.0172491\tvalid_1's class 3_0.0, class 2_0.6453781512605042, class 1_1.0, class0_0.9968762248642999: 0.528451\n",
      "[159]\ttraining's multi_logloss: 0.00148809\ttraining's class 3_0.8661417322834646, class 2_0.9792284866468842, class 1_1.0, class0_0.9998012289237843: 0.769034\tvalid_1's multi_logloss: 0.0172944\tvalid_1's class 3_0.0, class 2_0.6453781512605042, class 1_1.0, class0_0.9968762248642999: 0.528451\n",
      "[160]\ttraining's multi_logloss: 0.00146776\ttraining's class 3_0.8661417322834646, class 2_0.9792284866468842, class 1_1.0, class0_0.9998012289237843: 0.769034\tvalid_1's multi_logloss: 0.0173285\tvalid_1's class 3_0.0, class 2_0.6453781512605042, class 1_1.0, class0_0.9968762248642999: 0.528451\n",
      "[161]\ttraining's multi_logloss: 0.00144823\ttraining's class 3_0.8661417322834646, class 2_0.9792284866468842, class 1_1.0, class0_0.9998012289237843: 0.769034\tvalid_1's multi_logloss: 0.0173822\tvalid_1's class 3_0.0, class 2_0.6453781512605042, class 1_1.0, class0_0.9968762248642999: 0.528451\n",
      "[162]\ttraining's multi_logloss: 0.00142885\ttraining's class 3_0.8661417322834646, class 2_0.9798339264531435, class 1_1.0, class0_0.9998041090997084: 0.769156\tvalid_1's multi_logloss: 0.0174275\tvalid_1's class 3_0.0, class 2_0.6453781512605042, class 1_1.0, class0_0.9968762248642999: 0.528451\n",
      "[163]\ttraining's multi_logloss: 0.00141108\ttraining's class 3_0.8661417322834646, class 2_0.9798339264531435, class 1_1.0, class0_0.9998041090997084: 0.769156\tvalid_1's multi_logloss: 0.0174818\tvalid_1's class 3_0.0, class 2_0.6453781512605042, class 1_1.0, class0_0.9968762248642999: 0.528451\n",
      "[164]\ttraining's multi_logloss: 0.00139402\ttraining's class 3_0.8661417322834646, class 2_0.9798339264531435, class 1_1.0, class0_0.9998041090997084: 0.769156\tvalid_1's multi_logloss: 0.0175268\tvalid_1's class 3_0.0, class 2_0.6453781512605042, class 1_1.0, class0_0.9968762248642999: 0.528451\n",
      "[165]\ttraining's multi_logloss: 0.0013778\ttraining's class 3_0.8661417322834646, class 2_0.9798339264531435, class 1_1.0, class0_0.9998041090997084: 0.769156\tvalid_1's multi_logloss: 0.0175877\tvalid_1's class 3_0.0, class 2_0.6453781512605042, class 1_1.0, class0_0.9968762248642999: 0.528451\n",
      "[166]\ttraining's multi_logloss: 0.00136221\ttraining's class 3_0.8661417322834646, class 2_0.9798339264531435, class 1_1.0, class0_0.9998041090997084: 0.769156\tvalid_1's multi_logloss: 0.0176299\tvalid_1's class 3_0.0, class 2_0.6453781512605042, class 1_1.0, class0_0.9968762248642999: 0.528451\n",
      "[167]\ttraining's multi_logloss: 0.00134706\ttraining's class 3_0.8661417322834646, class 2_0.9798339264531435, class 1_1.0, class0_0.9998041090997084: 0.769156\tvalid_1's multi_logloss: 0.0176646\tvalid_1's class 3_0.0, class 2_0.6453781512605042, class 1_1.0, class0_0.9968762248642999: 0.528451\n",
      "[168]\ttraining's multi_logloss: 0.00133263\ttraining's class 3_0.8661417322834646, class 2_0.9798339264531435, class 1_1.0, class0_0.9998041090997084: 0.769156\tvalid_1's multi_logloss: 0.0176942\tvalid_1's class 3_0.0, class 2_0.6453781512605042, class 1_1.0, class0_0.9968762248642999: 0.528451\n",
      "[169]\ttraining's multi_logloss: 0.00131887\ttraining's class 3_0.8661417322834646, class 2_0.9798339264531435, class 1_1.0, class0_0.9998041090997084: 0.769156\tvalid_1's multi_logloss: 0.0177317\tvalid_1's class 3_0.0, class 2_0.6453781512605042, class 1_1.0, class0_0.9968762248642999: 0.528451\n",
      "[170]\ttraining's multi_logloss: 0.00130581\ttraining's class 3_0.8661417322834646, class 2_0.9798339264531435, class 1_1.0, class0_0.9998041090997084: 0.769156\tvalid_1's multi_logloss: 0.0177638\tvalid_1's class 3_0.0, class 2_0.6453781512605042, class 1_1.0, class0_0.9968762248642999: 0.528451\n",
      "[171]\ttraining's multi_logloss: 0.00129331\ttraining's class 3_0.8661417322834646, class 2_0.9798339264531435, class 1_1.0, class0_0.9998041090997084: 0.769156\tvalid_1's multi_logloss: 0.0178051\tvalid_1's class 3_0.0, class 2_0.6453781512605042, class 1_1.0, class0_0.9968762248642999: 0.528451\n",
      "[172]\ttraining's multi_logloss: 0.00128131\ttraining's class 3_0.8661417322834646, class 2_0.9798339264531435, class 1_1.0, class0_0.9998041090997084: 0.769156\tvalid_1's multi_logloss: 0.017838\tvalid_1's class 3_0.0, class 2_0.6453781512605042, class 1_1.0, class0_0.9968762248642999: 0.528451\n",
      "[173]\ttraining's multi_logloss: 0.00126992\ttraining's class 3_0.8661417322834646, class 2_0.980438648488441, class 1_1.0, class0_0.9998069892922268: 0.769277\tvalid_1's multi_logloss: 0.01788\tvalid_1's class 3_0.0, class 2_0.6453781512605042, class 1_1.0, class0_0.9968762248642999: 0.528451\n",
      "[174]\ttraining's multi_logloss: 0.00125887\ttraining's class 3_0.8661417322834646, class 2_0.980438648488441, class 1_1.0, class0_0.9998069892922268: 0.769277\tvalid_1's multi_logloss: 0.0179153\tvalid_1's class 3_0.0, class 2_0.6453781512605042, class 1_1.0, class0_0.9968762248642999: 0.528451\n",
      "[175]\ttraining's multi_logloss: 0.00124836\ttraining's class 3_0.8661417322834646, class 2_0.980438648488441, class 1_1.0, class0_0.9998069892922268: 0.769277\tvalid_1's multi_logloss: 0.0179575\tvalid_1's class 3_0.0, class 2_0.6453781512605042, class 1_1.0, class0_0.9968762248642999: 0.528451\n"
     ]
    },
    {
     "name": "stdout",
     "output_type": "stream",
     "text": [
      "[176]\ttraining's multi_logloss: 0.00123799\ttraining's class 3_0.8661417322834646, class 2_0.980438648488441, class 1_1.0, class0_0.9998069892922268: 0.769277\tvalid_1's multi_logloss: 0.0179987\tvalid_1's class 3_0.0, class 2_0.6453781512605042, class 1_1.0, class0_0.9968762248642999: 0.528451\n",
      "[177]\ttraining's multi_logloss: 0.00122805\ttraining's class 3_0.8661417322834646, class 2_0.980438648488441, class 1_1.0, class0_0.9998069892922268: 0.769277\tvalid_1's multi_logloss: 0.0180404\tvalid_1's class 3_0.0, class 2_0.6453781512605042, class 1_1.0, class0_0.9968762248642999: 0.528451\n",
      "[178]\ttraining's multi_logloss: 0.00121861\ttraining's class 3_0.8661417322834646, class 2_0.980438648488441, class 1_1.0, class0_0.9998069892922268: 0.769277\tvalid_1's multi_logloss: 0.0180827\tvalid_1's class 3_0.0, class 2_0.6453781512605042, class 1_1.0, class0_0.9968762248642999: 0.528451\n",
      "[179]\ttraining's multi_logloss: 0.00120962\ttraining's class 3_0.8661417322834646, class 2_0.980438648488441, class 1_1.0, class0_0.9998069892922268: 0.769277\tvalid_1's multi_logloss: 0.0181254\tvalid_1's class 3_0.0, class 2_0.6453781512605042, class 1_1.0, class0_0.9968762248642999: 0.528451\n",
      "[180]\ttraining's multi_logloss: 0.00120104\ttraining's class 3_0.8661417322834646, class 2_0.980438648488441, class 1_1.0, class0_0.9998069892922268: 0.769277\tvalid_1's multi_logloss: 0.0181684\tvalid_1's class 3_0.0, class 2_0.6453781512605042, class 1_1.0, class0_0.9968762248642999: 0.528451\n",
      "[181]\ttraining's multi_logloss: 0.00119288\ttraining's class 3_0.8661417322834646, class 2_0.980438648488441, class 1_1.0, class0_0.9998069892922268: 0.769277\tvalid_1's multi_logloss: 0.0182112\tvalid_1's class 3_0.0, class 2_0.6453781512605042, class 1_1.0, class0_0.9968762248642999: 0.528451\n",
      "[182]\ttraining's multi_logloss: 0.00118507\ttraining's class 3_0.8661417322834646, class 2_0.980438648488441, class 1_1.0, class0_0.9998069892922268: 0.769277\tvalid_1's multi_logloss: 0.0182554\tvalid_1's class 3_0.0, class 2_0.6453781512605042, class 1_1.0, class0_0.9968762248642999: 0.528451\n",
      "[183]\ttraining's multi_logloss: 0.00117767\ttraining's class 3_0.8661417322834646, class 2_0.980438648488441, class 1_1.0, class0_0.9998069892922268: 0.769277\tvalid_1's multi_logloss: 0.0182995\tvalid_1's class 3_0.0, class 2_0.6453781512605042, class 1_1.0, class0_0.9968762248642999: 0.528451\n",
      "[184]\ttraining's multi_logloss: 0.00117059\ttraining's class 3_0.8661417322834646, class 2_0.980438648488441, class 1_1.0, class0_0.9998069892922268: 0.769277\tvalid_1's multi_logloss: 0.0184514\tvalid_1's class 3_0.0, class 2_0.6453781512605042, class 1_1.0, class0_0.9968762248642999: 0.528451\n",
      "[185]\ttraining's multi_logloss: 0.00116383\ttraining's class 3_0.8661417322834646, class 2_0.980438648488441, class 1_1.0, class0_0.9998069892922268: 0.769277\tvalid_1's multi_logloss: 0.0186069\tvalid_1's class 3_0.0, class 2_0.6453781512605042, class 1_1.0, class0_0.9968762248642999: 0.528451\n",
      "[186]\ttraining's multi_logloss: 0.0011574\ttraining's class 3_0.8661417322834646, class 2_0.980438648488441, class 1_1.0, class0_0.9998069892922268: 0.769277\tvalid_1's multi_logloss: 0.0187644\tvalid_1's class 3_0.0, class 2_0.6453781512605042, class 1_1.0, class0_0.9968762248642999: 0.528451\n",
      "[187]\ttraining's multi_logloss: 0.00115129\ttraining's class 3_0.8661417322834646, class 2_0.980438648488441, class 1_1.0, class0_0.9998069892922268: 0.769277\tvalid_1's multi_logloss: 0.0189248\tvalid_1's class 3_0.0, class 2_0.6453781512605042, class 1_1.0, class0_0.9968762248642999: 0.528451\n",
      "[188]\ttraining's multi_logloss: 0.00114544\ttraining's class 3_0.8661417322834646, class 2_0.980438648488441, class 1_1.0, class0_0.9998069892922268: 0.769277\tvalid_1's multi_logloss: 0.0189422\tvalid_1's class 3_0.0, class 2_0.6453781512605042, class 1_1.0, class0_0.9968762248642999: 0.528451\n",
      "[189]\ttraining's multi_logloss: 0.00113978\ttraining's class 3_0.8661417322834646, class 2_0.980438648488441, class 1_1.0, class0_0.9998069892922268: 0.769277\tvalid_1's multi_logloss: 0.0189596\tvalid_1's class 3_0.0, class 2_0.6453781512605042, class 1_1.0, class0_0.9968762248642999: 0.528451\n",
      "[190]\ttraining's multi_logloss: 0.00113438\ttraining's class 3_0.8661417322834646, class 2_0.980438648488441, class 1_1.0, class0_0.9998069892922268: 0.769277\tvalid_1's multi_logloss: 0.0189784\tvalid_1's class 3_0.0, class 2_0.6453781512605042, class 1_1.0, class0_0.9968762248642999: 0.528451\n",
      "[191]\ttraining's multi_logloss: 0.00112908\ttraining's class 3_0.8661417322834646, class 2_0.980438648488441, class 1_1.0, class0_0.9998069892922268: 0.769277\tvalid_1's multi_logloss: 0.0190106\tvalid_1's class 3_0.0, class 2_0.6453781512605042, class 1_1.0, class0_0.9968762248642999: 0.528451\n",
      "[192]\ttraining's multi_logloss: 0.00112413\ttraining's class 3_0.8661417322834646, class 2_0.980438648488441, class 1_1.0, class0_0.9998069892922268: 0.769277\tvalid_1's multi_logloss: 0.0190427\tvalid_1's class 3_0.0, class 2_0.6453781512605042, class 1_1.0, class0_0.9968762248642999: 0.528451\n",
      "[193]\ttraining's multi_logloss: 0.00111934\ttraining's class 3_0.8661417322834646, class 2_0.980438648488441, class 1_1.0, class0_0.9998069892922268: 0.769277\tvalid_1's multi_logloss: 0.0190751\tvalid_1's class 3_0.0, class 2_0.6453781512605042, class 1_1.0, class0_0.9968762248642999: 0.528451\n",
      "[194]\ttraining's multi_logloss: 0.0011149\ttraining's class 3_0.8661417322834646, class 2_0.980438648488441, class 1_1.0, class0_0.9998069892922268: 0.769277\tvalid_1's multi_logloss: 0.0189832\tvalid_1's class 3_0.0, class 2_0.6453781512605042, class 1_1.0, class0_0.9968762248642999: 0.528451\n",
      "[195]\ttraining's multi_logloss: 0.00111054\ttraining's class 3_0.8661417322834646, class 2_0.980438648488441, class 1_1.0, class0_0.9998069892922268: 0.769277\tvalid_1's multi_logloss: 0.0190159\tvalid_1's class 3_0.0, class 2_0.6453781512605042, class 1_1.0, class0_0.9968762248642999: 0.528451\n",
      "[196]\ttraining's multi_logloss: 0.00110643\ttraining's class 3_0.8661417322834646, class 2_0.980438648488441, class 1_1.0, class0_0.9998069892922268: 0.769277\tvalid_1's multi_logloss: 0.0190444\tvalid_1's class 3_0.0, class 2_0.6453781512605042, class 1_1.0, class0_0.9968762248642999: 0.528451\n",
      "[197]\ttraining's multi_logloss: 0.00110247\ttraining's class 3_0.8661417322834646, class 2_0.980438648488441, class 1_1.0, class0_0.9998069892922268: 0.769277\tvalid_1's multi_logloss: 0.0190755\tvalid_1's class 3_0.0, class 2_0.6453781512605042, class 1_1.0, class0_0.9968762248642999: 0.528451\n",
      "[198]\ttraining's multi_logloss: 0.00109863\ttraining's class 3_0.8661417322834646, class 2_0.980438648488441, class 1_1.0, class0_0.9998069892922268: 0.769277\tvalid_1's multi_logloss: 0.0191086\tvalid_1's class 3_0.0, class 2_0.6453781512605042, class 1_1.0, class0_0.9968762248642999: 0.528451\n",
      "[199]\ttraining's multi_logloss: 0.00109504\ttraining's class 3_0.8661417322834646, class 2_0.980438648488441, class 1_1.0, class0_0.9998069892922268: 0.769277\tvalid_1's multi_logloss: 0.0190031\tvalid_1's class 3_0.0, class 2_0.6453781512605042, class 1_1.0, class0_0.9968762248642999: 0.528451\n",
      "[200]\ttraining's multi_logloss: 0.00109152\ttraining's class 3_0.8661417322834646, class 2_0.980438648488441, class 1_1.0, class0_0.9998069892922268: 0.769277\tvalid_1's multi_logloss: 0.0190222\tvalid_1's class 3_0.0, class 2_0.6453781512605042, class 1_1.0, class0_0.9968762248642999: 0.528451\n",
      "[201]\ttraining's multi_logloss: 0.0010882\ttraining's class 3_0.8661417322834646, class 2_0.980438648488441, class 1_1.0, class0_0.9998069892922268: 0.769277\tvalid_1's multi_logloss: 0.01904\tvalid_1's class 3_0.0, class 2_0.6453781512605042, class 1_1.0, class0_0.9968762248642999: 0.528451\n",
      "[202]\ttraining's multi_logloss: 0.00108505\ttraining's class 3_0.8661417322834646, class 2_0.980438648488441, class 1_1.0, class0_0.9998069892922268: 0.769277\tvalid_1's multi_logloss: 0.0190573\tvalid_1's class 3_0.0, class 2_0.6453781512605042, class 1_1.0, class0_0.9968762248642999: 0.528451\n",
      "[203]\ttraining's multi_logloss: 0.001082\ttraining's class 3_0.8661417322834646, class 2_0.980438648488441, class 1_1.0, class0_0.9998069892922268: 0.769277\tvalid_1's multi_logloss: 0.0190407\tvalid_1's class 3_0.0, class 2_0.6453781512605042, class 1_1.0, class0_0.9968762248642999: 0.528451\n"
     ]
    },
    {
     "name": "stdout",
     "output_type": "stream",
     "text": [
      "[204]\ttraining's multi_logloss: 0.001079\ttraining's class 3_0.8661417322834646, class 2_0.980438648488441, class 1_1.0, class0_0.9998069892922268: 0.769277\tvalid_1's multi_logloss: 0.0190238\tvalid_1's class 3_0.0, class 2_0.6453781512605042, class 1_1.0, class0_0.9968762248642999: 0.528451\n",
      "[205]\ttraining's multi_logloss: 0.00107624\ttraining's class 3_0.8661417322834646, class 2_0.980438648488441, class 1_1.0, class0_0.9998069892922268: 0.769277\tvalid_1's multi_logloss: 0.0190084\tvalid_1's class 3_0.0, class 2_0.6453781512605042, class 1_1.0, class0_0.9968762248642999: 0.528451\n",
      "[206]\ttraining's multi_logloss: 0.00107352\ttraining's class 3_0.8661417322834646, class 2_0.980438648488441, class 1_1.0, class0_0.9998069892922268: 0.769277\tvalid_1's multi_logloss: 0.0189951\tvalid_1's class 3_0.0, class 2_0.6453781512605042, class 1_1.0, class0_0.9968762248642999: 0.528451\n",
      "[207]\ttraining's multi_logloss: 0.00107097\ttraining's class 3_0.8661417322834646, class 2_0.980438648488441, class 1_1.0, class0_0.9998069892922268: 0.769277\tvalid_1's multi_logloss: 0.0189839\tvalid_1's class 3_0.0, class 2_0.6453781512605042, class 1_1.0, class0_0.9968762248642999: 0.528451\n",
      "[208]\ttraining's multi_logloss: 0.00106852\ttraining's class 3_0.8661417322834646, class 2_0.980438648488441, class 1_1.0, class0_0.9998069892922268: 0.769277\tvalid_1's multi_logloss: 0.0189723\tvalid_1's class 3_0.0, class 2_0.6453781512605042, class 1_1.0, class0_0.9968762248642999: 0.528451\n",
      "[209]\ttraining's multi_logloss: 0.00106617\ttraining's class 3_0.8661417322834646, class 2_0.980438648488441, class 1_1.0, class0_0.9998069892922268: 0.769277\tvalid_1's multi_logloss: 0.0189974\tvalid_1's class 3_0.0, class 2_0.6453781512605042, class 1_1.0, class0_0.9968762248642999: 0.528451\n",
      "[210]\ttraining's multi_logloss: 0.00106386\ttraining's class 3_0.8661417322834646, class 2_0.980438648488441, class 1_1.0, class0_0.9998069892922268: 0.769277\tvalid_1's multi_logloss: 0.0190242\tvalid_1's class 3_0.0, class 2_0.6453781512605042, class 1_1.0, class0_0.9968762248642999: 0.528451\n",
      "[211]\ttraining's multi_logloss: 0.00106162\ttraining's class 3_0.8661417322834646, class 2_0.980438648488441, class 1_1.0, class0_0.9998069892922268: 0.769277\tvalid_1's multi_logloss: 0.019048\tvalid_1's class 3_0.0, class 2_0.6453781512605042, class 1_1.0, class0_0.9968762248642999: 0.528451\n",
      "[212]\ttraining's multi_logloss: 0.00105952\ttraining's class 3_0.8661417322834646, class 2_0.980438648488441, class 1_1.0, class0_0.9998069892922268: 0.769277\tvalid_1's multi_logloss: 0.019073\tvalid_1's class 3_0.0, class 2_0.6453781512605042, class 1_1.0, class0_0.9968762248642999: 0.528451\n",
      "[213]\ttraining's multi_logloss: 0.00105745\ttraining's class 3_0.8661417322834646, class 2_0.980438648488441, class 1_1.0, class0_0.9998069892922268: 0.769277\tvalid_1's multi_logloss: 0.0190093\tvalid_1's class 3_0.0, class 2_0.6453781512605042, class 1_1.0, class0_0.9968762248642999: 0.528451\n",
      "[214]\ttraining's multi_logloss: 0.00105554\ttraining's class 3_0.8661417322834646, class 2_0.980438648488441, class 1_1.0, class0_0.9998069892922268: 0.769277\tvalid_1's multi_logloss: 0.0190361\tvalid_1's class 3_0.0, class 2_0.6453781512605042, class 1_1.0, class0_0.9968762248642999: 0.528451\n",
      "[215]\ttraining's multi_logloss: 0.00105367\ttraining's class 3_0.8661417322834646, class 2_0.980438648488441, class 1_1.0, class0_0.9998069892922268: 0.769277\tvalid_1's multi_logloss: 0.0189763\tvalid_1's class 3_0.0, class 2_0.6453781512605042, class 1_1.0, class0_0.9968762248642999: 0.528451\n",
      "[216]\ttraining's multi_logloss: 0.00105184\ttraining's class 3_0.8661417322834646, class 2_0.980438648488441, class 1_1.0, class0_0.9998069892922268: 0.769277\tvalid_1's multi_logloss: 0.0189196\tvalid_1's class 3_0.0, class 2_0.6453781512605042, class 1_1.0, class0_0.9968762248642999: 0.528451\n",
      "[217]\ttraining's multi_logloss: 0.00105012\ttraining's class 3_0.8661417322834646, class 2_0.980438648488441, class 1_1.0, class0_0.9998069892922268: 0.769277\tvalid_1's multi_logloss: 0.0188671\tvalid_1's class 3_0.0, class 2_0.6453781512605042, class 1_1.0, class0_0.9968762248642999: 0.528451\n",
      "[218]\ttraining's multi_logloss: 0.00104849\ttraining's class 3_0.8661417322834646, class 2_0.980438648488441, class 1_1.0, class0_0.9998069892922268: 0.769277\tvalid_1's multi_logloss: 0.0188179\tvalid_1's class 3_0.0, class 2_0.6453781512605042, class 1_1.0, class0_0.9968762248642999: 0.528451\n",
      "[219]\ttraining's multi_logloss: 0.00104691\ttraining's class 3_0.8661417322834646, class 2_0.980438648488441, class 1_1.0, class0_0.9998069892922268: 0.769277\tvalid_1's multi_logloss: 0.0187727\tvalid_1's class 3_0.0, class 2_0.9014084507042254, class 1_1.0, class0_0.9988857542495436: 0.580059\n",
      "[220]\ttraining's multi_logloss: 0.0010454\ttraining's class 3_0.8661417322834646, class 2_0.980438648488441, class 1_1.0, class0_0.9998069892922268: 0.769277\tvalid_1's multi_logloss: 0.018733\tvalid_1's class 3_0.0, class 2_0.9014084507042254, class 1_1.0, class0_0.9988857542495436: 0.580059\n",
      "[221]\ttraining's multi_logloss: 0.00104397\ttraining's class 3_0.8661417322834646, class 2_0.980438648488441, class 1_1.0, class0_0.9998069892922268: 0.769277\tvalid_1's multi_logloss: 0.0186966\tvalid_1's class 3_0.0, class 2_0.9014084507042254, class 1_1.0, class0_0.9988857542495436: 0.580059\n",
      "[222]\ttraining's multi_logloss: 0.00104255\ttraining's class 3_0.8661417322834646, class 2_0.980438648488441, class 1_1.0, class0_0.9998069892922268: 0.769277\tvalid_1's multi_logloss: 0.0186633\tvalid_1's class 3_0.0, class 2_0.9014084507042254, class 1_1.0, class0_0.9988857542495436: 0.580059\n",
      "[223]\ttraining's multi_logloss: 0.00104126\ttraining's class 3_0.8661417322834646, class 2_0.980438648488441, class 1_1.0, class0_0.9998069892922268: 0.769277\tvalid_1's multi_logloss: 0.0186982\tvalid_1's class 3_0.0, class 2_0.9014084507042254, class 1_1.0, class0_0.9988857542495436: 0.580059\n",
      "[224]\ttraining's multi_logloss: 0.00104\ttraining's class 3_0.8661417322834646, class 2_0.980438648488441, class 1_1.0, class0_0.9998069892922268: 0.769277\tvalid_1's multi_logloss: 0.0187335\tvalid_1's class 3_0.0, class 2_0.9014084507042254, class 1_1.0, class0_0.9988857542495436: 0.580059\n",
      "[225]\ttraining's multi_logloss: 0.00103882\ttraining's class 3_0.8661417322834646, class 2_0.980438648488441, class 1_1.0, class0_0.9998069892922268: 0.769277\tvalid_1's multi_logloss: 0.01877\tvalid_1's class 3_0.0, class 2_0.9014084507042254, class 1_1.0, class0_0.9988857542495436: 0.580059\n",
      "[226]\ttraining's multi_logloss: 0.00103762\ttraining's class 3_0.8661417322834646, class 2_0.980438648488441, class 1_1.0, class0_0.9998069892922268: 0.769277\tvalid_1's multi_logloss: 0.0187236\tvalid_1's class 3_0.0, class 2_0.9014084507042254, class 1_1.0, class0_0.9988857542495436: 0.580059\n",
      "[227]\ttraining's multi_logloss: 0.00103651\ttraining's class 3_0.8661417322834646, class 2_0.980438648488441, class 1_1.0, class0_0.9998069892922268: 0.769277\tvalid_1's multi_logloss: 0.0187492\tvalid_1's class 3_0.0, class 2_0.9014084507042254, class 1_1.0, class0_0.9988857542495436: 0.580059\n",
      "[228]\ttraining's multi_logloss: 0.00103543\ttraining's class 3_0.8661417322834646, class 2_0.980438648488441, class 1_1.0, class0_0.9998069892922268: 0.769277\tvalid_1's multi_logloss: 0.0187601\tvalid_1's class 3_0.0, class 2_0.9014084507042254, class 1_1.0, class0_0.9988857542495436: 0.580059\n",
      "[229]\ttraining's multi_logloss: 0.00103441\ttraining's class 3_0.8661417322834646, class 2_0.980438648488441, class 1_1.0, class0_0.9998069892922268: 0.769277\tvalid_1's multi_logloss: 0.0187715\tvalid_1's class 3_0.0, class 2_0.9014084507042254, class 1_1.0, class0_0.9988857542495436: 0.580059\n",
      "[230]\ttraining's multi_logloss: 0.00103345\ttraining's class 3_0.8661417322834646, class 2_0.980438648488441, class 1_1.0, class0_0.9998069892922268: 0.769277\tvalid_1's multi_logloss: 0.0188655\tvalid_1's class 3_0.0, class 2_0.9014084507042254, class 1_1.0, class0_0.9988857542495436: 0.580059\n",
      "[231]\ttraining's multi_logloss: 0.00103249\ttraining's class 3_0.8661417322834646, class 2_0.980438648488441, class 1_1.0, class0_0.9998069892922268: 0.769277\tvalid_1's multi_logloss: 0.018963\tvalid_1's class 3_0.0, class 2_0.9014084507042254, class 1_1.0, class0_0.9988857542495436: 0.580059\n",
      "[232]\ttraining's multi_logloss: 0.0010316\ttraining's class 3_0.8661417322834646, class 2_0.980438648488441, class 1_1.0, class0_0.9998069892922268: 0.769277\tvalid_1's multi_logloss: 0.0190606\tvalid_1's class 3_0.0, class 2_0.9014084507042254, class 1_1.0, class0_0.9988857542495436: 0.580059\n"
     ]
    },
    {
     "name": "stdout",
     "output_type": "stream",
     "text": [
      "[233]\ttraining's multi_logloss: 0.00103078\ttraining's class 3_0.8661417322834646, class 2_0.980438648488441, class 1_1.0, class0_0.9998069892922268: 0.769277\tvalid_1's multi_logloss: 0.0191619\tvalid_1's class 3_0.0, class 2_0.9014084507042254, class 1_1.0, class0_0.9988857542495436: 0.580059\n",
      "[234]\ttraining's multi_logloss: 0.00102993\ttraining's class 3_0.8661417322834646, class 2_0.980438648488441, class 1_1.0, class0_0.9998069892922268: 0.769277\tvalid_1's multi_logloss: 0.0192628\tvalid_1's class 3_0.0, class 2_0.6453781512605042, class 1_1.0, class0_0.9968762248642999: 0.528451\n",
      "[235]\ttraining's multi_logloss: 0.00102911\ttraining's class 3_0.8661417322834646, class 2_0.980438648488441, class 1_1.0, class0_0.9998069892922268: 0.769277\tvalid_1's multi_logloss: 0.0193669\tvalid_1's class 3_0.0, class 2_0.6453781512605042, class 1_1.0, class0_0.9968762248642999: 0.528451\n",
      "[236]\ttraining's multi_logloss: 0.00102834\ttraining's class 3_0.8661417322834646, class 2_0.980438648488441, class 1_1.0, class0_0.9998069892922268: 0.769277\tvalid_1's multi_logloss: 0.0194733\tvalid_1's class 3_0.0, class 2_0.6453781512605042, class 1_1.0, class0_0.9968762248642999: 0.528451\n",
      "[237]\ttraining's multi_logloss: 0.00102764\ttraining's class 3_0.8661417322834646, class 2_0.980438648488441, class 1_1.0, class0_0.9998069892922268: 0.769277\tvalid_1's multi_logloss: 0.0195825\tvalid_1's class 3_0.0, class 2_0.6453781512605042, class 1_1.0, class0_0.9968762248642999: 0.528451\n",
      "[238]\ttraining's multi_logloss: 0.00102691\ttraining's class 3_0.8661417322834646, class 2_0.980438648488441, class 1_1.0, class0_0.9998069892922268: 0.769277\tvalid_1's multi_logloss: 0.0196906\tvalid_1's class 3_0.0, class 2_0.6453781512605042, class 1_1.0, class0_0.9968762248642999: 0.528451\n",
      "[239]\ttraining's multi_logloss: 0.00102626\ttraining's class 3_0.8661417322834646, class 2_0.980438648488441, class 1_1.0, class0_0.9998069892922268: 0.769277\tvalid_1's multi_logloss: 0.0197037\tvalid_1's class 3_0.0, class 2_0.6453781512605042, class 1_1.0, class0_0.9968762248642999: 0.528451\n",
      "[240]\ttraining's multi_logloss: 0.00102558\ttraining's class 3_0.8661417322834646, class 2_0.980438648488441, class 1_1.0, class0_0.9998069892922268: 0.769277\tvalid_1's multi_logloss: 0.0197185\tvalid_1's class 3_0.0, class 2_0.6453781512605042, class 1_1.0, class0_0.9968762248642999: 0.528451\n",
      "[241]\ttraining's multi_logloss: 0.00102497\ttraining's class 3_0.8661417322834646, class 2_0.980438648488441, class 1_1.0, class0_0.9998069892922268: 0.769277\tvalid_1's multi_logloss: 0.0197336\tvalid_1's class 3_0.0, class 2_0.6453781512605042, class 1_1.0, class0_0.9968762248642999: 0.528451\n",
      "[242]\ttraining's multi_logloss: 0.00102433\ttraining's class 3_0.8661417322834646, class 2_0.980438648488441, class 1_1.0, class0_0.9998069892922268: 0.769277\tvalid_1's multi_logloss: 0.0197339\tvalid_1's class 3_0.0, class 2_0.6453781512605042, class 1_1.0, class0_0.9968762248642999: 0.528451\n",
      "[243]\ttraining's multi_logloss: 0.00102375\ttraining's class 3_0.8661417322834646, class 2_0.980438648488441, class 1_1.0, class0_0.9998069892922268: 0.769277\tvalid_1's multi_logloss: 0.019735\tvalid_1's class 3_0.0, class 2_0.6453781512605042, class 1_1.0, class0_0.9968762248642999: 0.528451\n",
      "[244]\ttraining's multi_logloss: 0.0010232\ttraining's class 3_0.8661417322834646, class 2_0.980438648488441, class 1_1.0, class0_0.9998069892922268: 0.769277\tvalid_1's multi_logloss: 0.0196633\tvalid_1's class 3_0.0, class 2_0.6453781512605042, class 1_1.0, class0_0.9968762248642999: 0.528451\n",
      "[245]\ttraining's multi_logloss: 0.00102265\ttraining's class 3_0.8661417322834646, class 2_0.980438648488441, class 1_1.0, class0_0.9998069892922268: 0.769277\tvalid_1's multi_logloss: 0.0195938\tvalid_1's class 3_0.0, class 2_0.6453781512605042, class 1_1.0, class0_0.9968762248642999: 0.528451\n",
      "[246]\ttraining's multi_logloss: 0.0010221\ttraining's class 3_0.8661417322834646, class 2_0.980438648488441, class 1_1.0, class0_0.9998069892922268: 0.769277\tvalid_1's multi_logloss: 0.0195265\tvalid_1's class 3_0.0, class 2_0.6453781512605042, class 1_1.0, class0_0.9968762248642999: 0.528451\n",
      "[247]\ttraining's multi_logloss: 0.00102161\ttraining's class 3_0.8661417322834646, class 2_0.980438648488441, class 1_1.0, class0_0.9998069892922268: 0.769277\tvalid_1's multi_logloss: 0.0194617\tvalid_1's class 3_0.0, class 2_0.6453781512605042, class 1_1.0, class0_0.9968762248642999: 0.528451\n",
      "[248]\ttraining's multi_logloss: 0.00102111\ttraining's class 3_0.8661417322834646, class 2_0.980438648488441, class 1_1.0, class0_0.9998069892922268: 0.769277\tvalid_1's multi_logloss: 0.0193997\tvalid_1's class 3_0.0, class 2_0.9014084507042254, class 1_1.0, class0_0.9988857542495436: 0.580059\n",
      "[249]\ttraining's multi_logloss: 0.00102064\ttraining's class 3_0.8661417322834646, class 2_0.980438648488441, class 1_1.0, class0_0.9998069892922268: 0.769277\tvalid_1's multi_logloss: 0.0193333\tvalid_1's class 3_0.0, class 2_0.9014084507042254, class 1_1.0, class0_0.9988857542495436: 0.580059\n",
      "[250]\ttraining's multi_logloss: 0.0010202\ttraining's class 3_0.8661417322834646, class 2_0.980438648488441, class 1_1.0, class0_0.9998069892922268: 0.769277\tvalid_1's multi_logloss: 0.0192714\tvalid_1's class 3_0.0, class 2_0.9014084507042254, class 1_1.0, class0_0.9988857542495436: 0.580059\n",
      "[251]\ttraining's multi_logloss: 0.00101976\ttraining's class 3_0.8661417322834646, class 2_0.980438648488441, class 1_1.0, class0_0.9998069892922268: 0.769277\tvalid_1's multi_logloss: 0.0192109\tvalid_1's class 3_0.0, class 2_0.9014084507042254, class 1_1.0, class0_0.9988857542495436: 0.580059\n",
      "[252]\ttraining's multi_logloss: 0.00101932\ttraining's class 3_0.8661417322834646, class 2_0.980438648488441, class 1_1.0, class0_0.9998069892922268: 0.769277\tvalid_1's multi_logloss: 0.0191943\tvalid_1's class 3_0.0, class 2_0.9014084507042254, class 1_1.0, class0_0.9988857542495436: 0.580059\n",
      "[253]\ttraining's multi_logloss: 0.00101893\ttraining's class 3_0.8661417322834646, class 2_0.980438648488441, class 1_1.0, class0_0.9998069892922268: 0.769277\tvalid_1's multi_logloss: 0.0191801\tvalid_1's class 3_0.0, class 2_0.9090909090909091, class 1_1.0, class0_0.9989212769236241: 0.581602\n",
      "[254]\ttraining's multi_logloss: 0.00101855\ttraining's class 3_0.8661417322834646, class 2_0.980438648488441, class 1_1.0, class0_0.9998069892922268: 0.769277\tvalid_1's multi_logloss: 0.0191667\tvalid_1's class 3_0.0, class 2_0.9090909090909091, class 1_1.0, class0_0.9989212769236241: 0.581602\n",
      "[255]\ttraining's multi_logloss: 0.00101819\ttraining's class 3_0.8661417322834646, class 2_0.980438648488441, class 1_1.0, class0_0.9998069892922268: 0.769277\tvalid_1's multi_logloss: 0.0191128\tvalid_1's class 3_0.0, class 2_0.9090909090909091, class 1_1.0, class0_0.9989212769236241: 0.581602\n",
      "[256]\ttraining's multi_logloss: 0.00101783\ttraining's class 3_0.8661417322834646, class 2_0.980438648488441, class 1_1.0, class0_0.9998069892922268: 0.769277\tvalid_1's multi_logloss: 0.0190787\tvalid_1's class 3_0.0, class 2_0.9090909090909091, class 1_1.0, class0_0.9989212769236241: 0.581602\n",
      "[257]\ttraining's multi_logloss: 0.00101749\ttraining's class 3_0.8661417322834646, class 2_0.980438648488441, class 1_1.0, class0_0.9998069892922268: 0.769277\tvalid_1's multi_logloss: 0.0190308\tvalid_1's class 3_0.0, class 2_0.9090909090909091, class 1_1.0, class0_0.9989212769236241: 0.581602\n",
      "[258]\ttraining's multi_logloss: 0.00101718\ttraining's class 3_0.8661417322834646, class 2_0.980438648488441, class 1_1.0, class0_0.9998069892922268: 0.769277\tvalid_1's multi_logloss: 0.0189856\tvalid_1's class 3_0.0, class 2_0.9090909090909091, class 1_1.0, class0_0.9989212769236241: 0.581602\n",
      "[259]\ttraining's multi_logloss: 0.00101686\ttraining's class 3_0.8661417322834646, class 2_0.980438648488441, class 1_1.0, class0_0.9998069892922268: 0.769277\tvalid_1's multi_logloss: 0.0189583\tvalid_1's class 3_0.0, class 2_0.9090909090909091, class 1_1.0, class0_0.9989212769236241: 0.581602\n",
      "[260]\ttraining's multi_logloss: 0.00101656\ttraining's class 3_0.8661417322834646, class 2_0.980438648488441, class 1_1.0, class0_0.9998069892922268: 0.769277\tvalid_1's multi_logloss: 0.0189345\tvalid_1's class 3_0.0, class 2_0.9090909090909091, class 1_1.0, class0_0.9989212769236241: 0.581602\n"
     ]
    },
    {
     "name": "stdout",
     "output_type": "stream",
     "text": [
      "[261]\ttraining's multi_logloss: 0.00101628\ttraining's class 3_0.8661417322834646, class 2_0.980438648488441, class 1_1.0, class0_0.9998069892922268: 0.769277\tvalid_1's multi_logloss: 0.0189141\tvalid_1's class 3_0.0, class 2_0.9090909090909091, class 1_1.0, class0_0.9989212769236241: 0.581602\n",
      "[262]\ttraining's multi_logloss: 0.00101601\ttraining's class 3_0.8661417322834646, class 2_0.980438648488441, class 1_1.0, class0_0.9998069892922268: 0.769277\tvalid_1's multi_logloss: 0.0188958\tvalid_1's class 3_0.0, class 2_0.9090909090909091, class 1_1.0, class0_0.9989212769236241: 0.581602\n",
      "[263]\ttraining's multi_logloss: 0.00101573\ttraining's class 3_0.8661417322834646, class 2_0.980438648488441, class 1_1.0, class0_0.9998069892922268: 0.769277\tvalid_1's multi_logloss: 0.0189173\tvalid_1's class 3_0.0, class 2_0.9090909090909091, class 1_1.0, class0_0.9989212769236241: 0.581602\n",
      "[264]\ttraining's multi_logloss: 0.00101548\ttraining's class 3_0.8661417322834646, class 2_0.980438648488441, class 1_1.0, class0_0.9998069892922268: 0.769277\tvalid_1's multi_logloss: 0.0189639\tvalid_1's class 3_0.0, class 2_0.9090909090909091, class 1_1.0, class0_0.9989212769236241: 0.581602\n",
      "[265]\ttraining's multi_logloss: 0.00101523\ttraining's class 3_0.8661417322834646, class 2_0.980438648488441, class 1_1.0, class0_0.9998069892922268: 0.769277\tvalid_1's multi_logloss: 0.0190099\tvalid_1's class 3_0.0, class 2_0.9090909090909091, class 1_1.0, class0_0.9989212769236241: 0.581602\n",
      "[266]\ttraining's multi_logloss: 0.00101498\ttraining's class 3_0.8661417322834646, class 2_0.980438648488441, class 1_1.0, class0_0.9998069892922268: 0.769277\tvalid_1's multi_logloss: 0.0190574\tvalid_1's class 3_0.0, class 2_0.9090909090909091, class 1_1.0, class0_0.9989212769236241: 0.581602\n",
      "[267]\ttraining's multi_logloss: 0.00101475\ttraining's class 3_0.8661417322834646, class 2_0.980438648488441, class 1_1.0, class0_0.9998069892922268: 0.769277\tvalid_1's multi_logloss: 0.0190837\tvalid_1's class 3_0.0, class 2_0.9090909090909091, class 1_1.0, class0_0.9989212769236241: 0.581602\n",
      "[268]\ttraining's multi_logloss: 0.00101453\ttraining's class 3_0.8661417322834646, class 2_0.980438648488441, class 1_1.0, class0_0.9998069892922268: 0.769277\tvalid_1's multi_logloss: 0.0191305\tvalid_1's class 3_0.0, class 2_0.9090909090909091, class 1_1.0, class0_0.9989212769236241: 0.581602\n",
      "[269]\ttraining's multi_logloss: 0.00101432\ttraining's class 3_0.8661417322834646, class 2_0.980438648488441, class 1_1.0, class0_0.9998069892922268: 0.769277\tvalid_1's multi_logloss: 0.0191686\tvalid_1's class 3_0.0, class 2_0.9090909090909091, class 1_1.0, class0_0.9989212769236241: 0.581602\n",
      "[270]\ttraining's multi_logloss: 0.00101413\ttraining's class 3_0.8661417322834646, class 2_0.980438648488441, class 1_1.0, class0_0.9998069892922268: 0.769277\tvalid_1's multi_logloss: 0.0192071\tvalid_1's class 3_0.0, class 2_0.9090909090909091, class 1_1.0, class0_0.9989212769236241: 0.581602\n",
      "[271]\ttraining's multi_logloss: 0.00101393\ttraining's class 3_0.8661417322834646, class 2_0.980438648488441, class 1_1.0, class0_0.9998069892922268: 0.769277\tvalid_1's multi_logloss: 0.0192392\tvalid_1's class 3_0.0, class 2_0.9090909090909091, class 1_1.0, class0_0.9989212769236241: 0.581602\n",
      "[272]\ttraining's multi_logloss: 0.00101375\ttraining's class 3_0.8661417322834646, class 2_0.980438648488441, class 1_1.0, class0_0.9998069892922268: 0.769277\tvalid_1's multi_logloss: 0.0192725\tvalid_1's class 3_0.0, class 2_0.9090909090909091, class 1_1.0, class0_0.9989212769236241: 0.581602\n",
      "[273]\ttraining's multi_logloss: 0.00101356\ttraining's class 3_0.8661417322834646, class 2_0.980438648488441, class 1_1.0, class0_0.9998069892922268: 0.769277\tvalid_1's multi_logloss: 0.0193069\tvalid_1's class 3_0.0, class 2_0.9090909090909091, class 1_1.0, class0_0.9989212769236241: 0.581602\n",
      "[274]\ttraining's multi_logloss: 0.00101339\ttraining's class 3_0.8661417322834646, class 2_0.980438648488441, class 1_1.0, class0_0.9998069892922268: 0.769277\tvalid_1's multi_logloss: 0.0193047\tvalid_1's class 3_0.0, class 2_0.9090909090909091, class 1_1.0, class0_0.9989212769236241: 0.581602\n",
      "[275]\ttraining's multi_logloss: 0.00101322\ttraining's class 3_0.8661417322834646, class 2_0.980438648488441, class 1_1.0, class0_0.9998069892922268: 0.769277\tvalid_1's multi_logloss: 0.0193423\tvalid_1's class 3_0.0, class 2_0.9090909090909091, class 1_1.0, class0_0.9989212769236241: 0.581602\n",
      "[276]\ttraining's multi_logloss: 0.00101306\ttraining's class 3_0.8661417322834646, class 2_0.980438648488441, class 1_1.0, class0_0.9998069892922268: 0.769277\tvalid_1's multi_logloss: 0.0193401\tvalid_1's class 3_0.0, class 2_0.9090909090909091, class 1_1.0, class0_0.9989212769236241: 0.581602\n",
      "[277]\ttraining's multi_logloss: 0.00101291\ttraining's class 3_0.8661417322834646, class 2_0.980438648488441, class 1_1.0, class0_0.9998069892922268: 0.769277\tvalid_1's multi_logloss: 0.0193516\tvalid_1's class 3_0.0, class 2_0.9090909090909091, class 1_1.0, class0_0.9989212769236241: 0.581602\n",
      "[278]\ttraining's multi_logloss: 0.00101276\ttraining's class 3_0.8661417322834646, class 2_0.980438648488441, class 1_1.0, class0_0.9998069892922268: 0.769277\tvalid_1's multi_logloss: 0.0193579\tvalid_1's class 3_0.0, class 2_0.9090909090909091, class 1_1.0, class0_0.9989212769236241: 0.581602\n",
      "[279]\ttraining's multi_logloss: 0.00101263\ttraining's class 3_0.8661417322834646, class 2_0.980438648488441, class 1_1.0, class0_0.9998069892922268: 0.769277\tvalid_1's multi_logloss: 0.0193985\tvalid_1's class 3_0.0, class 2_0.9090909090909091, class 1_1.0, class0_0.9989212769236241: 0.581602\n",
      "[280]\ttraining's multi_logloss: 0.00101249\ttraining's class 3_0.8661417322834646, class 2_0.980438648488441, class 1_1.0, class0_0.9998069892922268: 0.769277\tvalid_1's multi_logloss: 0.0194011\tvalid_1's class 3_0.0, class 2_0.9090909090909091, class 1_1.0, class0_0.9989212769236241: 0.581602\n",
      "[281]\ttraining's multi_logloss: 0.00101235\ttraining's class 3_0.8661417322834646, class 2_0.980438648488441, class 1_1.0, class0_0.9998069892922268: 0.769277\tvalid_1's multi_logloss: 0.0194401\tvalid_1's class 3_0.0, class 2_0.9090909090909091, class 1_1.0, class0_0.9989212769236241: 0.581602\n",
      "[282]\ttraining's multi_logloss: 0.00101223\ttraining's class 3_0.8661417322834646, class 2_0.980438648488441, class 1_1.0, class0_0.9998069892922268: 0.769277\tvalid_1's multi_logloss: 0.0194969\tvalid_1's class 3_0.0, class 2_0.9090909090909091, class 1_1.0, class0_0.9989212769236241: 0.581602\n",
      "[283]\ttraining's multi_logloss: 0.0010121\ttraining's class 3_0.8661417322834646, class 2_0.980438648488441, class 1_1.0, class0_0.9998069892922268: 0.769277\tvalid_1's multi_logloss: 0.0195481\tvalid_1's class 3_0.0, class 2_0.9090909090909091, class 1_1.0, class0_0.9989212769236241: 0.581602\n",
      "[284]\ttraining's multi_logloss: 0.00101198\ttraining's class 3_0.8661417322834646, class 2_0.980438648488441, class 1_1.0, class0_0.9998069892922268: 0.769277\tvalid_1's multi_logloss: 0.0195712\tvalid_1's class 3_0.0, class 2_0.9090909090909091, class 1_1.0, class0_0.9989212769236241: 0.581602\n",
      "[285]\ttraining's multi_logloss: 0.00101186\ttraining's class 3_0.8661417322834646, class 2_0.980438648488441, class 1_1.0, class0_0.9998069892922268: 0.769277\tvalid_1's multi_logloss: 0.0195954\tvalid_1's class 3_0.0, class 2_0.9466019417475728, class 1_1.0, class0_0.9991229733573527: 0.589145\n",
      "[286]\ttraining's multi_logloss: 0.00101174\ttraining's class 3_0.8661417322834646, class 2_0.980438648488441, class 1_1.0, class0_0.9998069892922268: 0.769277\tvalid_1's multi_logloss: 0.0196316\tvalid_1's class 3_0.0, class 2_0.9466019417475728, class 1_1.0, class0_0.9991229733573527: 0.589145\n",
      "[287]\ttraining's multi_logloss: 0.00101163\ttraining's class 3_0.8661417322834646, class 2_0.980438648488441, class 1_1.0, class0_0.9998069892922268: 0.769277\tvalid_1's multi_logloss: 0.0196664\tvalid_1's class 3_0.0, class 2_0.9466019417475728, class 1_1.0, class0_0.9991229733573527: 0.589145\n",
      "[288]\ttraining's multi_logloss: 0.00101153\ttraining's class 3_0.8661417322834646, class 2_0.980438648488441, class 1_1.0, class0_0.9998069892922268: 0.769277\tvalid_1's multi_logloss: 0.0196825\tvalid_1's class 3_0.0, class 2_0.9466019417475728, class 1_1.0, class0_0.9991229733573527: 0.589145\n"
     ]
    },
    {
     "name": "stdout",
     "output_type": "stream",
     "text": [
      "[289]\ttraining's multi_logloss: 0.00101142\ttraining's class 3_0.8661417322834646, class 2_0.980438648488441, class 1_1.0, class0_0.9998069892922268: 0.769277\tvalid_1's multi_logloss: 0.0197082\tvalid_1's class 3_0.0, class 2_0.9466019417475728, class 1_1.0, class0_0.9991229733573527: 0.589145\n",
      "[290]\ttraining's multi_logloss: 0.00101133\ttraining's class 3_0.8661417322834646, class 2_0.980438648488441, class 1_1.0, class0_0.9998069892922268: 0.769277\tvalid_1's multi_logloss: 0.0197442\tvalid_1's class 3_0.0, class 2_0.9466019417475728, class 1_1.0, class0_0.9991229733573527: 0.589145\n",
      "[291]\ttraining's multi_logloss: 0.00101123\ttraining's class 3_0.8661417322834646, class 2_0.980438648488441, class 1_1.0, class0_0.9998069892922268: 0.769277\tvalid_1's multi_logloss: 0.0197825\tvalid_1's class 3_0.0, class 2_0.9466019417475728, class 1_1.0, class0_0.9991229733573527: 0.589145\n",
      "[292]\ttraining's multi_logloss: 0.00101114\ttraining's class 3_0.8661417322834646, class 2_0.980438648488441, class 1_1.0, class0_0.9998069892922268: 0.769277\tvalid_1's multi_logloss: 0.019806\tvalid_1's class 3_0.0, class 2_0.9466019417475728, class 1_1.0, class0_0.9991229733573527: 0.589145\n",
      "[293]\ttraining's multi_logloss: 0.00101104\ttraining's class 3_0.8661417322834646, class 2_0.980438648488441, class 1_1.0, class0_0.9998069892922268: 0.769277\tvalid_1's multi_logloss: 0.0198501\tvalid_1's class 3_0.0, class 2_0.9466019417475728, class 1_1.0, class0_0.9991229733573527: 0.589145\n",
      "[294]\ttraining's multi_logloss: 0.00101095\ttraining's class 3_0.8661417322834646, class 2_0.980438648488441, class 1_1.0, class0_0.9998069892922268: 0.769277\tvalid_1's multi_logloss: 0.0198895\tvalid_1's class 3_0.0, class 2_0.9466019417475728, class 1_1.0, class0_0.9991229733573527: 0.589145\n",
      "[295]\ttraining's multi_logloss: 0.00101084\ttraining's class 3_0.8661417322834646, class 2_0.980438648488441, class 1_1.0, class0_0.9998069892922268: 0.769277\tvalid_1's multi_logloss: 0.0199059\tvalid_1's class 3_0.0, class 2_0.9466019417475728, class 1_1.0, class0_0.9991229733573527: 0.589145\n",
      "[296]\ttraining's multi_logloss: 0.00101074\ttraining's class 3_0.8661417322834646, class 2_0.980438648488441, class 1_1.0, class0_0.9998069892922268: 0.769277\tvalid_1's multi_logloss: 0.0199311\tvalid_1's class 3_0.0, class 2_0.9466019417475728, class 1_1.0, class0_0.9991229733573527: 0.589145\n",
      "[297]\ttraining's multi_logloss: 0.00101066\ttraining's class 3_0.8661417322834646, class 2_0.980438648488441, class 1_1.0, class0_0.9998069892922268: 0.769277\tvalid_1's multi_logloss: 0.0199522\tvalid_1's class 3_0.0, class 2_0.9466019417475728, class 1_1.0, class0_0.9991229733573527: 0.589145\n",
      "[298]\ttraining's multi_logloss: 0.00101057\ttraining's class 3_0.8661417322834646, class 2_0.980438648488441, class 1_1.0, class0_0.9998069892922268: 0.769277\tvalid_1's multi_logloss: 0.0199658\tvalid_1's class 3_0.0, class 2_0.9466019417475728, class 1_1.0, class0_0.9991229733573527: 0.589145\n",
      "[299]\ttraining's multi_logloss: 0.00101049\ttraining's class 3_0.8661417322834646, class 2_0.980438648488441, class 1_1.0, class0_0.9998069892922268: 0.769277\tvalid_1's multi_logloss: 0.0199781\tvalid_1's class 3_0.0, class 2_0.9466019417475728, class 1_1.0, class0_0.9991229733573527: 0.589145\n",
      "[300]\ttraining's multi_logloss: 0.00101041\ttraining's class 3_0.8661417322834646, class 2_0.980438648488441, class 1_1.0, class0_0.9998069892922268: 0.769277\tvalid_1's multi_logloss: 0.0199825\tvalid_1's class 3_0.0, class 2_0.9466019417475728, class 1_1.0, class0_0.9991229733573527: 0.589145\n",
      "[301]\ttraining's multi_logloss: 0.00101034\ttraining's class 3_0.8661417322834646, class 2_0.980438648488441, class 1_1.0, class0_0.9998069892922268: 0.769277\tvalid_1's multi_logloss: 0.0200047\tvalid_1's class 3_0.0, class 2_0.9466019417475728, class 1_1.0, class0_0.9991229733573527: 0.589145\n",
      "[302]\ttraining's multi_logloss: 0.00101027\ttraining's class 3_0.8661417322834646, class 2_0.980438648488441, class 1_1.0, class0_0.9998069892922268: 0.769277\tvalid_1's multi_logloss: 0.0200379\tvalid_1's class 3_0.0, class 2_0.9466019417475728, class 1_1.0, class0_0.9991229733573527: 0.589145\n",
      "[303]\ttraining's multi_logloss: 0.0010102\ttraining's class 3_0.8661417322834646, class 2_0.980438648488441, class 1_1.0, class0_0.9998069892922268: 0.769277\tvalid_1's multi_logloss: 0.0200506\tvalid_1's class 3_0.0, class 2_0.9466019417475728, class 1_1.0, class0_0.9991229733573527: 0.589145\n",
      "[304]\ttraining's multi_logloss: 0.00101013\ttraining's class 3_0.8661417322834646, class 2_0.980438648488441, class 1_1.0, class0_0.9998069892922268: 0.769277\tvalid_1's multi_logloss: 0.0200844\tvalid_1's class 3_0.0, class 2_0.9466019417475728, class 1_1.0, class0_0.9991229733573527: 0.589145\n",
      "[305]\ttraining's multi_logloss: 0.00101007\ttraining's class 3_0.8661417322834646, class 2_0.980438648488441, class 1_1.0, class0_0.9998069892922268: 0.769277\tvalid_1's multi_logloss: 0.0200957\tvalid_1's class 3_0.0, class 2_0.9466019417475728, class 1_1.0, class0_0.9991229733573527: 0.589145\n",
      "[306]\ttraining's multi_logloss: 0.00101001\ttraining's class 3_0.8661417322834646, class 2_0.980438648488441, class 1_1.0, class0_0.9998069892922268: 0.769277\tvalid_1's multi_logloss: 0.0201508\tvalid_1's class 3_0.0, class 2_0.9466019417475728, class 1_1.0, class0_0.9991229733573527: 0.589145\n",
      "[307]\ttraining's multi_logloss: 0.00100995\ttraining's class 3_0.8661417322834646, class 2_0.980438648488441, class 1_1.0, class0_0.9998069892922268: 0.769277\tvalid_1's multi_logloss: 0.020203\tvalid_1's class 3_0.0, class 2_0.9466019417475728, class 1_1.0, class0_0.9991229733573527: 0.589145\n",
      "[308]\ttraining's multi_logloss: 0.00100989\ttraining's class 3_0.8661417322834646, class 2_0.980438648488441, class 1_1.0, class0_0.9998069892922268: 0.769277\tvalid_1's multi_logloss: 0.0202316\tvalid_1's class 3_0.0, class 2_0.9466019417475728, class 1_1.0, class0_0.9991229733573527: 0.589145\n",
      "[309]\ttraining's multi_logloss: 0.00100983\ttraining's class 3_0.8661417322834646, class 2_0.980438648488441, class 1_1.0, class0_0.9998069892922268: 0.769277\tvalid_1's multi_logloss: 0.02026\tvalid_1's class 3_0.0, class 2_0.9466019417475728, class 1_1.0, class0_0.9991229733573527: 0.589145\n",
      "[310]\ttraining's multi_logloss: 0.00100978\ttraining's class 3_0.8661417322834646, class 2_0.980438648488441, class 1_1.0, class0_0.9998069892922268: 0.769277\tvalid_1's multi_logloss: 0.0202848\tvalid_1's class 3_0.0, class 2_0.9466019417475728, class 1_1.0, class0_0.9991229733573527: 0.589145\n",
      "[311]\ttraining's multi_logloss: 0.00100972\ttraining's class 3_0.8661417322834646, class 2_0.980438648488441, class 1_1.0, class0_0.9998069892922268: 0.769277\tvalid_1's multi_logloss: 0.0203142\tvalid_1's class 3_0.0, class 2_0.9466019417475728, class 1_1.0, class0_0.9991229733573527: 0.589145\n",
      "[312]\ttraining's multi_logloss: 0.00100968\ttraining's class 3_0.8661417322834646, class 2_0.980438648488441, class 1_1.0, class0_0.9998069892922268: 0.769277\tvalid_1's multi_logloss: 0.020347\tvalid_1's class 3_0.0, class 2_0.9466019417475728, class 1_1.0, class0_0.9991229733573527: 0.589145\n",
      "[313]\ttraining's multi_logloss: 0.00100964\ttraining's class 3_0.8661417322834646, class 2_0.980438648488441, class 1_1.0, class0_0.9998069892922268: 0.769277\tvalid_1's multi_logloss: 0.020396\tvalid_1's class 3_0.0, class 2_0.9466019417475728, class 1_1.0, class0_0.9991229733573527: 0.589145\n",
      "[314]\ttraining's multi_logloss: 0.00100959\ttraining's class 3_0.8661417322834646, class 2_0.980438648488441, class 1_1.0, class0_0.9998069892922268: 0.769277\tvalid_1's multi_logloss: 0.0204425\tvalid_1's class 3_0.0, class 2_0.9466019417475728, class 1_1.0, class0_0.9991229733573527: 0.589145\n",
      "[315]\ttraining's multi_logloss: 0.00100954\ttraining's class 3_0.8661417322834646, class 2_0.980438648488441, class 1_1.0, class0_0.9998069892922268: 0.769277\tvalid_1's multi_logloss: 0.0204851\tvalid_1's class 3_0.0, class 2_0.9466019417475728, class 1_1.0, class0_0.9991229733573527: 0.589145\n",
      "[316]\ttraining's multi_logloss: 0.00100949\ttraining's class 3_0.8661417322834646, class 2_0.980438648488441, class 1_1.0, class0_0.9998069892922268: 0.769277\tvalid_1's multi_logloss: 0.0205076\tvalid_1's class 3_0.0, class 2_0.9466019417475728, class 1_1.0, class0_0.9991229733573527: 0.589145\n"
     ]
    },
    {
     "name": "stdout",
     "output_type": "stream",
     "text": [
      "[317]\ttraining's multi_logloss: 0.00100945\ttraining's class 3_0.8661417322834646, class 2_0.980438648488441, class 1_1.0, class0_0.9998069892922268: 0.769277\tvalid_1's multi_logloss: 0.0205366\tvalid_1's class 3_0.0, class 2_0.9466019417475728, class 1_1.0, class0_0.9991229733573527: 0.589145\n",
      "[318]\ttraining's multi_logloss: 0.00100941\ttraining's class 3_0.8661417322834646, class 2_0.980438648488441, class 1_1.0, class0_0.9998069892922268: 0.769277\tvalid_1's multi_logloss: 0.0205701\tvalid_1's class 3_0.0, class 2_0.9466019417475728, class 1_1.0, class0_0.9991229733573527: 0.589145\n",
      "[319]\ttraining's multi_logloss: 0.00100936\ttraining's class 3_0.8661417322834646, class 2_0.980438648488441, class 1_1.0, class0_0.9998069892922268: 0.769277\tvalid_1's multi_logloss: 0.0206063\tvalid_1's class 3_0.0, class 2_0.9466019417475728, class 1_1.0, class0_0.9991229733573527: 0.589145\n",
      "[320]\ttraining's multi_logloss: 0.00100932\ttraining's class 3_0.8661417322834646, class 2_0.980438648488441, class 1_1.0, class0_0.9998069892922268: 0.769277\tvalid_1's multi_logloss: 0.0206342\tvalid_1's class 3_0.0, class 2_0.9466019417475728, class 1_1.0, class0_0.9991229733573527: 0.589145\n",
      "[321]\ttraining's multi_logloss: 0.00100929\ttraining's class 3_0.8661417322834646, class 2_0.980438648488441, class 1_1.0, class0_0.9998069892922268: 0.769277\tvalid_1's multi_logloss: 0.0206562\tvalid_1's class 3_0.0, class 2_0.9466019417475728, class 1_1.0, class0_0.9991229733573527: 0.589145\n",
      "[322]\ttraining's multi_logloss: 0.00100925\ttraining's class 3_0.8661417322834646, class 2_0.980438648488441, class 1_1.0, class0_0.9998069892922268: 0.769277\tvalid_1's multi_logloss: 0.0206775\tvalid_1's class 3_0.0, class 2_0.9466019417475728, class 1_1.0, class0_0.9991229733573527: 0.589145\n",
      "[323]\ttraining's multi_logloss: 0.00100921\ttraining's class 3_0.8661417322834646, class 2_0.980438648488441, class 1_1.0, class0_0.9998069892922268: 0.769277\tvalid_1's multi_logloss: 0.0207001\tvalid_1's class 3_0.0, class 2_0.9466019417475728, class 1_1.0, class0_0.9991229733573527: 0.589145\n",
      "[324]\ttraining's multi_logloss: 0.00100917\ttraining's class 3_0.8661417322834646, class 2_0.980438648488441, class 1_1.0, class0_0.9998069892922268: 0.769277\tvalid_1's multi_logloss: 0.0207281\tvalid_1's class 3_0.0, class 2_0.9466019417475728, class 1_1.0, class0_0.9991229733573527: 0.589145\n",
      "[325]\ttraining's multi_logloss: 0.00100914\ttraining's class 3_0.8661417322834646, class 2_0.980438648488441, class 1_1.0, class0_0.9998069892922268: 0.769277\tvalid_1's multi_logloss: 0.02075\tvalid_1's class 3_0.0, class 2_0.9466019417475728, class 1_1.0, class0_0.9991229733573527: 0.589145\n",
      "[326]\ttraining's multi_logloss: 0.00100911\ttraining's class 3_0.8661417322834646, class 2_0.980438648488441, class 1_1.0, class0_0.9998069892922268: 0.769277\tvalid_1's multi_logloss: 0.0207716\tvalid_1's class 3_0.0, class 2_0.9466019417475728, class 1_1.0, class0_0.9991229733573527: 0.589145\n",
      "[327]\ttraining's multi_logloss: 0.00100908\ttraining's class 3_0.8661417322834646, class 2_0.980438648488441, class 1_1.0, class0_0.9998069892922268: 0.769277\tvalid_1's multi_logloss: 0.0208014\tvalid_1's class 3_0.0, class 2_0.9466019417475728, class 1_1.0, class0_0.9991229733573527: 0.589145\n",
      "[328]\ttraining's multi_logloss: 0.00100904\ttraining's class 3_0.8661417322834646, class 2_0.980438648488441, class 1_1.0, class0_0.9998069892922268: 0.769277\tvalid_1's multi_logloss: 0.0208257\tvalid_1's class 3_0.0, class 2_0.9466019417475728, class 1_1.0, class0_0.9991229733573527: 0.589145\n",
      "[329]\ttraining's multi_logloss: 0.00100901\ttraining's class 3_0.8661417322834646, class 2_0.980438648488441, class 1_1.0, class0_0.9998069892922268: 0.769277\tvalid_1's multi_logloss: 0.0208305\tvalid_1's class 3_0.0, class 2_0.9466019417475728, class 1_1.0, class0_0.9991229733573527: 0.589145\n",
      "[330]\ttraining's multi_logloss: 0.00100899\ttraining's class 3_0.8661417322834646, class 2_0.980438648488441, class 1_1.0, class0_0.9998069892922268: 0.769277\tvalid_1's multi_logloss: 0.0208382\tvalid_1's class 3_0.0, class 2_0.9466019417475728, class 1_1.0, class0_0.9991229733573527: 0.589145\n",
      "[331]\ttraining's multi_logloss: 0.00100895\ttraining's class 3_0.8661417322834646, class 2_0.980438648488441, class 1_1.0, class0_0.9998069892922268: 0.769277\tvalid_1's multi_logloss: 0.0208277\tvalid_1's class 3_0.0, class 2_0.9466019417475728, class 1_1.0, class0_0.9991229733573527: 0.589145\n",
      "[332]\ttraining's multi_logloss: 0.00100892\ttraining's class 3_0.8661417322834646, class 2_0.980438648488441, class 1_1.0, class0_0.9998069892922268: 0.769277\tvalid_1's multi_logloss: 0.0208299\tvalid_1's class 3_0.0, class 2_0.9466019417475728, class 1_1.0, class0_0.9991229733573527: 0.589145\n",
      "[333]\ttraining's multi_logloss: 0.00100889\ttraining's class 3_0.8661417322834646, class 2_0.980438648488441, class 1_1.0, class0_0.9998069892922268: 0.769277\tvalid_1's multi_logloss: 0.0208445\tvalid_1's class 3_0.0, class 2_0.9466019417475728, class 1_1.0, class0_0.9991229733573527: 0.589145\n",
      "[334]\ttraining's multi_logloss: 0.00100887\ttraining's class 3_0.8661417322834646, class 2_0.980438648488441, class 1_1.0, class0_0.9998069892922268: 0.769277\tvalid_1's multi_logloss: 0.0208626\tvalid_1's class 3_0.0, class 2_0.9466019417475728, class 1_1.0, class0_0.9991229733573527: 0.589145\n",
      "[335]\ttraining's multi_logloss: 0.00100885\ttraining's class 3_0.8661417322834646, class 2_0.980438648488441, class 1_1.0, class0_0.9998069892922268: 0.769277\tvalid_1's multi_logloss: 0.0208817\tvalid_1's class 3_0.0, class 2_0.9466019417475728, class 1_1.0, class0_0.9991229733573527: 0.589145\n",
      "[336]\ttraining's multi_logloss: 0.00100883\ttraining's class 3_0.8661417322834646, class 2_0.980438648488441, class 1_1.0, class0_0.9998069892922268: 0.769277\tvalid_1's multi_logloss: 0.0209023\tvalid_1's class 3_0.0, class 2_0.9466019417475728, class 1_1.0, class0_0.9991229733573527: 0.589145\n",
      "[337]\ttraining's multi_logloss: 0.00100881\ttraining's class 3_0.8661417322834646, class 2_0.980438648488441, class 1_1.0, class0_0.9998069892922268: 0.769277\tvalid_1's multi_logloss: 0.0209201\tvalid_1's class 3_0.0, class 2_0.9466019417475728, class 1_1.0, class0_0.9991229733573527: 0.589145\n",
      "[338]\ttraining's multi_logloss: 0.0010088\ttraining's class 3_0.8661417322834646, class 2_0.980438648488441, class 1_1.0, class0_0.9998069892922268: 0.769277\tvalid_1's multi_logloss: 0.0209121\tvalid_1's class 3_0.0, class 2_0.9466019417475728, class 1_1.0, class0_0.9991229733573527: 0.589145\n",
      "[339]\ttraining's multi_logloss: 0.00100877\ttraining's class 3_0.8661417322834646, class 2_0.980438648488441, class 1_1.0, class0_0.9998069892922268: 0.769277\tvalid_1's multi_logloss: 0.0209009\tvalid_1's class 3_0.0, class 2_0.9466019417475728, class 1_1.0, class0_0.9991229733573527: 0.589145\n",
      "[340]\ttraining's multi_logloss: 0.00100874\ttraining's class 3_0.8661417322834646, class 2_0.980438648488441, class 1_1.0, class0_0.9998069892922268: 0.769277\tvalid_1's multi_logloss: 0.0209182\tvalid_1's class 3_0.0, class 2_0.9466019417475728, class 1_1.0, class0_0.9991229733573527: 0.589145\n",
      "[341]\ttraining's multi_logloss: 0.00100873\ttraining's class 3_0.8661417322834646, class 2_0.980438648488441, class 1_1.0, class0_0.9998069892922268: 0.769277\tvalid_1's multi_logloss: 0.020919\tvalid_1's class 3_0.0, class 2_0.9466019417475728, class 1_1.0, class0_0.9991229733573527: 0.589145\n",
      "[342]\ttraining's multi_logloss: 0.0010087\ttraining's class 3_0.8661417322834646, class 2_0.980438648488441, class 1_1.0, class0_0.9998069892922268: 0.769277\tvalid_1's multi_logloss: 0.0209161\tvalid_1's class 3_0.0, class 2_0.9466019417475728, class 1_1.0, class0_0.9991229733573527: 0.589145\n",
      "[343]\ttraining's multi_logloss: 0.00100868\ttraining's class 3_0.8661417322834646, class 2_0.980438648488441, class 1_1.0, class0_0.9998069892922268: 0.769277\tvalid_1's multi_logloss: 0.0209398\tvalid_1's class 3_0.0, class 2_0.9466019417475728, class 1_1.0, class0_0.9991229733573527: 0.589145\n",
      "[344]\ttraining's multi_logloss: 0.00100866\ttraining's class 3_0.8661417322834646, class 2_0.980438648488441, class 1_1.0, class0_0.9998069892922268: 0.769277\tvalid_1's multi_logloss: 0.0209429\tvalid_1's class 3_0.0, class 2_0.9466019417475728, class 1_1.0, class0_0.9991229733573527: 0.589145\n"
     ]
    },
    {
     "name": "stdout",
     "output_type": "stream",
     "text": [
      "[345]\ttraining's multi_logloss: 0.00100864\ttraining's class 3_0.8661417322834646, class 2_0.980438648488441, class 1_1.0, class0_0.9998069892922268: 0.769277\tvalid_1's multi_logloss: 0.0209696\tvalid_1's class 3_0.0, class 2_0.9466019417475728, class 1_1.0, class0_0.9991229733573527: 0.589145\n",
      "[346]\ttraining's multi_logloss: 0.00100862\ttraining's class 3_0.8661417322834646, class 2_0.980438648488441, class 1_1.0, class0_0.9998069892922268: 0.769277\tvalid_1's multi_logloss: 0.0210288\tvalid_1's class 3_0.0, class 2_0.9466019417475728, class 1_1.0, class0_0.9991229733573527: 0.589145\n",
      "[347]\ttraining's multi_logloss: 0.0010086\ttraining's class 3_0.8661417322834646, class 2_0.980438648488441, class 1_1.0, class0_0.9998069892922268: 0.769277\tvalid_1's multi_logloss: 0.021054\tvalid_1's class 3_0.0, class 2_0.9466019417475728, class 1_1.0, class0_0.9991229733573527: 0.589145\n",
      "[348]\ttraining's multi_logloss: 0.00100858\ttraining's class 3_0.8661417322834646, class 2_0.980438648488441, class 1_1.0, class0_0.9998069892922268: 0.769277\tvalid_1's multi_logloss: 0.0210958\tvalid_1's class 3_0.0, class 2_0.9466019417475728, class 1_1.0, class0_0.9991229733573527: 0.589145\n",
      "[349]\ttraining's multi_logloss: 0.00100855\ttraining's class 3_0.8661417322834646, class 2_0.980438648488441, class 1_1.0, class0_0.9998069892922268: 0.769277\tvalid_1's multi_logloss: 0.0211315\tvalid_1's class 3_0.0, class 2_0.9466019417475728, class 1_1.0, class0_0.9991229733573527: 0.589145\n",
      "[350]\ttraining's multi_logloss: 0.00100854\ttraining's class 3_0.8661417322834646, class 2_0.980438648488441, class 1_1.0, class0_0.9998069892922268: 0.769277\tvalid_1's multi_logloss: 0.0211548\tvalid_1's class 3_0.0, class 2_0.9466019417475728, class 1_1.0, class0_0.9991229733573527: 0.589145\n",
      "[351]\ttraining's multi_logloss: 0.00100852\ttraining's class 3_0.8661417322834646, class 2_0.980438648488441, class 1_1.0, class0_0.9998069892922268: 0.769277\tvalid_1's multi_logloss: 0.0211998\tvalid_1's class 3_0.0, class 2_0.9466019417475728, class 1_1.0, class0_0.9991229733573527: 0.589145\n",
      "[352]\ttraining's multi_logloss: 0.00100849\ttraining's class 3_0.8661417322834646, class 2_0.980438648488441, class 1_1.0, class0_0.9998069892922268: 0.769277\tvalid_1's multi_logloss: 0.0212345\tvalid_1's class 3_0.0, class 2_0.9466019417475728, class 1_1.0, class0_0.9991229733573527: 0.589145\n",
      "[353]\ttraining's multi_logloss: 0.00100848\ttraining's class 3_0.8661417322834646, class 2_0.980438648488441, class 1_1.0, class0_0.9998069892922268: 0.769277\tvalid_1's multi_logloss: 0.0212714\tvalid_1's class 3_0.0, class 2_0.9466019417475728, class 1_1.0, class0_0.9991229733573527: 0.589145\n",
      "[354]\ttraining's multi_logloss: 0.00100846\ttraining's class 3_0.8661417322834646, class 2_0.980438648488441, class 1_1.0, class0_0.9998069892922268: 0.769277\tvalid_1's multi_logloss: 0.0213172\tvalid_1's class 3_0.0, class 2_0.9466019417475728, class 1_1.0, class0_0.9991229733573527: 0.589145\n",
      "[355]\ttraining's multi_logloss: 0.00100843\ttraining's class 3_0.8661417322834646, class 2_0.980438648488441, class 1_1.0, class0_0.9998069892922268: 0.769277\tvalid_1's multi_logloss: 0.0213662\tvalid_1's class 3_0.0, class 2_0.9466019417475728, class 1_1.0, class0_0.9991229733573527: 0.589145\n",
      "[356]\ttraining's multi_logloss: 0.00100842\ttraining's class 3_0.8661417322834646, class 2_0.980438648488441, class 1_1.0, class0_0.9998069892922268: 0.769277\tvalid_1's multi_logloss: 0.0214085\tvalid_1's class 3_0.0, class 2_0.9466019417475728, class 1_1.0, class0_0.9991229733573527: 0.589145\n",
      "[357]\ttraining's multi_logloss: 0.0010084\ttraining's class 3_0.8661417322834646, class 2_0.980438648488441, class 1_1.0, class0_0.9998069892922268: 0.769277\tvalid_1's multi_logloss: 0.021455\tvalid_1's class 3_0.0, class 2_0.9466019417475728, class 1_1.0, class0_0.9991229733573527: 0.589145\n",
      "[358]\ttraining's multi_logloss: 0.00100839\ttraining's class 3_0.8661417322834646, class 2_0.980438648488441, class 1_1.0, class0_0.9998069892922268: 0.769277\tvalid_1's multi_logloss: 0.0214757\tvalid_1's class 3_0.0, class 2_0.9466019417475728, class 1_1.0, class0_0.9991229733573527: 0.589145\n",
      "[359]\ttraining's multi_logloss: 0.00100837\ttraining's class 3_0.8661417322834646, class 2_0.980438648488441, class 1_1.0, class0_0.9998069892922268: 0.769277\tvalid_1's multi_logloss: 0.0215124\tvalid_1's class 3_0.0, class 2_0.9466019417475728, class 1_1.0, class0_0.9991229733573527: 0.589145\n",
      "[360]\ttraining's multi_logloss: 0.00100836\ttraining's class 3_0.8661417322834646, class 2_0.980438648488441, class 1_1.0, class0_0.9998069892922268: 0.769277\tvalid_1's multi_logloss: 0.0215653\tvalid_1's class 3_0.0, class 2_0.9466019417475728, class 1_1.0, class0_0.9991229733573527: 0.589145\n",
      "[361]\ttraining's multi_logloss: 0.00100834\ttraining's class 3_0.8661417322834646, class 2_0.980438648488441, class 1_1.0, class0_0.9998069892922268: 0.769277\tvalid_1's multi_logloss: 0.0215949\tvalid_1's class 3_0.0, class 2_0.9466019417475728, class 1_1.0, class0_0.9991229733573527: 0.589145\n",
      "[362]\ttraining's multi_logloss: 0.00100832\ttraining's class 3_0.8661417322834646, class 2_0.980438648488441, class 1_1.0, class0_0.9998069892922268: 0.769277\tvalid_1's multi_logloss: 0.0216137\tvalid_1's class 3_0.0, class 2_0.9466019417475728, class 1_1.0, class0_0.9991229733573527: 0.589145\n",
      "[363]\ttraining's multi_logloss: 0.00100831\ttraining's class 3_0.8661417322834646, class 2_0.980438648488441, class 1_1.0, class0_0.9998069892922268: 0.769277\tvalid_1's multi_logloss: 0.0216337\tvalid_1's class 3_0.0, class 2_0.9466019417475728, class 1_1.0, class0_0.9991229733573527: 0.589145\n",
      "[364]\ttraining's multi_logloss: 0.00100829\ttraining's class 3_0.8661417322834646, class 2_0.980438648488441, class 1_1.0, class0_0.9998069892922268: 0.769277\tvalid_1's multi_logloss: 0.0216704\tvalid_1's class 3_0.0, class 2_0.9466019417475728, class 1_1.0, class0_0.9991229733573527: 0.589145\n",
      "[365]\ttraining's multi_logloss: 0.00100827\ttraining's class 3_0.8661417322834646, class 2_0.980438648488441, class 1_1.0, class0_0.9998069892922268: 0.769277\tvalid_1's multi_logloss: 0.0217046\tvalid_1's class 3_0.0, class 2_0.9466019417475728, class 1_1.0, class0_0.9991229733573527: 0.589145\n",
      "[366]\ttraining's multi_logloss: 0.00100826\ttraining's class 3_0.8661417322834646, class 2_0.980438648488441, class 1_1.0, class0_0.9998069892922268: 0.769277\tvalid_1's multi_logloss: 0.0217397\tvalid_1's class 3_0.0, class 2_0.9466019417475728, class 1_1.0, class0_0.9991229733573527: 0.589145\n",
      "[367]\ttraining's multi_logloss: 0.00100825\ttraining's class 3_0.8661417322834646, class 2_0.980438648488441, class 1_1.0, class0_0.9998069892922268: 0.769277\tvalid_1's multi_logloss: 0.0217754\tvalid_1's class 3_0.0, class 2_0.9466019417475728, class 1_1.0, class0_0.9991229733573527: 0.589145\n",
      "[368]\ttraining's multi_logloss: 0.00100824\ttraining's class 3_0.8661417322834646, class 2_0.980438648488441, class 1_1.0, class0_0.9998069892922268: 0.769277\tvalid_1's multi_logloss: 0.0218241\tvalid_1's class 3_0.0, class 2_0.9466019417475728, class 1_1.0, class0_0.9991229733573527: 0.589145\n",
      "[369]\ttraining's multi_logloss: 0.00100822\ttraining's class 3_0.8661417322834646, class 2_0.980438648488441, class 1_1.0, class0_0.9998069892922268: 0.769277\tvalid_1's multi_logloss: 0.0218738\tvalid_1's class 3_0.0, class 2_0.9466019417475728, class 1_1.0, class0_0.9991229733573527: 0.589145\n",
      "[370]\ttraining's multi_logloss: 0.0010082\ttraining's class 3_0.8661417322834646, class 2_0.980438648488441, class 1_1.0, class0_0.9998069892922268: 0.769277\tvalid_1's multi_logloss: 0.0219047\tvalid_1's class 3_0.0, class 2_0.9466019417475728, class 1_1.0, class0_0.9991229733573527: 0.589145\n",
      "[371]\ttraining's multi_logloss: 0.0010082\ttraining's class 3_0.8661417322834646, class 2_0.980438648488441, class 1_1.0, class0_0.9998069892922268: 0.769277\tvalid_1's multi_logloss: 0.0219538\tvalid_1's class 3_0.0, class 2_0.9466019417475728, class 1_1.0, class0_0.9991229733573527: 0.589145\n",
      "[372]\ttraining's multi_logloss: 0.00100818\ttraining's class 3_0.8661417322834646, class 2_0.980438648488441, class 1_1.0, class0_0.9998069892922268: 0.769277\tvalid_1's multi_logloss: 0.0220015\tvalid_1's class 3_0.0, class 2_0.9466019417475728, class 1_1.0, class0_0.9991229733573527: 0.589145\n"
     ]
    },
    {
     "name": "stdout",
     "output_type": "stream",
     "text": [
      "[373]\ttraining's multi_logloss: 0.00100816\ttraining's class 3_0.8661417322834646, class 2_0.980438648488441, class 1_1.0, class0_0.9998069892922268: 0.769277\tvalid_1's multi_logloss: 0.0219929\tvalid_1's class 3_0.0, class 2_0.9466019417475728, class 1_1.0, class0_0.9991229733573527: 0.589145\n",
      "[374]\ttraining's multi_logloss: 0.00100816\ttraining's class 3_0.8661417322834646, class 2_0.980438648488441, class 1_1.0, class0_0.9998069892922268: 0.769277\tvalid_1's multi_logloss: 0.0220611\tvalid_1's class 3_0.0, class 2_0.9466019417475728, class 1_1.0, class0_0.9991229733573527: 0.589145\n",
      "[375]\ttraining's multi_logloss: 0.00100814\ttraining's class 3_0.8661417322834646, class 2_0.980438648488441, class 1_1.0, class0_0.9998069892922268: 0.769277\tvalid_1's multi_logloss: 0.0221013\tvalid_1's class 3_0.0, class 2_0.9466019417475728, class 1_1.0, class0_0.9991229733573527: 0.589145\n",
      "[376]\ttraining's multi_logloss: 0.00100813\ttraining's class 3_0.8661417322834646, class 2_0.980438648488441, class 1_1.0, class0_0.9998069892922268: 0.769277\tvalid_1's multi_logloss: 0.0221571\tvalid_1's class 3_0.0, class 2_0.9466019417475728, class 1_1.0, class0_0.9991229733573527: 0.589145\n",
      "[377]\ttraining's multi_logloss: 0.00100812\ttraining's class 3_0.8661417322834646, class 2_0.980438648488441, class 1_1.0, class0_0.9998069892922268: 0.769277\tvalid_1's multi_logloss: 0.0222068\tvalid_1's class 3_0.0, class 2_0.9466019417475728, class 1_1.0, class0_0.9991229733573527: 0.589145\n",
      "[378]\ttraining's multi_logloss: 0.0010081\ttraining's class 3_0.8661417322834646, class 2_0.980438648488441, class 1_1.0, class0_0.9998069892922268: 0.769277\tvalid_1's multi_logloss: 0.0222676\tvalid_1's class 3_0.0, class 2_0.9466019417475728, class 1_1.0, class0_0.9991229733573527: 0.589145\n",
      "[379]\ttraining's multi_logloss: 0.00100809\ttraining's class 3_0.8661417322834646, class 2_0.980438648488441, class 1_1.0, class0_0.9998069892922268: 0.769277\tvalid_1's multi_logloss: 0.0223122\tvalid_1's class 3_0.0, class 2_0.9466019417475728, class 1_1.0, class0_0.9991229733573527: 0.589145\n",
      "[380]\ttraining's multi_logloss: 0.00100808\ttraining's class 3_0.8661417322834646, class 2_0.980438648488441, class 1_1.0, class0_0.9998069892922268: 0.769277\tvalid_1's multi_logloss: 0.022379\tvalid_1's class 3_0.0, class 2_0.9466019417475728, class 1_1.0, class0_0.9991229733573527: 0.589145\n",
      "[381]\ttraining's multi_logloss: 0.00100806\ttraining's class 3_0.8661417322834646, class 2_0.980438648488441, class 1_1.0, class0_0.9998069892922268: 0.769277\tvalid_1's multi_logloss: 0.0224277\tvalid_1's class 3_0.0, class 2_0.9466019417475728, class 1_1.0, class0_0.9991229733573527: 0.589145\n",
      "[382]\ttraining's multi_logloss: 0.00100806\ttraining's class 3_0.8661417322834646, class 2_0.980438648488441, class 1_1.0, class0_0.9998069892922268: 0.769277\tvalid_1's multi_logloss: 0.022496\tvalid_1's class 3_0.0, class 2_0.9466019417475728, class 1_1.0, class0_0.9991229733573527: 0.589145\n",
      "[383]\ttraining's multi_logloss: 0.00100805\ttraining's class 3_0.8661417322834646, class 2_0.980438648488441, class 1_1.0, class0_0.9998069892922268: 0.769277\tvalid_1's multi_logloss: 0.0225479\tvalid_1's class 3_0.0, class 2_0.9466019417475728, class 1_1.0, class0_0.9991229733573527: 0.589145\n",
      "[384]\ttraining's multi_logloss: 0.00100803\ttraining's class 3_0.8661417322834646, class 2_0.980438648488441, class 1_1.0, class0_0.9998069892922268: 0.769277\tvalid_1's multi_logloss: 0.0225936\tvalid_1's class 3_0.0, class 2_0.9466019417475728, class 1_1.0, class0_0.9991229733573527: 0.589145\n",
      "[385]\ttraining's multi_logloss: 0.00100803\ttraining's class 3_0.8661417322834646, class 2_0.980438648488441, class 1_1.0, class0_0.9998069892922268: 0.769277\tvalid_1's multi_logloss: 0.0226531\tvalid_1's class 3_0.0, class 2_0.9466019417475728, class 1_1.0, class0_0.9991229733573527: 0.589145\n",
      "[386]\ttraining's multi_logloss: 0.00100801\ttraining's class 3_0.8661417322834646, class 2_0.980438648488441, class 1_1.0, class0_0.9998069892922268: 0.769277\tvalid_1's multi_logloss: 0.0227134\tvalid_1's class 3_0.0, class 2_0.9466019417475728, class 1_1.0, class0_0.9991229733573527: 0.589145\n",
      "[387]\ttraining's multi_logloss: 0.001008\ttraining's class 3_0.8661417322834646, class 2_0.980438648488441, class 1_1.0, class0_0.9998069892922268: 0.769277\tvalid_1's multi_logloss: 0.0227447\tvalid_1's class 3_0.0, class 2_0.9466019417475728, class 1_1.0, class0_0.9991229733573527: 0.589145\n",
      "[388]\ttraining's multi_logloss: 0.00100799\ttraining's class 3_0.8661417322834646, class 2_0.980438648488441, class 1_1.0, class0_0.9998069892922268: 0.769277\tvalid_1's multi_logloss: 0.0227814\tvalid_1's class 3_0.0, class 2_0.9466019417475728, class 1_1.0, class0_0.9991229733573527: 0.589145\n",
      "[389]\ttraining's multi_logloss: 0.00100798\ttraining's class 3_0.8661417322834646, class 2_0.980438648488441, class 1_1.0, class0_0.9998069892922268: 0.769277\tvalid_1's multi_logloss: 0.0228397\tvalid_1's class 3_0.0, class 2_0.9466019417475728, class 1_1.0, class0_0.9991229733573527: 0.589145\n",
      "[390]\ttraining's multi_logloss: 0.00100798\ttraining's class 3_0.8661417322834646, class 2_0.980438648488441, class 1_1.0, class0_0.9998069892922268: 0.769277\tvalid_1's multi_logloss: 0.0228864\tvalid_1's class 3_0.0, class 2_0.9466019417475728, class 1_1.0, class0_0.9991229733573527: 0.589145\n",
      "[391]\ttraining's multi_logloss: 0.00100796\ttraining's class 3_0.8661417322834646, class 2_0.980438648488441, class 1_1.0, class0_0.9998069892922268: 0.769277\tvalid_1's multi_logloss: 0.0229653\tvalid_1's class 3_0.0, class 2_0.9466019417475728, class 1_1.0, class0_0.9991229733573527: 0.589145\n",
      "[392]\ttraining's multi_logloss: 0.00100795\ttraining's class 3_0.8661417322834646, class 2_0.980438648488441, class 1_1.0, class0_0.9998069892922268: 0.769277\tvalid_1's multi_logloss: 0.0230154\tvalid_1's class 3_0.0, class 2_0.9466019417475728, class 1_1.0, class0_0.9991229733573527: 0.589145\n",
      "[393]\ttraining's multi_logloss: 0.00100795\ttraining's class 3_0.8661417322834646, class 2_0.980438648488441, class 1_1.0, class0_0.9998069892922268: 0.769277\tvalid_1's multi_logloss: 0.0230472\tvalid_1's class 3_0.0, class 2_0.9466019417475728, class 1_1.0, class0_0.9991229733573527: 0.589145\n",
      "[394]\ttraining's multi_logloss: 0.00100794\ttraining's class 3_0.8661417322834646, class 2_0.980438648488441, class 1_1.0, class0_0.9998069892922268: 0.769277\tvalid_1's multi_logloss: 0.0230562\tvalid_1's class 3_0.0, class 2_0.9466019417475728, class 1_1.0, class0_0.9991229733573527: 0.589145\n",
      "[395]\ttraining's multi_logloss: 0.00100793\ttraining's class 3_0.8661417322834646, class 2_0.980438648488441, class 1_1.0, class0_0.9998069892922268: 0.769277\tvalid_1's multi_logloss: 0.0231084\tvalid_1's class 3_0.0, class 2_0.9466019417475728, class 1_1.0, class0_0.9991229733573527: 0.589145\n",
      "[396]\ttraining's multi_logloss: 0.00100792\ttraining's class 3_0.8661417322834646, class 2_0.980438648488441, class 1_1.0, class0_0.9998069892922268: 0.769277\tvalid_1's multi_logloss: 0.0231637\tvalid_1's class 3_0.0, class 2_0.9466019417475728, class 1_1.0, class0_0.9991229733573527: 0.589145\n",
      "[397]\ttraining's multi_logloss: 0.00100791\ttraining's class 3_0.8661417322834646, class 2_0.980438648488441, class 1_1.0, class0_0.9998069892922268: 0.769277\tvalid_1's multi_logloss: 0.0232092\tvalid_1's class 3_0.0, class 2_0.9466019417475728, class 1_1.0, class0_0.9991229733573527: 0.589145\n",
      "[398]\ttraining's multi_logloss: 0.0010079\ttraining's class 3_0.8661417322834646, class 2_0.980438648488441, class 1_1.0, class0_0.9998069892922268: 0.769277\tvalid_1's multi_logloss: 0.0232376\tvalid_1's class 3_0.0, class 2_0.9466019417475728, class 1_1.0, class0_0.9991229733573527: 0.589145\n",
      "[399]\ttraining's multi_logloss: 0.00100789\ttraining's class 3_0.8661417322834646, class 2_0.980438648488441, class 1_1.0, class0_0.9998069892922268: 0.769277\tvalid_1's multi_logloss: 0.0232366\tvalid_1's class 3_0.0, class 2_0.9466019417475728, class 1_1.0, class0_0.9991229733573527: 0.589145\n",
      "[400]\ttraining's multi_logloss: 0.00100789\ttraining's class 3_0.8661417322834646, class 2_0.980438648488441, class 1_1.0, class0_0.9998069892922268: 0.769277\tvalid_1's multi_logloss: 0.0232859\tvalid_1's class 3_0.0, class 2_0.9466019417475728, class 1_1.0, class0_0.9991229733573527: 0.589145\n"
     ]
    },
    {
     "name": "stdout",
     "output_type": "stream",
     "text": [
      "[401]\ttraining's multi_logloss: 0.00100788\ttraining's class 3_0.8661417322834646, class 2_0.980438648488441, class 1_1.0, class0_0.9998069892922268: 0.769277\tvalid_1's multi_logloss: 0.0232497\tvalid_1's class 3_0.0, class 2_0.9466019417475728, class 1_1.0, class0_0.9991229733573527: 0.589145\n",
      "[402]\ttraining's multi_logloss: 0.00100787\ttraining's class 3_0.8661417322834646, class 2_0.980438648488441, class 1_1.0, class0_0.9998069892922268: 0.769277\tvalid_1's multi_logloss: 0.0232984\tvalid_1's class 3_0.0, class 2_0.9466019417475728, class 1_1.0, class0_0.9991229733573527: 0.589145\n",
      "[403]\ttraining's multi_logloss: 0.00100786\ttraining's class 3_0.8661417322834646, class 2_0.980438648488441, class 1_1.0, class0_0.9998069892922268: 0.769277\tvalid_1's multi_logloss: 0.0232869\tvalid_1's class 3_0.0, class 2_0.9466019417475728, class 1_1.0, class0_0.9991229733573527: 0.589145\n",
      "[404]\ttraining's multi_logloss: 0.00100785\ttraining's class 3_0.8661417322834646, class 2_0.980438648488441, class 1_1.0, class0_0.9998069892922268: 0.769277\tvalid_1's multi_logloss: 0.023294\tvalid_1's class 3_0.0, class 2_0.9466019417475728, class 1_1.0, class0_0.9991229733573527: 0.589145\n",
      "[405]\ttraining's multi_logloss: 0.00100784\ttraining's class 3_0.8661417322834646, class 2_0.980438648488441, class 1_1.0, class0_0.9998069892922268: 0.769277\tvalid_1's multi_logloss: 0.0233311\tvalid_1's class 3_0.0, class 2_0.9466019417475728, class 1_1.0, class0_0.9991229733573527: 0.589145\n",
      "[406]\ttraining's multi_logloss: 0.00100784\ttraining's class 3_0.8661417322834646, class 2_0.980438648488441, class 1_1.0, class0_0.9998069892922268: 0.769277\tvalid_1's multi_logloss: 0.0233665\tvalid_1's class 3_0.0, class 2_0.9466019417475728, class 1_1.0, class0_0.9991229733573527: 0.589145\n",
      "[407]\ttraining's multi_logloss: 0.00100783\ttraining's class 3_0.8661417322834646, class 2_0.980438648488441, class 1_1.0, class0_0.9998069892922268: 0.769277\tvalid_1's multi_logloss: 0.023429\tvalid_1's class 3_0.0, class 2_0.9466019417475728, class 1_1.0, class0_0.9991229733573527: 0.589145\n",
      "[408]\ttraining's multi_logloss: 0.00100782\ttraining's class 3_0.8661417322834646, class 2_0.980438648488441, class 1_1.0, class0_0.9998069892922268: 0.769277\tvalid_1's multi_logloss: 0.0234501\tvalid_1's class 3_0.0, class 2_0.9466019417475728, class 1_1.0, class0_0.9991229733573527: 0.589145\n",
      "[409]\ttraining's multi_logloss: 0.00100782\ttraining's class 3_0.8661417322834646, class 2_0.980438648488441, class 1_1.0, class0_0.9998069892922268: 0.769277\tvalid_1's multi_logloss: 0.0235165\tvalid_1's class 3_0.0, class 2_0.9466019417475728, class 1_1.0, class0_0.9991229733573527: 0.589145\n",
      "[410]\ttraining's multi_logloss: 0.00100781\ttraining's class 3_0.8661417322834646, class 2_0.980438648488441, class 1_1.0, class0_0.9998069892922268: 0.769277\tvalid_1's multi_logloss: 0.023561\tvalid_1's class 3_0.0, class 2_0.9466019417475728, class 1_1.0, class0_0.9991229733573527: 0.589145\n",
      "[411]\ttraining's multi_logloss: 0.0010078\ttraining's class 3_0.8661417322834646, class 2_0.980438648488441, class 1_1.0, class0_0.9998069892922268: 0.769277\tvalid_1's multi_logloss: 0.0236117\tvalid_1's class 3_0.0, class 2_0.9466019417475728, class 1_1.0, class0_0.9991229733573527: 0.589145\n",
      "[412]\ttraining's multi_logloss: 0.0010078\ttraining's class 3_0.8661417322834646, class 2_0.980438648488441, class 1_1.0, class0_0.9998069892922268: 0.769277\tvalid_1's multi_logloss: 0.0236518\tvalid_1's class 3_0.0, class 2_0.9466019417475728, class 1_1.0, class0_0.9991229733573527: 0.589145\n",
      "[413]\ttraining's multi_logloss: 0.00100778\ttraining's class 3_0.8661417322834646, class 2_0.980438648488441, class 1_1.0, class0_0.9998069892922268: 0.769277\tvalid_1's multi_logloss: 0.0236771\tvalid_1's class 3_0.0, class 2_0.9466019417475728, class 1_1.0, class0_0.9991229733573527: 0.589145\n",
      "[414]\ttraining's multi_logloss: 0.00100778\ttraining's class 3_0.8661417322834646, class 2_0.980438648488441, class 1_1.0, class0_0.9998069892922268: 0.769277\tvalid_1's multi_logloss: 0.0236949\tvalid_1's class 3_0.0, class 2_0.9466019417475728, class 1_1.0, class0_0.9991229733573527: 0.589145\n",
      "[415]\ttraining's multi_logloss: 0.00100777\ttraining's class 3_0.8661417322834646, class 2_0.980438648488441, class 1_1.0, class0_0.9998069892922268: 0.769277\tvalid_1's multi_logloss: 0.0237232\tvalid_1's class 3_0.0, class 2_0.9466019417475728, class 1_1.0, class0_0.9991229733573527: 0.589145\n",
      "[416]\ttraining's multi_logloss: 0.00100777\ttraining's class 3_0.8661417322834646, class 2_0.980438648488441, class 1_1.0, class0_0.9998069892922268: 0.769277\tvalid_1's multi_logloss: 0.023768\tvalid_1's class 3_0.0, class 2_0.9466019417475728, class 1_1.0, class0_0.9991229733573527: 0.589145\n",
      "[417]\ttraining's multi_logloss: 0.00100776\ttraining's class 3_0.8661417322834646, class 2_0.980438648488441, class 1_1.0, class0_0.9998069892922268: 0.769277\tvalid_1's multi_logloss: 0.0237844\tvalid_1's class 3_0.0, class 2_0.9466019417475728, class 1_1.0, class0_0.9991229733573527: 0.589145\n",
      "[418]\ttraining's multi_logloss: 0.00100775\ttraining's class 3_0.8661417322834646, class 2_0.980438648488441, class 1_1.0, class0_0.9998069892922268: 0.769277\tvalid_1's multi_logloss: 0.0237827\tvalid_1's class 3_0.0, class 2_0.9466019417475728, class 1_1.0, class0_0.9991229733573527: 0.589145\n",
      "[419]\ttraining's multi_logloss: 0.00100775\ttraining's class 3_0.8661417322834646, class 2_0.980438648488441, class 1_1.0, class0_0.9998069892922268: 0.769277\tvalid_1's multi_logloss: 0.0238231\tvalid_1's class 3_0.0, class 2_0.9466019417475728, class 1_1.0, class0_0.9991229733573527: 0.589145\n",
      "[420]\ttraining's multi_logloss: 0.00100774\ttraining's class 3_0.8661417322834646, class 2_0.980438648488441, class 1_1.0, class0_0.9998069892922268: 0.769277\tvalid_1's multi_logloss: 0.023843\tvalid_1's class 3_0.0, class 2_0.9466019417475728, class 1_1.0, class0_0.9991229733573527: 0.589145\n",
      "[421]\ttraining's multi_logloss: 0.00100773\ttraining's class 3_0.8661417322834646, class 2_0.980438648488441, class 1_1.0, class0_0.9998069892922268: 0.769277\tvalid_1's multi_logloss: 0.0238404\tvalid_1's class 3_0.0, class 2_0.9466019417475728, class 1_1.0, class0_0.9991229733573527: 0.589145\n",
      "[422]\ttraining's multi_logloss: 0.00100773\ttraining's class 3_0.8661417322834646, class 2_0.980438648488441, class 1_1.0, class0_0.9998069892922268: 0.769277\tvalid_1's multi_logloss: 0.0238862\tvalid_1's class 3_0.0, class 2_0.9466019417475728, class 1_1.0, class0_0.9991229733573527: 0.589145\n",
      "[423]\ttraining's multi_logloss: 0.00100772\ttraining's class 3_0.8661417322834646, class 2_0.980438648488441, class 1_1.0, class0_0.9998069892922268: 0.769277\tvalid_1's multi_logloss: 0.0239041\tvalid_1's class 3_0.0, class 2_0.9466019417475728, class 1_1.0, class0_0.9991229733573527: 0.589145\n",
      "[424]\ttraining's multi_logloss: 0.00100772\ttraining's class 3_0.8661417322834646, class 2_0.980438648488441, class 1_1.0, class0_0.9998069892922268: 0.769277\tvalid_1's multi_logloss: 0.0239287\tvalid_1's class 3_0.0, class 2_0.9466019417475728, class 1_1.0, class0_0.9991229733573527: 0.589145\n",
      "[425]\ttraining's multi_logloss: 0.00100771\ttraining's class 3_0.8661417322834646, class 2_0.980438648488441, class 1_1.0, class0_0.9998069892922268: 0.769277\tvalid_1's multi_logloss: 0.0239302\tvalid_1's class 3_0.0, class 2_0.9466019417475728, class 1_1.0, class0_0.9991229733573527: 0.589145\n",
      "[426]\ttraining's multi_logloss: 0.0010077\ttraining's class 3_0.8661417322834646, class 2_0.980438648488441, class 1_1.0, class0_0.9998069892922268: 0.769277\tvalid_1's multi_logloss: 0.0239497\tvalid_1's class 3_0.0, class 2_0.9466019417475728, class 1_1.0, class0_0.9991229733573527: 0.589145\n",
      "[427]\ttraining's multi_logloss: 0.0010077\ttraining's class 3_0.8661417322834646, class 2_0.980438648488441, class 1_1.0, class0_0.9998069892922268: 0.769277\tvalid_1's multi_logloss: 0.0239646\tvalid_1's class 3_0.0, class 2_0.9466019417475728, class 1_1.0, class0_0.9991229733573527: 0.589145\n",
      "[428]\ttraining's multi_logloss: 0.00100769\ttraining's class 3_0.8661417322834646, class 2_0.980438648488441, class 1_1.0, class0_0.9998069892922268: 0.769277\tvalid_1's multi_logloss: 0.0240005\tvalid_1's class 3_0.0, class 2_0.9466019417475728, class 1_1.0, class0_0.9991229733573527: 0.589145\n",
      "Early stopping, best iteration is:\n",
      "[128]\ttraining's multi_logloss: 0.00295662\ttraining's class 3_0.852589641434263, class 2_0.9756387403446226, class 1_1.0, class0_0.9997868282930706: 0.765603\tvalid_1's multi_logloss: 0.0167135\tvalid_1's class 3_0.0, class 2_0.9039812646370023, class 1_1.0, class0_0.9988857542495436: 0.580573\n"
     ]
    }
   ],
   "source": [
    "dtrain = lgb.Dataset(train_data_1[train_features],train_data_1[train_label]) \n",
    "dval   = lgb.Dataset(val_data_1[train_features],val_data_1[train_label],reference=dtrain) \n",
    "\n",
    "params = {\n",
    "        'task':'train', \n",
    "        'num_leaves': 255,\n",
    "        'objective': 'multiclass',\n",
    "        'num_class':5,\n",
    "        'min_data_in_leaf': 15,\n",
    "        'learning_rate': 0.05,\n",
    "#         'feature_fraction': 0.95,\n",
    "#         'bagging_fraction': 0.95,\n",
    "        'bagging_freq': 5, \n",
    "        'max_bin':128,\n",
    "        'num_threads': 64,\n",
    "        'random_state':100\n",
    "    }  \n",
    "lgb_model_2 = lgb.train(params, dtrain, num_boost_round=800,valid_sets=[dtrain,dval], early_stopping_rounds=300, feval=lgb_f1_score)  "
   ]
  },
  {
   "cell_type": "markdown",
   "metadata": {},
   "source": [
    "## 模型训练 & 预测 (0.57578042)"
   ]
  },
  {
   "cell_type": "markdown",
   "metadata": {},
   "source": [
    "### 模型训练（参数按照验证集的来）,线上\t（0.57578042）,和我们线下验证的效果类似"
   ]
  },
  {
   "cell_type": "code",
   "execution_count": 25,
   "metadata": {
    "scrolled": true
   },
   "outputs": [
    {
     "name": "stdout",
     "output_type": "stream",
     "text": [
      "[1]\ttraining's multi_logloss: 1.27162\ttraining's class 3_0.8769716088328076, class 2_0.9495434887073522, class 1_1.0, class0_0.9996848320803864: 0.76524\n",
      "[2]\ttraining's multi_logloss: 1.18546\ttraining's class 3_0.8769716088328076, class 2_0.9527483124397299, class 1_1.0, class0_0.9997010588079894: 0.765884\n",
      "[3]\ttraining's multi_logloss: 1.1076\ttraining's class 3_0.8769716088328076, class 2_0.9527483124397299, class 1_1.0, class0_0.9997010588079894: 0.765884\n",
      "[4]\ttraining's multi_logloss: 1.0368\ttraining's class 3_0.8662420382165604, class 2_0.9523809523809524, class 1_1.0, class0_0.99970569219111: 0.763666\n",
      "[5]\ttraining's multi_logloss: 0.972077\ttraining's class 3_0.8769716088328076, class 2_0.953757225433526, class 1_1.0, class0_0.99970569219111: 0.766087\n",
      "[6]\ttraining's multi_logloss: 0.912638\ttraining's class 3_0.8769716088328076, class 2_0.953757225433526, class 1_1.0, class0_0.99970569219111: 0.766087\n",
      "[7]\ttraining's multi_logloss: 0.857849\ttraining's class 3_0.8662420382165604, class 2_0.9523809523809524, class 1_1.0, class0_0.99970569219111: 0.763666\n",
      "[8]\ttraining's multi_logloss: 0.807187\ttraining's class 3_0.8662420382165604, class 2_0.9523809523809524, class 1_1.0, class0_0.99970569219111: 0.763666\n",
      "[9]\ttraining's multi_logloss: 0.760212\ttraining's class 3_0.8662420382165604, class 2_0.9523809523809524, class 1_1.0, class0_0.99970569219111: 0.763666\n",
      "[10]\ttraining's multi_logloss: 0.716551\ttraining's class 3_0.8662420382165604, class 2_0.9523809523809524, class 1_1.0, class0_0.99970569219111: 0.763666\n",
      "[11]\ttraining's multi_logloss: 0.675888\ttraining's class 3_0.8662420382165604, class 2_0.9523809523809524, class 1_1.0, class0_0.99970569219111: 0.763666\n",
      "[12]\ttraining's multi_logloss: 0.637945\ttraining's class 3_0.8662420382165604, class 2_0.9523809523809524, class 1_1.0, class0_0.99970569219111: 0.763666\n",
      "[13]\ttraining's multi_logloss: 0.602484\ttraining's class 3_0.8662420382165604, class 2_0.9523809523809524, class 1_1.0, class0_0.99970569219111: 0.763666\n",
      "[14]\ttraining's multi_logloss: 0.569297\ttraining's class 3_0.8662420382165604, class 2_0.9523809523809524, class 1_1.0, class0_0.99970569219111: 0.763666\n",
      "[15]\ttraining's multi_logloss: 0.538197\ttraining's class 3_0.8662420382165604, class 2_0.9523809523809524, class 1_1.0, class0_0.99970569219111: 0.763666\n",
      "[16]\ttraining's multi_logloss: 0.509021\ttraining's class 3_0.8662420382165604, class 2_0.9523809523809524, class 1_1.0, class0_0.99970569219111: 0.763666\n",
      "[17]\ttraining's multi_logloss: 0.481619\ttraining's class 3_0.8662420382165604, class 2_0.95489443378119, class 1_1.0, class0_0.9997172758368171: 0.764171\n",
      "[18]\ttraining's multi_logloss: 0.455862\ttraining's class 3_0.8662420382165604, class 2_0.9539789069990412, class 1_1.0, class0_0.9997126396826059: 0.763987\n",
      "[19]\ttraining's multi_logloss: 0.431631\ttraining's class 3_0.8662420382165604, class 2_0.9539789069990412, class 1_1.0, class0_0.9997126396826059: 0.763987\n",
      "[20]\ttraining's multi_logloss: 0.408812\ttraining's class 3_0.8662420382165604, class 2_0.9539789069990412, class 1_1.0, class0_0.9997126396826059: 0.763987\n",
      "[21]\ttraining's multi_logloss: 0.387312\ttraining's class 3_0.8662420382165604, class 2_0.9539789069990412, class 1_1.0, class0_0.9997126396826059: 0.763987\n",
      "[22]\ttraining's multi_logloss: 0.367043\ttraining's class 3_0.8769716088328076, class 2_0.9553528564570332, class 1_1.0, class0_0.9997126396826059: 0.766407\n",
      "[23]\ttraining's multi_logloss: 0.347923\ttraining's class 3_0.8769716088328076, class 2_0.9553528564570332, class 1_1.0, class0_0.9997126396826059: 0.766407\n",
      "[24]\ttraining's multi_logloss: 0.329876\ttraining's class 3_0.8769716088328076, class 2_0.9553528564570332, class 1_1.0, class0_0.9997126396826059: 0.766407\n",
      "[25]\ttraining's multi_logloss: 0.312834\ttraining's class 3_0.8769716088328076, class 2_0.9578544061302682, class 1_1.0, class0_0.9997242235967267: 0.76691\n",
      "[26]\ttraining's multi_logloss: 0.296736\ttraining's class 3_0.8769716088328076, class 2_0.9578544061302682, class 1_1.0, class0_0.9997242235967267: 0.76691\n",
      "[27]\ttraining's multi_logloss: 0.281519\ttraining's class 3_0.8769716088328076, class 2_0.9578544061302682, class 1_1.0, class0_0.9997242235967267: 0.76691\n",
      "[28]\ttraining's multi_logloss: 0.267133\ttraining's class 3_0.8769716088328076, class 2_0.9578544061302682, class 1_1.0, class0_0.9997242235967267: 0.76691\n",
      "[29]\ttraining's multi_logloss: 0.253526\ttraining's class 3_0.8769716088328076, class 2_0.9578544061302682, class 1_1.0, class0_0.9997242235967267: 0.76691\n",
      "[30]\ttraining's multi_logloss: 0.240643\ttraining's class 3_0.8769716088328076, class 2_0.9578544061302682, class 1_1.0, class0_0.9997242235967267: 0.76691\n",
      "[31]\ttraining's multi_logloss: 0.228451\ttraining's class 3_0.8769716088328076, class 2_0.9578544061302682, class 1_1.0, class0_0.9997242235967267: 0.76691\n",
      "[32]\ttraining's multi_logloss: 0.216909\ttraining's class 3_0.8769716088328076, class 2_0.9578544061302682, class 1_1.0, class0_0.9997242235967267: 0.76691\n",
      "[33]\ttraining's multi_logloss: 0.205978\ttraining's class 3_0.8769716088328076, class 2_0.9578544061302682, class 1_1.0, class0_0.9997242235967267: 0.76691\n",
      "[34]\ttraining's multi_logloss: 0.195624\ttraining's class 3_0.8769716088328076, class 2_0.9578544061302682, class 1_1.0, class0_0.9997242235967267: 0.76691\n",
      "[35]\ttraining's multi_logloss: 0.185815\ttraining's class 3_0.8769716088328076, class 2_0.9578544061302682, class 1_1.0, class0_0.9997242235967267: 0.76691\n",
      "[36]\ttraining's multi_logloss: 0.176519\ttraining's class 3_0.8769716088328076, class 2_0.9578544061302682, class 1_1.0, class0_0.9997242235967267: 0.76691\n",
      "[37]\ttraining's multi_logloss: 0.167708\ttraining's class 3_0.8769716088328076, class 2_0.9578544061302682, class 1_1.0, class0_0.9997242235967267: 0.76691\n",
      "[38]\ttraining's multi_logloss: 0.159355\ttraining's class 3_0.8769716088328076, class 2_0.9578544061302682, class 1_1.0, class0_0.9997242235967267: 0.76691\n",
      "[39]\ttraining's multi_logloss: 0.151434\ttraining's class 3_0.8769716088328076, class 2_0.9578544061302682, class 1_1.0, class0_0.9997242235967267: 0.76691\n",
      "[40]\ttraining's multi_logloss: 0.143922\ttraining's class 3_0.8769716088328076, class 2_0.9578544061302682, class 1_1.0, class0_0.9997242235967267: 0.76691\n",
      "[41]\ttraining's multi_logloss: 0.136796\ttraining's class 3_0.8769716088328076, class 2_0.9598470363288718, class 1_1.0, class0_0.9997334909213104: 0.76731\n",
      "[42]\ttraining's multi_logloss: 0.130035\ttraining's class 3_0.8769716088328076, class 2_0.9598470363288718, class 1_1.0, class0_0.9997334909213104: 0.76731\n",
      "[43]\ttraining's multi_logloss: 0.12362\ttraining's class 3_0.8769716088328076, class 2_0.9598470363288718, class 1_1.0, class0_0.9997334909213104: 0.76731\n",
      "[44]\ttraining's multi_logloss: 0.117533\ttraining's class 3_0.8769716088328076, class 2_0.9598470363288718, class 1_1.0, class0_0.9997334909213104: 0.76731\n",
      "[45]\ttraining's multi_logloss: 0.111755\ttraining's class 3_0.8769716088328076, class 2_0.9603440038222647, class 1_1.0, class0_0.9997358077793022: 0.76741\n",
      "[46]\ttraining's multi_logloss: 0.106269\ttraining's class 3_0.8769716088328076, class 2_0.9603440038222647, class 1_1.0, class0_0.9997358077793022: 0.76741\n",
      "[47]\ttraining's multi_logloss: 0.10106\ttraining's class 3_0.8769716088328076, class 2_0.9603440038222647, class 1_1.0, class0_0.9997358077793022: 0.76741\n",
      "[48]\ttraining's multi_logloss: 0.0961171\ttraining's class 3_0.8769716088328076, class 2_0.9603440038222647, class 1_1.0, class0_0.9997358077793022: 0.76741\n",
      "[49]\ttraining's multi_logloss: 0.0914225\ttraining's class 3_0.8769716088328076, class 2_0.9603440038222647, class 1_1.0, class0_0.9997358077793022: 0.76741\n",
      "[50]\ttraining's multi_logloss: 0.0869653\ttraining's class 3_0.8769716088328076, class 2_0.9598470363288718, class 1_1.0, class0_0.9997334909213104: 0.76731\n",
      "[51]\ttraining's multi_logloss: 0.0827326\ttraining's class 3_0.8769716088328076, class 2_0.9583532790808998, class 1_1.0, class0_0.9997265404117653: 0.76701\n",
      "[52]\ttraining's multi_logloss: 0.0787107\ttraining's class 3_0.8769716088328076, class 2_0.9583532790808998, class 1_1.0, class0_0.9997265404117653: 0.76701\n",
      "[53]\ttraining's multi_logloss: 0.0748897\ttraining's class 3_0.8769716088328076, class 2_0.9583532790808998, class 1_1.0, class0_0.9997265404117653: 0.76701\n"
     ]
    },
    {
     "name": "stdout",
     "output_type": "stream",
     "text": [
      "[54]\ttraining's multi_logloss: 0.0712587\ttraining's class 3_0.8769716088328076, class 2_0.9583532790808998, class 1_1.0, class0_0.9997265404117653: 0.76701\n",
      "[55]\ttraining's multi_logloss: 0.0678083\ttraining's class 3_0.8769716088328076, class 2_0.9583532790808998, class 1_1.0, class0_0.9997265404117653: 0.76701\n",
      "[56]\ttraining's multi_logloss: 0.0645301\ttraining's class 3_0.8769716088328076, class 2_0.9583532790808998, class 1_1.0, class0_0.9997265404117653: 0.76701\n",
      "[57]\ttraining's multi_logloss: 0.0614149\ttraining's class 3_0.8769716088328076, class 2_0.9598470363288718, class 1_1.0, class0_0.9997334909213104: 0.76731\n",
      "[58]\ttraining's multi_logloss: 0.058455\ttraining's class 3_0.8769716088328076, class 2_0.9583532790808998, class 1_1.0, class0_0.9997265404117653: 0.76701\n",
      "[59]\ttraining's multi_logloss: 0.0556394\ttraining's class 3_0.8769716088328076, class 2_0.9598470363288718, class 1_1.0, class0_0.9997334909213104: 0.76731\n",
      "[60]\ttraining's multi_logloss: 0.0529639\ttraining's class 3_0.8769716088328076, class 2_0.9598470363288718, class 1_1.0, class0_0.9997334909213104: 0.76731\n",
      "[61]\ttraining's multi_logloss: 0.0504211\ttraining's class 3_0.8769716088328076, class 2_0.9598470363288718, class 1_1.0, class0_0.9997334909213104: 0.76731\n",
      "[62]\ttraining's multi_logloss: 0.0480026\ttraining's class 3_0.8769716088328076, class 2_0.9598470363288718, class 1_1.0, class0_0.9997334909213104: 0.76731\n",
      "[63]\ttraining's multi_logloss: 0.045703\ttraining's class 3_0.8769716088328076, class 2_0.9598470363288718, class 1_1.0, class0_0.9997334909213104: 0.76731\n",
      "[64]\ttraining's multi_logloss: 0.0435168\ttraining's class 3_0.8769716088328076, class 2_0.9598470363288718, class 1_1.0, class0_0.9997334909213104: 0.76731\n",
      "[65]\ttraining's multi_logloss: 0.0414393\ttraining's class 3_0.8769716088328076, class 2_0.9598470363288718, class 1_1.0, class0_0.9997334909213104: 0.76731\n",
      "[66]\ttraining's multi_logloss: 0.0394645\ttraining's class 3_0.8769716088328076, class 2_0.9598470363288718, class 1_1.0, class0_0.9997334909213104: 0.76731\n",
      "[67]\ttraining's multi_logloss: 0.0375878\ttraining's class 3_0.8769716088328076, class 2_0.9603440038222647, class 1_1.0, class0_0.9997358077793022: 0.76741\n",
      "[68]\ttraining's multi_logloss: 0.0358051\ttraining's class 3_0.8769716088328076, class 2_0.9618320610687022, class 1_1.0, class0_0.9997427584177093: 0.767709\n",
      "[69]\ttraining's multi_logloss: 0.0341099\ttraining's class 3_0.8769716088328076, class 2_0.9618320610687022, class 1_1.0, class0_0.9997427584177093: 0.767709\n",
      "[70]\ttraining's multi_logloss: 0.0324987\ttraining's class 3_0.8769716088328076, class 2_0.9618320610687022, class 1_1.0, class0_0.9997427584177093: 0.767709\n",
      "[71]\ttraining's multi_logloss: 0.0309663\ttraining's class 3_0.8769716088328076, class 2_0.9618320610687022, class 1_1.0, class0_0.9997427584177093: 0.767709\n",
      "[72]\ttraining's multi_logloss: 0.0295086\ttraining's class 3_0.8769716088328076, class 2_0.9628217349857006, class 1_1.0, class0_0.9997473922303413: 0.767908\n",
      "[73]\ttraining's multi_logloss: 0.0281212\ttraining's class 3_0.8769716088328076, class 2_0.9628217349857006, class 1_1.0, class0_0.9997473922303413: 0.767908\n",
      "[74]\ttraining's multi_logloss: 0.0268019\ttraining's class 3_0.8769716088328076, class 2_0.9628217349857006, class 1_1.0, class0_0.9997473922303413: 0.767908\n",
      "[75]\ttraining's multi_logloss: 0.0255464\ttraining's class 3_0.8769716088328076, class 2_0.9628217349857006, class 1_1.0, class0_0.9997473922303413: 0.767908\n",
      "[76]\ttraining's multi_logloss: 0.024353\ttraining's class 3_0.8769716088328076, class 2_0.9637404580152671, class 1_1.0, class0_0.9997520283846387: 0.768093\n",
      "[77]\ttraining's multi_logloss: 0.0232183\ttraining's class 3_0.8769716088328076, class 2_0.9637404580152671, class 1_1.0, class0_0.9997520283846387: 0.768093\n",
      "[78]\ttraining's multi_logloss: 0.0221392\ttraining's class 3_0.8769716088328076, class 2_0.9642346208869813, class 1_1.0, class0_0.9997543453070683: 0.768192\n",
      "[79]\ttraining's multi_logloss: 0.0211118\ttraining's class 3_0.8769716088328076, class 2_0.9642346208869813, class 1_1.0, class0_0.9997543453070683: 0.768192\n",
      "[80]\ttraining's multi_logloss: 0.0201355\ttraining's class 3_0.8769716088328076, class 2_0.9662065683008092, class 1_1.0, class0_0.999763613104177: 0.768588\n",
      "[81]\ttraining's multi_logloss: 0.0192068\ttraining's class 3_0.8769716088328076, class 2_0.9662065683008092, class 1_1.0, class0_0.999763613104177: 0.768588\n",
      "[82]\ttraining's multi_logloss: 0.0183238\ttraining's class 3_0.8769716088328076, class 2_0.9671897289586304, class 1_1.0, class0_0.9997682470671666: 0.768786\n",
      "[83]\ttraining's multi_logloss: 0.0174836\ttraining's class 3_0.8769716088328076, class 2_0.9681710213776721, class 1_1.0, class0_0.9997728810731137: 0.768983\n",
      "[84]\ttraining's multi_logloss: 0.0166836\ttraining's class 3_0.8769716088328076, class 2_0.9681710213776721, class 1_1.0, class0_0.9997728810731137: 0.768983\n",
      "[85]\ttraining's multi_logloss: 0.015922\ttraining's class 3_0.8769716088328076, class 2_0.9681710213776721, class 1_1.0, class0_0.9997728810731137: 0.768983\n",
      "[86]\ttraining's multi_logloss: 0.0151984\ttraining's class 3_0.8769716088328076, class 2_0.9686609686609687, class 1_1.0, class0_0.9997751980921966: 0.769082\n",
      "[87]\ttraining's multi_logloss: 0.0145093\ttraining's class 3_0.8769716088328076, class 2_0.9691211401425179, class 1_1.0, class0_0.9997775161532543: 0.769174\n",
      "[88]\ttraining's multi_logloss: 0.0138539\ttraining's class 3_0.8769716088328076, class 2_0.9691211401425179, class 1_1.0, class0_0.9997775161532543: 0.769174\n",
      "[89]\ttraining's multi_logloss: 0.0132303\ttraining's class 3_0.8769716088328076, class 2_0.9691211401425179, class 1_1.0, class0_0.9997775161532543: 0.769174\n",
      "[90]\ttraining's multi_logloss: 0.0126373\ttraining's class 3_0.8769716088328076, class 2_0.9705882352941176, class 1_1.0, class0_0.9997844672749479: 0.769469\n",
      "[91]\ttraining's multi_logloss: 0.0120729\ttraining's class 3_0.8769716088328076, class 2_0.9705882352941176, class 1_1.0, class0_0.9997844672749479: 0.769469\n",
      "[92]\ttraining's multi_logloss: 0.0115363\ttraining's class 3_0.8769716088328076, class 2_0.9725638599810785, class 1_1.0, class0_0.9997937346314918: 0.769866\n",
      "[93]\ttraining's multi_logloss: 0.0110255\ttraining's class 3_0.8769716088328076, class 2_0.9725638599810785, class 1_1.0, class0_0.9997937346314918: 0.769866\n",
      "[94]\ttraining's multi_logloss: 0.0105387\ttraining's class 3_0.8769716088328076, class 2_0.9725638599810785, class 1_1.0, class0_0.9997937346314918: 0.769866\n",
      "[95]\ttraining's multi_logloss: 0.0100757\ttraining's class 3_0.8769716088328076, class 2_0.9725638599810785, class 1_1.0, class0_0.9997937346314918: 0.769866\n",
      "[96]\ttraining's multi_logloss: 0.00963519\ttraining's class 3_0.8805031446540881, class 2_0.9739952718676123, class 1_1.0, class0_0.9997983688737164: 0.770859\n",
      "[97]\ttraining's multi_logloss: 0.00921621\ttraining's class 3_0.8805031446540881, class 2_0.9754485363550519, class 1_1.0, class0_0.999805320317606: 0.771151\n",
      "[98]\ttraining's multi_logloss: 0.00881734\ttraining's class 3_0.8805031446540881, class 2_0.9754485363550519, class 1_1.0, class0_0.999805320317606: 0.771151\n",
      "[99]\ttraining's multi_logloss: 0.00843792\ttraining's class 3_0.8805031446540881, class 2_0.9754485363550519, class 1_1.0, class0_0.999805320317606: 0.771151\n",
      "[100]\ttraining's multi_logloss: 0.00807652\ttraining's class 3_0.8805031446540881, class 2_0.9754485363550519, class 1_1.0, class0_0.999805320317606: 0.771151\n",
      "[101]\ttraining's multi_logloss: 0.00773338\ttraining's class 3_0.8805031446540881, class 2_0.9763705103969754, class 1_1.0, class0_0.999809956429035: 0.771337\n",
      "[102]\ttraining's multi_logloss: 0.00740618\ttraining's class 3_0.8805031446540881, class 2_0.9773371104815863, class 1_1.0, class0_0.9998145907786724: 0.771531\n",
      "[103]\ttraining's multi_logloss: 0.00709513\ttraining's class 3_0.8805031446540881, class 2_0.9773371104815863, class 1_1.0, class0_0.9998145907786724: 0.771531\n",
      "[104]\ttraining's multi_logloss: 0.00679921\ttraining's class 3_0.8805031446540881, class 2_0.9773371104815863, class 1_1.0, class0_0.9998145907786724: 0.771531\n",
      "[105]\ttraining's multi_logloss: 0.00651732\ttraining's class 3_0.8805031446540881, class 2_0.9773371104815863, class 1_1.0, class0_0.9998145907786724: 0.771531\n",
      "[106]\ttraining's multi_logloss: 0.00624881\ttraining's class 3_0.8805031446540881, class 2_0.9773371104815863, class 1_1.0, class0_0.9998145907786724: 0.771531\n"
     ]
    },
    {
     "name": "stdout",
     "output_type": "stream",
     "text": [
      "[107]\ttraining's multi_logloss: 0.00599323\ttraining's class 3_0.8805031446540881, class 2_0.9773371104815863, class 1_1.0, class0_0.9998145907786724: 0.771531\n",
      "[108]\ttraining's multi_logloss: 0.00574991\ttraining's class 3_0.8805031446540881, class 2_0.9773371104815863, class 1_1.0, class0_0.9998145907786724: 0.771531\n",
      "[109]\ttraining's multi_logloss: 0.00551865\ttraining's class 3_0.8805031446540881, class 2_0.977819726285984, class 1_1.0, class0_0.9998169079696021: 0.771628\n",
      "[110]\ttraining's multi_logloss: 0.00529854\ttraining's class 3_0.8805031446540881, class 2_0.977819726285984, class 1_1.0, class0_0.9998169079696021: 0.771628\n",
      "[111]\ttraining's multi_logloss: 0.00508892\ttraining's class 3_0.8805031446540881, class 2_0.9783018867924528, class 1_1.0, class0_0.9998192251712725: 0.771725\n",
      "[112]\ttraining's multi_logloss: 0.00488939\ttraining's class 3_0.8805031446540881, class 2_0.9783018867924528, class 1_1.0, class0_0.9998192251712725: 0.771725\n",
      "[113]\ttraining's multi_logloss: 0.00469957\ttraining's class 3_0.8805031446540881, class 2_0.9783018867924528, class 1_1.0, class0_0.9998192251712725: 0.771725\n",
      "[114]\ttraining's multi_logloss: 0.00451898\ttraining's class 3_0.8805031446540881, class 2_0.9783018867924528, class 1_1.0, class0_0.9998192251712725: 0.771725\n",
      "[115]\ttraining's multi_logloss: 0.00434688\ttraining's class 3_0.884012539184953, class 2_0.9787835926449788, class 1_1.0, class0_0.9998238596068361: 0.772524\n",
      "[116]\ttraining's multi_logloss: 0.00418311\ttraining's class 3_0.884012539184953, class 2_0.9787835926449788, class 1_1.0, class0_0.9998238596068361: 0.772524\n",
      "[117]\ttraining's multi_logloss: 0.00402653\ttraining's class 3_0.884012539184953, class 2_0.9787835926449788, class 1_1.0, class0_0.9998238596068361: 0.772524\n",
      "[118]\ttraining's multi_logloss: 0.00387759\ttraining's class 3_0.884012539184953, class 2_0.9787835926449788, class 1_1.0, class0_0.9998238596068361: 0.772524\n",
      "[119]\ttraining's multi_logloss: 0.00373559\ttraining's class 3_0.884012539184953, class 2_0.9787835926449788, class 1_1.0, class0_0.9998238596068361: 0.772524\n",
      "[120]\ttraining's multi_logloss: 0.00360081\ttraining's class 3_0.884012539184953, class 2_0.9787835926449788, class 1_1.0, class0_0.9998238596068361: 0.772524\n",
      "[121]\ttraining's multi_logloss: 0.0034722\ttraining's class 3_0.884012539184953, class 2_0.9792648444863337, class 1_1.0, class0_0.9998261768407293: 0.772621\n",
      "[122]\ttraining's multi_logloss: 0.00334954\ttraining's class 3_0.884012539184953, class 2_0.9792648444863337, class 1_1.0, class0_0.9998261768407293: 0.772621\n",
      "[123]\ttraining's multi_logloss: 0.00323289\ttraining's class 3_0.884012539184953, class 2_0.9792648444863337, class 1_1.0, class0_0.9998261768407293: 0.772621\n",
      "[124]\ttraining's multi_logloss: 0.00312164\ttraining's class 3_0.884012539184953, class 2_0.9792648444863337, class 1_1.0, class0_0.9998261768407293: 0.772621\n",
      "[125]\ttraining's multi_logloss: 0.00301598\ttraining's class 3_0.884012539184953, class 2_0.9792648444863337, class 1_1.0, class0_0.9998261768407293: 0.772621\n",
      "[126]\ttraining's multi_logloss: 0.00291483\ttraining's class 3_0.884012539184953, class 2_0.9792648444863337, class 1_1.0, class0_0.9998261768407293: 0.772621\n",
      "[127]\ttraining's multi_logloss: 0.00281881\ttraining's class 3_0.884012539184953, class 2_0.9792648444863337, class 1_1.0, class0_0.9998261768407293: 0.772621\n",
      "[128]\ttraining's multi_logloss: 0.00272707\ttraining's class 3_0.884012539184953, class 2_0.9792648444863337, class 1_1.0, class0_0.9998261768407293: 0.772621\n",
      "[129]\ttraining's multi_logloss: 0.0026399\ttraining's class 3_0.884012539184953, class 2_0.9792648444863337, class 1_1.0, class0_0.9998261768407293: 0.772621\n",
      "[130]\ttraining's multi_logloss: 0.00255706\ttraining's class 3_0.884012539184953, class 2_0.9792648444863337, class 1_1.0, class0_0.9998261768407293: 0.772621\n",
      "[131]\ttraining's multi_logloss: 0.00247715\ttraining's class 3_0.884012539184953, class 2_0.9792648444863337, class 1_1.0, class0_0.9998261768407293: 0.772621\n",
      "[132]\ttraining's multi_logloss: 0.00240119\ttraining's class 3_0.884012539184953, class 2_0.9792648444863337, class 1_1.0, class0_0.9998261768407293: 0.772621\n",
      "[133]\ttraining's multi_logloss: 0.00232882\ttraining's class 3_0.884012539184953, class 2_0.9792648444863337, class 1_1.0, class0_0.9998261768407293: 0.772621\n",
      "[134]\ttraining's multi_logloss: 0.00225997\ttraining's class 3_0.884012539184953, class 2_0.9792648444863337, class 1_1.0, class0_0.9998261768407293: 0.772621\n",
      "[135]\ttraining's multi_logloss: 0.00219429\ttraining's class 3_0.884012539184953, class 2_0.9792648444863337, class 1_1.0, class0_0.9998261768407293: 0.772621\n",
      "[136]\ttraining's multi_logloss: 0.00213183\ttraining's class 3_0.884012539184953, class 2_0.9792648444863337, class 1_1.0, class0_0.9998261768407293: 0.772621\n",
      "[137]\ttraining's multi_logloss: 0.00207221\ttraining's class 3_0.884012539184953, class 2_0.9792648444863337, class 1_1.0, class0_0.9998261768407293: 0.772621\n",
      "[138]\ttraining's multi_logloss: 0.00201546\ttraining's class 3_0.884012539184953, class 2_0.9792648444863337, class 1_1.0, class0_0.9998261768407293: 0.772621\n",
      "[139]\ttraining's multi_logloss: 0.00195933\ttraining's class 3_0.884012539184953, class 2_0.9792648444863337, class 1_1.0, class0_0.9998261768407293: 0.772621\n",
      "[140]\ttraining's multi_logloss: 0.00190633\ttraining's class 3_0.884012539184953, class 2_0.9792648444863337, class 1_1.0, class0_0.9998261768407293: 0.772621\n",
      "[141]\ttraining's multi_logloss: 0.00185619\ttraining's class 3_0.884012539184953, class 2_0.9792648444863337, class 1_1.0, class0_0.9998261768407293: 0.772621\n",
      "[142]\ttraining's multi_logloss: 0.00180854\ttraining's class 3_0.884012539184953, class 2_0.9792648444863337, class 1_1.0, class0_0.9998261768407293: 0.772621\n",
      "[143]\ttraining's multi_logloss: 0.00176362\ttraining's class 3_0.884012539184953, class 2_0.9792648444863337, class 1_1.0, class0_0.9998261768407293: 0.772621\n",
      "[144]\ttraining's multi_logloss: 0.00172047\ttraining's class 3_0.8875000000000001, class 2_0.9797265440829797, class 1_1.0, class0_0.9998261768407293: 0.773411\n",
      "[145]\ttraining's multi_logloss: 0.00167964\ttraining's class 3_0.8875000000000001, class 2_0.9797265440829797, class 1_1.0, class0_0.9998261768407293: 0.773411\n",
      "[146]\ttraining's multi_logloss: 0.00164\ttraining's class 3_0.8875000000000001, class 2_0.9797265440829797, class 1_1.0, class0_0.9998261768407293: 0.773411\n",
      "[147]\ttraining's multi_logloss: 0.001602\ttraining's class 3_0.8875000000000001, class 2_0.9797265440829797, class 1_1.0, class0_0.9998261768407293: 0.773411\n",
      "[148]\ttraining's multi_logloss: 0.00156616\ttraining's class 3_0.8875000000000001, class 2_0.9797265440829797, class 1_1.0, class0_0.9998261768407293: 0.773411\n",
      "[149]\ttraining's multi_logloss: 0.00153185\ttraining's class 3_0.8944099378881988, class 2_0.980651250589901, class 1_1.0, class0_0.9998261768407293: 0.774977\n",
      "[150]\ttraining's multi_logloss: 0.0014994\ttraining's class 3_0.8944099378881988, class 2_0.980651250589901, class 1_1.0, class0_0.9998261768407293: 0.774977\n",
      "[151]\ttraining's multi_logloss: 0.0014685\ttraining's class 3_0.8944099378881988, class 2_0.980651250589901, class 1_1.0, class0_0.9998261768407293: 0.774977\n",
      "[152]\ttraining's multi_logloss: 0.00143891\ttraining's class 3_0.8944099378881988, class 2_0.981132075471698, class 1_1.0, class0_0.9998284940853635: 0.775074\n",
      "[153]\ttraining's multi_logloss: 0.00141079\ttraining's class 3_0.8944099378881988, class 2_0.981132075471698, class 1_1.0, class0_0.9998284940853635: 0.775074\n",
      "[154]\ttraining's multi_logloss: 0.00138415\ttraining's class 3_0.8944099378881988, class 2_0.981132075471698, class 1_1.0, class0_0.9998284940853635: 0.775074\n",
      "[155]\ttraining's multi_logloss: 0.00135871\ttraining's class 3_0.8944099378881988, class 2_0.981132075471698, class 1_1.0, class0_0.9998284940853635: 0.775074\n",
      "[156]\ttraining's multi_logloss: 0.0013344\ttraining's class 3_0.8944099378881988, class 2_0.9816124469589816, class 1_1.0, class0_0.999830811340739: 0.775171\n",
      "[157]\ttraining's multi_logloss: 0.00131114\ttraining's class 3_0.8944099378881988, class 2_0.9816124469589816, class 1_1.0, class0_0.999830811340739: 0.775171\n",
      "[158]\ttraining's multi_logloss: 0.00128906\ttraining's class 3_0.8944099378881988, class 2_0.982571832312765, class 1_1.0, class0_0.9998354458837136: 0.775363\n"
     ]
    },
    {
     "name": "stdout",
     "output_type": "stream",
     "text": [
      "[159]\ttraining's multi_logloss: 0.0012679\ttraining's class 3_0.8944099378881988, class 2_0.982571832312765, class 1_1.0, class0_0.9998354458837136: 0.775363\n",
      "[160]\ttraining's multi_logloss: 0.00124766\ttraining's class 3_0.8944099378881988, class 2_0.982571832312765, class 1_1.0, class0_0.9998354458837136: 0.775363\n",
      "[161]\ttraining's multi_logloss: 0.00122828\ttraining's class 3_0.8944099378881988, class 2_0.982571832312765, class 1_1.0, class0_0.9998354458837136: 0.775363\n",
      "[162]\ttraining's multi_logloss: 0.00120982\ttraining's class 3_0.8944099378881988, class 2_0.982571832312765, class 1_1.0, class0_0.9998354458837136: 0.775363\n",
      "[163]\ttraining's multi_logloss: 0.00119212\ttraining's class 3_0.8944099378881988, class 2_0.982571832312765, class 1_1.0, class0_0.9998354458837136: 0.775363\n",
      "[164]\ttraining's multi_logloss: 0.0011753\ttraining's class 3_0.8944099378881988, class 2_0.982571832312765, class 1_1.0, class0_0.9998354458837136: 0.775363\n",
      "[165]\ttraining's multi_logloss: 0.00115921\ttraining's class 3_0.8944099378881988, class 2_0.982571832312765, class 1_1.0, class0_0.9998354458837136: 0.775363\n",
      "[166]\ttraining's multi_logloss: 0.00114385\ttraining's class 3_0.8944099378881988, class 2_0.9830508474576272, class 1_1.0, class0_0.9998377631713128: 0.77546\n",
      "[167]\ttraining's multi_logloss: 0.00112927\ttraining's class 3_0.8944099378881988, class 2_0.9830508474576272, class 1_1.0, class0_0.9998377631713128: 0.77546\n",
      "[168]\ttraining's multi_logloss: 0.00111521\ttraining's class 3_0.8944099378881988, class 2_0.9830508474576272, class 1_1.0, class0_0.9998377631713128: 0.77546\n",
      "[169]\ttraining's multi_logloss: 0.00110177\ttraining's class 3_0.8944099378881988, class 2_0.9830508474576272, class 1_1.0, class0_0.9998377631713128: 0.77546\n",
      "[170]\ttraining's multi_logloss: 0.00108897\ttraining's class 3_0.8944099378881988, class 2_0.9835603569751057, class 1_1.0, class0_0.9998400789870742: 0.775562\n",
      "[171]\ttraining's multi_logloss: 0.00107662\ttraining's class 3_0.8944099378881988, class 2_0.9835603569751057, class 1_1.0, class0_0.9998400789870742: 0.775562\n",
      "[172]\ttraining's multi_logloss: 0.00106499\ttraining's class 3_0.8944099378881988, class 2_0.9835603569751057, class 1_1.0, class0_0.9998400789870742: 0.775562\n",
      "[173]\ttraining's multi_logloss: 0.00105374\ttraining's class 3_0.8944099378881988, class 2_0.9835603569751057, class 1_1.0, class0_0.9998400789870742: 0.775562\n",
      "[174]\ttraining's multi_logloss: 0.00104291\ttraining's class 3_0.8944099378881988, class 2_0.9835603569751057, class 1_1.0, class0_0.9998400789870742: 0.775562\n",
      "[175]\ttraining's multi_logloss: 0.00103272\ttraining's class 3_0.8944099378881988, class 2_0.9835603569751057, class 1_1.0, class0_0.9998400789870742: 0.775562\n",
      "[176]\ttraining's multi_logloss: 0.00102302\ttraining's class 3_0.8944099378881988, class 2_0.9835603569751057, class 1_1.0, class0_0.9998400789870742: 0.775562\n",
      "[177]\ttraining's multi_logloss: 0.00101377\ttraining's class 3_0.8944099378881988, class 2_0.9835603569751057, class 1_1.0, class0_0.9998400789870742: 0.775562\n",
      "[178]\ttraining's multi_logloss: 0.00100493\ttraining's class 3_0.8944099378881988, class 2_0.9835603569751057, class 1_1.0, class0_0.9998400789870742: 0.775562\n",
      "[179]\ttraining's multi_logloss: 0.000996352\ttraining's class 3_0.8944099378881988, class 2_0.9835603569751057, class 1_1.0, class0_0.9998400789870742: 0.775562\n",
      "[180]\ttraining's multi_logloss: 0.000988267\ttraining's class 3_0.8944099378881988, class 2_0.9835603569751057, class 1_1.0, class0_0.9998400789870742: 0.775562\n",
      "[181]\ttraining's multi_logloss: 0.000980485\ttraining's class 3_0.8944099378881988, class 2_0.9835603569751057, class 1_1.0, class0_0.9998400789870742: 0.775562\n",
      "[182]\ttraining's multi_logloss: 0.000973056\ttraining's class 3_0.8944099378881988, class 2_0.9835603569751057, class 1_1.0, class0_0.9998400789870742: 0.775562\n",
      "[183]\ttraining's multi_logloss: 0.000965942\ttraining's class 3_0.8944099378881988, class 2_0.9840375586854461, class 1_1.0, class0_0.9998423963176363: 0.775658\n",
      "[184]\ttraining's multi_logloss: 0.00095913\ttraining's class 3_0.8944099378881988, class 2_0.9840375586854461, class 1_1.0, class0_0.9998423963176363: 0.775658\n",
      "[185]\ttraining's multi_logloss: 0.000952607\ttraining's class 3_0.8944099378881988, class 2_0.9840375586854461, class 1_1.0, class0_0.9998423963176363: 0.775658\n",
      "[186]\ttraining's multi_logloss: 0.000946431\ttraining's class 3_0.8944099378881988, class 2_0.9840375586854461, class 1_1.0, class0_0.9998423963176363: 0.775658\n",
      "[187]\ttraining's multi_logloss: 0.00094043\ttraining's class 3_0.8944099378881988, class 2_0.9840375586854461, class 1_1.0, class0_0.9998423963176363: 0.775658\n",
      "[188]\ttraining's multi_logloss: 0.000934738\ttraining's class 3_0.8944099378881988, class 2_0.9840375586854461, class 1_1.0, class0_0.9998423963176363: 0.775658\n",
      "[189]\ttraining's multi_logloss: 0.000929277\ttraining's class 3_0.8944099378881988, class 2_0.9840375586854461, class 1_1.0, class0_0.9998423963176363: 0.775658\n",
      "[190]\ttraining's multi_logloss: 0.000924094\ttraining's class 3_0.8944099378881988, class 2_0.9840375586854461, class 1_1.0, class0_0.9998423963176363: 0.775658\n",
      "[191]\ttraining's multi_logloss: 0.000919089\ttraining's class 3_0.8944099378881988, class 2_0.9840375586854461, class 1_1.0, class0_0.9998423963176363: 0.775658\n",
      "[192]\ttraining's multi_logloss: 0.000914273\ttraining's class 3_0.8944099378881988, class 2_0.9840375586854461, class 1_1.0, class0_0.9998423963176363: 0.775658\n",
      "[193]\ttraining's multi_logloss: 0.000909743\ttraining's class 3_0.8944099378881988, class 2_0.9840375586854461, class 1_1.0, class0_0.9998423963176363: 0.775658\n",
      "[194]\ttraining's multi_logloss: 0.000905238\ttraining's class 3_0.8944099378881988, class 2_0.9840375586854461, class 1_1.0, class0_0.9998423963176363: 0.775658\n",
      "[195]\ttraining's multi_logloss: 0.000900979\ttraining's class 3_0.8944099378881988, class 2_0.9840375586854461, class 1_1.0, class0_0.9998423963176363: 0.775658\n",
      "[196]\ttraining's multi_logloss: 0.000896811\ttraining's class 3_0.8944099378881988, class 2_0.9840375586854461, class 1_1.0, class0_0.9998423963176363: 0.775658\n",
      "[197]\ttraining's multi_logloss: 0.000892938\ttraining's class 3_0.8944099378881988, class 2_0.9840375586854461, class 1_1.0, class0_0.9998423963176363: 0.775658\n",
      "[198]\ttraining's multi_logloss: 0.00088908\ttraining's class 3_0.8944099378881988, class 2_0.9840375586854461, class 1_1.0, class0_0.9998423963176363: 0.775658\n",
      "[199]\ttraining's multi_logloss: 0.000885456\ttraining's class 3_0.8944099378881988, class 2_0.9840375586854461, class 1_1.0, class0_0.9998423963176363: 0.775658\n",
      "[200]\ttraining's multi_logloss: 0.000882046\ttraining's class 3_0.8944099378881988, class 2_0.9840375586854461, class 1_1.0, class0_0.9998423963176363: 0.775658\n",
      "[201]\ttraining's multi_logloss: 0.000878805\ttraining's class 3_0.8944099378881988, class 2_0.9840375586854461, class 1_1.0, class0_0.9998423963176363: 0.775658\n",
      "[202]\ttraining's multi_logloss: 0.000875668\ttraining's class 3_0.8944099378881988, class 2_0.9840375586854461, class 1_1.0, class0_0.9998423963176363: 0.775658\n",
      "[203]\ttraining's multi_logloss: 0.000872688\ttraining's class 3_0.8944099378881988, class 2_0.9840375586854461, class 1_1.0, class0_0.9998423963176363: 0.775658\n",
      "[204]\ttraining's multi_logloss: 0.000869842\ttraining's class 3_0.8944099378881988, class 2_0.9840375586854461, class 1_1.0, class0_0.9998423963176363: 0.775658\n",
      "[205]\ttraining's multi_logloss: 0.000867143\ttraining's class 3_0.8944099378881988, class 2_0.9840375586854461, class 1_1.0, class0_0.9998423963176363: 0.775658\n",
      "[206]\ttraining's multi_logloss: 0.000864548\ttraining's class 3_0.8944099378881988, class 2_0.9840375586854461, class 1_1.0, class0_0.9998423963176363: 0.775658\n",
      "[207]\ttraining's multi_logloss: 0.000862054\ttraining's class 3_0.8944099378881988, class 2_0.9840375586854461, class 1_1.0, class0_0.9998423963176363: 0.775658\n",
      "[208]\ttraining's multi_logloss: 0.000859703\ttraining's class 3_0.8944099378881988, class 2_0.9840375586854461, class 1_1.0, class0_0.9998423963176363: 0.775658\n",
      "[209]\ttraining's multi_logloss: 0.000857424\ttraining's class 3_0.8944099378881988, class 2_0.9840375586854461, class 1_1.0, class0_0.9998423963176363: 0.775658\n",
      "[210]\ttraining's multi_logloss: 0.000855276\ttraining's class 3_0.8944099378881988, class 2_0.9840375586854461, class 1_1.0, class0_0.9998423963176363: 0.775658\n"
     ]
    },
    {
     "name": "stdout",
     "output_type": "stream",
     "text": [
      "[211]\ttraining's multi_logloss: 0.000853217\ttraining's class 3_0.8944099378881988, class 2_0.9840375586854461, class 1_1.0, class0_0.9998423963176363: 0.775658\n",
      "[212]\ttraining's multi_logloss: 0.000851219\ttraining's class 3_0.8944099378881988, class 2_0.9840375586854461, class 1_1.0, class0_0.9998423963176363: 0.775658\n",
      "[213]\ttraining's multi_logloss: 0.000849304\ttraining's class 3_0.8944099378881988, class 2_0.9840375586854461, class 1_1.0, class0_0.9998423963176363: 0.775658\n",
      "[214]\ttraining's multi_logloss: 0.000847407\ttraining's class 3_0.8944099378881988, class 2_0.9840375586854461, class 1_1.0, class0_0.9998423963176363: 0.775658\n",
      "[215]\ttraining's multi_logloss: 0.000845678\ttraining's class 3_0.8944099378881988, class 2_0.9840375586854461, class 1_1.0, class0_0.9998423963176363: 0.775658\n",
      "[216]\ttraining's multi_logloss: 0.000844001\ttraining's class 3_0.8944099378881988, class 2_0.9840375586854461, class 1_1.0, class0_0.9998423963176363: 0.775658\n",
      "[217]\ttraining's multi_logloss: 0.000842406\ttraining's class 3_0.8944099378881988, class 2_0.9840375586854461, class 1_1.0, class0_0.9998423963176363: 0.775658\n",
      "[218]\ttraining's multi_logloss: 0.00084086\ttraining's class 3_0.8944099378881988, class 2_0.9840375586854461, class 1_1.0, class0_0.9998423963176363: 0.775658\n",
      "[219]\ttraining's multi_logloss: 0.00083937\ttraining's class 3_0.8944099378881988, class 2_0.9840375586854461, class 1_1.0, class0_0.9998423963176363: 0.775658\n",
      "[220]\ttraining's multi_logloss: 0.000837849\ttraining's class 3_0.8944099378881988, class 2_0.9840375586854461, class 1_1.0, class0_0.9998423963176363: 0.775658\n",
      "[221]\ttraining's multi_logloss: 0.000836404\ttraining's class 3_0.8944099378881988, class 2_0.9840375586854461, class 1_1.0, class0_0.9998423963176363: 0.775658\n",
      "[222]\ttraining's multi_logloss: 0.000835086\ttraining's class 3_0.8944099378881988, class 2_0.9840375586854461, class 1_1.0, class0_0.9998423963176363: 0.775658\n",
      "[223]\ttraining's multi_logloss: 0.00083376\ttraining's class 3_0.8944099378881988, class 2_0.9840375586854461, class 1_1.0, class0_0.9998423963176363: 0.775658\n",
      "[224]\ttraining's multi_logloss: 0.00083249\ttraining's class 3_0.8944099378881988, class 2_0.9840375586854461, class 1_1.0, class0_0.9998423963176363: 0.775658\n",
      "[225]\ttraining's multi_logloss: 0.000831268\ttraining's class 3_0.8944099378881988, class 2_0.9840375586854461, class 1_1.0, class0_0.9998423963176363: 0.775658\n",
      "[226]\ttraining's multi_logloss: 0.000830108\ttraining's class 3_0.8944099378881988, class 2_0.9840375586854461, class 1_1.0, class0_0.9998423963176363: 0.775658\n",
      "[227]\ttraining's multi_logloss: 0.000829017\ttraining's class 3_0.8944099378881988, class 2_0.9840375586854461, class 1_1.0, class0_0.9998423963176363: 0.775658\n",
      "[228]\ttraining's multi_logloss: 0.000827968\ttraining's class 3_0.8944099378881988, class 2_0.9840375586854461, class 1_1.0, class0_0.9998423963176363: 0.775658\n",
      "[229]\ttraining's multi_logloss: 0.00082696\ttraining's class 3_0.8944099378881988, class 2_0.9840375586854461, class 1_1.0, class0_0.9998423963176363: 0.775658\n",
      "[230]\ttraining's multi_logloss: 0.000826008\ttraining's class 3_0.8944099378881988, class 2_0.9840375586854461, class 1_1.0, class0_0.9998423963176363: 0.775658\n",
      "[231]\ttraining's multi_logloss: 0.000825071\ttraining's class 3_0.8944099378881988, class 2_0.9840375586854461, class 1_1.0, class0_0.9998423963176363: 0.775658\n",
      "[232]\ttraining's multi_logloss: 0.000824157\ttraining's class 3_0.8944099378881988, class 2_0.9840375586854461, class 1_1.0, class0_0.9998423963176363: 0.775658\n",
      "[233]\ttraining's multi_logloss: 0.000823265\ttraining's class 3_0.8944099378881988, class 2_0.9840375586854461, class 1_1.0, class0_0.9998423963176363: 0.775658\n",
      "[234]\ttraining's multi_logloss: 0.00082242\ttraining's class 3_0.8944099378881988, class 2_0.9840375586854461, class 1_1.0, class0_0.9998423963176363: 0.775658\n",
      "[235]\ttraining's multi_logloss: 0.000821594\ttraining's class 3_0.8944099378881988, class 2_0.9840375586854461, class 1_1.0, class0_0.9998423963176363: 0.775658\n",
      "[236]\ttraining's multi_logloss: 0.000820811\ttraining's class 3_0.8944099378881988, class 2_0.9840375586854461, class 1_1.0, class0_0.9998423963176363: 0.775658\n",
      "[237]\ttraining's multi_logloss: 0.00082004\ttraining's class 3_0.8944099378881988, class 2_0.9840375586854461, class 1_1.0, class0_0.9998423963176363: 0.775658\n",
      "[238]\ttraining's multi_logloss: 0.000819295\ttraining's class 3_0.8944099378881988, class 2_0.9840375586854461, class 1_1.0, class0_0.9998423963176363: 0.775658\n",
      "[239]\ttraining's multi_logloss: 0.000818583\ttraining's class 3_0.8944099378881988, class 2_0.9840375586854461, class 1_1.0, class0_0.9998423963176363: 0.775658\n",
      "[240]\ttraining's multi_logloss: 0.00081791\ttraining's class 3_0.8944099378881988, class 2_0.9840375586854461, class 1_1.0, class0_0.9998423963176363: 0.775658\n",
      "[241]\ttraining's multi_logloss: 0.000817249\ttraining's class 3_0.8944099378881988, class 2_0.9840375586854461, class 1_1.0, class0_0.9998423963176363: 0.775658\n",
      "[242]\ttraining's multi_logloss: 0.000816627\ttraining's class 3_0.8944099378881988, class 2_0.9840375586854461, class 1_1.0, class0_0.9998423963176363: 0.775658\n",
      "[243]\ttraining's multi_logloss: 0.000816032\ttraining's class 3_0.8944099378881988, class 2_0.9840375586854461, class 1_1.0, class0_0.9998423963176363: 0.775658\n",
      "[244]\ttraining's multi_logloss: 0.000815422\ttraining's class 3_0.8944099378881988, class 2_0.9840375586854461, class 1_1.0, class0_0.9998423963176363: 0.775658\n",
      "[245]\ttraining's multi_logloss: 0.00081485\ttraining's class 3_0.8944099378881988, class 2_0.9840375586854461, class 1_1.0, class0_0.9998423963176363: 0.775658\n",
      "[246]\ttraining's multi_logloss: 0.000814294\ttraining's class 3_0.8944099378881988, class 2_0.9840375586854461, class 1_1.0, class0_0.9998423963176363: 0.775658\n",
      "[247]\ttraining's multi_logloss: 0.000813764\ttraining's class 3_0.8944099378881988, class 2_0.9840375586854461, class 1_1.0, class0_0.9998423963176363: 0.775658\n",
      "[248]\ttraining's multi_logloss: 0.00081326\ttraining's class 3_0.8944099378881988, class 2_0.9840375586854461, class 1_1.0, class0_0.9998423963176363: 0.775658\n",
      "[249]\ttraining's multi_logloss: 0.00081277\ttraining's class 3_0.8944099378881988, class 2_0.9840375586854461, class 1_1.0, class0_0.9998423963176363: 0.775658\n",
      "[250]\ttraining's multi_logloss: 0.000812303\ttraining's class 3_0.8944099378881988, class 2_0.9840375586854461, class 1_1.0, class0_0.9998423963176363: 0.775658\n",
      "[251]\ttraining's multi_logloss: 0.000811852\ttraining's class 3_0.8944099378881988, class 2_0.9840375586854461, class 1_1.0, class0_0.9998423963176363: 0.775658\n",
      "[252]\ttraining's multi_logloss: 0.000811421\ttraining's class 3_0.8944099378881988, class 2_0.9840375586854461, class 1_1.0, class0_0.9998423963176363: 0.775658\n",
      "[253]\ttraining's multi_logloss: 0.000811005\ttraining's class 3_0.8944099378881988, class 2_0.9840375586854461, class 1_1.0, class0_0.9998423963176363: 0.775658\n",
      "[254]\ttraining's multi_logloss: 0.00081061\ttraining's class 3_0.8944099378881988, class 2_0.9840375586854461, class 1_1.0, class0_0.9998423963176363: 0.775658\n",
      "[255]\ttraining's multi_logloss: 0.000810219\ttraining's class 3_0.8944099378881988, class 2_0.9840375586854461, class 1_1.0, class0_0.9998423963176363: 0.775658\n",
      "[256]\ttraining's multi_logloss: 0.00080985\ttraining's class 3_0.8944099378881988, class 2_0.9840375586854461, class 1_1.0, class0_0.9998423963176363: 0.775658\n",
      "[257]\ttraining's multi_logloss: 0.000809487\ttraining's class 3_0.8944099378881988, class 2_0.9840375586854461, class 1_1.0, class0_0.9998423963176363: 0.775658\n",
      "[258]\ttraining's multi_logloss: 0.000809138\ttraining's class 3_0.8944099378881988, class 2_0.9840375586854461, class 1_1.0, class0_0.9998423963176363: 0.775658\n",
      "[259]\ttraining's multi_logloss: 0.000808803\ttraining's class 3_0.8944099378881988, class 2_0.9840375586854461, class 1_1.0, class0_0.9998423963176363: 0.775658\n",
      "[260]\ttraining's multi_logloss: 0.000808483\ttraining's class 3_0.8944099378881988, class 2_0.9840375586854461, class 1_1.0, class0_0.9998423963176363: 0.775658\n",
      "[261]\ttraining's multi_logloss: 0.000808174\ttraining's class 3_0.8944099378881988, class 2_0.9840375586854461, class 1_1.0, class0_0.9998423963176363: 0.775658\n",
      "[262]\ttraining's multi_logloss: 0.000807879\ttraining's class 3_0.8944099378881988, class 2_0.9840375586854461, class 1_1.0, class0_0.9998423963176363: 0.775658\n"
     ]
    },
    {
     "name": "stdout",
     "output_type": "stream",
     "text": [
      "[263]\ttraining's multi_logloss: 0.000807599\ttraining's class 3_0.8944099378881988, class 2_0.9840375586854461, class 1_1.0, class0_0.9998423963176363: 0.775658\n",
      "[264]\ttraining's multi_logloss: 0.000807344\ttraining's class 3_0.8944099378881988, class 2_0.9840375586854461, class 1_1.0, class0_0.9998423963176363: 0.775658\n",
      "[265]\ttraining's multi_logloss: 0.000807088\ttraining's class 3_0.8944099378881988, class 2_0.9840375586854461, class 1_1.0, class0_0.9998423963176363: 0.775658\n",
      "[266]\ttraining's multi_logloss: 0.000806833\ttraining's class 3_0.8944099378881988, class 2_0.9840375586854461, class 1_1.0, class0_0.9998423963176363: 0.775658\n",
      "[267]\ttraining's multi_logloss: 0.00080659\ttraining's class 3_0.8944099378881988, class 2_0.9840375586854461, class 1_1.0, class0_0.9998423963176363: 0.775658\n",
      "[268]\ttraining's multi_logloss: 0.000806363\ttraining's class 3_0.8944099378881988, class 2_0.9840375586854461, class 1_1.0, class0_0.9998423963176363: 0.775658\n",
      "[269]\ttraining's multi_logloss: 0.000806137\ttraining's class 3_0.8944099378881988, class 2_0.9840375586854461, class 1_1.0, class0_0.9998423963176363: 0.775658\n",
      "[270]\ttraining's multi_logloss: 0.00080592\ttraining's class 3_0.8944099378881988, class 2_0.9840375586854461, class 1_1.0, class0_0.9998423963176363: 0.775658\n",
      "[271]\ttraining's multi_logloss: 0.000805706\ttraining's class 3_0.8944099378881988, class 2_0.9840375586854461, class 1_1.0, class0_0.9998423963176363: 0.775658\n",
      "[272]\ttraining's multi_logloss: 0.000805509\ttraining's class 3_0.8944099378881988, class 2_0.9840375586854461, class 1_1.0, class0_0.9998423963176363: 0.775658\n",
      "[273]\ttraining's multi_logloss: 0.000805313\ttraining's class 3_0.8944099378881988, class 2_0.9840375586854461, class 1_1.0, class0_0.9998423963176363: 0.775658\n",
      "[274]\ttraining's multi_logloss: 0.000805131\ttraining's class 3_0.8944099378881988, class 2_0.9840375586854461, class 1_1.0, class0_0.9998423963176363: 0.775658\n",
      "[275]\ttraining's multi_logloss: 0.000804948\ttraining's class 3_0.8944099378881988, class 2_0.9840375586854461, class 1_1.0, class0_0.9998423963176363: 0.775658\n",
      "[276]\ttraining's multi_logloss: 0.000804778\ttraining's class 3_0.8944099378881988, class 2_0.9840375586854461, class 1_1.0, class0_0.9998423963176363: 0.775658\n",
      "[277]\ttraining's multi_logloss: 0.000804608\ttraining's class 3_0.8944099378881988, class 2_0.9840375586854461, class 1_1.0, class0_0.9998423963176363: 0.775658\n",
      "[278]\ttraining's multi_logloss: 0.000804446\ttraining's class 3_0.8944099378881988, class 2_0.9840375586854461, class 1_1.0, class0_0.9998423963176363: 0.775658\n",
      "[279]\ttraining's multi_logloss: 0.000804285\ttraining's class 3_0.8944099378881988, class 2_0.9840375586854461, class 1_1.0, class0_0.9998423963176363: 0.775658\n",
      "[280]\ttraining's multi_logloss: 0.000804132\ttraining's class 3_0.8944099378881988, class 2_0.9840375586854461, class 1_1.0, class0_0.9998423963176363: 0.775658\n",
      "[281]\ttraining's multi_logloss: 0.000803987\ttraining's class 3_0.8944099378881988, class 2_0.9840375586854461, class 1_1.0, class0_0.9998423963176363: 0.775658\n",
      "[282]\ttraining's multi_logloss: 0.000803839\ttraining's class 3_0.8944099378881988, class 2_0.9840375586854461, class 1_1.0, class0_0.9998423963176363: 0.775658\n",
      "[283]\ttraining's multi_logloss: 0.00080371\ttraining's class 3_0.8944099378881988, class 2_0.9840375586854461, class 1_1.0, class0_0.9998423963176363: 0.775658\n",
      "[284]\ttraining's multi_logloss: 0.000803582\ttraining's class 3_0.8944099378881988, class 2_0.9840375586854461, class 1_1.0, class0_0.9998423963176363: 0.775658\n",
      "[285]\ttraining's multi_logloss: 0.000803458\ttraining's class 3_0.8944099378881988, class 2_0.9840375586854461, class 1_1.0, class0_0.9998423963176363: 0.775658\n",
      "[286]\ttraining's multi_logloss: 0.000803341\ttraining's class 3_0.8944099378881988, class 2_0.9840375586854461, class 1_1.0, class0_0.9998423963176363: 0.775658\n",
      "[287]\ttraining's multi_logloss: 0.000803227\ttraining's class 3_0.8944099378881988, class 2_0.9840375586854461, class 1_1.0, class0_0.9998423963176363: 0.775658\n",
      "[288]\ttraining's multi_logloss: 0.000803111\ttraining's class 3_0.8944099378881988, class 2_0.9840375586854461, class 1_1.0, class0_0.9998423963176363: 0.775658\n",
      "[289]\ttraining's multi_logloss: 0.000803004\ttraining's class 3_0.8944099378881988, class 2_0.9840375586854461, class 1_1.0, class0_0.9998423963176363: 0.775658\n",
      "[290]\ttraining's multi_logloss: 0.0008029\ttraining's class 3_0.8944099378881988, class 2_0.9840375586854461, class 1_1.0, class0_0.9998423963176363: 0.775658\n",
      "[291]\ttraining's multi_logloss: 0.000802799\ttraining's class 3_0.8944099378881988, class 2_0.9840375586854461, class 1_1.0, class0_0.9998423963176363: 0.775658\n",
      "[292]\ttraining's multi_logloss: 0.000802702\ttraining's class 3_0.8944099378881988, class 2_0.9840375586854461, class 1_1.0, class0_0.9998423963176363: 0.775658\n",
      "[293]\ttraining's multi_logloss: 0.000802604\ttraining's class 3_0.8944099378881988, class 2_0.9840375586854461, class 1_1.0, class0_0.9998423963176363: 0.775658\n",
      "[294]\ttraining's multi_logloss: 0.00080251\ttraining's class 3_0.8944099378881988, class 2_0.9840375586854461, class 1_1.0, class0_0.9998423963176363: 0.775658\n",
      "[295]\ttraining's multi_logloss: 0.00080242\ttraining's class 3_0.8944099378881988, class 2_0.9840375586854461, class 1_1.0, class0_0.9998423963176363: 0.775658\n",
      "[296]\ttraining's multi_logloss: 0.000802338\ttraining's class 3_0.8944099378881988, class 2_0.9840375586854461, class 1_1.0, class0_0.9998423963176363: 0.775658\n",
      "[297]\ttraining's multi_logloss: 0.000802256\ttraining's class 3_0.8944099378881988, class 2_0.9840375586854461, class 1_1.0, class0_0.9998423963176363: 0.775658\n",
      "[298]\ttraining's multi_logloss: 0.000802178\ttraining's class 3_0.8944099378881988, class 2_0.9840375586854461, class 1_1.0, class0_0.9998423963176363: 0.775658\n",
      "[299]\ttraining's multi_logloss: 0.000802102\ttraining's class 3_0.8944099378881988, class 2_0.9840375586854461, class 1_1.0, class0_0.9998423963176363: 0.775658\n",
      "[300]\ttraining's multi_logloss: 0.000802022\ttraining's class 3_0.8944099378881988, class 2_0.9840375586854461, class 1_1.0, class0_0.9998423963176363: 0.775658\n",
      "[301]\ttraining's multi_logloss: 0.000801951\ttraining's class 3_0.8944099378881988, class 2_0.9840375586854461, class 1_1.0, class0_0.9998423963176363: 0.775658\n",
      "[302]\ttraining's multi_logloss: 0.000801877\ttraining's class 3_0.8944099378881988, class 2_0.9840375586854461, class 1_1.0, class0_0.9998423963176363: 0.775658\n",
      "[303]\ttraining's multi_logloss: 0.00080181\ttraining's class 3_0.8944099378881988, class 2_0.9840375586854461, class 1_1.0, class0_0.9998423963176363: 0.775658\n",
      "[304]\ttraining's multi_logloss: 0.000801747\ttraining's class 3_0.8944099378881988, class 2_0.9840375586854461, class 1_1.0, class0_0.9998423963176363: 0.775658\n",
      "[305]\ttraining's multi_logloss: 0.000801678\ttraining's class 3_0.8944099378881988, class 2_0.9840375586854461, class 1_1.0, class0_0.9998423963176363: 0.775658\n",
      "[306]\ttraining's multi_logloss: 0.000801617\ttraining's class 3_0.8944099378881988, class 2_0.9840375586854461, class 1_1.0, class0_0.9998423963176363: 0.775658\n",
      "[307]\ttraining's multi_logloss: 0.000801555\ttraining's class 3_0.8944099378881988, class 2_0.9840375586854461, class 1_1.0, class0_0.9998423963176363: 0.775658\n",
      "[308]\ttraining's multi_logloss: 0.00080149\ttraining's class 3_0.8944099378881988, class 2_0.9840375586854461, class 1_1.0, class0_0.9998423963176363: 0.775658\n",
      "[309]\ttraining's multi_logloss: 0.000801435\ttraining's class 3_0.8944099378881988, class 2_0.9840375586854461, class 1_1.0, class0_0.9998423963176363: 0.775658\n",
      "[310]\ttraining's multi_logloss: 0.000801382\ttraining's class 3_0.8944099378881988, class 2_0.9840375586854461, class 1_1.0, class0_0.9998423963176363: 0.775658\n",
      "[311]\ttraining's multi_logloss: 0.000801326\ttraining's class 3_0.8944099378881988, class 2_0.9840375586854461, class 1_1.0, class0_0.9998423963176363: 0.775658\n",
      "[312]\ttraining's multi_logloss: 0.000801276\ttraining's class 3_0.8944099378881988, class 2_0.9840375586854461, class 1_1.0, class0_0.9998423963176363: 0.775658\n",
      "[313]\ttraining's multi_logloss: 0.000801226\ttraining's class 3_0.8944099378881988, class 2_0.9840375586854461, class 1_1.0, class0_0.9998423963176363: 0.775658\n",
      "[314]\ttraining's multi_logloss: 0.000801175\ttraining's class 3_0.8944099378881988, class 2_0.9840375586854461, class 1_1.0, class0_0.9998423963176363: 0.775658\n"
     ]
    },
    {
     "name": "stdout",
     "output_type": "stream",
     "text": [
      "[315]\ttraining's multi_logloss: 0.000801129\ttraining's class 3_0.8944099378881988, class 2_0.9840375586854461, class 1_1.0, class0_0.9998423963176363: 0.775658\n",
      "[316]\ttraining's multi_logloss: 0.000801084\ttraining's class 3_0.8944099378881988, class 2_0.9840375586854461, class 1_1.0, class0_0.9998423963176363: 0.775658\n",
      "[317]\ttraining's multi_logloss: 0.000801035\ttraining's class 3_0.8944099378881988, class 2_0.9840375586854461, class 1_1.0, class0_0.9998423963176363: 0.775658\n",
      "[318]\ttraining's multi_logloss: 0.000800994\ttraining's class 3_0.8944099378881988, class 2_0.9840375586854461, class 1_1.0, class0_0.9998423963176363: 0.775658\n",
      "[319]\ttraining's multi_logloss: 0.00080095\ttraining's class 3_0.8944099378881988, class 2_0.9840375586854461, class 1_1.0, class0_0.9998423963176363: 0.775658\n",
      "[320]\ttraining's multi_logloss: 0.000800908\ttraining's class 3_0.8944099378881988, class 2_0.9840375586854461, class 1_1.0, class0_0.9998423963176363: 0.775658\n",
      "[321]\ttraining's multi_logloss: 0.000800866\ttraining's class 3_0.8944099378881988, class 2_0.9840375586854461, class 1_1.0, class0_0.9998423963176363: 0.775658\n",
      "[322]\ttraining's multi_logloss: 0.000800824\ttraining's class 3_0.8944099378881988, class 2_0.9840375586854461, class 1_1.0, class0_0.9998423963176363: 0.775658\n",
      "[323]\ttraining's multi_logloss: 0.000800785\ttraining's class 3_0.8944099378881988, class 2_0.9840375586854461, class 1_1.0, class0_0.9998423963176363: 0.775658\n",
      "[324]\ttraining's multi_logloss: 0.000800746\ttraining's class 3_0.8944099378881988, class 2_0.9840375586854461, class 1_1.0, class0_0.9998423963176363: 0.775658\n",
      "[325]\ttraining's multi_logloss: 0.000800709\ttraining's class 3_0.8944099378881988, class 2_0.9840375586854461, class 1_1.0, class0_0.9998423963176363: 0.775658\n",
      "[326]\ttraining's multi_logloss: 0.000800663\ttraining's class 3_0.8944099378881988, class 2_0.9840375586854461, class 1_1.0, class0_0.9998423963176363: 0.775658\n",
      "[327]\ttraining's multi_logloss: 0.000800629\ttraining's class 3_0.8944099378881988, class 2_0.9840375586854461, class 1_1.0, class0_0.9998423963176363: 0.775658\n",
      "[328]\ttraining's multi_logloss: 0.000800595\ttraining's class 3_0.8944099378881988, class 2_0.9840375586854461, class 1_1.0, class0_0.9998423963176363: 0.775658\n",
      "[329]\ttraining's multi_logloss: 0.000800552\ttraining's class 3_0.8944099378881988, class 2_0.9840375586854461, class 1_1.0, class0_0.9998423963176363: 0.775658\n",
      "[330]\ttraining's multi_logloss: 0.000800521\ttraining's class 3_0.8944099378881988, class 2_0.9840375586854461, class 1_1.0, class0_0.9998423963176363: 0.775658\n",
      "[331]\ttraining's multi_logloss: 0.00080049\ttraining's class 3_0.8944099378881988, class 2_0.9840375586854461, class 1_1.0, class0_0.9998423963176363: 0.775658\n",
      "[332]\ttraining's multi_logloss: 0.000800451\ttraining's class 3_0.8944099378881988, class 2_0.9840375586854461, class 1_1.0, class0_0.9998423963176363: 0.775658\n",
      "[333]\ttraining's multi_logloss: 0.000800422\ttraining's class 3_0.8944099378881988, class 2_0.9840375586854461, class 1_1.0, class0_0.9998423963176363: 0.775658\n",
      "[334]\ttraining's multi_logloss: 0.000800384\ttraining's class 3_0.8944099378881988, class 2_0.9840375586854461, class 1_1.0, class0_0.9998423963176363: 0.775658\n",
      "[335]\ttraining's multi_logloss: 0.000800354\ttraining's class 3_0.8944099378881988, class 2_0.9840375586854461, class 1_1.0, class0_0.9998423963176363: 0.775658\n",
      "[336]\ttraining's multi_logloss: 0.000800328\ttraining's class 3_0.8944099378881988, class 2_0.9840375586854461, class 1_1.0, class0_0.9998423963176363: 0.775658\n",
      "[337]\ttraining's multi_logloss: 0.000800291\ttraining's class 3_0.8944099378881988, class 2_0.9840375586854461, class 1_1.0, class0_0.9998423963176363: 0.775658\n",
      "[338]\ttraining's multi_logloss: 0.000800256\ttraining's class 3_0.8944099378881988, class 2_0.9840375586854461, class 1_1.0, class0_0.9998423963176363: 0.775658\n",
      "[339]\ttraining's multi_logloss: 0.000800231\ttraining's class 3_0.8944099378881988, class 2_0.9840375586854461, class 1_1.0, class0_0.9998423963176363: 0.775658\n",
      "[340]\ttraining's multi_logloss: 0.000800197\ttraining's class 3_0.8944099378881988, class 2_0.9840375586854461, class 1_1.0, class0_0.9998423963176363: 0.775658\n",
      "[341]\ttraining's multi_logloss: 0.000800165\ttraining's class 3_0.8944099378881988, class 2_0.9840375586854461, class 1_1.0, class0_0.9998423963176363: 0.775658\n",
      "[342]\ttraining's multi_logloss: 0.000800141\ttraining's class 3_0.8944099378881988, class 2_0.9840375586854461, class 1_1.0, class0_0.9998423963176363: 0.775658\n",
      "[343]\ttraining's multi_logloss: 0.000800119\ttraining's class 3_0.8944099378881988, class 2_0.9840375586854461, class 1_1.0, class0_0.9998423963176363: 0.775658\n",
      "[344]\ttraining's multi_logloss: 0.000800089\ttraining's class 3_0.8944099378881988, class 2_0.9840375586854461, class 1_1.0, class0_0.9998423963176363: 0.775658\n",
      "[345]\ttraining's multi_logloss: 0.000800065\ttraining's class 3_0.8944099378881988, class 2_0.9840375586854461, class 1_1.0, class0_0.9998423963176363: 0.775658\n",
      "[346]\ttraining's multi_logloss: 0.000800036\ttraining's class 3_0.8944099378881988, class 2_0.9840375586854461, class 1_1.0, class0_0.9998423963176363: 0.775658\n",
      "[347]\ttraining's multi_logloss: 0.000800006\ttraining's class 3_0.8944099378881988, class 2_0.9840375586854461, class 1_1.0, class0_0.9998423963176363: 0.775658\n",
      "[348]\ttraining's multi_logloss: 0.000799987\ttraining's class 3_0.8944099378881988, class 2_0.9840375586854461, class 1_1.0, class0_0.9998423963176363: 0.775658\n",
      "[349]\ttraining's multi_logloss: 0.000799968\ttraining's class 3_0.8944099378881988, class 2_0.9840375586854461, class 1_1.0, class0_0.9998423963176363: 0.775658\n",
      "[350]\ttraining's multi_logloss: 0.000799939\ttraining's class 3_0.8944099378881988, class 2_0.9840375586854461, class 1_1.0, class0_0.9998423963176363: 0.775658\n",
      "[351]\ttraining's multi_logloss: 0.000799914\ttraining's class 3_0.8944099378881988, class 2_0.9840375586854461, class 1_1.0, class0_0.9998423963176363: 0.775658\n",
      "[352]\ttraining's multi_logloss: 0.000799897\ttraining's class 3_0.8944099378881988, class 2_0.9840375586854461, class 1_1.0, class0_0.9998423963176363: 0.775658\n",
      "[353]\ttraining's multi_logloss: 0.000799877\ttraining's class 3_0.8944099378881988, class 2_0.9840375586854461, class 1_1.0, class0_0.9998423963176363: 0.775658\n",
      "[354]\ttraining's multi_logloss: 0.000799854\ttraining's class 3_0.8944099378881988, class 2_0.9840375586854461, class 1_1.0, class0_0.9998423963176363: 0.775658\n",
      "[355]\ttraining's multi_logloss: 0.000799835\ttraining's class 3_0.8944099378881988, class 2_0.9840375586854461, class 1_1.0, class0_0.9998423963176363: 0.775658\n",
      "[356]\ttraining's multi_logloss: 0.000799813\ttraining's class 3_0.8944099378881988, class 2_0.9840375586854461, class 1_1.0, class0_0.9998423963176363: 0.775658\n",
      "[357]\ttraining's multi_logloss: 0.000799795\ttraining's class 3_0.8944099378881988, class 2_0.9840375586854461, class 1_1.0, class0_0.9998423963176363: 0.775658\n",
      "[358]\ttraining's multi_logloss: 0.00079978\ttraining's class 3_0.8944099378881988, class 2_0.9840375586854461, class 1_1.0, class0_0.9998423963176363: 0.775658\n",
      "[359]\ttraining's multi_logloss: 0.000799759\ttraining's class 3_0.8944099378881988, class 2_0.9840375586854461, class 1_1.0, class0_0.9998423963176363: 0.775658\n",
      "[360]\ttraining's multi_logloss: 0.000799742\ttraining's class 3_0.8944099378881988, class 2_0.9840375586854461, class 1_1.0, class0_0.9998423963176363: 0.775658\n",
      "[361]\ttraining's multi_logloss: 0.000799721\ttraining's class 3_0.8944099378881988, class 2_0.9840375586854461, class 1_1.0, class0_0.9998423963176363: 0.775658\n",
      "[362]\ttraining's multi_logloss: 0.000799699\ttraining's class 3_0.8944099378881988, class 2_0.9840375586854461, class 1_1.0, class0_0.9998423963176363: 0.775658\n",
      "[363]\ttraining's multi_logloss: 0.000799686\ttraining's class 3_0.8944099378881988, class 2_0.9840375586854461, class 1_1.0, class0_0.9998423963176363: 0.775658\n",
      "[364]\ttraining's multi_logloss: 0.000799665\ttraining's class 3_0.8944099378881988, class 2_0.9840375586854461, class 1_1.0, class0_0.9998423963176363: 0.775658\n",
      "[365]\ttraining's multi_logloss: 0.000799652\ttraining's class 3_0.8944099378881988, class 2_0.9840075258701787, class 1_1.0, class0_0.9998423977787357: 0.775652\n",
      "[366]\ttraining's multi_logloss: 0.000799638\ttraining's class 3_0.8944099378881988, class 2_0.9840075258701787, class 1_1.0, class0_0.9998423977787357: 0.775652\n"
     ]
    },
    {
     "name": "stdout",
     "output_type": "stream",
     "text": [
      "[367]\ttraining's multi_logloss: 0.00079962\ttraining's class 3_0.8944099378881988, class 2_0.9840075258701787, class 1_1.0, class0_0.9998423977787357: 0.775652\n",
      "[368]\ttraining's multi_logloss: 0.000799602\ttraining's class 3_0.8944099378881988, class 2_0.9840075258701787, class 1_1.0, class0_0.9998423977787357: 0.775652\n",
      "[369]\ttraining's multi_logloss: 0.000799589\ttraining's class 3_0.8944099378881988, class 2_0.9840075258701787, class 1_1.0, class0_0.9998423977787357: 0.775652\n",
      "[370]\ttraining's multi_logloss: 0.000799572\ttraining's class 3_0.8944099378881988, class 2_0.9840075258701787, class 1_1.0, class0_0.9998423977787357: 0.775652\n",
      "[371]\ttraining's multi_logloss: 0.000799554\ttraining's class 3_0.8944099378881988, class 2_0.9840075258701787, class 1_1.0, class0_0.9998423977787357: 0.775652\n",
      "[372]\ttraining's multi_logloss: 0.000799543\ttraining's class 3_0.8944099378881988, class 2_0.9840075258701787, class 1_1.0, class0_0.9998423977787357: 0.775652\n",
      "[373]\ttraining's multi_logloss: 0.000799531\ttraining's class 3_0.8944099378881988, class 2_0.9840075258701787, class 1_1.0, class0_0.9998423977787357: 0.775652\n",
      "[374]\ttraining's multi_logloss: 0.000799521\ttraining's class 3_0.8944099378881988, class 2_0.9840075258701787, class 1_1.0, class0_0.9998423977787357: 0.775652\n",
      "[375]\ttraining's multi_logloss: 0.000799504\ttraining's class 3_0.8944099378881988, class 2_0.9840075258701787, class 1_1.0, class0_0.9998423977787357: 0.775652\n",
      "[376]\ttraining's multi_logloss: 0.000799489\ttraining's class 3_0.8944099378881988, class 2_0.9840075258701787, class 1_1.0, class0_0.9998423977787357: 0.775652\n",
      "[377]\ttraining's multi_logloss: 0.000799478\ttraining's class 3_0.8944099378881988, class 2_0.9840075258701787, class 1_1.0, class0_0.9998423977787357: 0.775652\n",
      "[378]\ttraining's multi_logloss: 0.000799464\ttraining's class 3_0.8944099378881988, class 2_0.9840075258701787, class 1_1.0, class0_0.9998423977787357: 0.775652\n",
      "[379]\ttraining's multi_logloss: 0.00079945\ttraining's class 3_0.8944099378881988, class 2_0.9840075258701787, class 1_1.0, class0_0.9998423977787357: 0.775652\n",
      "[380]\ttraining's multi_logloss: 0.000799441\ttraining's class 3_0.8944099378881988, class 2_0.9840075258701787, class 1_1.0, class0_0.9998423977787357: 0.775652\n",
      "[381]\ttraining's multi_logloss: 0.000799428\ttraining's class 3_0.8944099378881988, class 2_0.9840075258701787, class 1_1.0, class0_0.9998423977787357: 0.775652\n",
      "[382]\ttraining's multi_logloss: 0.000799419\ttraining's class 3_0.8944099378881988, class 2_0.9840075258701787, class 1_1.0, class0_0.9998423977787357: 0.775652\n",
      "[383]\ttraining's multi_logloss: 0.000799406\ttraining's class 3_0.8944099378881988, class 2_0.9840075258701787, class 1_1.0, class0_0.9998423977787357: 0.775652\n",
      "[384]\ttraining's multi_logloss: 0.000799398\ttraining's class 3_0.8944099378881988, class 2_0.9840075258701787, class 1_1.0, class0_0.9998423977787357: 0.775652\n",
      "[385]\ttraining's multi_logloss: 0.000799386\ttraining's class 3_0.8944099378881988, class 2_0.9840075258701787, class 1_1.0, class0_0.9998423977787357: 0.775652\n",
      "[386]\ttraining's multi_logloss: 0.000799374\ttraining's class 3_0.8944099378881988, class 2_0.9840075258701787, class 1_1.0, class0_0.9998423977787357: 0.775652\n",
      "[387]\ttraining's multi_logloss: 0.000799366\ttraining's class 3_0.8944099378881988, class 2_0.9840075258701787, class 1_1.0, class0_0.9998423977787357: 0.775652\n",
      "[388]\ttraining's multi_logloss: 0.000799357\ttraining's class 3_0.8944099378881988, class 2_0.9840075258701787, class 1_1.0, class0_0.9998423977787357: 0.775652\n",
      "[389]\ttraining's multi_logloss: 0.000799346\ttraining's class 3_0.8944099378881988, class 2_0.9840075258701787, class 1_1.0, class0_0.9998423977787357: 0.775652\n",
      "[390]\ttraining's multi_logloss: 0.000799338\ttraining's class 3_0.8944099378881988, class 2_0.9840075258701787, class 1_1.0, class0_0.9998423977787357: 0.775652\n",
      "[391]\ttraining's multi_logloss: 0.000799331\ttraining's class 3_0.8944099378881988, class 2_0.9840075258701787, class 1_1.0, class0_0.9998423977787357: 0.775652\n",
      "[392]\ttraining's multi_logloss: 0.000799323\ttraining's class 3_0.8944099378881988, class 2_0.9840075258701787, class 1_1.0, class0_0.9998423977787357: 0.775652\n",
      "[393]\ttraining's multi_logloss: 0.000799313\ttraining's class 3_0.8944099378881988, class 2_0.9840075258701787, class 1_1.0, class0_0.9998423977787357: 0.775652\n",
      "[394]\ttraining's multi_logloss: 0.000799306\ttraining's class 3_0.8944099378881988, class 2_0.9840075258701787, class 1_1.0, class0_0.9998423977787357: 0.775652\n",
      "[395]\ttraining's multi_logloss: 0.000799296\ttraining's class 3_0.8944099378881988, class 2_0.9840075258701787, class 1_1.0, class0_0.9998423977787357: 0.775652\n",
      "[396]\ttraining's multi_logloss: 0.000799285\ttraining's class 3_0.8944099378881988, class 2_0.9840075258701787, class 1_1.0, class0_0.9998423977787357: 0.775652\n",
      "[397]\ttraining's multi_logloss: 0.000799278\ttraining's class 3_0.8944099378881988, class 2_0.9840075258701787, class 1_1.0, class0_0.9998423977787357: 0.775652\n",
      "[398]\ttraining's multi_logloss: 0.000799267\ttraining's class 3_0.8944099378881988, class 2_0.9840075258701787, class 1_1.0, class0_0.9998423977787357: 0.775652\n",
      "[399]\ttraining's multi_logloss: 0.000799256\ttraining's class 3_0.8944099378881988, class 2_0.9840075258701787, class 1_1.0, class0_0.9998423977787357: 0.775652\n",
      "[400]\ttraining's multi_logloss: 0.000799249\ttraining's class 3_0.8944099378881988, class 2_0.9840075258701787, class 1_1.0, class0_0.9998423977787357: 0.775652\n",
      "[401]\ttraining's multi_logloss: 0.000799238\ttraining's class 3_0.8944099378881988, class 2_0.9840075258701787, class 1_1.0, class0_0.9998423977787357: 0.775652\n",
      "[402]\ttraining's multi_logloss: 0.000799231\ttraining's class 3_0.8944099378881988, class 2_0.9840075258701787, class 1_1.0, class0_0.9998423977787357: 0.775652\n",
      "[403]\ttraining's multi_logloss: 0.000799221\ttraining's class 3_0.8944099378881988, class 2_0.9840075258701787, class 1_1.0, class0_0.9998423977787357: 0.775652\n",
      "[404]\ttraining's multi_logloss: 0.000799214\ttraining's class 3_0.8944099378881988, class 2_0.9840075258701787, class 1_1.0, class0_0.9998423977787357: 0.775652\n",
      "[405]\ttraining's multi_logloss: 0.000799204\ttraining's class 3_0.8944099378881988, class 2_0.9840075258701787, class 1_1.0, class0_0.9998423977787357: 0.775652\n",
      "[406]\ttraining's multi_logloss: 0.000799195\ttraining's class 3_0.8944099378881988, class 2_0.9840075258701787, class 1_1.0, class0_0.9998423977787357: 0.775652\n",
      "[407]\ttraining's multi_logloss: 0.000799188\ttraining's class 3_0.8944099378881988, class 2_0.9840075258701787, class 1_1.0, class0_0.9998423977787357: 0.775652\n",
      "[408]\ttraining's multi_logloss: 0.000799179\ttraining's class 3_0.8944099378881988, class 2_0.9840075258701787, class 1_1.0, class0_0.9998423977787357: 0.775652\n",
      "[409]\ttraining's multi_logloss: 0.000799171\ttraining's class 3_0.8944099378881988, class 2_0.9840075258701787, class 1_1.0, class0_0.9998423977787357: 0.775652\n",
      "[410]\ttraining's multi_logloss: 0.000799164\ttraining's class 3_0.8944099378881988, class 2_0.9840075258701787, class 1_1.0, class0_0.9998423977787357: 0.775652\n",
      "[411]\ttraining's multi_logloss: 0.000799156\ttraining's class 3_0.8944099378881988, class 2_0.9840075258701787, class 1_1.0, class0_0.9998423977787357: 0.775652\n",
      "[412]\ttraining's multi_logloss: 0.000799148\ttraining's class 3_0.8944099378881988, class 2_0.9840075258701787, class 1_1.0, class0_0.9998423977787357: 0.775652\n",
      "[413]\ttraining's multi_logloss: 0.000799141\ttraining's class 3_0.8944099378881988, class 2_0.9840075258701787, class 1_1.0, class0_0.9998423977787357: 0.775652\n",
      "[414]\ttraining's multi_logloss: 0.000799135\ttraining's class 3_0.8944099378881988, class 2_0.9840075258701787, class 1_1.0, class0_0.9998423977787357: 0.775652\n",
      "[415]\ttraining's multi_logloss: 0.000799128\ttraining's class 3_0.8944099378881988, class 2_0.9840075258701787, class 1_1.0, class0_0.9998423977787357: 0.775652\n",
      "[416]\ttraining's multi_logloss: 0.00079912\ttraining's class 3_0.8944099378881988, class 2_0.9840075258701787, class 1_1.0, class0_0.9998423977787357: 0.775652\n",
      "[417]\ttraining's multi_logloss: 0.000799114\ttraining's class 3_0.8944099378881988, class 2_0.9840075258701787, class 1_1.0, class0_0.9998423977787357: 0.775652\n",
      "[418]\ttraining's multi_logloss: 0.000799107\ttraining's class 3_0.8944099378881988, class 2_0.9840075258701787, class 1_1.0, class0_0.9998423977787357: 0.775652\n"
     ]
    },
    {
     "name": "stdout",
     "output_type": "stream",
     "text": [
      "[419]\ttraining's multi_logloss: 0.000799101\ttraining's class 3_0.8944099378881988, class 2_0.9840075258701787, class 1_1.0, class0_0.9998423977787357: 0.775652\n",
      "[420]\ttraining's multi_logloss: 0.000799095\ttraining's class 3_0.8944099378881988, class 2_0.9840075258701787, class 1_1.0, class0_0.9998423977787357: 0.775652\n",
      "[421]\ttraining's multi_logloss: 0.000799088\ttraining's class 3_0.8944099378881988, class 2_0.9840075258701787, class 1_1.0, class0_0.9998423977787357: 0.775652\n",
      "[422]\ttraining's multi_logloss: 0.000799082\ttraining's class 3_0.8944099378881988, class 2_0.9840075258701787, class 1_1.0, class0_0.9998423977787357: 0.775652\n",
      "[423]\ttraining's multi_logloss: 0.000799076\ttraining's class 3_0.8944099378881988, class 2_0.9840075258701787, class 1_1.0, class0_0.9998423977787357: 0.775652\n",
      "[424]\ttraining's multi_logloss: 0.00079907\ttraining's class 3_0.8944099378881988, class 2_0.9840075258701787, class 1_1.0, class0_0.9998423977787357: 0.775652\n",
      "[425]\ttraining's multi_logloss: 0.000799065\ttraining's class 3_0.8944099378881988, class 2_0.9840075258701787, class 1_1.0, class0_0.9998423977787357: 0.775652\n",
      "[426]\ttraining's multi_logloss: 0.000799059\ttraining's class 3_0.8944099378881988, class 2_0.9840075258701787, class 1_1.0, class0_0.9998423977787357: 0.775652\n",
      "[427]\ttraining's multi_logloss: 0.000799054\ttraining's class 3_0.8944099378881988, class 2_0.9840075258701787, class 1_1.0, class0_0.9998423977787357: 0.775652\n",
      "[428]\ttraining's multi_logloss: 0.000799048\ttraining's class 3_0.8944099378881988, class 2_0.9840075258701787, class 1_1.0, class0_0.9998423977787357: 0.775652\n",
      "[429]\ttraining's multi_logloss: 0.000799043\ttraining's class 3_0.8944099378881988, class 2_0.9840075258701787, class 1_1.0, class0_0.9998423977787357: 0.775652\n",
      "[430]\ttraining's multi_logloss: 0.000799038\ttraining's class 3_0.8944099378881988, class 2_0.9840075258701787, class 1_1.0, class0_0.9998423977787357: 0.775652\n",
      "[431]\ttraining's multi_logloss: 0.000799033\ttraining's class 3_0.8944099378881988, class 2_0.9840075258701787, class 1_1.0, class0_0.9998423977787357: 0.775652\n",
      "[432]\ttraining's multi_logloss: 0.000799027\ttraining's class 3_0.8944099378881988, class 2_0.9840075258701787, class 1_1.0, class0_0.9998423977787357: 0.775652\n",
      "[433]\ttraining's multi_logloss: 0.000799022\ttraining's class 3_0.8944099378881988, class 2_0.9840075258701787, class 1_1.0, class0_0.9998423977787357: 0.775652\n",
      "[434]\ttraining's multi_logloss: 0.000799017\ttraining's class 3_0.8944099378881988, class 2_0.9840075258701787, class 1_1.0, class0_0.9998423977787357: 0.775652\n",
      "[435]\ttraining's multi_logloss: 0.000799014\ttraining's class 3_0.8944099378881988, class 2_0.9840075258701787, class 1_1.0, class0_0.9998423977787357: 0.775652\n",
      "[436]\ttraining's multi_logloss: 0.000799008\ttraining's class 3_0.8944099378881988, class 2_0.9840075258701787, class 1_1.0, class0_0.9998423977787357: 0.775652\n",
      "[437]\ttraining's multi_logloss: 0.000799004\ttraining's class 3_0.8944099378881988, class 2_0.9840075258701787, class 1_1.0, class0_0.9998423977787357: 0.775652\n",
      "[438]\ttraining's multi_logloss: 0.000798998\ttraining's class 3_0.8944099378881988, class 2_0.9840075258701787, class 1_1.0, class0_0.9998423977787357: 0.775652\n",
      "[439]\ttraining's multi_logloss: 0.000798994\ttraining's class 3_0.8944099378881988, class 2_0.9840075258701787, class 1_1.0, class0_0.9998423977787357: 0.775652\n",
      "[440]\ttraining's multi_logloss: 0.00079899\ttraining's class 3_0.8944099378881988, class 2_0.9840075258701787, class 1_1.0, class0_0.9998423977787357: 0.775652\n",
      "[441]\ttraining's multi_logloss: 0.000798986\ttraining's class 3_0.8944099378881988, class 2_0.9840075258701787, class 1_1.0, class0_0.9998423977787357: 0.775652\n",
      "[442]\ttraining's multi_logloss: 0.000798981\ttraining's class 3_0.8944099378881988, class 2_0.9840075258701787, class 1_1.0, class0_0.9998423977787357: 0.775652\n",
      "[443]\ttraining's multi_logloss: 0.000798978\ttraining's class 3_0.8944099378881988, class 2_0.9840075258701787, class 1_1.0, class0_0.9998423977787357: 0.775652\n",
      "[444]\ttraining's multi_logloss: 0.000798975\ttraining's class 3_0.8944099378881988, class 2_0.9840075258701787, class 1_1.0, class0_0.9998423977787357: 0.775652\n",
      "[445]\ttraining's multi_logloss: 0.000798972\ttraining's class 3_0.8944099378881988, class 2_0.9840075258701787, class 1_1.0, class0_0.9998423977787357: 0.775652\n",
      "[446]\ttraining's multi_logloss: 0.000798967\ttraining's class 3_0.8944099378881988, class 2_0.9840075258701787, class 1_1.0, class0_0.9998423977787357: 0.775652\n",
      "[447]\ttraining's multi_logloss: 0.000798964\ttraining's class 3_0.8944099378881988, class 2_0.9840075258701787, class 1_1.0, class0_0.9998423977787357: 0.775652\n",
      "[448]\ttraining's multi_logloss: 0.000798961\ttraining's class 3_0.8944099378881988, class 2_0.9840075258701787, class 1_1.0, class0_0.9998423977787357: 0.775652\n",
      "[449]\ttraining's multi_logloss: 0.000798956\ttraining's class 3_0.8944099378881988, class 2_0.9840075258701787, class 1_1.0, class0_0.9998423977787357: 0.775652\n",
      "[450]\ttraining's multi_logloss: 0.000798953\ttraining's class 3_0.8944099378881988, class 2_0.9840075258701787, class 1_1.0, class0_0.9998423977787357: 0.775652\n",
      "[451]\ttraining's multi_logloss: 0.00079895\ttraining's class 3_0.8944099378881988, class 2_0.9840075258701787, class 1_1.0, class0_0.9998423977787357: 0.775652\n",
      "[452]\ttraining's multi_logloss: 0.000798946\ttraining's class 3_0.8944099378881988, class 2_0.9840075258701787, class 1_1.0, class0_0.9998423977787357: 0.775652\n",
      "[453]\ttraining's multi_logloss: 0.000798943\ttraining's class 3_0.8944099378881988, class 2_0.9840075258701787, class 1_1.0, class0_0.9998423977787357: 0.775652\n",
      "[454]\ttraining's multi_logloss: 0.000798941\ttraining's class 3_0.8944099378881988, class 2_0.9840075258701787, class 1_1.0, class0_0.9998423977787357: 0.775652\n",
      "[455]\ttraining's multi_logloss: 0.000798938\ttraining's class 3_0.8944099378881988, class 2_0.9840075258701787, class 1_1.0, class0_0.9998423977787357: 0.775652\n",
      "[456]\ttraining's multi_logloss: 0.000798934\ttraining's class 3_0.8944099378881988, class 2_0.9840075258701787, class 1_1.0, class0_0.9998423977787357: 0.775652\n",
      "[457]\ttraining's multi_logloss: 0.000798932\ttraining's class 3_0.8944099378881988, class 2_0.9840075258701787, class 1_1.0, class0_0.9998423977787357: 0.775652\n",
      "[458]\ttraining's multi_logloss: 0.000798929\ttraining's class 3_0.8944099378881988, class 2_0.9840075258701787, class 1_1.0, class0_0.9998423977787357: 0.775652\n",
      "[459]\ttraining's multi_logloss: 0.000798925\ttraining's class 3_0.8944099378881988, class 2_0.9840075258701787, class 1_1.0, class0_0.9998423977787357: 0.775652\n",
      "[460]\ttraining's multi_logloss: 0.000798923\ttraining's class 3_0.8944099378881988, class 2_0.9840075258701787, class 1_1.0, class0_0.9998423977787357: 0.775652\n",
      "[461]\ttraining's multi_logloss: 0.00079892\ttraining's class 3_0.8944099378881988, class 2_0.9840075258701787, class 1_1.0, class0_0.9998423977787357: 0.775652\n",
      "[462]\ttraining's multi_logloss: 0.000798916\ttraining's class 3_0.8944099378881988, class 2_0.9840075258701787, class 1_1.0, class0_0.9998423977787357: 0.775652\n",
      "[463]\ttraining's multi_logloss: 0.000798914\ttraining's class 3_0.8944099378881988, class 2_0.9840075258701787, class 1_1.0, class0_0.9998423977787357: 0.775652\n",
      "[464]\ttraining's multi_logloss: 0.000798912\ttraining's class 3_0.8944099378881988, class 2_0.9840075258701787, class 1_1.0, class0_0.9998423977787357: 0.775652\n",
      "[465]\ttraining's multi_logloss: 0.00079891\ttraining's class 3_0.8944099378881988, class 2_0.9840075258701787, class 1_1.0, class0_0.9998423977787357: 0.775652\n",
      "[466]\ttraining's multi_logloss: 0.000798905\ttraining's class 3_0.8944099378881988, class 2_0.9840075258701787, class 1_1.0, class0_0.9998423977787357: 0.775652\n",
      "[467]\ttraining's multi_logloss: 0.000798903\ttraining's class 3_0.8944099378881988, class 2_0.9840075258701787, class 1_1.0, class0_0.9998423977787357: 0.775652\n",
      "[468]\ttraining's multi_logloss: 0.000798902\ttraining's class 3_0.8944099378881988, class 2_0.9840075258701787, class 1_1.0, class0_0.9998423977787357: 0.775652\n",
      "[469]\ttraining's multi_logloss: 0.000798897\ttraining's class 3_0.8944099378881988, class 2_0.9840075258701787, class 1_1.0, class0_0.9998423977787357: 0.775652\n",
      "[470]\ttraining's multi_logloss: 0.000798895\ttraining's class 3_0.8944099378881988, class 2_0.9840075258701787, class 1_1.0, class0_0.9998423977787357: 0.775652\n"
     ]
    },
    {
     "name": "stdout",
     "output_type": "stream",
     "text": [
      "[471]\ttraining's multi_logloss: 0.000798894\ttraining's class 3_0.8944099378881988, class 2_0.9840075258701787, class 1_1.0, class0_0.9998423977787357: 0.775652\n",
      "[472]\ttraining's multi_logloss: 0.00079889\ttraining's class 3_0.8944099378881988, class 2_0.9840075258701787, class 1_1.0, class0_0.9998423977787357: 0.775652\n",
      "[473]\ttraining's multi_logloss: 0.000798886\ttraining's class 3_0.8944099378881988, class 2_0.9840075258701787, class 1_1.0, class0_0.9998423977787357: 0.775652\n",
      "[474]\ttraining's multi_logloss: 0.000798885\ttraining's class 3_0.8944099378881988, class 2_0.9840075258701787, class 1_1.0, class0_0.9998423977787357: 0.775652\n",
      "[475]\ttraining's multi_logloss: 0.000798883\ttraining's class 3_0.8944099378881988, class 2_0.9840075258701787, class 1_1.0, class0_0.9998423977787357: 0.775652\n",
      "[476]\ttraining's multi_logloss: 0.000798879\ttraining's class 3_0.8944099378881988, class 2_0.9840075258701787, class 1_1.0, class0_0.9998423977787357: 0.775652\n",
      "[477]\ttraining's multi_logloss: 0.000798877\ttraining's class 3_0.8944099378881988, class 2_0.9840075258701787, class 1_1.0, class0_0.9998423977787357: 0.775652\n",
      "[478]\ttraining's multi_logloss: 0.000798876\ttraining's class 3_0.8944099378881988, class 2_0.9840075258701787, class 1_1.0, class0_0.9998423977787357: 0.775652\n",
      "[479]\ttraining's multi_logloss: 0.000798873\ttraining's class 3_0.8944099378881988, class 2_0.9840075258701787, class 1_1.0, class0_0.9998423977787357: 0.775652\n",
      "[480]\ttraining's multi_logloss: 0.000798869\ttraining's class 3_0.8944099378881988, class 2_0.9840075258701787, class 1_1.0, class0_0.9998423977787357: 0.775652\n",
      "[481]\ttraining's multi_logloss: 0.000798868\ttraining's class 3_0.8944099378881988, class 2_0.9840075258701787, class 1_1.0, class0_0.9998423977787357: 0.775652\n",
      "[482]\ttraining's multi_logloss: 0.000798866\ttraining's class 3_0.8944099378881988, class 2_0.9840075258701787, class 1_1.0, class0_0.9998423977787357: 0.775652\n",
      "[483]\ttraining's multi_logloss: 0.000798862\ttraining's class 3_0.8944099378881988, class 2_0.9840075258701787, class 1_1.0, class0_0.9998423977787357: 0.775652\n",
      "[484]\ttraining's multi_logloss: 0.000798861\ttraining's class 3_0.8944099378881988, class 2_0.9840075258701787, class 1_1.0, class0_0.9998423977787357: 0.775652\n",
      "[485]\ttraining's multi_logloss: 0.000798859\ttraining's class 3_0.8944099378881988, class 2_0.9840075258701787, class 1_1.0, class0_0.9998423977787357: 0.775652\n",
      "[486]\ttraining's multi_logloss: 0.000798857\ttraining's class 3_0.8944099378881988, class 2_0.9840075258701787, class 1_1.0, class0_0.9998423977787357: 0.775652\n",
      "[487]\ttraining's multi_logloss: 0.000798853\ttraining's class 3_0.8944099378881988, class 2_0.9840075258701787, class 1_1.0, class0_0.9998423977787357: 0.775652\n",
      "[488]\ttraining's multi_logloss: 0.000798852\ttraining's class 3_0.8944099378881988, class 2_0.9840075258701787, class 1_1.0, class0_0.9998423977787357: 0.775652\n",
      "[489]\ttraining's multi_logloss: 0.00079885\ttraining's class 3_0.8944099378881988, class 2_0.9840075258701787, class 1_1.0, class0_0.9998423977787357: 0.775652\n",
      "[490]\ttraining's multi_logloss: 0.000798846\ttraining's class 3_0.8944099378881988, class 2_0.9840075258701787, class 1_1.0, class0_0.9998423977787357: 0.775652\n",
      "[491]\ttraining's multi_logloss: 0.000798845\ttraining's class 3_0.8944099378881988, class 2_0.9840075258701787, class 1_1.0, class0_0.9998423977787357: 0.775652\n",
      "[492]\ttraining's multi_logloss: 0.000798844\ttraining's class 3_0.8944099378881988, class 2_0.9840075258701787, class 1_1.0, class0_0.9998423977787357: 0.775652\n",
      "[493]\ttraining's multi_logloss: 0.000798839\ttraining's class 3_0.8944099378881988, class 2_0.9840075258701787, class 1_1.0, class0_0.9998423977787357: 0.775652\n",
      "[494]\ttraining's multi_logloss: 0.000798838\ttraining's class 3_0.8944099378881988, class 2_0.9840075258701787, class 1_1.0, class0_0.9998423977787357: 0.775652\n",
      "[495]\ttraining's multi_logloss: 0.000798837\ttraining's class 3_0.8944099378881988, class 2_0.9840075258701787, class 1_1.0, class0_0.9998423977787357: 0.775652\n",
      "[496]\ttraining's multi_logloss: 0.000798832\ttraining's class 3_0.8944099378881988, class 2_0.9840075258701787, class 1_1.0, class0_0.9998423977787357: 0.775652\n",
      "[497]\ttraining's multi_logloss: 0.000798831\ttraining's class 3_0.8944099378881988, class 2_0.9840075258701787, class 1_1.0, class0_0.9998423977787357: 0.775652\n",
      "[498]\ttraining's multi_logloss: 0.000798829\ttraining's class 3_0.8944099378881988, class 2_0.9840075258701787, class 1_1.0, class0_0.9998423977787357: 0.775652\n",
      "[499]\ttraining's multi_logloss: 0.000798825\ttraining's class 3_0.8944099378881988, class 2_0.9840075258701787, class 1_1.0, class0_0.9998423977787357: 0.775652\n",
      "[500]\ttraining's multi_logloss: 0.000798824\ttraining's class 3_0.8944099378881988, class 2_0.9840075258701787, class 1_1.0, class0_0.9998423977787357: 0.775652\n",
      "[501]\ttraining's multi_logloss: 0.000798821\ttraining's class 3_0.8944099378881988, class 2_0.9840075258701787, class 1_1.0, class0_0.9998423977787357: 0.775652\n",
      "[502]\ttraining's multi_logloss: 0.00079882\ttraining's class 3_0.8944099378881988, class 2_0.9840075258701787, class 1_1.0, class0_0.9998423977787357: 0.775652\n",
      "[503]\ttraining's multi_logloss: 0.000798816\ttraining's class 3_0.8944099378881988, class 2_0.9840075258701787, class 1_1.0, class0_0.9998423977787357: 0.775652\n",
      "[504]\ttraining's multi_logloss: 0.000798815\ttraining's class 3_0.8944099378881988, class 2_0.9840075258701787, class 1_1.0, class0_0.9998423977787357: 0.775652\n",
      "[505]\ttraining's multi_logloss: 0.000798813\ttraining's class 3_0.8944099378881988, class 2_0.9840075258701787, class 1_1.0, class0_0.9998423977787357: 0.775652\n",
      "[506]\ttraining's multi_logloss: 0.000798809\ttraining's class 3_0.8944099378881988, class 2_0.9840075258701787, class 1_1.0, class0_0.9998423977787357: 0.775652\n",
      "[507]\ttraining's multi_logloss: 0.000798808\ttraining's class 3_0.8944099378881988, class 2_0.9840075258701787, class 1_1.0, class0_0.9998423977787357: 0.775652\n",
      "[508]\ttraining's multi_logloss: 0.000798805\ttraining's class 3_0.8944099378881988, class 2_0.9840075258701787, class 1_1.0, class0_0.9998423977787357: 0.775652\n",
      "[509]\ttraining's multi_logloss: 0.000798804\ttraining's class 3_0.8944099378881988, class 2_0.9840075258701787, class 1_1.0, class0_0.9998423977787357: 0.775652\n",
      "[510]\ttraining's multi_logloss: 0.0007988\ttraining's class 3_0.8944099378881988, class 2_0.9840075258701787, class 1_1.0, class0_0.9998423977787357: 0.775652\n",
      "[511]\ttraining's multi_logloss: 0.000798799\ttraining's class 3_0.8944099378881988, class 2_0.9840075258701787, class 1_1.0, class0_0.9998423977787357: 0.775652\n",
      "[512]\ttraining's multi_logloss: 0.000798794\ttraining's class 3_0.8944099378881988, class 2_0.9840075258701787, class 1_1.0, class0_0.9998423977787357: 0.775652\n",
      "[513]\ttraining's multi_logloss: 0.000798793\ttraining's class 3_0.8944099378881988, class 2_0.9840075258701787, class 1_1.0, class0_0.9998423977787357: 0.775652\n",
      "[514]\ttraining's multi_logloss: 0.000798792\ttraining's class 3_0.8944099378881988, class 2_0.9840075258701787, class 1_1.0, class0_0.9998423977787357: 0.775652\n",
      "[515]\ttraining's multi_logloss: 0.000798791\ttraining's class 3_0.8944099378881988, class 2_0.9840075258701787, class 1_1.0, class0_0.9998423977787357: 0.775652\n",
      "[516]\ttraining's multi_logloss: 0.000798787\ttraining's class 3_0.8944099378881988, class 2_0.9840075258701787, class 1_1.0, class0_0.9998423977787357: 0.775652\n",
      "[517]\ttraining's multi_logloss: 0.000798785\ttraining's class 3_0.8944099378881988, class 2_0.9840075258701787, class 1_1.0, class0_0.9998423977787357: 0.775652\n",
      "[518]\ttraining's multi_logloss: 0.000798784\ttraining's class 3_0.8944099378881988, class 2_0.9840075258701787, class 1_1.0, class0_0.9998423977787357: 0.775652\n",
      "[519]\ttraining's multi_logloss: 0.00079878\ttraining's class 3_0.8944099378881988, class 2_0.9840075258701787, class 1_1.0, class0_0.9998423977787357: 0.775652\n",
      "[520]\ttraining's multi_logloss: 0.000798778\ttraining's class 3_0.8944099378881988, class 2_0.9840075258701787, class 1_1.0, class0_0.9998423977787357: 0.775652\n",
      "[521]\ttraining's multi_logloss: 0.000798777\ttraining's class 3_0.8944099378881988, class 2_0.9840075258701787, class 1_1.0, class0_0.9998423977787357: 0.775652\n",
      "[522]\ttraining's multi_logloss: 0.000798775\ttraining's class 3_0.8944099378881988, class 2_0.9840075258701787, class 1_1.0, class0_0.9998423977787357: 0.775652\n"
     ]
    },
    {
     "name": "stdout",
     "output_type": "stream",
     "text": [
      "[523]\ttraining's multi_logloss: 0.00079877\ttraining's class 3_0.8944099378881988, class 2_0.9840075258701787, class 1_1.0, class0_0.9998423977787357: 0.775652\n",
      "[524]\ttraining's multi_logloss: 0.000798768\ttraining's class 3_0.8944099378881988, class 2_0.9840075258701787, class 1_1.0, class0_0.9998423977787357: 0.775652\n",
      "[525]\ttraining's multi_logloss: 0.000798766\ttraining's class 3_0.8944099378881988, class 2_0.9840075258701787, class 1_1.0, class0_0.9998423977787357: 0.775652\n",
      "[526]\ttraining's multi_logloss: 0.000798764\ttraining's class 3_0.8944099378881988, class 2_0.9840075258701787, class 1_1.0, class0_0.9998423977787357: 0.775652\n",
      "[527]\ttraining's multi_logloss: 0.000798759\ttraining's class 3_0.8944099378881988, class 2_0.9840075258701787, class 1_1.0, class0_0.9998423977787357: 0.775652\n",
      "[528]\ttraining's multi_logloss: 0.000798757\ttraining's class 3_0.8944099378881988, class 2_0.9840075258701787, class 1_1.0, class0_0.9998423977787357: 0.775652\n",
      "[529]\ttraining's multi_logloss: 0.000798755\ttraining's class 3_0.8944099378881988, class 2_0.9840075258701787, class 1_1.0, class0_0.9998423977787357: 0.775652\n",
      "[530]\ttraining's multi_logloss: 0.000798754\ttraining's class 3_0.8944099378881988, class 2_0.9840075258701787, class 1_1.0, class0_0.9998423977787357: 0.775652\n",
      "[531]\ttraining's multi_logloss: 0.00079875\ttraining's class 3_0.8944099378881988, class 2_0.9840075258701787, class 1_1.0, class0_0.9998423977787357: 0.775652\n",
      "[532]\ttraining's multi_logloss: 0.000798749\ttraining's class 3_0.8944099378881988, class 2_0.9840075258701787, class 1_1.0, class0_0.9998423977787357: 0.775652\n",
      "[533]\ttraining's multi_logloss: 0.000798749\ttraining's class 3_0.8944099378881988, class 2_0.9840075258701787, class 1_1.0, class0_0.9998423977787357: 0.775652\n",
      "[534]\ttraining's multi_logloss: 0.000798744\ttraining's class 3_0.8944099378881988, class 2_0.9840075258701787, class 1_1.0, class0_0.9998423977787357: 0.775652\n",
      "[535]\ttraining's multi_logloss: 0.000798742\ttraining's class 3_0.8944099378881988, class 2_0.9840075258701787, class 1_1.0, class0_0.9998423977787357: 0.775652\n",
      "[536]\ttraining's multi_logloss: 0.00079874\ttraining's class 3_0.8944099378881988, class 2_0.9840075258701787, class 1_1.0, class0_0.9998423977787357: 0.775652\n",
      "[537]\ttraining's multi_logloss: 0.000798738\ttraining's class 3_0.8944099378881988, class 2_0.9840075258701787, class 1_1.0, class0_0.9998423977787357: 0.775652\n",
      "[538]\ttraining's multi_logloss: 0.000798734\ttraining's class 3_0.8944099378881988, class 2_0.9840075258701787, class 1_1.0, class0_0.9998423977787357: 0.775652\n",
      "[539]\ttraining's multi_logloss: 0.000798732\ttraining's class 3_0.8944099378881988, class 2_0.9840075258701787, class 1_1.0, class0_0.9998423977787357: 0.775652\n",
      "[540]\ttraining's multi_logloss: 0.00079873\ttraining's class 3_0.8944099378881988, class 2_0.9840075258701787, class 1_1.0, class0_0.9998423977787357: 0.775652\n",
      "[541]\ttraining's multi_logloss: 0.000798729\ttraining's class 3_0.8944099378881988, class 2_0.9840075258701787, class 1_1.0, class0_0.9998423977787357: 0.775652\n",
      "[542]\ttraining's multi_logloss: 0.000798724\ttraining's class 3_0.8944099378881988, class 2_0.9840075258701787, class 1_1.0, class0_0.9998423977787357: 0.775652\n",
      "[543]\ttraining's multi_logloss: 0.000798722\ttraining's class 3_0.8944099378881988, class 2_0.9840075258701787, class 1_1.0, class0_0.9998423977787357: 0.775652\n",
      "[544]\ttraining's multi_logloss: 0.000798721\ttraining's class 3_0.8944099378881988, class 2_0.9840075258701787, class 1_1.0, class0_0.9998423977787357: 0.775652\n",
      "[545]\ttraining's multi_logloss: 0.000798719\ttraining's class 3_0.8944099378881988, class 2_0.9840075258701787, class 1_1.0, class0_0.9998423977787357: 0.775652\n",
      "[546]\ttraining's multi_logloss: 0.000798715\ttraining's class 3_0.8944099378881988, class 2_0.9840075258701787, class 1_1.0, class0_0.9998423977787357: 0.775652\n",
      "[547]\ttraining's multi_logloss: 0.000798713\ttraining's class 3_0.8944099378881988, class 2_0.9840075258701787, class 1_1.0, class0_0.9998423977787357: 0.775652\n",
      "[548]\ttraining's multi_logloss: 0.000798712\ttraining's class 3_0.8944099378881988, class 2_0.9840075258701787, class 1_1.0, class0_0.9998423977787357: 0.775652\n",
      "[549]\ttraining's multi_logloss: 0.00079871\ttraining's class 3_0.8944099378881988, class 2_0.9840075258701787, class 1_1.0, class0_0.9998423977787357: 0.775652\n",
      "[550]\ttraining's multi_logloss: 0.000798706\ttraining's class 3_0.8944099378881988, class 2_0.9840075258701787, class 1_1.0, class0_0.9998423977787357: 0.775652\n",
      "[551]\ttraining's multi_logloss: 0.000798704\ttraining's class 3_0.8944099378881988, class 2_0.9840075258701787, class 1_1.0, class0_0.9998423977787357: 0.775652\n",
      "[552]\ttraining's multi_logloss: 0.000798703\ttraining's class 3_0.8944099378881988, class 2_0.9840075258701787, class 1_1.0, class0_0.9998423977787357: 0.775652\n",
      "[553]\ttraining's multi_logloss: 0.000798702\ttraining's class 3_0.8944099378881988, class 2_0.9840075258701787, class 1_1.0, class0_0.9998423977787357: 0.775652\n",
      "[554]\ttraining's multi_logloss: 0.000798699\ttraining's class 3_0.8944099378881988, class 2_0.9840075258701787, class 1_1.0, class0_0.9998423977787357: 0.775652\n",
      "[555]\ttraining's multi_logloss: 0.000798698\ttraining's class 3_0.8944099378881988, class 2_0.9840075258701787, class 1_1.0, class0_0.9998423977787357: 0.775652\n",
      "[556]\ttraining's multi_logloss: 0.000798695\ttraining's class 3_0.8944099378881988, class 2_0.9840075258701787, class 1_1.0, class0_0.9998423977787357: 0.775652\n",
      "[557]\ttraining's multi_logloss: 0.000798694\ttraining's class 3_0.8944099378881988, class 2_0.9840075258701787, class 1_1.0, class0_0.9998423977787357: 0.775652\n",
      "[558]\ttraining's multi_logloss: 0.000798691\ttraining's class 3_0.8944099378881988, class 2_0.9840075258701787, class 1_1.0, class0_0.9998423977787357: 0.775652\n",
      "[559]\ttraining's multi_logloss: 0.000798689\ttraining's class 3_0.8944099378881988, class 2_0.9840075258701787, class 1_1.0, class0_0.9998423977787357: 0.775652\n",
      "[560]\ttraining's multi_logloss: 0.000798688\ttraining's class 3_0.8944099378881988, class 2_0.9840075258701787, class 1_1.0, class0_0.9998423977787357: 0.775652\n",
      "[561]\ttraining's multi_logloss: 0.000798683\ttraining's class 3_0.8944099378881988, class 2_0.9840075258701787, class 1_1.0, class0_0.9998423977787357: 0.775652\n",
      "[562]\ttraining's multi_logloss: 0.000798682\ttraining's class 3_0.8944099378881988, class 2_0.9840075258701787, class 1_1.0, class0_0.9998423977787357: 0.775652\n",
      "[563]\ttraining's multi_logloss: 0.000798681\ttraining's class 3_0.8944099378881988, class 2_0.9840075258701787, class 1_1.0, class0_0.9998423977787357: 0.775652\n",
      "[564]\ttraining's multi_logloss: 0.00079868\ttraining's class 3_0.8944099378881988, class 2_0.9840075258701787, class 1_1.0, class0_0.9998423977787357: 0.775652\n",
      "[565]\ttraining's multi_logloss: 0.000798677\ttraining's class 3_0.8944099378881988, class 2_0.9840075258701787, class 1_1.0, class0_0.9998423977787357: 0.775652\n",
      "[566]\ttraining's multi_logloss: 0.000798676\ttraining's class 3_0.8944099378881988, class 2_0.9840075258701787, class 1_1.0, class0_0.9998423977787357: 0.775652\n",
      "[567]\ttraining's multi_logloss: 0.000798675\ttraining's class 3_0.8944099378881988, class 2_0.9840075258701787, class 1_1.0, class0_0.9998423977787357: 0.775652\n",
      "[568]\ttraining's multi_logloss: 0.00079867\ttraining's class 3_0.8944099378881988, class 2_0.9840075258701787, class 1_1.0, class0_0.9998423977787357: 0.775652\n",
      "[569]\ttraining's multi_logloss: 0.000798669\ttraining's class 3_0.8944099378881988, class 2_0.9840075258701787, class 1_1.0, class0_0.9998423977787357: 0.775652\n",
      "[570]\ttraining's multi_logloss: 0.000798668\ttraining's class 3_0.8944099378881988, class 2_0.9840075258701787, class 1_1.0, class0_0.9998423977787357: 0.775652\n",
      "[571]\ttraining's multi_logloss: 0.000798667\ttraining's class 3_0.8944099378881988, class 2_0.9840075258701787, class 1_1.0, class0_0.9998423977787357: 0.775652\n",
      "[572]\ttraining's multi_logloss: 0.000798664\ttraining's class 3_0.8944099378881988, class 2_0.9840075258701787, class 1_1.0, class0_0.9998423977787357: 0.775652\n",
      "[573]\ttraining's multi_logloss: 0.000798663\ttraining's class 3_0.8944099378881988, class 2_0.9840075258701787, class 1_1.0, class0_0.9998423977787357: 0.775652\n",
      "[574]\ttraining's multi_logloss: 0.000798662\ttraining's class 3_0.8944099378881988, class 2_0.9840075258701787, class 1_1.0, class0_0.9998423977787357: 0.775652\n"
     ]
    },
    {
     "name": "stdout",
     "output_type": "stream",
     "text": [
      "[575]\ttraining's multi_logloss: 0.000798659\ttraining's class 3_0.8944099378881988, class 2_0.9840075258701787, class 1_1.0, class0_0.9998423977787357: 0.775652\n",
      "[576]\ttraining's multi_logloss: 0.000798658\ttraining's class 3_0.8944099378881988, class 2_0.9840075258701787, class 1_1.0, class0_0.9998423977787357: 0.775652\n",
      "[577]\ttraining's multi_logloss: 0.000798657\ttraining's class 3_0.8944099378881988, class 2_0.9840075258701787, class 1_1.0, class0_0.9998423977787357: 0.775652\n",
      "[578]\ttraining's multi_logloss: 0.000798652\ttraining's class 3_0.8944099378881988, class 2_0.9840075258701787, class 1_1.0, class0_0.9998423977787357: 0.775652\n",
      "[579]\ttraining's multi_logloss: 0.000798652\ttraining's class 3_0.8944099378881988, class 2_0.9840075258701787, class 1_1.0, class0_0.9998423977787357: 0.775652\n",
      "[580]\ttraining's multi_logloss: 0.00079865\ttraining's class 3_0.8944099378881988, class 2_0.9840075258701787, class 1_1.0, class0_0.9998423977787357: 0.775652\n",
      "[581]\ttraining's multi_logloss: 0.000798649\ttraining's class 3_0.8944099378881988, class 2_0.9840075258701787, class 1_1.0, class0_0.9998423977787357: 0.775652\n",
      "[582]\ttraining's multi_logloss: 0.000798647\ttraining's class 3_0.8944099378881988, class 2_0.9840075258701787, class 1_1.0, class0_0.9998423977787357: 0.775652\n",
      "[583]\ttraining's multi_logloss: 0.000798646\ttraining's class 3_0.8944099378881988, class 2_0.9840075258701787, class 1_1.0, class0_0.9998423977787357: 0.775652\n",
      "[584]\ttraining's multi_logloss: 0.000798645\ttraining's class 3_0.8944099378881988, class 2_0.9840075258701787, class 1_1.0, class0_0.9998423977787357: 0.775652\n",
      "[585]\ttraining's multi_logloss: 0.000798642\ttraining's class 3_0.8944099378881988, class 2_0.9840075258701787, class 1_1.0, class0_0.9998423977787357: 0.775652\n",
      "[586]\ttraining's multi_logloss: 0.000798642\ttraining's class 3_0.8944099378881988, class 2_0.9840075258701787, class 1_1.0, class0_0.9998423977787357: 0.775652\n",
      "[587]\ttraining's multi_logloss: 0.00079864\ttraining's class 3_0.8944099378881988, class 2_0.9840075258701787, class 1_1.0, class0_0.9998423977787357: 0.775652\n",
      "[588]\ttraining's multi_logloss: 0.000798638\ttraining's class 3_0.8944099378881988, class 2_0.9840075258701787, class 1_1.0, class0_0.9998423977787357: 0.775652\n",
      "[589]\ttraining's multi_logloss: 0.000798637\ttraining's class 3_0.8944099378881988, class 2_0.9840075258701787, class 1_1.0, class0_0.9998423977787357: 0.775652\n",
      "[590]\ttraining's multi_logloss: 0.000798636\ttraining's class 3_0.8944099378881988, class 2_0.9840075258701787, class 1_1.0, class0_0.9998423977787357: 0.775652\n",
      "[591]\ttraining's multi_logloss: 0.000798631\ttraining's class 3_0.8944099378881988, class 2_0.9840075258701787, class 1_1.0, class0_0.9998423977787357: 0.775652\n",
      "[592]\ttraining's multi_logloss: 0.000798631\ttraining's class 3_0.8944099378881988, class 2_0.9840075258701787, class 1_1.0, class0_0.9998423977787357: 0.775652\n",
      "[593]\ttraining's multi_logloss: 0.00079863\ttraining's class 3_0.8944099378881988, class 2_0.9840075258701787, class 1_1.0, class0_0.9998423977787357: 0.775652\n",
      "[594]\ttraining's multi_logloss: 0.000798629\ttraining's class 3_0.8944099378881988, class 2_0.9840075258701787, class 1_1.0, class0_0.9998423977787357: 0.775652\n",
      "[595]\ttraining's multi_logloss: 0.000798628\ttraining's class 3_0.8944099378881988, class 2_0.9840075258701787, class 1_1.0, class0_0.9998423977787357: 0.775652\n",
      "[596]\ttraining's multi_logloss: 0.000798625\ttraining's class 3_0.8944099378881988, class 2_0.9840075258701787, class 1_1.0, class0_0.9998423977787357: 0.775652\n",
      "[597]\ttraining's multi_logloss: 0.000798625\ttraining's class 3_0.8944099378881988, class 2_0.9840075258701787, class 1_1.0, class0_0.9998423977787357: 0.775652\n",
      "[598]\ttraining's multi_logloss: 0.000798624\ttraining's class 3_0.8944099378881988, class 2_0.9840075258701787, class 1_1.0, class0_0.9998423977787357: 0.775652\n",
      "[599]\ttraining's multi_logloss: 0.000798622\ttraining's class 3_0.8944099378881988, class 2_0.9840075258701787, class 1_1.0, class0_0.9998423977787357: 0.775652\n",
      "[600]\ttraining's multi_logloss: 0.000798621\ttraining's class 3_0.8944099378881988, class 2_0.9840075258701787, class 1_1.0, class0_0.9998423977787357: 0.775652\n",
      "[601]\ttraining's multi_logloss: 0.00079862\ttraining's class 3_0.8944099378881988, class 2_0.9840075258701787, class 1_1.0, class0_0.9998423977787357: 0.775652\n",
      "[602]\ttraining's multi_logloss: 0.000798618\ttraining's class 3_0.8944099378881988, class 2_0.9840075258701787, class 1_1.0, class0_0.9998423977787357: 0.775652\n",
      "[603]\ttraining's multi_logloss: 0.000798617\ttraining's class 3_0.8944099378881988, class 2_0.9840075258701787, class 1_1.0, class0_0.9998423977787357: 0.775652\n",
      "[604]\ttraining's multi_logloss: 0.000798616\ttraining's class 3_0.8944099378881988, class 2_0.9840075258701787, class 1_1.0, class0_0.9998423977787357: 0.775652\n",
      "[605]\ttraining's multi_logloss: 0.000798614\ttraining's class 3_0.8944099378881988, class 2_0.9840075258701787, class 1_1.0, class0_0.9998423977787357: 0.775652\n",
      "[606]\ttraining's multi_logloss: 0.000798613\ttraining's class 3_0.8944099378881988, class 2_0.9840075258701787, class 1_1.0, class0_0.9998423977787357: 0.775652\n",
      "[607]\ttraining's multi_logloss: 0.000798612\ttraining's class 3_0.8944099378881988, class 2_0.9840075258701787, class 1_1.0, class0_0.9998423977787357: 0.775652\n",
      "[608]\ttraining's multi_logloss: 0.000798608\ttraining's class 3_0.8944099378881988, class 2_0.9840075258701787, class 1_1.0, class0_0.9998423977787357: 0.775652\n",
      "[609]\ttraining's multi_logloss: 0.000798607\ttraining's class 3_0.8944099378881988, class 2_0.9840075258701787, class 1_1.0, class0_0.9998423977787357: 0.775652\n",
      "[610]\ttraining's multi_logloss: 0.000798606\ttraining's class 3_0.8944099378881988, class 2_0.9840075258701787, class 1_1.0, class0_0.9998423977787357: 0.775652\n",
      "[611]\ttraining's multi_logloss: 0.000798606\ttraining's class 3_0.8944099378881988, class 2_0.9840075258701787, class 1_1.0, class0_0.9998423977787357: 0.775652\n",
      "[612]\ttraining's multi_logloss: 0.000798605\ttraining's class 3_0.8944099378881988, class 2_0.9840075258701787, class 1_1.0, class0_0.9998423977787357: 0.775652\n",
      "[613]\ttraining's multi_logloss: 0.000798603\ttraining's class 3_0.8944099378881988, class 2_0.9840075258701787, class 1_1.0, class0_0.9998423977787357: 0.775652\n",
      "[614]\ttraining's multi_logloss: 0.000798602\ttraining's class 3_0.8944099378881988, class 2_0.9840075258701787, class 1_1.0, class0_0.9998423977787357: 0.775652\n",
      "[615]\ttraining's multi_logloss: 0.000798601\ttraining's class 3_0.8944099378881988, class 2_0.9840075258701787, class 1_1.0, class0_0.9998423977787357: 0.775652\n",
      "[616]\ttraining's multi_logloss: 0.0007986\ttraining's class 3_0.8944099378881988, class 2_0.9840075258701787, class 1_1.0, class0_0.9998423977787357: 0.775652\n",
      "[617]\ttraining's multi_logloss: 0.000798598\ttraining's class 3_0.8944099378881988, class 2_0.9840075258701787, class 1_1.0, class0_0.9998423977787357: 0.775652\n",
      "[618]\ttraining's multi_logloss: 0.000798597\ttraining's class 3_0.8944099378881988, class 2_0.9840075258701787, class 1_1.0, class0_0.9998423977787357: 0.775652\n",
      "[619]\ttraining's multi_logloss: 0.000798597\ttraining's class 3_0.8944099378881988, class 2_0.9840075258701787, class 1_1.0, class0_0.9998423977787357: 0.775652\n",
      "[620]\ttraining's multi_logloss: 0.000798595\ttraining's class 3_0.8944099378881988, class 2_0.9840075258701787, class 1_1.0, class0_0.9998423977787357: 0.775652\n",
      "[621]\ttraining's multi_logloss: 0.000798594\ttraining's class 3_0.8944099378881988, class 2_0.9840075258701787, class 1_1.0, class0_0.9998423977787357: 0.775652\n",
      "[622]\ttraining's multi_logloss: 0.000798593\ttraining's class 3_0.8944099378881988, class 2_0.9840075258701787, class 1_1.0, class0_0.9998423977787357: 0.775652\n",
      "[623]\ttraining's multi_logloss: 0.000798591\ttraining's class 3_0.8944099378881988, class 2_0.9840075258701787, class 1_1.0, class0_0.9998423977787357: 0.775652\n",
      "[624]\ttraining's multi_logloss: 0.00079859\ttraining's class 3_0.8944099378881988, class 2_0.9840075258701787, class 1_1.0, class0_0.9998423977787357: 0.775652\n",
      "[625]\ttraining's multi_logloss: 0.00079859\ttraining's class 3_0.8944099378881988, class 2_0.9840075258701787, class 1_1.0, class0_0.9998423977787357: 0.775652\n",
      "[626]\ttraining's multi_logloss: 0.000798589\ttraining's class 3_0.8944099378881988, class 2_0.9840075258701787, class 1_1.0, class0_0.9998423977787357: 0.775652\n"
     ]
    },
    {
     "name": "stdout",
     "output_type": "stream",
     "text": [
      "[627]\ttraining's multi_logloss: 0.000798585\ttraining's class 3_0.8944099378881988, class 2_0.9840075258701787, class 1_1.0, class0_0.9998423977787357: 0.775652\n",
      "[628]\ttraining's multi_logloss: 0.000798584\ttraining's class 3_0.8944099378881988, class 2_0.9840075258701787, class 1_1.0, class0_0.9998423977787357: 0.775652\n",
      "[629]\ttraining's multi_logloss: 0.000798584\ttraining's class 3_0.8944099378881988, class 2_0.9840075258701787, class 1_1.0, class0_0.9998423977787357: 0.775652\n",
      "[630]\ttraining's multi_logloss: 0.000798584\ttraining's class 3_0.8944099378881988, class 2_0.9840075258701787, class 1_1.0, class0_0.9998423977787357: 0.775652\n",
      "[631]\ttraining's multi_logloss: 0.000798583\ttraining's class 3_0.8944099378881988, class 2_0.9840075258701787, class 1_1.0, class0_0.9998423977787357: 0.775652\n",
      "[632]\ttraining's multi_logloss: 0.000798582\ttraining's class 3_0.8944099378881988, class 2_0.9840075258701787, class 1_1.0, class0_0.9998423977787357: 0.775652\n",
      "[633]\ttraining's multi_logloss: 0.00079858\ttraining's class 3_0.8944099378881988, class 2_0.9840075258701787, class 1_1.0, class0_0.9998423977787357: 0.775652\n",
      "[634]\ttraining's multi_logloss: 0.00079858\ttraining's class 3_0.8944099378881988, class 2_0.9840075258701787, class 1_1.0, class0_0.9998423977787357: 0.775652\n",
      "[635]\ttraining's multi_logloss: 0.000798579\ttraining's class 3_0.8944099378881988, class 2_0.9840075258701787, class 1_1.0, class0_0.9998423977787357: 0.775652\n",
      "[636]\ttraining's multi_logloss: 0.000798578\ttraining's class 3_0.8944099378881988, class 2_0.9840075258701787, class 1_1.0, class0_0.9998423977787357: 0.775652\n",
      "[637]\ttraining's multi_logloss: 0.000798574\ttraining's class 3_0.8944099378881988, class 2_0.9840075258701787, class 1_1.0, class0_0.9998423977787357: 0.775652\n",
      "[638]\ttraining's multi_logloss: 0.000798574\ttraining's class 3_0.8944099378881988, class 2_0.9840075258701787, class 1_1.0, class0_0.9998423977787357: 0.775652\n",
      "[639]\ttraining's multi_logloss: 0.000798573\ttraining's class 3_0.8944099378881988, class 2_0.9840075258701787, class 1_1.0, class0_0.9998423977787357: 0.775652\n",
      "[640]\ttraining's multi_logloss: 0.000798573\ttraining's class 3_0.8944099378881988, class 2_0.9840075258701787, class 1_1.0, class0_0.9998423977787357: 0.775652\n",
      "[641]\ttraining's multi_logloss: 0.000798573\ttraining's class 3_0.8944099378881988, class 2_0.9840075258701787, class 1_1.0, class0_0.9998423977787357: 0.775652\n",
      "[642]\ttraining's multi_logloss: 0.000798572\ttraining's class 3_0.8944099378881988, class 2_0.9840075258701787, class 1_1.0, class0_0.9998423977787357: 0.775652\n",
      "[643]\ttraining's multi_logloss: 0.00079857\ttraining's class 3_0.8944099378881988, class 2_0.9840075258701787, class 1_1.0, class0_0.9998423977787357: 0.775652\n",
      "[644]\ttraining's multi_logloss: 0.00079857\ttraining's class 3_0.8944099378881988, class 2_0.9840075258701787, class 1_1.0, class0_0.9998423977787357: 0.775652\n",
      "[645]\ttraining's multi_logloss: 0.00079857\ttraining's class 3_0.8944099378881988, class 2_0.9840075258701787, class 1_1.0, class0_0.9998423977787357: 0.775652\n",
      "[646]\ttraining's multi_logloss: 0.000798569\ttraining's class 3_0.8944099378881988, class 2_0.9840075258701787, class 1_1.0, class0_0.9998423977787357: 0.775652\n",
      "[647]\ttraining's multi_logloss: 0.000798565\ttraining's class 3_0.8944099378881988, class 2_0.9840075258701787, class 1_1.0, class0_0.9998423977787357: 0.775652\n",
      "[648]\ttraining's multi_logloss: 0.000798565\ttraining's class 3_0.8944099378881988, class 2_0.9840075258701787, class 1_1.0, class0_0.9998423977787357: 0.775652\n",
      "[649]\ttraining's multi_logloss: 0.000798564\ttraining's class 3_0.8944099378881988, class 2_0.9840075258701787, class 1_1.0, class0_0.9998423977787357: 0.775652\n",
      "[650]\ttraining's multi_logloss: 0.000798564\ttraining's class 3_0.8944099378881988, class 2_0.9840075258701787, class 1_1.0, class0_0.9998423977787357: 0.775652\n",
      "[651]\ttraining's multi_logloss: 0.000798564\ttraining's class 3_0.8944099378881988, class 2_0.9840075258701787, class 1_1.0, class0_0.9998423977787357: 0.775652\n",
      "[652]\ttraining's multi_logloss: 0.000798563\ttraining's class 3_0.8944099378881988, class 2_0.9840075258701787, class 1_1.0, class0_0.9998423977787357: 0.775652\n",
      "[653]\ttraining's multi_logloss: 0.000798563\ttraining's class 3_0.8944099378881988, class 2_0.9840075258701787, class 1_1.0, class0_0.9998423977787357: 0.775652\n",
      "[654]\ttraining's multi_logloss: 0.000798561\ttraining's class 3_0.8944099378881988, class 2_0.9840075258701787, class 1_1.0, class0_0.9998423977787357: 0.775652\n",
      "[655]\ttraining's multi_logloss: 0.00079856\ttraining's class 3_0.8944099378881988, class 2_0.9840075258701787, class 1_1.0, class0_0.9998423977787357: 0.775652\n",
      "[656]\ttraining's multi_logloss: 0.00079856\ttraining's class 3_0.8944099378881988, class 2_0.9840075258701787, class 1_1.0, class0_0.9998423977787357: 0.775652\n",
      "[657]\ttraining's multi_logloss: 0.000798559\ttraining's class 3_0.8944099378881988, class 2_0.9840075258701787, class 1_1.0, class0_0.9998423977787357: 0.775652\n",
      "[658]\ttraining's multi_logloss: 0.000798555\ttraining's class 3_0.8944099378881988, class 2_0.9840075258701787, class 1_1.0, class0_0.9998423977787357: 0.775652\n",
      "[659]\ttraining's multi_logloss: 0.000798555\ttraining's class 3_0.8944099378881988, class 2_0.9840075258701787, class 1_1.0, class0_0.9998423977787357: 0.775652\n",
      "[660]\ttraining's multi_logloss: 0.000798555\ttraining's class 3_0.8944099378881988, class 2_0.9840075258701787, class 1_1.0, class0_0.9998423977787357: 0.775652\n",
      "[661]\ttraining's multi_logloss: 0.000798554\ttraining's class 3_0.8944099378881988, class 2_0.9840075258701787, class 1_1.0, class0_0.9998423977787357: 0.775652\n",
      "[662]\ttraining's multi_logloss: 0.000798554\ttraining's class 3_0.8944099378881988, class 2_0.9840075258701787, class 1_1.0, class0_0.9998423977787357: 0.775652\n",
      "[663]\ttraining's multi_logloss: 0.000798554\ttraining's class 3_0.8944099378881988, class 2_0.9840075258701787, class 1_1.0, class0_0.9998423977787357: 0.775652\n",
      "[664]\ttraining's multi_logloss: 0.000798554\ttraining's class 3_0.8944099378881988, class 2_0.9840075258701787, class 1_1.0, class0_0.9998423977787357: 0.775652\n",
      "[665]\ttraining's multi_logloss: 0.000798549\ttraining's class 3_0.8944099378881988, class 2_0.9840075258701787, class 1_1.0, class0_0.9998423977787357: 0.775652\n",
      "[666]\ttraining's multi_logloss: 0.000798549\ttraining's class 3_0.8944099378881988, class 2_0.9840075258701787, class 1_1.0, class0_0.9998423977787357: 0.775652\n",
      "[667]\ttraining's multi_logloss: 0.000798549\ttraining's class 3_0.8944099378881988, class 2_0.9840075258701787, class 1_1.0, class0_0.9998423977787357: 0.775652\n",
      "[668]\ttraining's multi_logloss: 0.000798549\ttraining's class 3_0.8944099378881988, class 2_0.9840075258701787, class 1_1.0, class0_0.9998423977787357: 0.775652\n",
      "[669]\ttraining's multi_logloss: 0.000798549\ttraining's class 3_0.8944099378881988, class 2_0.9840075258701787, class 1_1.0, class0_0.9998423977787357: 0.775652\n",
      "[670]\ttraining's multi_logloss: 0.000798548\ttraining's class 3_0.8944099378881988, class 2_0.9840075258701787, class 1_1.0, class0_0.9998423977787357: 0.775652\n",
      "[671]\ttraining's multi_logloss: 0.000798548\ttraining's class 3_0.8944099378881988, class 2_0.9840075258701787, class 1_1.0, class0_0.9998423977787357: 0.775652\n",
      "[672]\ttraining's multi_logloss: 0.000798546\ttraining's class 3_0.8944099378881988, class 2_0.9840075258701787, class 1_1.0, class0_0.9998423977787357: 0.775652\n",
      "[673]\ttraining's multi_logloss: 0.000798546\ttraining's class 3_0.8944099378881988, class 2_0.9840075258701787, class 1_1.0, class0_0.9998423977787357: 0.775652\n",
      "[674]\ttraining's multi_logloss: 0.000798545\ttraining's class 3_0.8944099378881988, class 2_0.9840075258701787, class 1_1.0, class0_0.9998423977787357: 0.775652\n",
      "[675]\ttraining's multi_logloss: 0.000798545\ttraining's class 3_0.8944099378881988, class 2_0.9840075258701787, class 1_1.0, class0_0.9998423977787357: 0.775652\n",
      "[676]\ttraining's multi_logloss: 0.000798543\ttraining's class 3_0.8944099378881988, class 2_0.9840075258701787, class 1_1.0, class0_0.9998423977787357: 0.775652\n",
      "[677]\ttraining's multi_logloss: 0.000798543\ttraining's class 3_0.8944099378881988, class 2_0.9840075258701787, class 1_1.0, class0_0.9998423977787357: 0.775652\n",
      "[678]\ttraining's multi_logloss: 0.000798542\ttraining's class 3_0.8944099378881988, class 2_0.9840075258701787, class 1_1.0, class0_0.9998423977787357: 0.775652\n"
     ]
    },
    {
     "name": "stdout",
     "output_type": "stream",
     "text": [
      "[679]\ttraining's multi_logloss: 0.000798542\ttraining's class 3_0.8944099378881988, class 2_0.9840075258701787, class 1_1.0, class0_0.9998423977787357: 0.775652\n",
      "[680]\ttraining's multi_logloss: 0.00079854\ttraining's class 3_0.8944099378881988, class 2_0.9840075258701787, class 1_1.0, class0_0.9998423977787357: 0.775652\n",
      "[681]\ttraining's multi_logloss: 0.00079854\ttraining's class 3_0.8944099378881988, class 2_0.9840075258701787, class 1_1.0, class0_0.9998423977787357: 0.775652\n",
      "[682]\ttraining's multi_logloss: 0.00079854\ttraining's class 3_0.8944099378881988, class 2_0.9840075258701787, class 1_1.0, class0_0.9998423977787357: 0.775652\n",
      "[683]\ttraining's multi_logloss: 0.000798539\ttraining's class 3_0.8944099378881988, class 2_0.9840075258701787, class 1_1.0, class0_0.9998423977787357: 0.775652\n",
      "[684]\ttraining's multi_logloss: 0.000798539\ttraining's class 3_0.8944099378881988, class 2_0.9840075258701787, class 1_1.0, class0_0.9998423977787357: 0.775652\n",
      "[685]\ttraining's multi_logloss: 0.000798536\ttraining's class 3_0.8944099378881988, class 2_0.9840075258701787, class 1_1.0, class0_0.9998423977787357: 0.775652\n",
      "[686]\ttraining's multi_logloss: 0.000798536\ttraining's class 3_0.8944099378881988, class 2_0.9840075258701787, class 1_1.0, class0_0.9998423977787357: 0.775652\n",
      "[687]\ttraining's multi_logloss: 0.000798536\ttraining's class 3_0.8944099378881988, class 2_0.9840075258701787, class 1_1.0, class0_0.9998423977787357: 0.775652\n",
      "[688]\ttraining's multi_logloss: 0.000798536\ttraining's class 3_0.8944099378881988, class 2_0.9840075258701787, class 1_1.0, class0_0.9998423977787357: 0.775652\n",
      "[689]\ttraining's multi_logloss: 0.000798534\ttraining's class 3_0.8944099378881988, class 2_0.9840075258701787, class 1_1.0, class0_0.9998423977787357: 0.775652\n",
      "[690]\ttraining's multi_logloss: 0.000798533\ttraining's class 3_0.8944099378881988, class 2_0.9840075258701787, class 1_1.0, class0_0.9998423977787357: 0.775652\n",
      "[691]\ttraining's multi_logloss: 0.000798533\ttraining's class 3_0.8944099378881988, class 2_0.9840075258701787, class 1_1.0, class0_0.9998423977787357: 0.775652\n",
      "[692]\ttraining's multi_logloss: 0.000798533\ttraining's class 3_0.8944099378881988, class 2_0.9840075258701787, class 1_1.0, class0_0.9998423977787357: 0.775652\n",
      "[693]\ttraining's multi_logloss: 0.000798533\ttraining's class 3_0.8944099378881988, class 2_0.9840075258701787, class 1_1.0, class0_0.9998423977787357: 0.775652\n",
      "[694]\ttraining's multi_logloss: 0.000798531\ttraining's class 3_0.8944099378881988, class 2_0.9840075258701787, class 1_1.0, class0_0.9998423977787357: 0.775652\n",
      "[695]\ttraining's multi_logloss: 0.00079853\ttraining's class 3_0.8944099378881988, class 2_0.9840075258701787, class 1_1.0, class0_0.9998423977787357: 0.775652\n",
      "[696]\ttraining's multi_logloss: 0.00079853\ttraining's class 3_0.8944099378881988, class 2_0.9840075258701787, class 1_1.0, class0_0.9998423977787357: 0.775652\n",
      "[697]\ttraining's multi_logloss: 0.00079853\ttraining's class 3_0.8944099378881988, class 2_0.9840075258701787, class 1_1.0, class0_0.9998423977787357: 0.775652\n",
      "[698]\ttraining's multi_logloss: 0.00079853\ttraining's class 3_0.8944099378881988, class 2_0.9840075258701787, class 1_1.0, class0_0.9998423977787357: 0.775652\n",
      "[699]\ttraining's multi_logloss: 0.000798525\ttraining's class 3_0.8944099378881988, class 2_0.9840075258701787, class 1_1.0, class0_0.9998423977787357: 0.775652\n",
      "[700]\ttraining's multi_logloss: 0.000798525\ttraining's class 3_0.8944099378881988, class 2_0.9840075258701787, class 1_1.0, class0_0.9998423977787357: 0.775652\n"
     ]
    }
   ],
   "source": [
    "dtrain = lgb.Dataset(train_data[train_features],train_data[train_label]) \n",
    "params = {\n",
    "        'task':'train', \n",
    "        'num_leaves': 255,\n",
    "        'objective': 'multiclass',\n",
    "        'num_class':5,\n",
    "        'min_data_in_leaf': 15,\n",
    "        'learning_rate': 0.05,\n",
    "#         'feature_fraction': 0.95,\n",
    "#         'bagging_fraction': 0.95,\n",
    "        'bagging_freq': 5, \n",
    "        'max_bin':128,\n",
    "        'num_threads': 64,\n",
    "        'random_state':100\n",
    "    }  \n",
    "lgb_model = lgb.train(params, dtrain, num_boost_round=700,valid_sets=[dtrain], feval=lgb_f1_score)  "
   ]
  },
  {
   "cell_type": "markdown",
   "metadata": {},
   "source": [
    "### 模型预测 & 提交"
   ]
  },
  {
   "cell_type": "code",
   "execution_count": 26,
   "metadata": {},
   "outputs": [],
   "source": [
    "test_data['Pred_Prob'] = np.max(lgb_model.predict(test_data[train_features]),axis=1)"
   ]
  },
  {
   "cell_type": "code",
   "execution_count": 27,
   "metadata": {},
   "outputs": [],
   "source": [
    "Label_2_Code = {}\n",
    "Label_2_Code[0] = 1206\n",
    "Label_2_Code[1] = 1239\n",
    "Label_2_Code[2] = 1141\n",
    "Label_2_Code[3] = 1182 "
   ]
  },
  {
   "cell_type": "code",
   "execution_count": 58,
   "metadata": {
    "scrolled": true
   },
   "outputs": [],
   "source": [
    "test_data['Pred_Code'] = np.argmax(lgb_model.predict(test_data[train_features]),axis=1)\n",
    "test_data['Pred_Code'] = test_data['Pred_Code'].apply(lambda x:Label_2_Code[x])"
   ]
  },
  {
   "cell_type": "code",
   "execution_count": 59,
   "metadata": {},
   "outputs": [
    {
     "data": {
      "text/plain": [
       "1206    67239\n",
       "1239     3952\n",
       "1141      364\n",
       "1182        4\n",
       "Name: Pred_Code, dtype: int64"
      ]
     },
     "execution_count": 59,
     "metadata": {},
     "output_type": "execute_result"
    }
   ],
   "source": [
    "test_data['Pred_Code'].value_counts()"
   ]
  },
  {
   "cell_type": "code",
   "execution_count": 30,
   "metadata": {},
   "outputs": [],
   "source": [
    "test_data['Pred'] = test_data['Pred_Code'].copy()\n",
    "test_data[['idx','Pred']].to_csv('0.57578.csv',index =None)"
   ]
  },
  {
   "cell_type": "markdown",
   "metadata": {},
   "source": [
    "## 规则修正 (线上0.77572044)\n",
    "我们发现在验证集的时候我们的1182预测时全部错误的,而且因为我们的预测结果有很大一部分依赖于AREA和UNIQUENO，此处我们依据EDA的分析结果设计规则。\n",
    "1. 我们将预测结果为1182的结果变化1206;\n",
    "2. 我们将AREA和UNIQUENO中未出现在训练集中并且模型预测准确率低于0.99999(不为1)的结果认为是不准确的,然后将ACCRUNTIMES值在8到15之间的预测为1182（EDA中我们发现1182的ACCRUNTIMES值主要分布在较低的范围之内）;我们将预测结果为1206并且概率不为1的结果换成1174,(这样可以带来更大的收益，尤其是当样本个数不大的时候)\n",
    "\n"
   ]
  },
  {
   "cell_type": "code",
   "execution_count": 62,
   "metadata": {},
   "outputs": [],
   "source": [
    "test_data.loc[test_data.Pred_Code == 1182, 'Pred_Code'] = 1206"
   ]
  },
  {
   "cell_type": "code",
   "execution_count": 63,
   "metadata": {},
   "outputs": [
    {
     "data": {
      "text/plain": [
       "1206    66264\n",
       "1239     3952\n",
       "1174      985\n",
       "1141      358\n",
       "Name: Pred_Code, dtype: int64"
      ]
     },
     "execution_count": 63,
     "metadata": {},
     "output_type": "execute_result"
    }
   ],
   "source": [
    "test_data['Pred_Code'].value_counts()"
   ]
  },
  {
   "cell_type": "markdown",
   "metadata": {},
   "source": [
    "### 找到测试集合中出现但是在训练集中未出现的\n",
    "- 此处我们假设在训练集中出现AREA或者UNIQUENO的预测较为准确，剩下的预测置信度会较低。"
   ]
  },
  {
   "cell_type": "code",
   "execution_count": 64,
   "metadata": {},
   "outputs": [],
   "source": [
    "uniqueno_in_train = train_data['UNIQUENO'].unique() \n",
    "area_in_train = train_data['AREA'].unique() \n",
    "not_confident_predict = ((test_data['UNIQUENO'].isin(uniqueno_in_train) == False) & (test_data['AREA'].isin(area_in_train) == False))"
   ]
  },
  {
   "cell_type": "markdown",
   "metadata": {},
   "source": [
    "### 根据EDA结果设计规则\n",
    "- 我们将ACCRUNTIMES的值在8-15之间的预测为1802；\n",
    "- 我们将剩余的预测结果中值为1206的全部预测为1174(奇异值的概率大)"
   ]
  },
  {
   "cell_type": "code",
   "execution_count": 65,
   "metadata": {},
   "outputs": [],
   "source": [
    "test_data.loc[((not_confident_predict)& (test_data.ACCRUNTIMES < 15) & (test_data.ACCRUNTIMES > 8) & (test_data.Pred_Prob < 0.9999)), 'Pred_Code' ] =1182\n",
    "test_data.loc[((not_confident_predict)& (test_data.Pred_Code == 1206)  & (test_data.Pred_Prob < 0.99999)), 'Pred_Code' ] =1174 "
   ]
  },
  {
   "cell_type": "code",
   "execution_count": 66,
   "metadata": {},
   "outputs": [
    {
     "data": {
      "text/plain": [
       "1206    66258\n",
       "1239     3952\n",
       "1174      985\n",
       "1141      358\n",
       "1182        6\n",
       "Name: Pred_Code, dtype: int64"
      ]
     },
     "execution_count": 66,
     "metadata": {},
     "output_type": "execute_result"
    }
   ],
   "source": [
    "test_data['Pred_Code'].value_counts()"
   ]
  },
  {
   "cell_type": "code",
   "execution_count": 67,
   "metadata": {},
   "outputs": [],
   "source": [
    "test_data['rng'] = list(range(len(test)))"
   ]
  },
  {
   "cell_type": "code",
   "execution_count": 68,
   "metadata": {},
   "outputs": [
    {
     "data": {
      "text/plain": [
       "225151    0\n",
       "225152    1\n",
       "225153    2\n",
       "225154    3\n",
       "225155    4\n",
       "225156    5\n",
       "Name: rng, dtype: int64"
      ]
     },
     "execution_count": 68,
     "metadata": {},
     "output_type": "execute_result"
    }
   ],
   "source": [
    "test_data[test_data.Pred_Code == 1182]['rng']"
   ]
  },
  {
   "cell_type": "code",
   "execution_count": 73,
   "metadata": {},
   "outputs": [],
   "source": [
    "test_data['Pred'] = test_data['Pred_Code'].values\n",
    "test_data[['idx','Pred']].to_csv('0.7757.csv',index =None)"
   ]
  },
  {
   "cell_type": "markdown",
   "metadata": {},
   "source": [
    "# 小结\n",
    "\n",
    "在本篇文章中，我们结合第一部分的EDA进行特征工程的构建以及训练集&验证集的划分，并且取得了线下线上一致的结果。\n",
    "\n",
    "最后我们结合模型在验证集上的表现，设计了简易的规则，并且轻松地取得线上前五的成绩。"
   ]
  }
 ],
 "metadata": {
  "kernelspec": {
   "display_name": "Python 3",
   "language": "python",
   "name": "python3"
  },
  "language_info": {
   "codemirror_mode": {
    "name": "ipython",
    "version": 3
   },
   "file_extension": ".py",
   "mimetype": "text/x-python",
   "name": "python",
   "nbconvert_exporter": "python",
   "pygments_lexer": "ipython3",
   "version": "3.6.4"
  },
  "toc": {
   "nav_menu": {},
   "number_sections": true,
   "sideBar": true,
   "skip_h1_title": false,
   "title_cell": "Table of Contents",
   "title_sidebar": "Contents",
   "toc_cell": true,
   "toc_position": {
    "height": "calc(100% - 180px)",
    "left": "10px",
    "top": "150px",
    "width": "349px"
   },
   "toc_section_display": true,
   "toc_window_display": true
  }
 },
 "nbformat": 4,
 "nbformat_minor": 2
}
