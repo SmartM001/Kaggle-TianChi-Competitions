{
 "cells": [
  {
   "cell_type": "markdown",
   "metadata": {},
   "source": [
    "<div align=\"center\">\n",
    " <font size=\"5\" > **基于机器学习的工程机械设备故障预测系统Part1 - EDA 部分**</font>\n",
    "</div>\n",
    " "
   ]
  },
  {
   "cell_type": "markdown",
   "metadata": {},
   "source": [
    "在机器学习数据挖掘火热的现在,机械制造等行业也希望将机器学习等新的技术融入到这些行业当中,希望通过机器学习等算法来判断出机械设备生产中的故障,减少人工专家的检测节省成本，提高生产效率。\n",
    "\n",
    "本次的赛题也是基于这样一个背景,因为好奇也因为是南京市政府的比赛,所以我当时也就参加了。赛题的链接如下,对这一块感兴趣的可以去赛题主页去查看详情,此次我主要分析当时我们团队的一个解题思路,我们团队在当时A榜拿到两次第一,第一次是纯特征工程+算法拿到的第一;第二次是通过探索测试集发现测试集leak直接拿到了线上的满分,当然,后来因为这个原因又加入了复赛，具体细节就不再阐述。\n",
    "\n",
    "该赛题最为核心的一个部分就是eda,通过简单的eda部分就可以直接设计简单的规则德大测试集中的一些真实label。而至于如何通过观察测试集来直接拿到满分,这个我们将会在Part2部分介绍。\n",
    "\n",
    "\n",
    "- 赛题链接:https://www.kesci.com/home/competition/5b35f9ed6b2f551eb1e3d528\n",
    "\n",
    "\n",
    "我们将该比赛的方案分解为下面的两大模块进行阐述,\n",
    "- 数据探索分析：EDA(Exploratory data analysis)\n",
    "- 算法建模：Model(Modeling) \n",
    "\n",
    "在本篇Notebook中，我们EDA的介绍,eda做好了该赛题基本也就进入前十了。"
   ]
  },
  {
   "cell_type": "markdown",
   "metadata": {
    "toc": true
   },
   "source": [
    "<h1>Table of Contents<span class=\"tocSkip\"></span></h1>\n",
    "<div class=\"toc\"><ul class=\"toc-item\"><li><span><a href=\"#赛题背景\" data-toc-modified-id=\"赛题背景-1\"><span class=\"toc-item-num\">1&nbsp;&nbsp;</span>赛题背景</a></span></li><li><span><a href=\"#工具包导入-&amp;-数据读取\" data-toc-modified-id=\"工具包导入-&amp;-数据读取-2\"><span class=\"toc-item-num\">2&nbsp;&nbsp;</span>工具包导入 &amp; 数据读取</a></span><ul class=\"toc-item\"><li><span><a href=\"#工具包导入\" data-toc-modified-id=\"工具包导入-2.1\"><span class=\"toc-item-num\">2.1&nbsp;&nbsp;</span>工具包导入</a></span></li><li><span><a href=\"#读取数据\" data-toc-modified-id=\"读取数据-2.2\"><span class=\"toc-item-num\">2.2&nbsp;&nbsp;</span>读取数据</a></span></li></ul></li><li><span><a href=\"#数据EDA\" data-toc-modified-id=\"数据EDA-3\"><span class=\"toc-item-num\">3&nbsp;&nbsp;</span>数据EDA</a></span><ul class=\"toc-item\"><li><span><a href=\"#数据集分析\" data-toc-modified-id=\"数据集分析-3.1\"><span class=\"toc-item-num\">3.1&nbsp;&nbsp;</span>数据集分析</a></span><ul class=\"toc-item\"><li><span><a href=\"#缺失值分析\" data-toc-modified-id=\"缺失值分析-3.1.1\"><span class=\"toc-item-num\">3.1.1&nbsp;&nbsp;</span>缺失值分析</a></span></li><li><span><a href=\"#单值分析\" data-toc-modified-id=\"单值分析-3.1.2\"><span class=\"toc-item-num\">3.1.2&nbsp;&nbsp;</span>单值分析</a></span></li><li><span><a href=\"#Label转换-&amp;-分析\" data-toc-modified-id=\"Label转换-&amp;-分析-3.1.3\"><span class=\"toc-item-num\">3.1.3&nbsp;&nbsp;</span>Label转换 &amp; 分析</a></span></li><li><span><a href=\"#数据再次清洗\" data-toc-modified-id=\"数据再次清洗-3.1.4\"><span class=\"toc-item-num\">3.1.4&nbsp;&nbsp;</span>数据再次清洗</a></span></li><li><span><a href=\"#单元变量分析\" data-toc-modified-id=\"单元变量分析-3.1.5\"><span class=\"toc-item-num\">3.1.5&nbsp;&nbsp;</span>单元变量分析</a></span><ul class=\"toc-item\"><li><span><a href=\"#ACCRUNTIMES（油门当前值(%)）\" data-toc-modified-id=\"ACCRUNTIMES（油门当前值(%)）-3.1.5.1\"><span class=\"toc-item-num\">3.1.5.1&nbsp;&nbsp;</span>ACCRUNTIMES（油门当前值(%)）</a></span></li><li><span><a href=\"#READFLAG\" data-toc-modified-id=\"READFLAG-3.1.5.2\"><span class=\"toc-item-num\">3.1.5.2&nbsp;&nbsp;</span>READFLAG</a></span></li><li><span><a href=\"#FRID（自动编号）\" data-toc-modified-id=\"FRID（自动编号）-3.1.5.3\"><span class=\"toc-item-num\">3.1.5.3&nbsp;&nbsp;</span>FRID（自动编号）</a></span></li><li><span><a href=\"#PROVINCE\" data-toc-modified-id=\"PROVINCE-3.1.5.4\"><span class=\"toc-item-num\">3.1.5.4&nbsp;&nbsp;</span>PROVINCE</a></span></li><li><span><a href=\"#AREA\" data-toc-modified-id=\"AREA-3.1.5.5\"><span class=\"toc-item-num\">3.1.5.5&nbsp;&nbsp;</span>AREA</a></span></li><li><span><a href=\"#COLLECTTIME-&amp;-FAULTTIME\" data-toc-modified-id=\"COLLECTTIME-&amp;-FAULTTIME-3.1.5.6\"><span class=\"toc-item-num\">3.1.5.6&nbsp;&nbsp;</span>COLLECTTIME &amp; FAULTTIME</a></span></li><li><span><a href=\"#UNIQUENO\" data-toc-modified-id=\"UNIQUENO-3.1.5.7\"><span class=\"toc-item-num\">3.1.5.7&nbsp;&nbsp;</span>UNIQUENO</a></span></li></ul></li></ul></li></ul></li><li><span><a href=\"#小结\" data-toc-modified-id=\"小结-4\"><span class=\"toc-item-num\">4&nbsp;&nbsp;</span>小结</a></span></li></ul></div>"
   ]
  },
  {
   "cell_type": "markdown",
   "metadata": {},
   "source": [
    "# 赛题背景\n",
    "\n",
    "随着传感、通信、云计算等技术的发展，必然导致工程机械行业向信息化、智能化方向大步前进，从而提高工程机械的高科技含量，满足不同客户的需求，促进工程机械的繁荣发展。 由于工程施工技术的不断发展完善，用户对工程机械设备也提出了更高的市场要求，实现工程机械工作过程的在线状态监测和自动故障诊断，预测并根据一定的智能体系排除可能出现的故障是目前工程机械行业的最新发展动向。"
   ]
  },
  {
   "cell_type": "markdown",
   "metadata": {},
   "source": [
    "\n",
    "#  工具包导入 & 数据读取\n",
    "##  工具包导入"
   ]
  },
  {
   "cell_type": "code",
   "execution_count": 1,
   "metadata": {},
   "outputs": [
    {
     "name": "stderr",
     "output_type": "stream",
     "text": [
      "/opt/conda/envs/zjpy36/lib/python3.6/site-packages/sklearn/cross_validation.py:41: DeprecationWarning: This module was deprecated in version 0.18 in favor of the model_selection module into which all the refactored classes and functions are moved. Also note that the interface of the new CV iterators are different from that of this module. This module will be removed in 0.20.\n",
      "  \"This module will be removed in 0.20.\", DeprecationWarning)\n"
     ]
    }
   ],
   "source": [
    "import pandas as pd\n",
    "import numpy as np\n",
    "import matplotlib.pyplot as plt\n",
    "import lightgbm as lgb \n",
    "import xgboost as xgb\n",
    "from sklearn.metrics import f1_score\n",
    "import warnings\n",
    "import missingno as msno\n",
    "import seaborn as sns\n",
    "warnings.filterwarnings(\"ignore\")\n",
    "%matplotlib inline"
   ]
  },
  {
   "cell_type": "markdown",
   "metadata": {},
   "source": [
    "## 读取数据"
   ]
  },
  {
   "cell_type": "code",
   "execution_count": 2,
   "metadata": {},
   "outputs": [],
   "source": [
    "train = pd.read_csv('/data/NJGY/train/dataset.csv')\n",
    "test = pd.read_csv('/data/NJGY/test/testing_set_for_users.csv')\n",
    "train.drop('Unnamed: 0',axis=1,inplace=True)\n",
    "dbd_faultcode = pd.read_csv('/data/NJGY/train/dbd_faultcode.csv',encoding='gbk')"
   ]
  },
  {
   "cell_type": "markdown",
   "metadata": {},
   "source": [
    "# 数据EDA\n",
    "在对数据进行分析的时候，我们分别对训练集，测试集进行单独分析，然后再将训练集和测试集结合起来分析。"
   ]
  },
  {
   "cell_type": "markdown",
   "metadata": {},
   "source": [
    "## 数据集分析\n",
    "我们发现\n",
    "- 训练集中共有124列数据;\n",
    "- 数据集中包含浮点数，整数以及字符串等三种类型，属于混合类的数据。\n",
    "\n",
    "所以在后续进行分析的时候，我们分别从不同的数据类型出发对我们的数据进行分析。"
   ]
  },
  {
   "cell_type": "code",
   "execution_count": 3,
   "metadata": {},
   "outputs": [
    {
     "data": {
      "text/html": [
       "<div>\n",
       "<style scoped>\n",
       "    .dataframe tbody tr th:only-of-type {\n",
       "        vertical-align: middle;\n",
       "    }\n",
       "\n",
       "    .dataframe tbody tr th {\n",
       "        vertical-align: top;\n",
       "    }\n",
       "\n",
       "    .dataframe thead th {\n",
       "        text-align: right;\n",
       "    }\n",
       "</style>\n",
       "<table border=\"1\" class=\"dataframe\">\n",
       "  <thead>\n",
       "    <tr style=\"text-align: right;\">\n",
       "      <th></th>\n",
       "      <th>ACCEXCCOUNT</th>\n",
       "      <th>ACCRUNTIMES</th>\n",
       "      <th>ACCSTATE</th>\n",
       "      <th>ACCWORKTIMES</th>\n",
       "      <th>ALARM_0001</th>\n",
       "      <th>ALARM_0002</th>\n",
       "      <th>ALARM_0003</th>\n",
       "      <th>ALARM_0004</th>\n",
       "      <th>ALARM_0005</th>\n",
       "      <th>ALARM_0006</th>\n",
       "      <th>...</th>\n",
       "      <th>VEHICLENO</th>\n",
       "      <th>VEHICLESTATUS</th>\n",
       "      <th>VERSIONNUM</th>\n",
       "      <th>WATERTEMPERATURE</th>\n",
       "      <th>WIRELESSTEMP1</th>\n",
       "      <th>WIRELESSTEMP2</th>\n",
       "      <th>WIRELESSTEMP3</th>\n",
       "      <th>WIRELESSTEMP4</th>\n",
       "      <th>WORKDETAILID</th>\n",
       "      <th>WORKHOURS</th>\n",
       "    </tr>\n",
       "  </thead>\n",
       "  <tbody>\n",
       "    <tr>\n",
       "      <th>0</th>\n",
       "      <td>NaN</td>\n",
       "      <td>NaN</td>\n",
       "      <td>1.0</td>\n",
       "      <td>1095.83</td>\n",
       "      <td>0.0</td>\n",
       "      <td>0.0</td>\n",
       "      <td>0.0</td>\n",
       "      <td>0.0</td>\n",
       "      <td>0.0</td>\n",
       "      <td>0.0</td>\n",
       "      <td>...</td>\n",
       "      <td>XUG02631THJE00230</td>\n",
       "      <td>1.0</td>\n",
       "      <td>NaN</td>\n",
       "      <td>NaN</td>\n",
       "      <td>NaN</td>\n",
       "      <td>NaN</td>\n",
       "      <td>NaN</td>\n",
       "      <td>NaN</td>\n",
       "      <td>7285148.0</td>\n",
       "      <td>NaN</td>\n",
       "    </tr>\n",
       "    <tr>\n",
       "      <th>1</th>\n",
       "      <td>NaN</td>\n",
       "      <td>NaN</td>\n",
       "      <td>1.0</td>\n",
       "      <td>1377.16</td>\n",
       "      <td>0.0</td>\n",
       "      <td>0.0</td>\n",
       "      <td>0.0</td>\n",
       "      <td>0.0</td>\n",
       "      <td>0.0</td>\n",
       "      <td>0.0</td>\n",
       "      <td>...</td>\n",
       "      <td>XUG02633TGJE00499</td>\n",
       "      <td>1.0</td>\n",
       "      <td>NaN</td>\n",
       "      <td>NaN</td>\n",
       "      <td>NaN</td>\n",
       "      <td>NaN</td>\n",
       "      <td>NaN</td>\n",
       "      <td>NaN</td>\n",
       "      <td>8396881.0</td>\n",
       "      <td>NaN</td>\n",
       "    </tr>\n",
       "    <tr>\n",
       "      <th>2</th>\n",
       "      <td>NaN</td>\n",
       "      <td>NaN</td>\n",
       "      <td>0.0</td>\n",
       "      <td>261.22</td>\n",
       "      <td>0.0</td>\n",
       "      <td>0.0</td>\n",
       "      <td>0.0</td>\n",
       "      <td>0.0</td>\n",
       "      <td>0.0</td>\n",
       "      <td>0.0</td>\n",
       "      <td>...</td>\n",
       "      <td>XUG02233HHJE00797</td>\n",
       "      <td>0.0</td>\n",
       "      <td>NaN</td>\n",
       "      <td>NaN</td>\n",
       "      <td>NaN</td>\n",
       "      <td>NaN</td>\n",
       "      <td>NaN</td>\n",
       "      <td>NaN</td>\n",
       "      <td>2172359.0</td>\n",
       "      <td>NaN</td>\n",
       "    </tr>\n",
       "    <tr>\n",
       "      <th>3</th>\n",
       "      <td>NaN</td>\n",
       "      <td>NaN</td>\n",
       "      <td>1.0</td>\n",
       "      <td>1730.52</td>\n",
       "      <td>0.0</td>\n",
       "      <td>0.0</td>\n",
       "      <td>0.0</td>\n",
       "      <td>0.0</td>\n",
       "      <td>0.0</td>\n",
       "      <td>0.0</td>\n",
       "      <td>...</td>\n",
       "      <td>XUG02233VHJE01038</td>\n",
       "      <td>1.0</td>\n",
       "      <td>NaN</td>\n",
       "      <td>NaN</td>\n",
       "      <td>NaN</td>\n",
       "      <td>NaN</td>\n",
       "      <td>NaN</td>\n",
       "      <td>NaN</td>\n",
       "      <td>2576101.0</td>\n",
       "      <td>NaN</td>\n",
       "    </tr>\n",
       "    <tr>\n",
       "      <th>4</th>\n",
       "      <td>NaN</td>\n",
       "      <td>NaN</td>\n",
       "      <td>1.0</td>\n",
       "      <td>0.05</td>\n",
       "      <td>0.0</td>\n",
       "      <td>0.0</td>\n",
       "      <td>0.0</td>\n",
       "      <td>0.0</td>\n",
       "      <td>0.0</td>\n",
       "      <td>0.0</td>\n",
       "      <td>...</td>\n",
       "      <td>XUG02233CHJE00883</td>\n",
       "      <td>1.0</td>\n",
       "      <td>NaN</td>\n",
       "      <td>NaN</td>\n",
       "      <td>NaN</td>\n",
       "      <td>NaN</td>\n",
       "      <td>NaN</td>\n",
       "      <td>NaN</td>\n",
       "      <td>5953890.0</td>\n",
       "      <td>NaN</td>\n",
       "    </tr>\n",
       "  </tbody>\n",
       "</table>\n",
       "<p>5 rows × 124 columns</p>\n",
       "</div>"
      ],
      "text/plain": [
       "   ACCEXCCOUNT  ACCRUNTIMES  ACCSTATE  ACCWORKTIMES  ALARM_0001  ALARM_0002  \\\n",
       "0          NaN          NaN       1.0       1095.83         0.0         0.0   \n",
       "1          NaN          NaN       1.0       1377.16         0.0         0.0   \n",
       "2          NaN          NaN       0.0        261.22         0.0         0.0   \n",
       "3          NaN          NaN       1.0       1730.52         0.0         0.0   \n",
       "4          NaN          NaN       1.0          0.05         0.0         0.0   \n",
       "\n",
       "   ALARM_0003  ALARM_0004  ALARM_0005  ALARM_0006    ...     \\\n",
       "0         0.0         0.0         0.0         0.0    ...      \n",
       "1         0.0         0.0         0.0         0.0    ...      \n",
       "2         0.0         0.0         0.0         0.0    ...      \n",
       "3         0.0         0.0         0.0         0.0    ...      \n",
       "4         0.0         0.0         0.0         0.0    ...      \n",
       "\n",
       "           VEHICLENO  VEHICLESTATUS  VERSIONNUM  WATERTEMPERATURE  \\\n",
       "0  XUG02631THJE00230            1.0         NaN               NaN   \n",
       "1  XUG02633TGJE00499            1.0         NaN               NaN   \n",
       "2  XUG02233HHJE00797            0.0         NaN               NaN   \n",
       "3  XUG02233VHJE01038            1.0         NaN               NaN   \n",
       "4  XUG02233CHJE00883            1.0         NaN               NaN   \n",
       "\n",
       "   WIRELESSTEMP1  WIRELESSTEMP2  WIRELESSTEMP3  WIRELESSTEMP4  WORKDETAILID  \\\n",
       "0            NaN            NaN            NaN            NaN     7285148.0   \n",
       "1            NaN            NaN            NaN            NaN     8396881.0   \n",
       "2            NaN            NaN            NaN            NaN     2172359.0   \n",
       "3            NaN            NaN            NaN            NaN     2576101.0   \n",
       "4            NaN            NaN            NaN            NaN     5953890.0   \n",
       "\n",
       "  WORKHOURS  \n",
       "0       NaN  \n",
       "1       NaN  \n",
       "2       NaN  \n",
       "3       NaN  \n",
       "4       NaN  \n",
       "\n",
       "[5 rows x 124 columns]"
      ]
     },
     "execution_count": 3,
     "metadata": {},
     "output_type": "execute_result"
    }
   ],
   "source": [
    "train.head()"
   ]
  },
  {
   "cell_type": "code",
   "execution_count": 4,
   "metadata": {},
   "outputs": [
    {
     "name": "stdout",
     "output_type": "stream",
     "text": [
      "<class 'pandas.core.frame.DataFrame'>\n",
      "RangeIndex: 1875088 entries, 0 to 1875087\n",
      "Columns: 124 entries, ACCEXCCOUNT to WORKHOURS\n",
      "dtypes: float64(118), int64(1), object(5)\n",
      "memory usage: 1.7+ GB\n"
     ]
    }
   ],
   "source": [
    "train.info()"
   ]
  },
  {
   "cell_type": "markdown",
   "metadata": {},
   "source": [
    "### 缺失值分析\n",
    "\n",
    "首先我们先对数据进行简单的缺失值分析，先分析数据缺失的情况，将数据分为严重缺失，较严重缺失，部分缺失和不缺失处理。其中：\n",
    "- 严重缺失（<font color=\"red\">缺失率达到99%以上</font>）的数据统计意义不大，所以我们往往直接将其删除；\n",
    "- 较为严重缺失的数据（<font color=\"red\">达到95%以上</font>），我们先分析不缺失的数据，因为此类数据可能隐藏某些重要的信息，我们对其进行与标签的相关性分析，然后再考虑是否将其删除；\n",
    "- 部分缺失和不缺失的数据往往带有较为重要的信息，我们暂时将其保留。\n"
   ]
  },
  {
   "cell_type": "code",
   "execution_count": 5,
   "metadata": {
    "scrolled": true
   },
   "outputs": [],
   "source": [
    "all_missing_columns = train.columns[train.isnull().sum() == train.shape[0]]"
   ]
  },
  {
   "cell_type": "markdown",
   "metadata": {},
   "source": [
    "- 在124列的训练集特征中，我们的数据有32列数据是完全缺失的。\n",
    "> 这些数据对于模型的训练无法带来任何增益，所以我们选择将其直接删除。"
   ]
  },
  {
   "cell_type": "code",
   "execution_count": 6,
   "metadata": {},
   "outputs": [
    {
     "name": "stdout",
     "output_type": "stream",
     "text": [
      "共有 32 个特征列缺失，\n",
      "这些特征列为:  Index(['ACCEXCCOUNT', 'ENGINELOADSTATE', 'ENVHUMIDITY', 'ENVTEMPERATURE',\n",
      "       'INSIDE_HUMIDITY', 'INSIDE_TEMPERATURE', 'ISANALYSED', 'MILENUMBER',\n",
      "       'MIXSTATE', 'OC', 'OILLOCATION', 'OILPERCENT1', 'OILPRESSURE',\n",
      "       'OILTEMPERATURE', 'OILVALUE1', 'OILVALUE2', 'OPTOILLEVEL',\n",
      "       'POWERDOWNSTATE', 'PULSESIGNS', 'QUSHOILTIMES', 'ROAD', 'ROUNDSPEED',\n",
      "       'TERMINALEL_INSIDE', 'TERMINALEL_OUTSIDE', 'TERMINALSTATUS',\n",
      "       'VERSIONNUM', 'WATERTEMPERATURE', 'WIRELESSTEMP1', 'WIRELESSTEMP2',\n",
      "       'WIRELESSTEMP3', 'WIRELESSTEMP4', 'WORKHOURS'],\n",
      "      dtype='object')\n"
     ]
    }
   ],
   "source": [
    "print('共有 %i 个特征列缺失，' % len(all_missing_columns))\n",
    "print('这些特征列为: ',all_missing_columns )"
   ]
  },
  {
   "cell_type": "markdown",
   "metadata": {},
   "source": [
    "我们先将这些全部缺失的特征列全部删除。"
   ]
  },
  {
   "cell_type": "code",
   "execution_count": 7,
   "metadata": {},
   "outputs": [],
   "source": [
    "train.drop(all_missing_columns,axis=1, inplace=True)\n",
    "test.drop(all_missing_columns,axis=1, inplace=True)"
   ]
  },
  {
   "cell_type": "markdown",
   "metadata": {},
   "source": [
    "我们将剩余存在缺失情况的数据进行可视化分析，我们发现大部分存在缺失的数据所在行数是一样的，即：\n",
    "- 很多样本是同时缺失了多个特征，而不是随机缺失的。"
   ]
  },
  {
   "cell_type": "code",
   "execution_count": 8,
   "metadata": {
    "scrolled": true
   },
   "outputs": [
    {
     "data": {
      "text/plain": [
       "ACCRUNTIMES                   1633687\n",
       "ACCSTATE                       241401\n",
       "ACCWORKTIMES                   241401\n",
       "ALARM_0001                     241401\n",
       "ALARM_0002                     241401\n",
       "ALARM_0003                     241401\n",
       "ALARM_0004                     241401\n",
       "ALARM_0005                     241401\n",
       "ALARM_0006                     241401\n",
       "ALARM_0007                     241401\n",
       "ALARM_0008                     241401\n",
       "ALARM_0009                     241401\n",
       "ALARM_0010                     241401\n",
       "ALTITUDE                       241401\n",
       "AREA                             1036\n",
       "CD_VP_UNIQUENO                 241401\n",
       "CITY                             1036\n",
       "CMDTYPE                        241401\n",
       "COLLECTTIME                         0\n",
       "COOLANTLEVEL                   604698\n",
       "COOLANTTEMPERATURE             605322\n",
       "CURRENTFAULTCOUNT1            1553673\n",
       "CURRENTFAULTCOUNT2            1553673\n",
       "CURRENTFAULTCOUNT3            1873600\n",
       "CURRENTFAULTCOUNT4            1873600\n",
       "CURRENTFAULTCOUNT5            1875081\n",
       "CURRENTFAULTCOUNT6            1875081\n",
       "CURRENTSPEEDLOADPERCENTAGE     605647\n",
       "DIRECTION                      241401\n",
       "ELCANDVOL                      241401\n",
       "                               ...   \n",
       "ROTATIONALSPEED                603562\n",
       "SATELLITE                      241405\n",
       "SIMNO                          241401\n",
       "SPEED                          241401\n",
       "SPN                           1633687\n",
       "SPN1                          1553673\n",
       "SPN2                          1553673\n",
       "SPN3                          1873600\n",
       "SPN4                          1873600\n",
       "SPN5                          1875081\n",
       "SPN6                          1875081\n",
       "SPNCONVERSIONMODE1            1660206\n",
       "SPNCONVERSIONMODE2            1873375\n",
       "SPNCONVERSIONMODE3            1873641\n",
       "SPNCONVERSIONMODE4            1875053\n",
       "SPNCONVERSIONMODE5            1875083\n",
       "SPNCONVERSIONMODE6            1875086\n",
       "SPNMSB1                       1553673\n",
       "SPNMSB2                       1553673\n",
       "SPNMSB3                       1873600\n",
       "SPNMSB4                       1873600\n",
       "SPNMSB5                       1875081\n",
       "SPNMSB6                       1875081\n",
       "SYSTEMDATE                     241401\n",
       "TEMPERATURE                   1415749\n",
       "THROTTLECURRENT                605647\n",
       "UNIQUENO                            0\n",
       "VEHICLENO                      241401\n",
       "VEHICLESTATUS                  241401\n",
       "WORKDETAILID                   241401\n",
       "Length: 92, dtype: int64"
      ]
     },
     "execution_count": 8,
     "metadata": {},
     "output_type": "execute_result"
    }
   ],
   "source": [
    "train.isnull().sum()"
   ]
  },
  {
   "cell_type": "code",
   "execution_count": 9,
   "metadata": {
    "scrolled": false
   },
   "outputs": [
    {
     "data": {
      "text/plain": [
       "<matplotlib.axes._subplots.AxesSubplot at 0x7faac0f68da0>"
      ]
     },
     "execution_count": 9,
     "metadata": {},
     "output_type": "execute_result"
    },
    {
     "data": {
      "image/png": "[encoded data removed]",
      "text/plain": [
       "<matplotlib.figure.Figure at 0x7fab89065e48>"
      ]
     },
     "metadata": {},
     "output_type": "display_data"
    }
   ],
   "source": [
    "msno.matrix(train[['ACCSTATE','ACCWORKTIMES','ALARM_0001','ALARM_0002','ALARM_0005','ALARM_0006','ALARM_0007','ALARM_0008','ALARM_0009','ALARM_0010','AREA']])"
   ]
  },
  {
   "cell_type": "markdown",
   "metadata": {},
   "source": [
    "### 单值分析\n",
    "除了缺失值，还有一种特征对于模型无法带来增益，就是<font color=\"red\"> 所有特征列都是一样</font>的情况，这种数据往往只能给模型带来噪音，所以在所有的数据中，我们选择将其删除。\n",
    "- 共有8列特征仅仅只包含一个元素值，这些特征列的名称为：\n",
    "> 'ALARM_0001', 'ALARM_0006', 'CMDTYPE', 'COOLANTLEVEL', 'LOCK_ALL', 'LOWVOLTAGESTATUS', 'SPNCONVERSIONMODE6', 'SPNMSB5'"
   ]
  },
  {
   "cell_type": "code",
   "execution_count": 10,
   "metadata": {},
   "outputs": [],
   "source": [
    "onlyone_val_columns = train.columns[train.nunique(axis=0) == 1]"
   ]
  },
  {
   "cell_type": "code",
   "execution_count": 11,
   "metadata": {},
   "outputs": [
    {
     "name": "stdout",
     "output_type": "stream",
     "text": [
      "共有 8 个特征列仅仅只包含一个元素之，\n",
      "这些特征列为:  Index(['ALARM_0001', 'ALARM_0006', 'CMDTYPE', 'COOLANTLEVEL', 'LOCK_ALL',\n",
      "       'LOWVOLTAGESTATUS', 'SPNCONVERSIONMODE6', 'SPNMSB5'],\n",
      "      dtype='object')\n"
     ]
    }
   ],
   "source": [
    "print('共有 %i 个特征列仅仅只包含一个元素之，' % len(onlyone_val_columns))\n",
    "print('这些特征列为: ',onlyone_val_columns )"
   ]
  },
  {
   "cell_type": "code",
   "execution_count": 12,
   "metadata": {},
   "outputs": [],
   "source": [
    "train.drop(onlyone_val_columns,axis=1,inplace =True)\n",
    "test.drop(onlyone_val_columns,axis=1,inplace =True)"
   ]
  },
  {
   "cell_type": "markdown",
   "metadata": {},
   "source": [
    "### Label转换 & 分析\n",
    "\n",
    "上面我们删除了很多对于模型训练无用的特征，此处我们对剩余的特征进行重点相关性的分析。首先我们先将我们的类别标签进行拼接。"
   ]
  },
  {
   "cell_type": "code",
   "execution_count": 13,
   "metadata": {},
   "outputs": [],
   "source": [
    "def SPN_FMI_2_Code(Spn_fmis,Codes):\n",
    "    spn_fmi_dict = {}\n",
    "    for i in range(len(Spn_fmis)):\n",
    "        spn_fmi_dict[Spn_fmis[i]] = Codes[i]\n",
    "    return spn_fmi_dict"
   ]
  },
  {
   "cell_type": "code",
   "execution_count": 14,
   "metadata": {},
   "outputs": [],
   "source": [
    "dbd_faultcode['SPN_FMI'] = dbd_faultcode['SPN'].fillna(-1).astype(int).astype(str) + '_' + dbd_faultcode['FMI'].fillna(-1).astype(int).astype(str)\n",
    "train['SPN_FMI'] = train['SPN'].fillna(-1).astype(int).astype(str) + '_' + train['FMI'].fillna(-1).astype(int).astype(str)\n",
    "\n",
    "spn_fmi_dict = SPN_FMI_2_Code(dbd_faultcode['SPN_FMI'].values,dbd_faultcode['CODE'].values)\n",
    "spn_fmi_dict['-1_-1'] = -1\n",
    "\n",
    "def transfer_2_code(x):\n",
    "    if x in spn_fmi_dict.keys():\n",
    "        return spn_fmi_dict[x]\n",
    "    return -1\n",
    "\n",
    "train['SPN_FMI_Code']  = train['SPN_FMI'].apply(transfer_2_code)"
   ]
  },
  {
   "cell_type": "code",
   "execution_count": 15,
   "metadata": {
    "scrolled": true
   },
   "outputs": [],
   "source": [
    "code_distribution = pd.DataFrame(train['SPN_FMI_Code'].value_counts().reset_index())"
   ]
  },
  {
   "cell_type": "code",
   "execution_count": 16,
   "metadata": {
    "scrolled": true
   },
   "outputs": [
    {
     "data": {
      "text/html": [
       "<div>\n",
       "<style scoped>\n",
       "    .dataframe tbody tr th:only-of-type {\n",
       "        vertical-align: middle;\n",
       "    }\n",
       "\n",
       "    .dataframe tbody tr th {\n",
       "        vertical-align: top;\n",
       "    }\n",
       "\n",
       "    .dataframe thead th {\n",
       "        text-align: right;\n",
       "    }\n",
       "</style>\n",
       "<table border=\"1\" class=\"dataframe\">\n",
       "  <thead>\n",
       "    <tr style=\"text-align: right;\">\n",
       "      <th></th>\n",
       "      <th>Code</th>\n",
       "      <th>Code_Num</th>\n",
       "    </tr>\n",
       "  </thead>\n",
       "  <tbody>\n",
       "    <tr>\n",
       "      <th>0</th>\n",
       "      <td>-1</td>\n",
       "      <td>1649858</td>\n",
       "    </tr>\n",
       "    <tr>\n",
       "      <th>1</th>\n",
       "      <td>1206</td>\n",
       "      <td>215738</td>\n",
       "    </tr>\n",
       "    <tr>\n",
       "      <th>2</th>\n",
       "      <td>1239</td>\n",
       "      <td>8194</td>\n",
       "    </tr>\n",
       "    <tr>\n",
       "      <th>3</th>\n",
       "      <td>1141</td>\n",
       "      <td>1075</td>\n",
       "    </tr>\n",
       "    <tr>\n",
       "      <th>4</th>\n",
       "      <td>1182</td>\n",
       "      <td>144</td>\n",
       "    </tr>\n",
       "    <tr>\n",
       "      <th>5</th>\n",
       "      <td>1168</td>\n",
       "      <td>41</td>\n",
       "    </tr>\n",
       "    <tr>\n",
       "      <th>6</th>\n",
       "      <td>1211</td>\n",
       "      <td>24</td>\n",
       "    </tr>\n",
       "    <tr>\n",
       "      <th>7</th>\n",
       "      <td>1216</td>\n",
       "      <td>4</td>\n",
       "    </tr>\n",
       "    <tr>\n",
       "      <th>8</th>\n",
       "      <td>1209</td>\n",
       "      <td>4</td>\n",
       "    </tr>\n",
       "    <tr>\n",
       "      <th>9</th>\n",
       "      <td>1145</td>\n",
       "      <td>2</td>\n",
       "    </tr>\n",
       "    <tr>\n",
       "      <th>10</th>\n",
       "      <td>1341</td>\n",
       "      <td>1</td>\n",
       "    </tr>\n",
       "    <tr>\n",
       "      <th>11</th>\n",
       "      <td>1246</td>\n",
       "      <td>1</td>\n",
       "    </tr>\n",
       "    <tr>\n",
       "      <th>12</th>\n",
       "      <td>1215</td>\n",
       "      <td>1</td>\n",
       "    </tr>\n",
       "    <tr>\n",
       "      <th>13</th>\n",
       "      <td>1122</td>\n",
       "      <td>1</td>\n",
       "    </tr>\n",
       "  </tbody>\n",
       "</table>\n",
       "</div>"
      ],
      "text/plain": [
       "    Code  Code_Num\n",
       "0     -1   1649858\n",
       "1   1206    215738\n",
       "2   1239      8194\n",
       "3   1141      1075\n",
       "4   1182       144\n",
       "5   1168        41\n",
       "6   1211        24\n",
       "7   1216         4\n",
       "8   1209         4\n",
       "9   1145         2\n",
       "10  1341         1\n",
       "11  1246         1\n",
       "12  1215         1\n",
       "13  1122         1"
      ]
     },
     "execution_count": 16,
     "metadata": {},
     "output_type": "execute_result"
    }
   ],
   "source": [
    "code_distribution.columns = ['Code', 'Code_Num']\n",
    "code_distribution"
   ]
  },
  {
   "cell_type": "code",
   "execution_count": 17,
   "metadata": {},
   "outputs": [
    {
     "data": {
      "text/plain": [
       "<matplotlib.axes._subplots.AxesSubplot at 0x7fa9f4d64b38>"
      ]
     },
     "execution_count": 17,
     "metadata": {},
     "output_type": "execute_result"
    },
    {
     "data": {
      "image/png": "[encoded data removed]",
      "text/plain": [
       "<matplotlib.figure.Figure at 0x7faac0f33e48>"
      ]
     },
     "metadata": {},
     "output_type": "display_data"
    }
   ],
   "source": [
    "sns.barplot(x ='Code', y = 'Code_Num', data = code_distribution)"
   ]
  },
  {
   "cell_type": "markdown",
   "metadata": {},
   "source": [
    "为了方便后续的预测,此处我们暂时先选取与我们需要预测相关的标签进行分析。"
   ]
  },
  {
   "cell_type": "code",
   "execution_count": 18,
   "metadata": {},
   "outputs": [],
   "source": [
    "train_target = train[train.SPN_FMI_Code.isin([1206,1239,1141,1174,1182])]"
   ]
  },
  {
   "cell_type": "code",
   "execution_count": 19,
   "metadata": {
    "scrolled": true
   },
   "outputs": [
    {
     "data": {
      "text/html": [
       "<div>\n",
       "<style scoped>\n",
       "    .dataframe tbody tr th:only-of-type {\n",
       "        vertical-align: middle;\n",
       "    }\n",
       "\n",
       "    .dataframe tbody tr th {\n",
       "        vertical-align: top;\n",
       "    }\n",
       "\n",
       "    .dataframe thead th {\n",
       "        text-align: right;\n",
       "    }\n",
       "</style>\n",
       "<table border=\"1\" class=\"dataframe\">\n",
       "  <thead>\n",
       "    <tr style=\"text-align: right;\">\n",
       "      <th></th>\n",
       "      <th>CODE</th>\n",
       "      <th>SPN</th>\n",
       "      <th>FMI</th>\n",
       "      <th>DESCRIPTION</th>\n",
       "      <th>ENGINETYPEID</th>\n",
       "      <th>FAULTSOURCE</th>\n",
       "      <th>FAULTNAME</th>\n",
       "      <th>SPN_FMI</th>\n",
       "    </tr>\n",
       "  </thead>\n",
       "  <tbody>\n",
       "    <tr>\n",
       "      <th>7</th>\n",
       "      <td>1182</td>\n",
       "      <td>4641</td>\n",
       "      <td>2</td>\n",
       "      <td>实际共轨压力低于目标值的控制下限</td>\n",
       "      <td>1958</td>\n",
       "      <td>上柴国三</td>\n",
       "      <td>实际共轨压力低于目标值的控制下限</td>\n",
       "      <td>4641_2</td>\n",
       "    </tr>\n",
       "    <tr>\n",
       "      <th>31</th>\n",
       "      <td>1206</td>\n",
       "      <td>8809</td>\n",
       "      <td>15</td>\n",
       "      <td>油水分离器中液位过高</td>\n",
       "      <td>1958</td>\n",
       "      <td>上柴国三</td>\n",
       "      <td>油水分离器中液位过高</td>\n",
       "      <td>8809_15</td>\n",
       "    </tr>\n",
       "    <tr>\n",
       "      <th>63</th>\n",
       "      <td>1239</td>\n",
       "      <td>108</td>\n",
       "      <td>4</td>\n",
       "      <td>大气压力传感器电压低于下限门槛值</td>\n",
       "      <td>1958</td>\n",
       "      <td>潍柴国三</td>\n",
       "      <td>大气压力传感器电压低于下限门槛值</td>\n",
       "      <td>108_4</td>\n",
       "    </tr>\n",
       "    <tr>\n",
       "      <th>220</th>\n",
       "      <td>1141</td>\n",
       "      <td>8480</td>\n",
       "      <td>2</td>\n",
       "      <td>油门踏板传感器#1和#2信号无效</td>\n",
       "      <td>1958</td>\n",
       "      <td>上柴国三</td>\n",
       "      <td>油门踏板传感器#1和#2信号无效</td>\n",
       "      <td>8480_2</td>\n",
       "    </tr>\n",
       "    <tr>\n",
       "      <th>251</th>\n",
       "      <td>1174</td>\n",
       "      <td>9779</td>\n",
       "      <td>5</td>\n",
       "      <td>油泵电磁阀#2开路或对地短路</td>\n",
       "      <td>1958</td>\n",
       "      <td>上柴国三</td>\n",
       "      <td>油泵电磁阀#2开路或对地短路</td>\n",
       "      <td>9779_5</td>\n",
       "    </tr>\n",
       "  </tbody>\n",
       "</table>\n",
       "</div>"
      ],
      "text/plain": [
       "     CODE   SPN  FMI       DESCRIPTION  ENGINETYPEID FAULTSOURCE  \\\n",
       "7    1182  4641    2  实际共轨压力低于目标值的控制下限          1958        上柴国三   \n",
       "31   1206  8809   15        油水分离器中液位过高          1958        上柴国三   \n",
       "63   1239   108    4  大气压力传感器电压低于下限门槛值          1958        潍柴国三   \n",
       "220  1141  8480    2  油门踏板传感器#1和#2信号无效          1958        上柴国三   \n",
       "251  1174  9779    5    油泵电磁阀#2开路或对地短路          1958        上柴国三   \n",
       "\n",
       "            FAULTNAME  SPN_FMI  \n",
       "7    实际共轨压力低于目标值的控制下限   4641_2  \n",
       "31         油水分离器中液位过高  8809_15  \n",
       "63   大气压力传感器电压低于下限门槛值    108_4  \n",
       "220  油门踏板传感器#1和#2信号无效   8480_2  \n",
       "251    油泵电磁阀#2开路或对地短路   9779_5  "
      ]
     },
     "execution_count": 19,
     "metadata": {},
     "output_type": "execute_result"
    }
   ],
   "source": [
    "target_code = [1206,1239,1141,1174,1182] \n",
    "dbd_faultcode[dbd_faultcode.CODE.isin(target_code)] "
   ]
  },
  {
   "cell_type": "markdown",
   "metadata": {},
   "source": [
    "### 数据再次清洗\n",
    "因为刚刚对label进行了清洗，为了分析数据特征与标签之间的关系，我们按照之前的两步对数据再一次进行简单的清洗。数据清洗完毕之后，我们只剩下了15列特征。"
   ]
  },
  {
   "cell_type": "code",
   "execution_count": 20,
   "metadata": {
    "scrolled": true
   },
   "outputs": [],
   "source": [
    "all_missing_columns_step2 = train_target.columns[train_target.isnull().sum() == train_target.shape[0]]\n",
    "onlyone_val_columns_step2  = train_target.columns[train_target.nunique(axis=0) == 1]"
   ]
  },
  {
   "cell_type": "code",
   "execution_count": 21,
   "metadata": {},
   "outputs": [],
   "source": [
    "train_target.drop(all_missing_columns_step2,axis=1,inplace=True)\n",
    "train_target.drop(onlyone_val_columns_step2,axis=1,inplace=True)"
   ]
  },
  {
   "cell_type": "code",
   "execution_count": 22,
   "metadata": {},
   "outputs": [
    {
     "data": {
      "text/plain": [
       "(225151, 15)"
      ]
     },
     "execution_count": 22,
     "metadata": {},
     "output_type": "execute_result"
    }
   ],
   "source": [
    "train_target.shape"
   ]
  },
  {
   "cell_type": "code",
   "execution_count": 23,
   "metadata": {},
   "outputs": [
    {
     "data": {
      "text/html": [
       "<div>\n",
       "<style scoped>\n",
       "    .dataframe tbody tr th:only-of-type {\n",
       "        vertical-align: middle;\n",
       "    }\n",
       "\n",
       "    .dataframe tbody tr th {\n",
       "        vertical-align: top;\n",
       "    }\n",
       "\n",
       "    .dataframe thead th {\n",
       "        text-align: right;\n",
       "    }\n",
       "</style>\n",
       "<table border=\"1\" class=\"dataframe\">\n",
       "  <thead>\n",
       "    <tr style=\"text-align: right;\">\n",
       "      <th></th>\n",
       "      <th>ACCRUNTIMES</th>\n",
       "      <th>AREA</th>\n",
       "      <th>CITY</th>\n",
       "      <th>COLLECTTIME</th>\n",
       "      <th>FAULTTIME</th>\n",
       "      <th>FMI</th>\n",
       "      <th>FRID</th>\n",
       "      <th>LAT</th>\n",
       "      <th>LNG</th>\n",
       "      <th>PROVINCE</th>\n",
       "      <th>READFLAG</th>\n",
       "      <th>SPN</th>\n",
       "      <th>UNIQUENO</th>\n",
       "      <th>SPN_FMI</th>\n",
       "      <th>SPN_FMI_Code</th>\n",
       "    </tr>\n",
       "  </thead>\n",
       "  <tbody>\n",
       "    <tr>\n",
       "      <th>23150</th>\n",
       "      <td>979.0</td>\n",
       "      <td>341322.0</td>\n",
       "      <td>341300.0</td>\n",
       "      <td>2018-04-01 06:23:45</td>\n",
       "      <td>2018-04-01 06:23:45</td>\n",
       "      <td>15.0</td>\n",
       "      <td>2357817.0</td>\n",
       "      <td>34.108867</td>\n",
       "      <td>34.108867</td>\n",
       "      <td>340000.0</td>\n",
       "      <td>1.0</td>\n",
       "      <td>8809.0</td>\n",
       "      <td>201704140835245913</td>\n",
       "      <td>8809_15</td>\n",
       "      <td>1206</td>\n",
       "    </tr>\n",
       "    <tr>\n",
       "      <th>23178</th>\n",
       "      <td>979.0</td>\n",
       "      <td>341322.0</td>\n",
       "      <td>341300.0</td>\n",
       "      <td>2018-04-01 06:25:45</td>\n",
       "      <td>2018-04-01 06:25:45</td>\n",
       "      <td>15.0</td>\n",
       "      <td>2357818.0</td>\n",
       "      <td>34.108877</td>\n",
       "      <td>34.108877</td>\n",
       "      <td>340000.0</td>\n",
       "      <td>1.0</td>\n",
       "      <td>8809.0</td>\n",
       "      <td>201704140835245913</td>\n",
       "      <td>8809_15</td>\n",
       "      <td>1206</td>\n",
       "    </tr>\n",
       "    <tr>\n",
       "      <th>23208</th>\n",
       "      <td>979.0</td>\n",
       "      <td>341322.0</td>\n",
       "      <td>341300.0</td>\n",
       "      <td>2018-04-01 06:27:45</td>\n",
       "      <td>2018-04-01 06:27:45</td>\n",
       "      <td>15.0</td>\n",
       "      <td>2357819.0</td>\n",
       "      <td>34.108891</td>\n",
       "      <td>34.108891</td>\n",
       "      <td>340000.0</td>\n",
       "      <td>1.0</td>\n",
       "      <td>8809.0</td>\n",
       "      <td>201704140835245913</td>\n",
       "      <td>8809_15</td>\n",
       "      <td>1206</td>\n",
       "    </tr>\n",
       "    <tr>\n",
       "      <th>23240</th>\n",
       "      <td>979.0</td>\n",
       "      <td>341322.0</td>\n",
       "      <td>341300.0</td>\n",
       "      <td>2018-04-01 06:29:45</td>\n",
       "      <td>2018-04-01 06:29:45</td>\n",
       "      <td>15.0</td>\n",
       "      <td>2357821.0</td>\n",
       "      <td>34.109057</td>\n",
       "      <td>34.109057</td>\n",
       "      <td>340000.0</td>\n",
       "      <td>1.0</td>\n",
       "      <td>8809.0</td>\n",
       "      <td>201704140835245913</td>\n",
       "      <td>8809_15</td>\n",
       "      <td>1206</td>\n",
       "    </tr>\n",
       "    <tr>\n",
       "      <th>23274</th>\n",
       "      <td>979.0</td>\n",
       "      <td>341322.0</td>\n",
       "      <td>341300.0</td>\n",
       "      <td>2018-04-01 06:31:45</td>\n",
       "      <td>2018-04-01 06:31:45</td>\n",
       "      <td>15.0</td>\n",
       "      <td>2357822.0</td>\n",
       "      <td>34.109043</td>\n",
       "      <td>34.109043</td>\n",
       "      <td>340000.0</td>\n",
       "      <td>1.0</td>\n",
       "      <td>8809.0</td>\n",
       "      <td>201704140835245913</td>\n",
       "      <td>8809_15</td>\n",
       "      <td>1206</td>\n",
       "    </tr>\n",
       "  </tbody>\n",
       "</table>\n",
       "</div>"
      ],
      "text/plain": [
       "       ACCRUNTIMES      AREA      CITY          COLLECTTIME  \\\n",
       "23150        979.0  341322.0  341300.0  2018-04-01 06:23:45   \n",
       "23178        979.0  341322.0  341300.0  2018-04-01 06:25:45   \n",
       "23208        979.0  341322.0  341300.0  2018-04-01 06:27:45   \n",
       "23240        979.0  341322.0  341300.0  2018-04-01 06:29:45   \n",
       "23274        979.0  341322.0  341300.0  2018-04-01 06:31:45   \n",
       "\n",
       "                 FAULTTIME   FMI       FRID        LAT        LNG  PROVINCE  \\\n",
       "23150  2018-04-01 06:23:45  15.0  2357817.0  34.108867  34.108867  340000.0   \n",
       "23178  2018-04-01 06:25:45  15.0  2357818.0  34.108877  34.108877  340000.0   \n",
       "23208  2018-04-01 06:27:45  15.0  2357819.0  34.108891  34.108891  340000.0   \n",
       "23240  2018-04-01 06:29:45  15.0  2357821.0  34.109057  34.109057  340000.0   \n",
       "23274  2018-04-01 06:31:45  15.0  2357822.0  34.109043  34.109043  340000.0   \n",
       "\n",
       "       READFLAG     SPN            UNIQUENO  SPN_FMI  SPN_FMI_Code  \n",
       "23150       1.0  8809.0  201704140835245913  8809_15          1206  \n",
       "23178       1.0  8809.0  201704140835245913  8809_15          1206  \n",
       "23208       1.0  8809.0  201704140835245913  8809_15          1206  \n",
       "23240       1.0  8809.0  201704140835245913  8809_15          1206  \n",
       "23274       1.0  8809.0  201704140835245913  8809_15          1206  "
      ]
     },
     "execution_count": 23,
     "metadata": {},
     "output_type": "execute_result"
    }
   ],
   "source": [
    "train_target.head()"
   ]
  },
  {
   "cell_type": "markdown",
   "metadata": {},
   "source": [
    "### 单元变量分析\n",
    "#### ACCRUNTIMES（油门当前值(%)）\n",
    "我们发现：\n",
    "- <font color=\"red\">Code为1239的油门当前值最小为4021%，比其他三个的都要高很多，可以直接通过该值来判别1239这个特征值；</font>\n",
    "- Code为1206的ACCRUNTIMES的分布较为广泛,和其他特征有较多重叠,1182的特征的ACCRUNTIMES值相对最低,低于800."
   ]
  },
  {
   "cell_type": "code",
   "execution_count": 24,
   "metadata": {},
   "outputs": [
    {
     "data": {
      "image/png": "[encoded data removed]",
      "text/plain": [
       "<matplotlib.figure.Figure at 0x7fa9f7908e80>"
      ]
     },
     "metadata": {},
     "output_type": "display_data"
    }
   ],
   "source": [
    "sns.stripplot(x=\"SPN_FMI_Code\", y=\"ACCRUNTIMES\", data=train_target);"
   ]
  },
  {
   "cell_type": "code",
   "execution_count": 25,
   "metadata": {},
   "outputs": [
    {
     "data": {
      "text/plain": [
       "count    71559.000000\n",
       "mean      1054.037354\n",
       "std        926.316787\n",
       "min          0.000000\n",
       "25%        488.000000\n",
       "50%        897.000000\n",
       "75%       1211.000000\n",
       "max       4498.000000\n",
       "Name: ACCRUNTIMES, dtype: float64"
      ]
     },
     "execution_count": 25,
     "metadata": {},
     "output_type": "execute_result"
    }
   ],
   "source": [
    "test['ACCRUNTIMES'].describe()"
   ]
  },
  {
   "cell_type": "code",
   "execution_count": 26,
   "metadata": {},
   "outputs": [
    {
     "data": {
      "text/plain": [
       "count    215738.000000\n",
       "mean        878.156690\n",
       "std         379.871741\n",
       "min           0.000000\n",
       "25%         652.000000\n",
       "50%         877.000000\n",
       "75%        1139.000000\n",
       "max        3527.000000\n",
       "Name: ACCRUNTIMES, dtype: float64"
      ]
     },
     "execution_count": 26,
     "metadata": {},
     "output_type": "execute_result"
    }
   ],
   "source": [
    "train_target[train_target.SPN_FMI_Code == 1206]['ACCRUNTIMES'].describe()"
   ]
  },
  {
   "cell_type": "code",
   "execution_count": 27,
   "metadata": {},
   "outputs": [
    {
     "data": {
      "text/plain": [
       "count    8194.000000\n",
       "mean     4199.182695\n",
       "std        93.519804\n",
       "min      4021.000000\n",
       "25%      4119.000000\n",
       "50%      4191.000000\n",
       "75%      4281.000000\n",
       "max      4355.000000\n",
       "Name: ACCRUNTIMES, dtype: float64"
      ]
     },
     "execution_count": 27,
     "metadata": {},
     "output_type": "execute_result"
    }
   ],
   "source": [
    "train_target[train_target.SPN_FMI_Code == 1239]['ACCRUNTIMES'].describe()"
   ]
  },
  {
   "cell_type": "code",
   "execution_count": 28,
   "metadata": {},
   "outputs": [
    {
     "data": {
      "text/plain": [
       "count    1075.000000\n",
       "mean      572.342326\n",
       "std       413.494064\n",
       "min         0.000000\n",
       "25%       167.000000\n",
       "50%       718.000000\n",
       "75%       973.000000\n",
       "max      1627.000000\n",
       "Name: ACCRUNTIMES, dtype: float64"
      ]
     },
     "execution_count": 28,
     "metadata": {},
     "output_type": "execute_result"
    }
   ],
   "source": [
    "train_target[train_target.SPN_FMI_Code == 1141]['ACCRUNTIMES'].describe()"
   ]
  },
  {
   "cell_type": "code",
   "execution_count": 29,
   "metadata": {},
   "outputs": [
    {
     "data": {
      "text/plain": [
       "count    144.000000\n",
       "mean     550.500000\n",
       "std      185.069256\n",
       "min        6.000000\n",
       "25%      419.000000\n",
       "50%      620.000000\n",
       "75%      621.000000\n",
       "max      771.000000\n",
       "Name: ACCRUNTIMES, dtype: float64"
      ]
     },
     "execution_count": 29,
     "metadata": {},
     "output_type": "execute_result"
    }
   ],
   "source": [
    "train_target[train_target.SPN_FMI_Code == 1182]['ACCRUNTIMES'].describe()"
   ]
  },
  {
   "cell_type": "code",
   "execution_count": 30,
   "metadata": {
    "scrolled": true
   },
   "outputs": [
    {
     "data": {
      "text/plain": [
       "array([  6.,   7.,  18.,  22.,  39., 418., 419., 620., 621., 770., 771.])"
      ]
     },
     "execution_count": 30,
     "metadata": {},
     "output_type": "execute_result"
    }
   ],
   "source": [
    "np.sort(train_target[train_target.SPN_FMI_Code == 1182]['ACCRUNTIMES'].unique())"
   ]
  },
  {
   "cell_type": "markdown",
   "metadata": {},
   "source": [
    "#### READFLAG\n",
    "通过观察标签与READFLAG的信息，我们发现：\n",
    "- READFLAG<font color=\"red\">为0的时候只有1206</font>出现了;\n",
    "- READFLAG为1的时候出现了其他所有的标签。"
   ]
  },
  {
   "cell_type": "code",
   "execution_count": 31,
   "metadata": {},
   "outputs": [
    {
     "data": {
      "text/html": [
       "<div>\n",
       "<style scoped>\n",
       "    .dataframe tbody tr th:only-of-type {\n",
       "        vertical-align: middle;\n",
       "    }\n",
       "\n",
       "    .dataframe tbody tr th {\n",
       "        vertical-align: top;\n",
       "    }\n",
       "\n",
       "    .dataframe thead th {\n",
       "        text-align: right;\n",
       "    }\n",
       "</style>\n",
       "<table border=\"1\" class=\"dataframe\">\n",
       "  <thead>\n",
       "    <tr style=\"text-align: right;\">\n",
       "      <th></th>\n",
       "      <th>READFLAG</th>\n",
       "      <th>SPN_FMI_Code</th>\n",
       "      <th>show_times</th>\n",
       "    </tr>\n",
       "  </thead>\n",
       "  <tbody>\n",
       "    <tr>\n",
       "      <th>0</th>\n",
       "      <td>0.0</td>\n",
       "      <td>1206</td>\n",
       "      <td>4581</td>\n",
       "    </tr>\n",
       "    <tr>\n",
       "      <th>1</th>\n",
       "      <td>1.0</td>\n",
       "      <td>1206</td>\n",
       "      <td>211157</td>\n",
       "    </tr>\n",
       "    <tr>\n",
       "      <th>2</th>\n",
       "      <td>1.0</td>\n",
       "      <td>1239</td>\n",
       "      <td>8194</td>\n",
       "    </tr>\n",
       "    <tr>\n",
       "      <th>3</th>\n",
       "      <td>1.0</td>\n",
       "      <td>1141</td>\n",
       "      <td>1075</td>\n",
       "    </tr>\n",
       "    <tr>\n",
       "      <th>4</th>\n",
       "      <td>1.0</td>\n",
       "      <td>1182</td>\n",
       "      <td>144</td>\n",
       "    </tr>\n",
       "  </tbody>\n",
       "</table>\n",
       "</div>"
      ],
      "text/plain": [
       "   READFLAG  SPN_FMI_Code  show_times\n",
       "0       0.0          1206        4581\n",
       "1       1.0          1206      211157\n",
       "2       1.0          1239        8194\n",
       "3       1.0          1141        1075\n",
       "4       1.0          1182         144"
      ]
     },
     "execution_count": 31,
     "metadata": {},
     "output_type": "execute_result"
    }
   ],
   "source": [
    "readflag = pd.DataFrame(train_target.groupby('READFLAG')['SPN_FMI_Code'].value_counts())\n",
    "readflag.columns = ['show_times']\n",
    "readflag.reset_index(inplace=True)\n",
    "readflag.head()"
   ]
  },
  {
   "cell_type": "code",
   "execution_count": 32,
   "metadata": {},
   "outputs": [
    {
     "data": {
      "text/plain": [
       "<matplotlib.axes._subplots.AxesSubplot at 0x7fab5e699320>"
      ]
     },
     "execution_count": 32,
     "metadata": {},
     "output_type": "execute_result"
    },
    {
     "data": {
      "image/png": "[encoded data removed]",
      "text/plain": [
       "<matplotlib.figure.Figure at 0x7fab5e68e7f0>"
      ]
     },
     "metadata": {},
     "output_type": "display_data"
    }
   ],
   "source": [
    "sns.stripplot(x = 'SPN_FMI_Code', y='show_times',hue ='READFLAG',data =readflag, size =10,jitter =True )"
   ]
  },
  {
   "cell_type": "code",
   "execution_count": 33,
   "metadata": {
    "scrolled": true
   },
   "outputs": [],
   "source": [
    "features = ['AREA','CITY','COLLECTTIME','FAULTTIME','FRID','LAT','LNG','PROVINCE','UNIQUENO','SPN_FMI_Code']"
   ]
  },
  {
   "cell_type": "markdown",
   "metadata": {},
   "source": [
    "#### FRID（自动编号）\n",
    "我们假设<font color=\"red\">相邻编号机器是来自于同一条生产线，出现类似的故障。</font>\n",
    "\n",
    "此处我们取FRID的前五位标志是否属于同一个生产线，他们之间出现相同问题的概率会较大。\n",
    "\n",
    "- 我们随机选取故障编号1141作为分析,发现故障1141的FRID_Top5的分布较为广泛，虽然局部存在聚类的情况，例如24116，24117.24118这三个连续的地方出现了非常多的1141故障。\n",
    "\n",
    "该特征存在一定的聚类情况，后期可以用来平滑预测结果（施加规则修正预测结果）"
   ]
  },
  {
   "cell_type": "code",
   "execution_count": 34,
   "metadata": {},
   "outputs": [],
   "source": [
    "train_target['FRID_Top5'] = train_target['FRID'].apply(lambda x: int(str(x)[:5]))"
   ]
  },
  {
   "cell_type": "code",
   "execution_count": 35,
   "metadata": {},
   "outputs": [
    {
     "data": {
      "text/plain": [
       "<matplotlib.axes._subplots.AxesSubplot at 0x7fab5e6c97f0>"
      ]
     },
     "execution_count": 35,
     "metadata": {},
     "output_type": "execute_result"
    },
    {
     "data": {
      "image/png": "[encoded data removed]",
      "text/plain": [
       "<matplotlib.figure.Figure at 0x7fab5e6fe240>"
      ]
     },
     "metadata": {},
     "output_type": "display_data"
    }
   ],
   "source": [
    "sns.stripplot(x = 'FRID_Top5', y='SPN_FMI_Code',data =train_target.sort_values('FRID_Top5'), size =10,jitter =True )"
   ]
  },
  {
   "cell_type": "code",
   "execution_count": 36,
   "metadata": {
    "scrolled": true
   },
   "outputs": [
    {
     "data": {
      "text/plain": [
       "24117    59\n",
       "24118    39\n",
       "24116    37\n",
       "23952    21\n",
       "25696    12\n",
       "24119    10\n",
       "25314     9\n",
       "25682     8\n",
       "25712     8\n",
       "23797     8\n",
       "24151     7\n",
       "24862     7\n",
       "24909     7\n",
       "24961     7\n",
       "25949     7\n",
       "26219     7\n",
       "26033     6\n",
       "24152     6\n",
       "24068     6\n",
       "24120     6\n",
       "26220     6\n",
       "25429     6\n",
       "23743     6\n",
       "25315     6\n",
       "24908     6\n",
       "24121     5\n",
       "24067     5\n",
       "24159     5\n",
       "25057     5\n",
       "25058     5\n",
       "         ..\n",
       "26200     1\n",
       "26017     1\n",
       "25204     1\n",
       "23971     1\n",
       "25200     1\n",
       "25198     1\n",
       "25194     1\n",
       "23922     1\n",
       "25939     1\n",
       "23782     1\n",
       "25420     1\n",
       "23785     1\n",
       "23792     1\n",
       "23798     1\n",
       "25851     1\n",
       "23806     1\n",
       "25436     1\n",
       "25432     1\n",
       "23810     1\n",
       "25391     1\n",
       "23887     1\n",
       "25845     1\n",
       "25366     1\n",
       "25345     1\n",
       "25341     1\n",
       "23839     1\n",
       "25322     1\n",
       "23850     1\n",
       "25905     1\n",
       "26199     1\n",
       "Name: FRID_Top5, Length: 394, dtype: int64"
      ]
     },
     "execution_count": 36,
     "metadata": {},
     "output_type": "execute_result"
    }
   ],
   "source": [
    "train_target[train_target.SPN_FMI_Code == 1141]['FRID_Top5'].value_counts()"
   ]
  },
  {
   "cell_type": "code",
   "execution_count": 37,
   "metadata": {
    "scrolled": true
   },
   "outputs": [
    {
     "name": "stdout",
     "output_type": "stream",
     "text": [
      "24117 1141    59\n",
      "1206    27\n",
      "Name: SPN_FMI_Code, dtype: int64\n",
      "24118 1206    47\n",
      "1141    39\n",
      "Name: SPN_FMI_Code, dtype: int64\n",
      "24116 1206    45\n",
      "1141    37\n",
      "Name: SPN_FMI_Code, dtype: int64\n",
      "23952 1141    21\n",
      "1206     8\n",
      "Name: SPN_FMI_Code, dtype: int64\n",
      "25696 1206    68\n",
      "1141    12\n",
      "Name: SPN_FMI_Code, dtype: int64\n",
      "24119 1206    69\n",
      "1141    10\n",
      "Name: SPN_FMI_Code, dtype: int64\n",
      "25314 1206    62\n",
      "1141     9\n",
      "1239     9\n",
      "Name: SPN_FMI_Code, dtype: int64\n",
      "25682 1206    62\n",
      "1141     8\n",
      "1239     6\n",
      "Name: SPN_FMI_Code, dtype: int64\n",
      "25712 1206    69\n",
      "1141     8\n",
      "1239     1\n",
      "Name: SPN_FMI_Code, dtype: int64\n",
      "23797 1206    55\n",
      "1141     8\n",
      "Name: SPN_FMI_Code, dtype: int64\n"
     ]
    }
   ],
   "source": [
    "cnt = 10\n",
    "for ind in train_target[train_target.SPN_FMI_Code == 1141]['FRID_Top5'].value_counts().index:\n",
    "    print(ind, train_target[train_target.FRID_Top5 == ind]['SPN_FMI_Code'].value_counts())\n",
    "    cnt -= 1\n",
    "    if cnt==0:\n",
    "        break"
   ]
  },
  {
   "cell_type": "markdown",
   "metadata": {},
   "source": [
    "#### PROVINCE\n",
    "\n",
    "假设我们在类似的时间段内往相同的城市输送的机械设备拥有类似的属性，即发生相同问题的概率会很大。而且我们发现训练集中出现的所有城市在测试集中也全部都出现了。我们发现下面的规律：\n",
    "- 设备故障代号为1239的只出现在了PROVINCE代码为15000的城市当中<font color=\"red\">（加上之前我们观察到1239的油门当前值的规律，我们可以直接将城市编号为15000同时油门当前值大于4000的预测为1239）</font>\n",
    "- 除去1239之外，其他的故障代号的机器分布较为广泛，但是还是有大量的城市仅仅只有代号为1206的。\n"
   ]
  },
  {
   "cell_type": "code",
   "execution_count": 53,
   "metadata": {},
   "outputs": [
    {
     "data": {
      "text/plain": [
       "set()"
      ]
     },
     "execution_count": 53,
     "metadata": {},
     "output_type": "execute_result"
    }
   ],
   "source": [
    "set(train_target['PROVINCE'].value_counts().index) - set(test['PROVINCE'].unique()) "
   ]
  },
  {
   "cell_type": "code",
   "execution_count": 60,
   "metadata": {
    "scrolled": true
   },
   "outputs": [],
   "source": [
    "province_code_distribution = pd.DataFrame({'PROVINCE':train_target['PROVINCE'].unique()})\n",
    "codes = [1206,1141,1182,1239 ]\n",
    "for code in codes:\n",
    "    province_code_distribution[code] = 0\n",
    "    province = train_target[train_target.SPN_FMI_Code == code]['PROVINCE'].unique()\n",
    "    province_code_distribution.loc[province_code_distribution.PROVINCE.isin(province), code] = 1 "
   ]
  },
  {
   "cell_type": "code",
   "execution_count": 64,
   "metadata": {
    "scrolled": true
   },
   "outputs": [],
   "source": [
    "province_code_distribution.set_index('PROVINCE',inplace= True)"
   ]
  },
  {
   "cell_type": "code",
   "execution_count": 65,
   "metadata": {},
   "outputs": [
    {
     "data": {
      "text/plain": [
       "<matplotlib.axes._subplots.AxesSubplot at 0x7faa33ac2fd0>"
      ]
     },
     "execution_count": 65,
     "metadata": {},
     "output_type": "execute_result"
    },
    {
     "data": {
      "image/png": "[encoded data removed]",
      "text/plain": [
       "<matplotlib.figure.Figure at 0x7faa33ecae80>"
      ]
     },
     "metadata": {},
     "output_type": "display_data"
    }
   ],
   "source": [
    "province_code_distribution.plot(kind='bar',stacked=True)"
   ]
  },
  {
   "cell_type": "markdown",
   "metadata": {},
   "source": [
    "#### AREA\n",
    "该类可以认为是PROVINCE的子类，分析的思路和PROVINCE类似。\n",
    "\n",
    "我们发现：\n",
    "- 当我们划分到具体的区域的时候，很多Area都只存在一种机器故障。<font color=\"red\">此时我们可以通过ont-hot编码或者编码排序的方式</font>得到更好的判别结果。\n"
   ]
  },
  {
   "cell_type": "markdown",
   "metadata": {},
   "source": [
    "** 每个区域对应一个省市**， 验证了我们AREA为PROVINCE的子类的猜测。"
   ]
  },
  {
   "cell_type": "code",
   "execution_count": 278,
   "metadata": {
    "scrolled": true
   },
   "outputs": [
    {
     "data": {
      "text/plain": [
       "AREA\n",
       "0.0         1\n",
       "450105.0    1\n",
       "441802.0    1\n",
       "441721.0    1\n",
       "441521.0    1\n",
       "441323.0    1\n",
       "441225.0    1\n",
       "441203.0    1\n",
       "440983.0    1\n",
       "433130.0    1\n",
       "431322.0    1\n",
       "431321.0    1\n",
       "430821.0    1\n",
       "430802.0    1\n",
       "430611.0    1\n",
       "430524.0    1\n",
       "450108.0    1\n",
       "430503.0    1\n",
       "450109.0    1\n",
       "450123.0    1\n",
       "451423.0    1\n",
       "451302.0    1\n",
       "451222.0    1\n",
       "451123.0    1\n",
       "451031.0    1\n",
       "451025.0    1\n",
       "450923.0    1\n",
       "450922.0    1\n",
       "450802.0    1\n",
       "450603.0    1\n",
       "450602.0    1\n",
       "450521.0    1\n",
       "450502.0    1\n",
       "450321.0    1\n",
       "450222.0    1\n",
       "450122.0    1\n",
       "430321.0    1\n",
       "430304.0    1\n",
       "430302.0    1\n",
       "411023.0    1\n",
       "410923.0    1\n",
       "410782.0    1\n",
       "410727.0    1\n",
       "410725.0    1\n",
       "410704.0    1\n",
       "410526.0    1\n",
       "410522.0    1\n",
       "410503.0    1\n",
       "410481.0    1\n",
       "410122.0    1\n",
       "           ..\n",
       "370725.0    1\n",
       "370724.0    1\n",
       "370705.0    1\n",
       "370704.0    1\n",
       "370611.0    1\n",
       "370521.0    1\n",
       "370481.0    1\n",
       "370405.0    1\n",
       "370321.0    1\n",
       "370303.0    1\n",
       "350623.0    1\n",
       "350125.0    1\n",
       "341821.0    1\n",
       "340221.0    1\n",
       "340203.0    1\n",
       "340202.0    1\n",
       "340124.0    1\n",
       "340123.0    1\n",
       "340122.0    1\n",
       "340121.0    1\n",
       "340111.0    1\n",
       "340104.0    1\n",
       "331004.0    1\n",
       "331003.0    1\n",
       "330825.0    1\n",
       "330783.0    1\n",
       "330782.0    1\n",
       "330681.0    1\n",
       "340303.0    1\n",
       "340321.0    1\n",
       "340521.0    1\n",
       "340711.0    1\n",
       "341802.0    1\n",
       "341522.0    1\n",
       "341502.0    1\n",
       "341322.0    1\n",
       "341321.0    1\n",
       "341302.0    1\n",
       "341282.0    1\n",
       "330521.0    1\n",
       "341226.0    1\n",
       "341125.0    1\n",
       "341124.0    1\n",
       "341022.0    1\n",
       "340827.0    1\n",
       "340822.0    1\n",
       "340811.0    1\n",
       "340802.0    1\n",
       "341225.0    1\n",
       "654322.0    1\n",
       "Name: CITY, Length: 307, dtype: int64"
      ]
     },
     "execution_count": 278,
     "metadata": {},
     "output_type": "execute_result"
    }
   ],
   "source": [
    "train_target.groupby('AREA')['CITY'].nunique().sort_values()"
   ]
  },
  {
   "cell_type": "code",
   "execution_count": 121,
   "metadata": {},
   "outputs": [
    {
     "data": {
      "text/plain": [
       "AREA\n",
       "0.0         1\n",
       "450105.0    1\n",
       "441802.0    1\n",
       "441721.0    1\n",
       "441521.0    1\n",
       "441323.0    1\n",
       "441225.0    1\n",
       "441203.0    1\n",
       "440983.0    1\n",
       "433130.0    1\n",
       "431322.0    1\n",
       "431321.0    1\n",
       "430821.0    1\n",
       "430802.0    1\n",
       "430611.0    1\n",
       "430524.0    1\n",
       "450108.0    1\n",
       "430503.0    1\n",
       "450109.0    1\n",
       "450123.0    1\n",
       "451423.0    1\n",
       "451302.0    1\n",
       "451222.0    1\n",
       "451123.0    1\n",
       "451031.0    1\n",
       "451025.0    1\n",
       "450923.0    1\n",
       "450922.0    1\n",
       "450802.0    1\n",
       "450603.0    1\n",
       "450602.0    1\n",
       "450521.0    1\n",
       "450502.0    1\n",
       "450321.0    1\n",
       "450222.0    1\n",
       "450122.0    1\n",
       "430321.0    1\n",
       "430304.0    1\n",
       "430302.0    1\n",
       "411023.0    1\n",
       "410923.0    1\n",
       "410782.0    1\n",
       "410727.0    1\n",
       "410725.0    1\n",
       "410704.0    1\n",
       "410526.0    1\n",
       "410522.0    1\n",
       "410503.0    1\n",
       "410481.0    1\n",
       "410122.0    1\n",
       "410104.0    1\n",
       "371728.0    1\n",
       "371722.0    1\n",
       "371626.0    1\n",
       "411327.0    1\n",
       "411402.0    1\n",
       "411403.0    1\n",
       "411502.0    1\n",
       "430181.0    1\n",
       "430121.0    1\n",
       "430111.0    1\n",
       "421125.0    1\n",
       "421087.0    1\n",
       "420902.0    1\n",
       "420804.0    1\n",
       "469026.0    1\n",
       "420626.0    1\n",
       "420325.0    1\n",
       "420324.0    1\n",
       "411729.0    1\n",
       "411725.0    1\n",
       "411724.0    1\n",
       "411702.0    1\n",
       "411503.0    1\n",
       "420607.0    1\n",
       "371523.0    1\n",
       "500105.0    1\n",
       "500109.0    1\n",
       "630104.0    1\n",
       "630102.0    1\n",
       "621228.0    1\n",
       "620824.0    1\n",
       "620725.0    1\n",
       "620623.0    1\n",
       "620622.0    1\n",
       "620602.0    1\n",
       "620422.0    1\n",
       "620402.0    1\n",
       "620122.0    1\n",
       "610802.0    1\n",
       "610724.0    1\n",
       "610621.0    1\n",
       "610602.0    1\n",
       "630122.0    1\n",
       "610427.0    1\n",
       "640121.0    1\n",
       "640302.0    1\n",
       "654202.0    1\n",
       "653227.0    1\n",
       "653222.0    1\n",
       "653001.0    1\n",
       "652924.0    1\n",
       "652301.0    1\n",
       "652223.0    1\n",
       "652222.0    1\n",
       "652201.0    1\n",
       "650109.0    1\n",
       "650106.0    1\n",
       "640521.0    1\n",
       "640381.0    1\n",
       "640324.0    1\n",
       "640303.0    1\n",
       "640205.0    1\n",
       "610424.0    1\n",
       "542524.0    1\n",
       "542334.0    1\n",
       "520221.0    1\n",
       "520201.0    1\n",
       "520181.0    1\n",
       "520112.0    1\n",
       "520111.0    1\n",
       "512081.0    1\n",
       "511721.0    1\n",
       "510904.0    1\n",
       "510722.0    1\n",
       "510183.0    1\n",
       "500118.0    1\n",
       "500116.0    1\n",
       "500115.0    1\n",
       "500112.0    1\n",
       "500110.0    1\n",
       "520402.0    1\n",
       "520521.0    1\n",
       "520524.0    1\n",
       "520525.0    1\n",
       "542333.0    1\n",
       "542332.0    1\n",
       "542301.0    1\n",
       "542121.0    1\n",
       "540126.0    1\n",
       "540125.0    1\n",
       "532901.0    1\n",
       "500106.0    1\n",
       "532823.0    1\n",
       "530627.0    1\n",
       "530428.0    1\n",
       "530181.0    1\n",
       "522728.0    1\n",
       "522702.0    1\n",
       "522322.0    1\n",
       "520526.0    1\n",
       "530822.0    1\n",
       "654223.0    1\n",
       "371328.0    1\n",
       "371302.0    1\n",
       "320722.0    1\n",
       "320684.0    1\n",
       "320602.0    1\n",
       "320582.0    1\n",
       "320507.0    1\n",
       "320506.0    1\n",
       "320505.0    1\n",
       "320382.0    1\n",
       "320324.0    1\n",
       "320321.0    1\n",
       "320312.0    1\n",
       "320311.0    1\n",
       "320302.0    1\n",
       "230602.0    1\n",
       "230381.0    1\n",
       "320803.0    1\n",
       "222424.0    1\n",
       "320829.0    1\n",
       "321012.0    1\n",
       "330382.0    1\n",
       "330381.0    1\n",
       "330322.0    1\n",
       "330303.0    1\n",
       "330283.0    1\n",
       "330282.0    1\n",
       "330211.0    1\n",
       "330205.0    1\n",
       "330204.0    1\n",
       "330185.0    1\n",
       "330110.0    1\n",
       "330109.0    1\n",
       "330104.0    1\n",
       "321202.0    1\n",
       "321084.0    1\n",
       "320982.0    1\n",
       "222406.0    1\n",
       "222404.0    1\n",
       "220702.0    1\n",
       "130983.0    1\n",
       "130982.0    1\n",
       "130827.0    1\n",
       "130682.0    1\n",
       "130634.0    1\n",
       "130581.0    1\n",
       "130534.0    1\n",
       "130302.0    1\n",
       "130281.0    1\n",
       "130208.0    1\n",
       "130207.0    1\n",
       "110229.0    1\n",
       "110115.0    1\n",
       "110112.0    1\n",
       "110111.0    1\n",
       "130984.0    1\n",
       "131002.0    1\n",
       "131082.0    1\n",
       "140411.0    1\n",
       "220322.0    1\n",
       "220303.0    1\n",
       "220106.0    1\n",
       "220105.0    1\n",
       "220103.0    1\n",
       "220102.0    1\n",
       "211321.0    1\n",
       "330482.0    1\n",
       "210112.0    1\n",
       "150702.0    1\n",
       "150622.0    1\n",
       "150621.0    1\n",
       "150602.0    1\n",
       "150525.0    1\n",
       "141028.0    1\n",
       "140829.0    1\n",
       "210106.0    1\n",
       "371311.0    1\n",
       "330483.0    1\n",
       "330621.0    1\n",
       "370112.0    1\n",
       "361181.0    1\n",
       "361126.0    1\n",
       "360983.0    1\n",
       "360981.0    1\n",
       "360826.0    1\n",
       "360782.0    1\n",
       "360425.0    1\n",
       "360402.0    1\n",
       "360323.0    1\n",
       "360322.0    1\n",
       "360202.0    1\n",
       "360122.0    1\n",
       "350921.0    1\n",
       "350681.0    1\n",
       "370281.0    1\n",
       "350628.0    1\n",
       "370302.0    1\n",
       "370305.0    1\n",
       "371122.0    1\n",
       "371082.0    1\n",
       "370881.0    1\n",
       "370785.0    1\n",
       "370784.0    1\n",
       "370782.0    1\n",
       "370725.0    1\n",
       "370724.0    1\n",
       "370705.0    1\n",
       "370704.0    1\n",
       "370611.0    1\n",
       "370521.0    1\n",
       "370481.0    1\n",
       "370405.0    1\n",
       "370321.0    1\n",
       "370303.0    1\n",
       "350623.0    1\n",
       "350125.0    1\n",
       "341821.0    1\n",
       "340221.0    1\n",
       "340203.0    1\n",
       "340202.0    1\n",
       "340124.0    1\n",
       "340123.0    1\n",
       "340122.0    1\n",
       "340121.0    1\n",
       "340111.0    1\n",
       "340104.0    1\n",
       "331004.0    1\n",
       "331003.0    1\n",
       "330825.0    1\n",
       "330783.0    1\n",
       "330782.0    1\n",
       "330681.0    1\n",
       "340303.0    1\n",
       "340321.0    1\n",
       "340521.0    1\n",
       "340711.0    1\n",
       "341802.0    1\n",
       "341522.0    1\n",
       "341502.0    1\n",
       "341322.0    1\n",
       "341321.0    1\n",
       "341302.0    1\n",
       "341282.0    1\n",
       "330521.0    1\n",
       "341226.0    1\n",
       "341125.0    1\n",
       "341124.0    1\n",
       "341022.0    1\n",
       "340827.0    1\n",
       "340822.0    1\n",
       "340811.0    1\n",
       "340802.0    1\n",
       "341225.0    1\n",
       "654322.0    1\n",
       "Name: PROVINCE, dtype: int64"
      ]
     },
     "execution_count": 121,
     "metadata": {},
     "output_type": "execute_result"
    }
   ],
   "source": [
    "train_target.groupby('AREA')['PROVINCE'].nunique().sort_values()"
   ]
  },
  {
   "cell_type": "code",
   "execution_count": 123,
   "metadata": {},
   "outputs": [],
   "source": [
    "area_code_distribution = pd.DataFrame({'AREA':train_target['AREA'].unique()})\n",
    "codes = [1206,1141,1182,1239 ]\n",
    "for code in codes:\n",
    "    area_code_distribution[code] = 0\n",
    "    area = train_target[train_target.SPN_FMI_Code == code]['AREA'].unique()\n",
    "    area_code_distribution.loc[area_code_distribution.AREA.isin(area), code] = 1 "
   ]
  },
  {
   "cell_type": "code",
   "execution_count": 133,
   "metadata": {
    "scrolled": false
   },
   "outputs": [
    {
     "data": {
      "text/plain": [
       "<matplotlib.axes._subplots.AxesSubplot at 0x7faa2b8b8128>"
      ]
     },
     "execution_count": 133,
     "metadata": {},
     "output_type": "execute_result"
    },
    {
     "data": {
      "image/png": "[encoded data removed]",
      "text/plain": [
       "<matplotlib.figure.Figure at 0x7faa2a563eb8>"
      ]
     },
     "metadata": {},
     "output_type": "display_data"
    }
   ],
   "source": [
    "area_code_distribution.set_index('AREA',inplace= True)\n",
    "area_code_distribution.plot(kind='bar',stacked=True, figsize=[16,12])"
   ]
  },
  {
   "cell_type": "markdown",
   "metadata": {},
   "source": [
    "#### COLLECTTIME & FAULTTIME\n",
    "\n",
    "我们发现：\n",
    "- COLLECTTIME和FAULTTIME是全部一样的，所以我们仅仅只需要选择一个进行分析即可。\n",
    "\n",
    "此处我们认为在相同时间内的预测结果是可信的，而超过训练集时间的我们认为是较难保证预测准确性的。\n",
    "\n",
    "- 我们发现训练集和测试集中的时间不在同一个时间段内，如果<font color=red>单独使用该特征并不能给我们带来非常大的帮助</font>。\n",
    "\n",
    "\n"
   ]
  },
  {
   "cell_type": "code",
   "execution_count": 134,
   "metadata": {},
   "outputs": [
    {
     "data": {
      "text/plain": [
       "225151"
      ]
     },
     "execution_count": 134,
     "metadata": {},
     "output_type": "execute_result"
    }
   ],
   "source": [
    "np.sum(train_target['COLLECTTIME'] == train_target['FAULTTIME'])"
   ]
  },
  {
   "cell_type": "code",
   "execution_count": 135,
   "metadata": {
    "scrolled": true
   },
   "outputs": [
    {
     "data": {
      "text/plain": [
       "(225151, 17)"
      ]
     },
     "execution_count": 135,
     "metadata": {},
     "output_type": "execute_result"
    }
   ],
   "source": [
    "train_target.shape"
   ]
  },
  {
   "cell_type": "code",
   "execution_count": 234,
   "metadata": {},
   "outputs": [
    {
     "name": "stdout",
     "output_type": "stream",
     "text": [
      "**************************************************************************************************** \n",
      " Min time in train dataset is: 2018-04-01 06:23:45  Max time in train dataset is: 2018-04-30 23:58:00\n",
      "**************************************************************************************************** \n",
      " Min time in test dataset is: 2018-05-01 00:00:03  Max time in test dataset is: 2018-05-10 23:58:58\n"
     ]
    }
   ],
   "source": [
    "print('*'*100,'\\n', 'Min time in train dataset is:',train_target['COLLECTTIME'].min(), ' Max time in train dataset is:',train_target['COLLECTTIME'].max())\n",
    "print('*'*100,'\\n', 'Min time in test dataset is:',test['COLLECTTIME'].min(), ' Max time in test dataset is:',test['COLLECTTIME'].max())"
   ]
  },
  {
   "cell_type": "markdown",
   "metadata": {},
   "source": [
    "我们假设在相同时间段检测的产品拥有一定的共性，即如果有个机械设备在某一时间出故障，那么可能在此时间周围出故障的类型是相同的。\n",
    "- 我们随机选取8天进行观察，发现基本满足我们的假设。"
   ]
  },
  {
   "cell_type": "code",
   "execution_count": 282,
   "metadata": {},
   "outputs": [],
   "source": [
    "train_target['COLLECTTIME'] = pd.to_datetime(train_target['COLLECTTIME'])\n",
    "train_target['Day']         = train_target['COLLECTTIME'].apply(lambda x:x.day)\n",
    "train_target['Hour']        = train_target['COLLECTTIME'].apply(lambda x:x.hour)\n",
    "train_target['Minute']      = train_target['COLLECTTIME'].apply(lambda x:x.minute)"
   ]
  },
  {
   "cell_type": "code",
   "execution_count": 285,
   "metadata": {},
   "outputs": [
    {
     "data": {
      "text/html": [
       "<div>\n",
       "<style scoped>\n",
       "    .dataframe tbody tr th:only-of-type {\n",
       "        vertical-align: middle;\n",
       "    }\n",
       "\n",
       "    .dataframe tbody tr th {\n",
       "        vertical-align: top;\n",
       "    }\n",
       "\n",
       "    .dataframe thead th {\n",
       "        text-align: right;\n",
       "    }\n",
       "</style>\n",
       "<table border=\"1\" class=\"dataframe\">\n",
       "  <thead>\n",
       "    <tr style=\"text-align: right;\">\n",
       "      <th></th>\n",
       "      <th>ACCRUNTIMES</th>\n",
       "      <th>AREA</th>\n",
       "      <th>CITY</th>\n",
       "      <th>COLLECTTIME</th>\n",
       "      <th>FAULTTIME</th>\n",
       "      <th>FMI</th>\n",
       "      <th>FRID</th>\n",
       "      <th>LAT</th>\n",
       "      <th>LNG</th>\n",
       "      <th>PROVINCE</th>\n",
       "      <th>READFLAG</th>\n",
       "      <th>SPN</th>\n",
       "      <th>UNIQUENO</th>\n",
       "      <th>SPN_FMI</th>\n",
       "      <th>SPN_FMI_Code</th>\n",
       "      <th>FRID_Top5</th>\n",
       "      <th>UNIQUENO_LAST4</th>\n",
       "      <th>Day</th>\n",
       "      <th>Hour</th>\n",
       "      <th>Minute</th>\n",
       "    </tr>\n",
       "  </thead>\n",
       "  <tbody>\n",
       "    <tr>\n",
       "      <th>23150</th>\n",
       "      <td>979.0</td>\n",
       "      <td>341322.0</td>\n",
       "      <td>341300.0</td>\n",
       "      <td>2018-04-01 06:23:45</td>\n",
       "      <td>2018-04-01 06:23:45</td>\n",
       "      <td>15.0</td>\n",
       "      <td>2357817.0</td>\n",
       "      <td>34.108867</td>\n",
       "      <td>34.108867</td>\n",
       "      <td>340000.0</td>\n",
       "      <td>1.0</td>\n",
       "      <td>8809.0</td>\n",
       "      <td>201704140835245913</td>\n",
       "      <td>8809_15</td>\n",
       "      <td>1206</td>\n",
       "      <td>23578</td>\n",
       "      <td>591</td>\n",
       "      <td>1</td>\n",
       "      <td>6</td>\n",
       "      <td>23</td>\n",
       "    </tr>\n",
       "    <tr>\n",
       "      <th>23178</th>\n",
       "      <td>979.0</td>\n",
       "      <td>341322.0</td>\n",
       "      <td>341300.0</td>\n",
       "      <td>2018-04-01 06:25:45</td>\n",
       "      <td>2018-04-01 06:25:45</td>\n",
       "      <td>15.0</td>\n",
       "      <td>2357818.0</td>\n",
       "      <td>34.108877</td>\n",
       "      <td>34.108877</td>\n",
       "      <td>340000.0</td>\n",
       "      <td>1.0</td>\n",
       "      <td>8809.0</td>\n",
       "      <td>201704140835245913</td>\n",
       "      <td>8809_15</td>\n",
       "      <td>1206</td>\n",
       "      <td>23578</td>\n",
       "      <td>591</td>\n",
       "      <td>1</td>\n",
       "      <td>6</td>\n",
       "      <td>25</td>\n",
       "    </tr>\n",
       "    <tr>\n",
       "      <th>23208</th>\n",
       "      <td>979.0</td>\n",
       "      <td>341322.0</td>\n",
       "      <td>341300.0</td>\n",
       "      <td>2018-04-01 06:27:45</td>\n",
       "      <td>2018-04-01 06:27:45</td>\n",
       "      <td>15.0</td>\n",
       "      <td>2357819.0</td>\n",
       "      <td>34.108891</td>\n",
       "      <td>34.108891</td>\n",
       "      <td>340000.0</td>\n",
       "      <td>1.0</td>\n",
       "      <td>8809.0</td>\n",
       "      <td>201704140835245913</td>\n",
       "      <td>8809_15</td>\n",
       "      <td>1206</td>\n",
       "      <td>23578</td>\n",
       "      <td>591</td>\n",
       "      <td>1</td>\n",
       "      <td>6</td>\n",
       "      <td>27</td>\n",
       "    </tr>\n",
       "    <tr>\n",
       "      <th>23240</th>\n",
       "      <td>979.0</td>\n",
       "      <td>341322.0</td>\n",
       "      <td>341300.0</td>\n",
       "      <td>2018-04-01 06:29:45</td>\n",
       "      <td>2018-04-01 06:29:45</td>\n",
       "      <td>15.0</td>\n",
       "      <td>2357821.0</td>\n",
       "      <td>34.109057</td>\n",
       "      <td>34.109057</td>\n",
       "      <td>340000.0</td>\n",
       "      <td>1.0</td>\n",
       "      <td>8809.0</td>\n",
       "      <td>201704140835245913</td>\n",
       "      <td>8809_15</td>\n",
       "      <td>1206</td>\n",
       "      <td>23578</td>\n",
       "      <td>591</td>\n",
       "      <td>1</td>\n",
       "      <td>6</td>\n",
       "      <td>29</td>\n",
       "    </tr>\n",
       "    <tr>\n",
       "      <th>23274</th>\n",
       "      <td>979.0</td>\n",
       "      <td>341322.0</td>\n",
       "      <td>341300.0</td>\n",
       "      <td>2018-04-01 06:31:45</td>\n",
       "      <td>2018-04-01 06:31:45</td>\n",
       "      <td>15.0</td>\n",
       "      <td>2357822.0</td>\n",
       "      <td>34.109043</td>\n",
       "      <td>34.109043</td>\n",
       "      <td>340000.0</td>\n",
       "      <td>1.0</td>\n",
       "      <td>8809.0</td>\n",
       "      <td>201704140835245913</td>\n",
       "      <td>8809_15</td>\n",
       "      <td>1206</td>\n",
       "      <td>23578</td>\n",
       "      <td>591</td>\n",
       "      <td>1</td>\n",
       "      <td>6</td>\n",
       "      <td>31</td>\n",
       "    </tr>\n",
       "  </tbody>\n",
       "</table>\n",
       "</div>"
      ],
      "text/plain": [
       "       ACCRUNTIMES      AREA      CITY         COLLECTTIME  \\\n",
       "23150        979.0  341322.0  341300.0 2018-04-01 06:23:45   \n",
       "23178        979.0  341322.0  341300.0 2018-04-01 06:25:45   \n",
       "23208        979.0  341322.0  341300.0 2018-04-01 06:27:45   \n",
       "23240        979.0  341322.0  341300.0 2018-04-01 06:29:45   \n",
       "23274        979.0  341322.0  341300.0 2018-04-01 06:31:45   \n",
       "\n",
       "                 FAULTTIME   FMI       FRID        LAT        LNG  PROVINCE  \\\n",
       "23150  2018-04-01 06:23:45  15.0  2357817.0  34.108867  34.108867  340000.0   \n",
       "23178  2018-04-01 06:25:45  15.0  2357818.0  34.108877  34.108877  340000.0   \n",
       "23208  2018-04-01 06:27:45  15.0  2357819.0  34.108891  34.108891  340000.0   \n",
       "23240  2018-04-01 06:29:45  15.0  2357821.0  34.109057  34.109057  340000.0   \n",
       "23274  2018-04-01 06:31:45  15.0  2357822.0  34.109043  34.109043  340000.0   \n",
       "\n",
       "       READFLAG     SPN            UNIQUENO  SPN_FMI  SPN_FMI_Code  FRID_Top5  \\\n",
       "23150       1.0  8809.0  201704140835245913  8809_15          1206      23578   \n",
       "23178       1.0  8809.0  201704140835245913  8809_15          1206      23578   \n",
       "23208       1.0  8809.0  201704140835245913  8809_15          1206      23578   \n",
       "23240       1.0  8809.0  201704140835245913  8809_15          1206      23578   \n",
       "23274       1.0  8809.0  201704140835245913  8809_15          1206      23578   \n",
       "\n",
       "       UNIQUENO_LAST4  Day  Hour  Minute  \n",
       "23150             591    1     6      23  \n",
       "23178             591    1     6      25  \n",
       "23208             591    1     6      27  \n",
       "23240             591    1     6      29  \n",
       "23274             591    1     6      31  "
      ]
     },
     "execution_count": 285,
     "metadata": {},
     "output_type": "execute_result"
    }
   ],
   "source": [
    "train_target.head()"
   ]
  },
  {
   "cell_type": "code",
   "execution_count": 302,
   "metadata": {},
   "outputs": [
    {
     "data": {
      "text/plain": [
       "<matplotlib.axes._subplots.AxesSubplot at 0x7faa216f5780>"
      ]
     },
     "execution_count": 302,
     "metadata": {},
     "output_type": "execute_result"
    },
    {
     "data": {
      "image/png": "[encoded data removed]",
      "text/plain": [
       "<matplotlib.figure.Figure at 0x7faa22379e48>"
      ]
     },
     "metadata": {},
     "output_type": "display_data"
    }
   ],
   "source": [
    "fig, ax = plt.subplots(nrows=2, ncols=2,figsize = [12,6]) \n",
    "train_target_10 = train_target.loc[train_target.Day == 10] \n",
    "train_target_11 = train_target.loc[train_target.Day == 11] \n",
    "train_target_12 = train_target.loc[train_target.Day == 12] \n",
    "train_target_13 = train_target.loc[train_target.Day == 13] \n",
    "sns.stripplot(x = 'Hour', y='SPN_FMI_Code',data =train_target_10.sort_values('Hour'), size =10,jitter =True,ax=ax[0,0])\n",
    "sns.stripplot(x = 'Hour', y='SPN_FMI_Code',data =train_target_11.sort_values('Hour'), size =10,jitter =True,ax=ax[0,1])\n",
    "sns.stripplot(x = 'Hour', y='SPN_FMI_Code',data =train_target_12.sort_values('Hour'), size =10,jitter =True,ax=ax[1,0])\n",
    "sns.stripplot(x = 'Hour', y='SPN_FMI_Code',data =train_target_13.sort_values('Hour'), size =10,jitter =True,ax=ax[1,1])"
   ]
  },
  {
   "cell_type": "code",
   "execution_count": 306,
   "metadata": {},
   "outputs": [
    {
     "data": {
      "text/plain": [
       "<matplotlib.axes._subplots.AxesSubplot at 0x7faa20aeed30>"
      ]
     },
     "execution_count": 306,
     "metadata": {},
     "output_type": "execute_result"
    },
    {
     "data": {
      "image/png": "[encoded data removed]",
      "text/plain": [
       "<matplotlib.figure.Figure at 0x7faa20be3a20>"
      ]
     },
     "metadata": {},
     "output_type": "display_data"
    }
   ],
   "source": [
    "fig, ax = plt.subplots(nrows=2, ncols=2,figsize = [12,6]) \n",
    "train_target_14 = train_target.loc[train_target.Day == 14] \n",
    "train_target_15 = train_target.loc[train_target.Day == 15] \n",
    "train_target_16 = train_target.loc[train_target.Day == 16] \n",
    "train_target_17 = train_target.loc[train_target.Day == 17] \n",
    "sns.stripplot(x = 'Hour', y='SPN_FMI_Code',data =train_target_14.sort_values('Hour'), size =10,jitter =True,ax=ax[0,0])\n",
    "sns.stripplot(x = 'Hour', y='SPN_FMI_Code',data =train_target_15.sort_values('Hour'), size =10,jitter =True,ax=ax[0,1])\n",
    "sns.stripplot(x = 'Hour', y='SPN_FMI_Code',data =train_target_16.sort_values('Hour'), size =10,jitter =True,ax=ax[1,0])\n",
    "sns.stripplot(x = 'Hour', y='SPN_FMI_Code',data =train_target_17.sort_values('Hour'), size =10,jitter =True,ax=ax[1,1])"
   ]
  },
  {
   "cell_type": "markdown",
   "metadata": {},
   "source": [
    "#### UNIQUENO\n",
    "\n",
    "上面我们对采集时间进行了分析，下面我们对另外一个特征列UNIQUENO进行分析。我们可以得到如下的结论：\n",
    "\n",
    "- UNIQUENO拥有一定的结构性，前面是日期属性,后面是产品代号，例如：\n",
    "> 201701241116166406, 前面的20170124111616就是时间属性2017:01:24,11:16:16,可能是产品生产出来的时间，最后几位是产品的代号。\n",
    "\n",
    "- 我们发现该类特征具有较强的聚类属性， <font color=\"red\">同一个UNIQUENO往往只对应一种错误的故障代码（仅有少量的两个对应了两个故障代码）</font>。\n"
   ]
  },
  {
   "cell_type": "code",
   "execution_count": 327,
   "metadata": {},
   "outputs": [
    {
     "data": {
      "text/plain": [
       "201704241116166406    8194\n",
       "201705201829567748    7732\n",
       "201705241030007990    7012\n",
       "201705101530077175    4938\n",
       "201704180930016169    4575\n",
       "201701201030011850    4316\n",
       "Name: UNIQUENO, dtype: int64"
      ]
     },
     "execution_count": 327,
     "metadata": {},
     "output_type": "execute_result"
    }
   ],
   "source": [
    "train_target['UNIQUENO'].value_counts().head(6)"
   ]
  },
  {
   "cell_type": "markdown",
   "metadata": {},
   "source": [
    "我们发现该类特征具有较强的聚类属性， 同一个UNIQUENO往往只对应一种错误的故障代码（仅有少量的两个对应了两个故障代码）。"
   ]
  },
  {
   "cell_type": "code",
   "execution_count": 332,
   "metadata": {
    "scrolled": true
   },
   "outputs": [
    {
     "data": {
      "text/plain": [
       "UNIQUENO\n",
       "201704131442275879    1\n",
       "201704150830046013    1\n",
       "201704150830046014    1\n",
       "201705151007377433    2\n",
       "201701231030031929    2\n",
       "201703301130045382    2\n",
       "201704111435245794    2\n",
       "201804081727258207    2\n",
       "201704111435245782    2\n",
       "201702211030013081    2\n",
       "Name: SPN_FMI_Code, dtype: int64"
      ]
     },
     "execution_count": 332,
     "metadata": {},
     "output_type": "execute_result"
    }
   ],
   "source": [
    "train_target.groupby('UNIQUENO')['SPN_FMI_Code'].nunique().sort_values().tail(10)"
   ]
  },
  {
   "cell_type": "code",
   "execution_count": 333,
   "metadata": {},
   "outputs": [
    {
     "data": {
      "text/plain": [
       "<matplotlib.axes._subplots.AxesSubplot at 0x7faa1cdc8f28>"
      ]
     },
     "execution_count": 333,
     "metadata": {},
     "output_type": "execute_result"
    },
    {
     "data": {
      "image/png": "[encoded data removed]",
      "text/plain": [
       "<matplotlib.figure.Figure at 0x7faa1cfebbe0>"
      ]
     },
     "metadata": {},
     "output_type": "display_data"
    }
   ],
   "source": [
    "fig, ax = plt.subplots(nrows=2, ncols=3,figsize = [12,8]) \n",
    "train_target_UNIQUENO_1 = train_target.loc[train_target.UNIQUENO == 201704241116166406]['SPN_FMI_Code'].value_counts()\n",
    "train_target_UNIQUENO_2 = train_target.loc[train_target.UNIQUENO == 201705201829567748]['SPN_FMI_Code'].value_counts() \n",
    "train_target_UNIQUENO_3 = train_target.loc[train_target.UNIQUENO == 201705241030007990]['SPN_FMI_Code'].value_counts() \n",
    "train_target_UNIQUENO_4 = train_target.loc[train_target.UNIQUENO == 201705101530077175]['SPN_FMI_Code'].value_counts() \n",
    "train_target_UNIQUENO_5 = train_target.loc[train_target.UNIQUENO == 201704180930016169]['SPN_FMI_Code'].value_counts() \n",
    "train_target_UNIQUENO_6 = train_target.loc[train_target.UNIQUENO == 201701201030011850]['SPN_FMI_Code'].value_counts()  \n",
    "\n",
    "train_target_UNIQUENO_1.plot(kind='bar',stacked=False,ax=ax[0,0])\n",
    "train_target_UNIQUENO_2.plot(kind='bar',stacked=False,ax=ax[0,1])\n",
    "train_target_UNIQUENO_3.plot(kind='bar',stacked=False,ax=ax[0,2])\n",
    "train_target_UNIQUENO_4.plot(kind='bar',stacked=False,ax=ax[1,0])\n",
    "train_target_UNIQUENO_5.plot(kind='bar',stacked=False,ax=ax[1,1])\n",
    "train_target_UNIQUENO_6.plot(kind='bar',stacked=False,ax=ax[1,2])  "
   ]
  },
  {
   "cell_type": "markdown",
   "metadata": {},
   "source": [
    "对应两种编码的时候基本其中一种也占据了较大的优势。"
   ]
  },
  {
   "cell_type": "code",
   "execution_count": 331,
   "metadata": {},
   "outputs": [
    {
     "data": {
      "text/plain": [
       "<matplotlib.axes._subplots.AxesSubplot at 0x7faa1cfda2b0>"
      ]
     },
     "execution_count": 331,
     "metadata": {},
     "output_type": "execute_result"
    },
    {
     "data": {
      "image/png": "[encoded data removed]",
      "text/plain": [
       "<matplotlib.figure.Figure at 0x7faa1d323d68>"
      ]
     },
     "metadata": {},
     "output_type": "display_data"
    }
   ],
   "source": [
    "fig, ax = plt.subplots(nrows=2, ncols=3,figsize = [12,8]) \n",
    "train_target_UNIQUENO_1 = train_target.loc[train_target.UNIQUENO == 201705151007377433]['SPN_FMI_Code'].value_counts()\n",
    "train_target_UNIQUENO_2 = train_target.loc[train_target.UNIQUENO == 201701231030031929]['SPN_FMI_Code'].value_counts() \n",
    "train_target_UNIQUENO_3 = train_target.loc[train_target.UNIQUENO == 201703301130045382]['SPN_FMI_Code'].value_counts() \n",
    "train_target_UNIQUENO_4 = train_target.loc[train_target.UNIQUENO == 201704111435245794]['SPN_FMI_Code'].value_counts() \n",
    "train_target_UNIQUENO_5 = train_target.loc[train_target.UNIQUENO == 201804081727258207]['SPN_FMI_Code'].value_counts() \n",
    "train_target_UNIQUENO_6 = train_target.loc[train_target.UNIQUENO == 201704111435245782]['SPN_FMI_Code'].value_counts()  \n",
    "\n",
    "train_target_UNIQUENO_1.plot(kind='bar',stacked=False,ax=ax[0,0])\n",
    "train_target_UNIQUENO_2.plot(kind='bar',stacked=False,ax=ax[0,1])\n",
    "train_target_UNIQUENO_3.plot(kind='bar',stacked=False,ax=ax[0,2])\n",
    "train_target_UNIQUENO_4.plot(kind='bar',stacked=False,ax=ax[1,0])\n",
    "train_target_UNIQUENO_5.plot(kind='bar',stacked=False,ax=ax[1,1])\n",
    "train_target_UNIQUENO_6.plot(kind='bar',stacked=False,ax=ax[1,2])  "
   ]
  },
  {
   "cell_type": "code",
   "execution_count": 335,
   "metadata": {
    "scrolled": false
   },
   "outputs": [
    {
     "data": {
      "text/html": [
       "<div>\n",
       "<style scoped>\n",
       "    .dataframe tbody tr th:only-of-type {\n",
       "        vertical-align: middle;\n",
       "    }\n",
       "\n",
       "    .dataframe tbody tr th {\n",
       "        vertical-align: top;\n",
       "    }\n",
       "\n",
       "    .dataframe thead th {\n",
       "        text-align: right;\n",
       "    }\n",
       "</style>\n",
       "<table border=\"1\" class=\"dataframe\">\n",
       "  <thead>\n",
       "    <tr style=\"text-align: right;\">\n",
       "      <th></th>\n",
       "      <th>ACCRUNTIMES</th>\n",
       "      <th>AREA</th>\n",
       "      <th>CITY</th>\n",
       "      <th>COLLECTTIME</th>\n",
       "      <th>FAULTTIME</th>\n",
       "      <th>FMI</th>\n",
       "      <th>FRID</th>\n",
       "      <th>LAT</th>\n",
       "      <th>LNG</th>\n",
       "      <th>PROVINCE</th>\n",
       "      <th>READFLAG</th>\n",
       "      <th>SPN</th>\n",
       "      <th>UNIQUENO</th>\n",
       "      <th>SPN_FMI</th>\n",
       "      <th>SPN_FMI_Code</th>\n",
       "      <th>FRID_Top5</th>\n",
       "      <th>UNIQUENO_LAST4</th>\n",
       "      <th>Day</th>\n",
       "      <th>Hour</th>\n",
       "      <th>Minute</th>\n",
       "    </tr>\n",
       "  </thead>\n",
       "  <tbody>\n",
       "    <tr>\n",
       "      <th>23150</th>\n",
       "      <td>979.0</td>\n",
       "      <td>341322.0</td>\n",
       "      <td>341300.0</td>\n",
       "      <td>2018-04-01 06:23:45</td>\n",
       "      <td>2018-04-01 06:23:45</td>\n",
       "      <td>15.0</td>\n",
       "      <td>2357817.0</td>\n",
       "      <td>34.108867</td>\n",
       "      <td>34.108867</td>\n",
       "      <td>340000.0</td>\n",
       "      <td>1.0</td>\n",
       "      <td>8809.0</td>\n",
       "      <td>201704140835245913</td>\n",
       "      <td>8809_15</td>\n",
       "      <td>1206</td>\n",
       "      <td>23578</td>\n",
       "      <td>591</td>\n",
       "      <td>1</td>\n",
       "      <td>6</td>\n",
       "      <td>23</td>\n",
       "    </tr>\n",
       "    <tr>\n",
       "      <th>23178</th>\n",
       "      <td>979.0</td>\n",
       "      <td>341322.0</td>\n",
       "      <td>341300.0</td>\n",
       "      <td>2018-04-01 06:25:45</td>\n",
       "      <td>2018-04-01 06:25:45</td>\n",
       "      <td>15.0</td>\n",
       "      <td>2357818.0</td>\n",
       "      <td>34.108877</td>\n",
       "      <td>34.108877</td>\n",
       "      <td>340000.0</td>\n",
       "      <td>1.0</td>\n",
       "      <td>8809.0</td>\n",
       "      <td>201704140835245913</td>\n",
       "      <td>8809_15</td>\n",
       "      <td>1206</td>\n",
       "      <td>23578</td>\n",
       "      <td>591</td>\n",
       "      <td>1</td>\n",
       "      <td>6</td>\n",
       "      <td>25</td>\n",
       "    </tr>\n",
       "    <tr>\n",
       "      <th>23208</th>\n",
       "      <td>979.0</td>\n",
       "      <td>341322.0</td>\n",
       "      <td>341300.0</td>\n",
       "      <td>2018-04-01 06:27:45</td>\n",
       "      <td>2018-04-01 06:27:45</td>\n",
       "      <td>15.0</td>\n",
       "      <td>2357819.0</td>\n",
       "      <td>34.108891</td>\n",
       "      <td>34.108891</td>\n",
       "      <td>340000.0</td>\n",
       "      <td>1.0</td>\n",
       "      <td>8809.0</td>\n",
       "      <td>201704140835245913</td>\n",
       "      <td>8809_15</td>\n",
       "      <td>1206</td>\n",
       "      <td>23578</td>\n",
       "      <td>591</td>\n",
       "      <td>1</td>\n",
       "      <td>6</td>\n",
       "      <td>27</td>\n",
       "    </tr>\n",
       "    <tr>\n",
       "      <th>23240</th>\n",
       "      <td>979.0</td>\n",
       "      <td>341322.0</td>\n",
       "      <td>341300.0</td>\n",
       "      <td>2018-04-01 06:29:45</td>\n",
       "      <td>2018-04-01 06:29:45</td>\n",
       "      <td>15.0</td>\n",
       "      <td>2357821.0</td>\n",
       "      <td>34.109057</td>\n",
       "      <td>34.109057</td>\n",
       "      <td>340000.0</td>\n",
       "      <td>1.0</td>\n",
       "      <td>8809.0</td>\n",
       "      <td>201704140835245913</td>\n",
       "      <td>8809_15</td>\n",
       "      <td>1206</td>\n",
       "      <td>23578</td>\n",
       "      <td>591</td>\n",
       "      <td>1</td>\n",
       "      <td>6</td>\n",
       "      <td>29</td>\n",
       "    </tr>\n",
       "    <tr>\n",
       "      <th>23274</th>\n",
       "      <td>979.0</td>\n",
       "      <td>341322.0</td>\n",
       "      <td>341300.0</td>\n",
       "      <td>2018-04-01 06:31:45</td>\n",
       "      <td>2018-04-01 06:31:45</td>\n",
       "      <td>15.0</td>\n",
       "      <td>2357822.0</td>\n",
       "      <td>34.109043</td>\n",
       "      <td>34.109043</td>\n",
       "      <td>340000.0</td>\n",
       "      <td>1.0</td>\n",
       "      <td>8809.0</td>\n",
       "      <td>201704140835245913</td>\n",
       "      <td>8809_15</td>\n",
       "      <td>1206</td>\n",
       "      <td>23578</td>\n",
       "      <td>591</td>\n",
       "      <td>1</td>\n",
       "      <td>6</td>\n",
       "      <td>31</td>\n",
       "    </tr>\n",
       "  </tbody>\n",
       "</table>\n",
       "</div>"
      ],
      "text/plain": [
       "       ACCRUNTIMES      AREA      CITY         COLLECTTIME  \\\n",
       "23150        979.0  341322.0  341300.0 2018-04-01 06:23:45   \n",
       "23178        979.0  341322.0  341300.0 2018-04-01 06:25:45   \n",
       "23208        979.0  341322.0  341300.0 2018-04-01 06:27:45   \n",
       "23240        979.0  341322.0  341300.0 2018-04-01 06:29:45   \n",
       "23274        979.0  341322.0  341300.0 2018-04-01 06:31:45   \n",
       "\n",
       "                 FAULTTIME   FMI       FRID        LAT        LNG  PROVINCE  \\\n",
       "23150  2018-04-01 06:23:45  15.0  2357817.0  34.108867  34.108867  340000.0   \n",
       "23178  2018-04-01 06:25:45  15.0  2357818.0  34.108877  34.108877  340000.0   \n",
       "23208  2018-04-01 06:27:45  15.0  2357819.0  34.108891  34.108891  340000.0   \n",
       "23240  2018-04-01 06:29:45  15.0  2357821.0  34.109057  34.109057  340000.0   \n",
       "23274  2018-04-01 06:31:45  15.0  2357822.0  34.109043  34.109043  340000.0   \n",
       "\n",
       "       READFLAG     SPN            UNIQUENO  SPN_FMI  SPN_FMI_Code  FRID_Top5  \\\n",
       "23150       1.0  8809.0  201704140835245913  8809_15          1206      23578   \n",
       "23178       1.0  8809.0  201704140835245913  8809_15          1206      23578   \n",
       "23208       1.0  8809.0  201704140835245913  8809_15          1206      23578   \n",
       "23240       1.0  8809.0  201704140835245913  8809_15          1206      23578   \n",
       "23274       1.0  8809.0  201704140835245913  8809_15          1206      23578   \n",
       "\n",
       "       UNIQUENO_LAST4  Day  Hour  Minute  \n",
       "23150             591    1     6      23  \n",
       "23178             591    1     6      25  \n",
       "23208             591    1     6      27  \n",
       "23240             591    1     6      29  \n",
       "23274             591    1     6      31  "
      ]
     },
     "execution_count": 335,
     "metadata": {},
     "output_type": "execute_result"
    }
   ],
   "source": [
    "train_target.head()"
   ]
  },
  {
   "cell_type": "code",
   "execution_count": 236,
   "metadata": {},
   "outputs": [
    {
     "name": "stdout",
     "output_type": "stream",
     "text": [
      "**************************************************************************************************** \n",
      " Min time in train dataset is: 201607080830045784  Max time in train dataset is: 201804302129198903\n",
      "**************************************************************************************************** \n",
      " Min time in test dataset is: 201607080830045784  Max time in test dataset is: 201805081928459051\n"
     ]
    }
   ],
   "source": [
    "print('*'*100,'\\n', 'Min time in train dataset is:',train_target['UNIQUENO'].min(), ' Max time in train dataset is:',train_target['UNIQUENO'].max())\n",
    "print('*'*100,'\\n', 'Min time in test dataset is:',test['UNIQUENO'].min(), ' Max time in test dataset is:',test['UNIQUENO'].max())"
   ]
  },
  {
   "cell_type": "markdown",
   "metadata": {},
   "source": [
    "- 有大约93.9627%的UNIQUENO出现在测试集中。"
   ]
  },
  {
   "cell_type": "code",
   "execution_count": 362,
   "metadata": {},
   "outputs": [
    {
     "name": "stdout",
     "output_type": "stream",
     "text": [
      "There are about 0.939672 data in test data have the same UNIQUENO in train data set\n"
     ]
    }
   ],
   "source": [
    "uniquenos = train_target['UNIQUENO'].unique() \n",
    "print('There are about %f data in test data have the same UNIQUENO in train data set' % (test.loc[test.UNIQUENO.isin(uniquenos)].shape[0] / test.shape[0]))"
   ]
  },
  {
   "cell_type": "markdown",
   "metadata": {},
   "source": [
    "# 小结\n",
    "\n",
    "我们发现:通过细心的eda我们可以将一个100多维特征的数据转换为20维度不到的数据,再通过单元变量的分析(变量与变量,变量与标签)可以得到每个变量之间以及变量与标签之间的关系,从而可以初步判断出每个单元变量的重要性。此外,通过分析,我们还发现有一些强相关的特征能帮我们直接拿到测试集的标签。"
   ]
  },
  {
   "cell_type": "code",
   "execution_count": null,
   "metadata": {},
   "outputs": [],
   "source": []
  }
 ],
 "metadata": {
  "kernelspec": {
   "display_name": "Python 3",
   "language": "python",
   "name": "python3"
  },
  "language_info": {
   "codemirror_mode": {
    "name": "ipython",
    "version": 3
   },
   "file_extension": ".py",
   "mimetype": "text/x-python",
   "name": "python",
   "nbconvert_exporter": "python",
   "pygments_lexer": "ipython3",
   "version": "3.6.4"
  },
  "toc": {
   "nav_menu": {},
   "number_sections": true,
   "sideBar": true,
   "skip_h1_title": false,
   "title_cell": "Table of Contents",
   "title_sidebar": "Contents",
   "toc_cell": true,
   "toc_position": {
    "height": "calc(100% - 180px)",
    "left": "10px",
    "top": "150px",
    "width": "349px"
   },
   "toc_section_display": true,
   "toc_window_display": true
  }
 },
 "nbformat": 4,
 "nbformat_minor": 2
}
